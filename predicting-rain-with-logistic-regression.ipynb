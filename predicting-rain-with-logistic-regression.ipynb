{
 "cells": [
  {
   "cell_type": "markdown",
   "metadata": {
    "papermill": {
     "duration": 0.038019,
     "end_time": "2020-09-21T16:33:56.774404",
     "exception": false,
     "start_time": "2020-09-21T16:33:56.736385",
     "status": "completed"
    },
    "tags": []
   },
   "source": [
    "**Will it rain or won't it rain? I gotta know so I know how to dress!!**"
   ]
  },
  {
   "cell_type": "code",
   "execution_count": 1,
   "metadata": {
    "_cell_guid": "b1076dfc-b9ad-4769-8c92-a6c4dae69d19",
    "_uuid": "8f2839f25d086af736a60e9eeb907d3b93b6e0e5",
    "execution": {
     "iopub.execute_input": "2020-09-21T16:33:56.850676Z",
     "iopub.status.busy": "2020-09-21T16:33:56.850059Z",
     "iopub.status.idle": "2020-09-21T16:33:57.897753Z",
     "shell.execute_reply": "2020-09-21T16:33:57.897150Z"
    },
    "papermill": {
     "duration": 1.086966,
     "end_time": "2020-09-21T16:33:57.897866",
     "exception": false,
     "start_time": "2020-09-21T16:33:56.810900",
     "status": "completed"
    },
    "tags": []
   },
   "outputs": [],
   "source": [
    "import numpy as np\n",
    "import pandas as pd\n",
    "pd.set_option(\"display.max_columns\",100)\n",
    "import matplotlib.pyplot as plt\n",
    "import seaborn as sns\n",
    "%matplotlib inline\n",
    "params={\"figure.facecolor\":(0.0,0.0,0.0,0),\n",
    "        \"axes.facecolor\":(1.0,1.0,1.0,1),\n",
    "        \"savefig.facecolor\":(0.0,0.0,0.0,0)}\n",
    "plt.rcParams.update(params)\n",
    "import warnings\n",
    "warnings.filterwarnings(\"ignore\")"
   ]
  },
  {
   "cell_type": "code",
   "execution_count": 2,
   "metadata": {
    "_cell_guid": "79c7e3d0-c299-4dcb-8224-4455121ee9b0",
    "_uuid": "d629ff2d2480ee46fbb7e2d37f6b5fab8052498a",
    "execution": {
     "iopub.execute_input": "2020-09-21T16:33:57.982327Z",
     "iopub.status.busy": "2020-09-21T16:33:57.981701Z",
     "iopub.status.idle": "2020-09-21T16:33:58.387476Z",
     "shell.execute_reply": "2020-09-21T16:33:58.387923Z"
    },
    "papermill": {
     "duration": 0.452325,
     "end_time": "2020-09-21T16:33:58.388066",
     "exception": false,
     "start_time": "2020-09-21T16:33:57.935741",
     "status": "completed"
    },
    "tags": []
   },
   "outputs": [
    {
     "data": {
      "text/html": [
       "<div>\n",
       "<style scoped>\n",
       "    .dataframe tbody tr th:only-of-type {\n",
       "        vertical-align: middle;\n",
       "    }\n",
       "\n",
       "    .dataframe tbody tr th {\n",
       "        vertical-align: top;\n",
       "    }\n",
       "\n",
       "    .dataframe thead th {\n",
       "        text-align: right;\n",
       "    }\n",
       "</style>\n",
       "<table border=\"1\" class=\"dataframe\">\n",
       "  <thead>\n",
       "    <tr style=\"text-align: right;\">\n",
       "      <th></th>\n",
       "      <th>Date</th>\n",
       "      <th>Location</th>\n",
       "      <th>MinTemp</th>\n",
       "      <th>MaxTemp</th>\n",
       "      <th>Rainfall</th>\n",
       "      <th>Evaporation</th>\n",
       "      <th>Sunshine</th>\n",
       "      <th>WindGustDir</th>\n",
       "      <th>WindGustSpeed</th>\n",
       "      <th>WindDir9am</th>\n",
       "      <th>WindDir3pm</th>\n",
       "      <th>WindSpeed9am</th>\n",
       "      <th>WindSpeed3pm</th>\n",
       "      <th>Humidity9am</th>\n",
       "      <th>Humidity3pm</th>\n",
       "      <th>Pressure9am</th>\n",
       "      <th>Pressure3pm</th>\n",
       "      <th>Cloud9am</th>\n",
       "      <th>Cloud3pm</th>\n",
       "      <th>Temp9am</th>\n",
       "      <th>Temp3pm</th>\n",
       "      <th>RainToday</th>\n",
       "      <th>RISK_MM</th>\n",
       "      <th>RainTomorrow</th>\n",
       "    </tr>\n",
       "  </thead>\n",
       "  <tbody>\n",
       "    <tr>\n",
       "      <th>0</th>\n",
       "      <td>2008-12-01</td>\n",
       "      <td>Albury</td>\n",
       "      <td>13.4</td>\n",
       "      <td>22.9</td>\n",
       "      <td>0.6</td>\n",
       "      <td>NaN</td>\n",
       "      <td>NaN</td>\n",
       "      <td>W</td>\n",
       "      <td>44.0</td>\n",
       "      <td>W</td>\n",
       "      <td>WNW</td>\n",
       "      <td>20.0</td>\n",
       "      <td>24.0</td>\n",
       "      <td>71.0</td>\n",
       "      <td>22.0</td>\n",
       "      <td>1007.7</td>\n",
       "      <td>1007.1</td>\n",
       "      <td>8.0</td>\n",
       "      <td>NaN</td>\n",
       "      <td>16.9</td>\n",
       "      <td>21.8</td>\n",
       "      <td>No</td>\n",
       "      <td>0.0</td>\n",
       "      <td>No</td>\n",
       "    </tr>\n",
       "    <tr>\n",
       "      <th>1</th>\n",
       "      <td>2008-12-02</td>\n",
       "      <td>Albury</td>\n",
       "      <td>7.4</td>\n",
       "      <td>25.1</td>\n",
       "      <td>0.0</td>\n",
       "      <td>NaN</td>\n",
       "      <td>NaN</td>\n",
       "      <td>WNW</td>\n",
       "      <td>44.0</td>\n",
       "      <td>NNW</td>\n",
       "      <td>WSW</td>\n",
       "      <td>4.0</td>\n",
       "      <td>22.0</td>\n",
       "      <td>44.0</td>\n",
       "      <td>25.0</td>\n",
       "      <td>1010.6</td>\n",
       "      <td>1007.8</td>\n",
       "      <td>NaN</td>\n",
       "      <td>NaN</td>\n",
       "      <td>17.2</td>\n",
       "      <td>24.3</td>\n",
       "      <td>No</td>\n",
       "      <td>0.0</td>\n",
       "      <td>No</td>\n",
       "    </tr>\n",
       "    <tr>\n",
       "      <th>2</th>\n",
       "      <td>2008-12-03</td>\n",
       "      <td>Albury</td>\n",
       "      <td>12.9</td>\n",
       "      <td>25.7</td>\n",
       "      <td>0.0</td>\n",
       "      <td>NaN</td>\n",
       "      <td>NaN</td>\n",
       "      <td>WSW</td>\n",
       "      <td>46.0</td>\n",
       "      <td>W</td>\n",
       "      <td>WSW</td>\n",
       "      <td>19.0</td>\n",
       "      <td>26.0</td>\n",
       "      <td>38.0</td>\n",
       "      <td>30.0</td>\n",
       "      <td>1007.6</td>\n",
       "      <td>1008.7</td>\n",
       "      <td>NaN</td>\n",
       "      <td>2.0</td>\n",
       "      <td>21.0</td>\n",
       "      <td>23.2</td>\n",
       "      <td>No</td>\n",
       "      <td>0.0</td>\n",
       "      <td>No</td>\n",
       "    </tr>\n",
       "    <tr>\n",
       "      <th>3</th>\n",
       "      <td>2008-12-04</td>\n",
       "      <td>Albury</td>\n",
       "      <td>9.2</td>\n",
       "      <td>28.0</td>\n",
       "      <td>0.0</td>\n",
       "      <td>NaN</td>\n",
       "      <td>NaN</td>\n",
       "      <td>NE</td>\n",
       "      <td>24.0</td>\n",
       "      <td>SE</td>\n",
       "      <td>E</td>\n",
       "      <td>11.0</td>\n",
       "      <td>9.0</td>\n",
       "      <td>45.0</td>\n",
       "      <td>16.0</td>\n",
       "      <td>1017.6</td>\n",
       "      <td>1012.8</td>\n",
       "      <td>NaN</td>\n",
       "      <td>NaN</td>\n",
       "      <td>18.1</td>\n",
       "      <td>26.5</td>\n",
       "      <td>No</td>\n",
       "      <td>1.0</td>\n",
       "      <td>No</td>\n",
       "    </tr>\n",
       "    <tr>\n",
       "      <th>4</th>\n",
       "      <td>2008-12-05</td>\n",
       "      <td>Albury</td>\n",
       "      <td>17.5</td>\n",
       "      <td>32.3</td>\n",
       "      <td>1.0</td>\n",
       "      <td>NaN</td>\n",
       "      <td>NaN</td>\n",
       "      <td>W</td>\n",
       "      <td>41.0</td>\n",
       "      <td>ENE</td>\n",
       "      <td>NW</td>\n",
       "      <td>7.0</td>\n",
       "      <td>20.0</td>\n",
       "      <td>82.0</td>\n",
       "      <td>33.0</td>\n",
       "      <td>1010.8</td>\n",
       "      <td>1006.0</td>\n",
       "      <td>7.0</td>\n",
       "      <td>8.0</td>\n",
       "      <td>17.8</td>\n",
       "      <td>29.7</td>\n",
       "      <td>No</td>\n",
       "      <td>0.2</td>\n",
       "      <td>No</td>\n",
       "    </tr>\n",
       "  </tbody>\n",
       "</table>\n",
       "</div>"
      ],
      "text/plain": [
       "         Date Location  MinTemp  MaxTemp  Rainfall  Evaporation  Sunshine  \\\n",
       "0  2008-12-01   Albury     13.4     22.9       0.6          NaN       NaN   \n",
       "1  2008-12-02   Albury      7.4     25.1       0.0          NaN       NaN   \n",
       "2  2008-12-03   Albury     12.9     25.7       0.0          NaN       NaN   \n",
       "3  2008-12-04   Albury      9.2     28.0       0.0          NaN       NaN   \n",
       "4  2008-12-05   Albury     17.5     32.3       1.0          NaN       NaN   \n",
       "\n",
       "  WindGustDir  WindGustSpeed WindDir9am WindDir3pm  WindSpeed9am  \\\n",
       "0           W           44.0          W        WNW          20.0   \n",
       "1         WNW           44.0        NNW        WSW           4.0   \n",
       "2         WSW           46.0          W        WSW          19.0   \n",
       "3          NE           24.0         SE          E          11.0   \n",
       "4           W           41.0        ENE         NW           7.0   \n",
       "\n",
       "   WindSpeed3pm  Humidity9am  Humidity3pm  Pressure9am  Pressure3pm  Cloud9am  \\\n",
       "0          24.0         71.0         22.0       1007.7       1007.1       8.0   \n",
       "1          22.0         44.0         25.0       1010.6       1007.8       NaN   \n",
       "2          26.0         38.0         30.0       1007.6       1008.7       NaN   \n",
       "3           9.0         45.0         16.0       1017.6       1012.8       NaN   \n",
       "4          20.0         82.0         33.0       1010.8       1006.0       7.0   \n",
       "\n",
       "   Cloud3pm  Temp9am  Temp3pm RainToday  RISK_MM RainTomorrow  \n",
       "0       NaN     16.9     21.8        No      0.0           No  \n",
       "1       NaN     17.2     24.3        No      0.0           No  \n",
       "2       2.0     21.0     23.2        No      0.0           No  \n",
       "3       NaN     18.1     26.5        No      1.0           No  \n",
       "4       8.0     17.8     29.7        No      0.2           No  "
      ]
     },
     "execution_count": 2,
     "metadata": {},
     "output_type": "execute_result"
    }
   ],
   "source": [
    "df=pd.read_csv(\"../input/weather-dataset-rattle-package/weatherAUS.csv\")\n",
    "df.head()"
   ]
  },
  {
   "cell_type": "markdown",
   "metadata": {
    "papermill": {
     "duration": 0.037908,
     "end_time": "2020-09-21T16:33:58.464799",
     "exception": false,
     "start_time": "2020-09-21T16:33:58.426891",
     "status": "completed"
    },
    "tags": []
   },
   "source": [
    "Before we continue, we must drop the column *RISK_MM* as including it will lead to data leakage:"
   ]
  },
  {
   "cell_type": "code",
   "execution_count": 3,
   "metadata": {
    "execution": {
     "iopub.execute_input": "2020-09-21T16:33:58.545022Z",
     "iopub.status.busy": "2020-09-21T16:33:58.544444Z",
     "iopub.status.idle": "2020-09-21T16:33:58.569572Z",
     "shell.execute_reply": "2020-09-21T16:33:58.568976Z"
    },
    "papermill": {
     "duration": 0.066146,
     "end_time": "2020-09-21T16:33:58.569690",
     "exception": false,
     "start_time": "2020-09-21T16:33:58.503544",
     "status": "completed"
    },
    "tags": []
   },
   "outputs": [],
   "source": [
    "df.drop([\"RISK_MM\"],axis=1,inplace=True)"
   ]
  },
  {
   "cell_type": "markdown",
   "metadata": {
    "papermill": {
     "duration": 0.037536,
     "end_time": "2020-09-21T16:33:58.645345",
     "exception": false,
     "start_time": "2020-09-21T16:33:58.607809",
     "status": "completed"
    },
    "tags": []
   },
   "source": [
    "Ok, now we continue with checking our data:"
   ]
  },
  {
   "cell_type": "code",
   "execution_count": 4,
   "metadata": {
    "execution": {
     "iopub.execute_input": "2020-09-21T16:33:58.767074Z",
     "iopub.status.busy": "2020-09-21T16:33:58.766467Z",
     "iopub.status.idle": "2020-09-21T16:33:58.794063Z",
     "shell.execute_reply": "2020-09-21T16:33:58.793502Z"
    },
    "papermill": {
     "duration": 0.110743,
     "end_time": "2020-09-21T16:33:58.794166",
     "exception": false,
     "start_time": "2020-09-21T16:33:58.683423",
     "status": "completed"
    },
    "tags": []
   },
   "outputs": [
    {
     "name": "stdout",
     "output_type": "stream",
     "text": [
      "<class 'pandas.core.frame.DataFrame'>\n",
      "RangeIndex: 142193 entries, 0 to 142192\n",
      "Data columns (total 23 columns):\n",
      " #   Column         Non-Null Count   Dtype  \n",
      "---  ------         --------------   -----  \n",
      " 0   Date           142193 non-null  object \n",
      " 1   Location       142193 non-null  object \n",
      " 2   MinTemp        141556 non-null  float64\n",
      " 3   MaxTemp        141871 non-null  float64\n",
      " 4   Rainfall       140787 non-null  float64\n",
      " 5   Evaporation    81350 non-null   float64\n",
      " 6   Sunshine       74377 non-null   float64\n",
      " 7   WindGustDir    132863 non-null  object \n",
      " 8   WindGustSpeed  132923 non-null  float64\n",
      " 9   WindDir9am     132180 non-null  object \n",
      " 10  WindDir3pm     138415 non-null  object \n",
      " 11  WindSpeed9am   140845 non-null  float64\n",
      " 12  WindSpeed3pm   139563 non-null  float64\n",
      " 13  Humidity9am    140419 non-null  float64\n",
      " 14  Humidity3pm    138583 non-null  float64\n",
      " 15  Pressure9am    128179 non-null  float64\n",
      " 16  Pressure3pm    128212 non-null  float64\n",
      " 17  Cloud9am       88536 non-null   float64\n",
      " 18  Cloud3pm       85099 non-null   float64\n",
      " 19  Temp9am        141289 non-null  float64\n",
      " 20  Temp3pm        139467 non-null  float64\n",
      " 21  RainToday      140787 non-null  object \n",
      " 22  RainTomorrow   142193 non-null  object \n",
      "dtypes: float64(16), object(7)\n",
      "memory usage: 25.0+ MB\n"
     ]
    }
   ],
   "source": [
    "df.info()"
   ]
  },
  {
   "cell_type": "markdown",
   "metadata": {
    "papermill": {
     "duration": 0.037517,
     "end_time": "2020-09-21T16:33:58.869544",
     "exception": false,
     "start_time": "2020-09-21T16:33:58.832027",
     "status": "completed"
    },
    "tags": []
   },
   "source": [
    "There are 142193 readings and 23 columns, of which *RainTomorrow* is our target variable. We also have a mixture of numerical and categorical variables, and some missing values (which we shall tackle when we split the data into the training and testing sets).\n",
    "\n",
    "First let's see view our target variable ***RainTomorrow***:"
   ]
  },
  {
   "cell_type": "code",
   "execution_count": 5,
   "metadata": {
    "execution": {
     "iopub.execute_input": "2020-09-21T16:33:58.964521Z",
     "iopub.status.busy": "2020-09-21T16:33:58.963619Z",
     "iopub.status.idle": "2020-09-21T16:33:58.970617Z",
     "shell.execute_reply": "2020-09-21T16:33:58.971004Z"
    },
    "papermill": {
     "duration": 0.063398,
     "end_time": "2020-09-21T16:33:58.971139",
     "exception": false,
     "start_time": "2020-09-21T16:33:58.907741",
     "status": "completed"
    },
    "tags": []
   },
   "outputs": [
    {
     "data": {
      "text/plain": [
       "No     110316\n",
       "Yes     31877\n",
       "Name: RainTomorrow, dtype: int64"
      ]
     },
     "execution_count": 5,
     "metadata": {},
     "output_type": "execute_result"
    }
   ],
   "source": [
    "df[\"RainTomorrow\"].value_counts()"
   ]
  },
  {
   "cell_type": "code",
   "execution_count": 6,
   "metadata": {
    "execution": {
     "iopub.execute_input": "2020-09-21T16:33:59.057639Z",
     "iopub.status.busy": "2020-09-21T16:33:59.056942Z",
     "iopub.status.idle": "2020-09-21T16:33:59.231724Z",
     "shell.execute_reply": "2020-09-21T16:33:59.232119Z"
    },
    "papermill": {
     "duration": 0.222415,
     "end_time": "2020-09-21T16:33:59.232272",
     "exception": false,
     "start_time": "2020-09-21T16:33:59.009857",
     "status": "completed"
    },
    "tags": []
   },
   "outputs": [
    {
     "data": {
      "text/plain": [
       "Text(0, 0.5, 'Count')"
      ]
     },
     "execution_count": 6,
     "metadata": {},
     "output_type": "execute_result"
    },
    {
     "data": {
      "image/png": "[encoded data removed]",
      "text/plain": [
       "<Figure size 432x288 with 1 Axes>"
      ]
     },
     "metadata": {
      "needs_background": "light"
     },
     "output_type": "display_data"
    }
   ],
   "source": [
    "sns.countplot(df[\"RainTomorrow\"],palette=[\"lightcoral\",\"skyblue\"])\n",
    "plt.ylabel(\"Count\")"
   ]
  },
  {
   "cell_type": "code",
   "execution_count": 7,
   "metadata": {
    "execution": {
     "iopub.execute_input": "2020-09-21T16:33:59.332443Z",
     "iopub.status.busy": "2020-09-21T16:33:59.321885Z",
     "iopub.status.idle": "2020-09-21T16:33:59.379882Z",
     "shell.execute_reply": "2020-09-21T16:33:59.378486Z"
    },
    "papermill": {
     "duration": 0.108158,
     "end_time": "2020-09-21T16:33:59.380069",
     "exception": false,
     "start_time": "2020-09-21T16:33:59.271911",
     "status": "completed"
    },
    "tags": []
   },
   "outputs": [],
   "source": [
    "df[\"RainTomorrow\"]=df[\"RainTomorrow\"].apply(lambda x:0 if x==\"No\" else 1)"
   ]
  },
  {
   "cell_type": "markdown",
   "metadata": {
    "papermill": {
     "duration": 0.039545,
     "end_time": "2020-09-21T16:33:59.464232",
     "exception": false,
     "start_time": "2020-09-21T16:33:59.424687",
     "status": "completed"
    },
    "tags": []
   },
   "source": [
    "Now let's go through and check the values for each feature. We will start with the numerical features:"
   ]
  },
  {
   "cell_type": "code",
   "execution_count": 8,
   "metadata": {
    "execution": {
     "iopub.execute_input": "2020-09-21T16:33:59.559009Z",
     "iopub.status.busy": "2020-09-21T16:33:59.557924Z",
     "iopub.status.idle": "2020-09-21T16:33:59.676607Z",
     "shell.execute_reply": "2020-09-21T16:33:59.676062Z"
    },
    "papermill": {
     "duration": 0.172937,
     "end_time": "2020-09-21T16:33:59.676716",
     "exception": false,
     "start_time": "2020-09-21T16:33:59.503779",
     "status": "completed"
    },
    "tags": []
   },
   "outputs": [
    {
     "data": {
      "text/html": [
       "<div>\n",
       "<style scoped>\n",
       "    .dataframe tbody tr th:only-of-type {\n",
       "        vertical-align: middle;\n",
       "    }\n",
       "\n",
       "    .dataframe tbody tr th {\n",
       "        vertical-align: top;\n",
       "    }\n",
       "\n",
       "    .dataframe thead th {\n",
       "        text-align: right;\n",
       "    }\n",
       "</style>\n",
       "<table border=\"1\" class=\"dataframe\">\n",
       "  <thead>\n",
       "    <tr style=\"text-align: right;\">\n",
       "      <th></th>\n",
       "      <th>count</th>\n",
       "      <th>mean</th>\n",
       "      <th>std</th>\n",
       "      <th>min</th>\n",
       "      <th>25%</th>\n",
       "      <th>50%</th>\n",
       "      <th>75%</th>\n",
       "      <th>max</th>\n",
       "    </tr>\n",
       "  </thead>\n",
       "  <tbody>\n",
       "    <tr>\n",
       "      <th>MinTemp</th>\n",
       "      <td>141556.0</td>\n",
       "      <td>12.186400</td>\n",
       "      <td>6.403283</td>\n",
       "      <td>-8.5</td>\n",
       "      <td>7.6</td>\n",
       "      <td>12.0</td>\n",
       "      <td>16.8</td>\n",
       "      <td>33.9</td>\n",
       "    </tr>\n",
       "    <tr>\n",
       "      <th>MaxTemp</th>\n",
       "      <td>141871.0</td>\n",
       "      <td>23.226784</td>\n",
       "      <td>7.117618</td>\n",
       "      <td>-4.8</td>\n",
       "      <td>17.9</td>\n",
       "      <td>22.6</td>\n",
       "      <td>28.2</td>\n",
       "      <td>48.1</td>\n",
       "    </tr>\n",
       "    <tr>\n",
       "      <th>Rainfall</th>\n",
       "      <td>140787.0</td>\n",
       "      <td>2.349974</td>\n",
       "      <td>8.465173</td>\n",
       "      <td>0.0</td>\n",
       "      <td>0.0</td>\n",
       "      <td>0.0</td>\n",
       "      <td>0.8</td>\n",
       "      <td>371.0</td>\n",
       "    </tr>\n",
       "    <tr>\n",
       "      <th>Evaporation</th>\n",
       "      <td>81350.0</td>\n",
       "      <td>5.469824</td>\n",
       "      <td>4.188537</td>\n",
       "      <td>0.0</td>\n",
       "      <td>2.6</td>\n",
       "      <td>4.8</td>\n",
       "      <td>7.4</td>\n",
       "      <td>145.0</td>\n",
       "    </tr>\n",
       "    <tr>\n",
       "      <th>Sunshine</th>\n",
       "      <td>74377.0</td>\n",
       "      <td>7.624853</td>\n",
       "      <td>3.781525</td>\n",
       "      <td>0.0</td>\n",
       "      <td>4.9</td>\n",
       "      <td>8.5</td>\n",
       "      <td>10.6</td>\n",
       "      <td>14.5</td>\n",
       "    </tr>\n",
       "    <tr>\n",
       "      <th>WindGustSpeed</th>\n",
       "      <td>132923.0</td>\n",
       "      <td>39.984292</td>\n",
       "      <td>13.588801</td>\n",
       "      <td>6.0</td>\n",
       "      <td>31.0</td>\n",
       "      <td>39.0</td>\n",
       "      <td>48.0</td>\n",
       "      <td>135.0</td>\n",
       "    </tr>\n",
       "    <tr>\n",
       "      <th>WindSpeed9am</th>\n",
       "      <td>140845.0</td>\n",
       "      <td>14.001988</td>\n",
       "      <td>8.893337</td>\n",
       "      <td>0.0</td>\n",
       "      <td>7.0</td>\n",
       "      <td>13.0</td>\n",
       "      <td>19.0</td>\n",
       "      <td>130.0</td>\n",
       "    </tr>\n",
       "    <tr>\n",
       "      <th>WindSpeed3pm</th>\n",
       "      <td>139563.0</td>\n",
       "      <td>18.637576</td>\n",
       "      <td>8.803345</td>\n",
       "      <td>0.0</td>\n",
       "      <td>13.0</td>\n",
       "      <td>19.0</td>\n",
       "      <td>24.0</td>\n",
       "      <td>87.0</td>\n",
       "    </tr>\n",
       "    <tr>\n",
       "      <th>Humidity9am</th>\n",
       "      <td>140419.0</td>\n",
       "      <td>68.843810</td>\n",
       "      <td>19.051293</td>\n",
       "      <td>0.0</td>\n",
       "      <td>57.0</td>\n",
       "      <td>70.0</td>\n",
       "      <td>83.0</td>\n",
       "      <td>100.0</td>\n",
       "    </tr>\n",
       "    <tr>\n",
       "      <th>Humidity3pm</th>\n",
       "      <td>138583.0</td>\n",
       "      <td>51.482606</td>\n",
       "      <td>20.797772</td>\n",
       "      <td>0.0</td>\n",
       "      <td>37.0</td>\n",
       "      <td>52.0</td>\n",
       "      <td>66.0</td>\n",
       "      <td>100.0</td>\n",
       "    </tr>\n",
       "    <tr>\n",
       "      <th>Pressure9am</th>\n",
       "      <td>128179.0</td>\n",
       "      <td>1017.653758</td>\n",
       "      <td>7.105476</td>\n",
       "      <td>980.5</td>\n",
       "      <td>1012.9</td>\n",
       "      <td>1017.6</td>\n",
       "      <td>1022.4</td>\n",
       "      <td>1041.0</td>\n",
       "    </tr>\n",
       "    <tr>\n",
       "      <th>Pressure3pm</th>\n",
       "      <td>128212.0</td>\n",
       "      <td>1015.258204</td>\n",
       "      <td>7.036677</td>\n",
       "      <td>977.1</td>\n",
       "      <td>1010.4</td>\n",
       "      <td>1015.2</td>\n",
       "      <td>1020.0</td>\n",
       "      <td>1039.6</td>\n",
       "    </tr>\n",
       "    <tr>\n",
       "      <th>Cloud9am</th>\n",
       "      <td>88536.0</td>\n",
       "      <td>4.437189</td>\n",
       "      <td>2.887016</td>\n",
       "      <td>0.0</td>\n",
       "      <td>1.0</td>\n",
       "      <td>5.0</td>\n",
       "      <td>7.0</td>\n",
       "      <td>9.0</td>\n",
       "    </tr>\n",
       "    <tr>\n",
       "      <th>Cloud3pm</th>\n",
       "      <td>85099.0</td>\n",
       "      <td>4.503167</td>\n",
       "      <td>2.720633</td>\n",
       "      <td>0.0</td>\n",
       "      <td>2.0</td>\n",
       "      <td>5.0</td>\n",
       "      <td>7.0</td>\n",
       "      <td>9.0</td>\n",
       "    </tr>\n",
       "    <tr>\n",
       "      <th>Temp9am</th>\n",
       "      <td>141289.0</td>\n",
       "      <td>16.987509</td>\n",
       "      <td>6.492838</td>\n",
       "      <td>-7.2</td>\n",
       "      <td>12.3</td>\n",
       "      <td>16.7</td>\n",
       "      <td>21.6</td>\n",
       "      <td>40.2</td>\n",
       "    </tr>\n",
       "    <tr>\n",
       "      <th>Temp3pm</th>\n",
       "      <td>139467.0</td>\n",
       "      <td>21.687235</td>\n",
       "      <td>6.937594</td>\n",
       "      <td>-5.4</td>\n",
       "      <td>16.6</td>\n",
       "      <td>21.1</td>\n",
       "      <td>26.4</td>\n",
       "      <td>46.7</td>\n",
       "    </tr>\n",
       "  </tbody>\n",
       "</table>\n",
       "</div>"
      ],
      "text/plain": [
       "                  count         mean        std    min     25%     50%  \\\n",
       "MinTemp        141556.0    12.186400   6.403283   -8.5     7.6    12.0   \n",
       "MaxTemp        141871.0    23.226784   7.117618   -4.8    17.9    22.6   \n",
       "Rainfall       140787.0     2.349974   8.465173    0.0     0.0     0.0   \n",
       "Evaporation     81350.0     5.469824   4.188537    0.0     2.6     4.8   \n",
       "Sunshine        74377.0     7.624853   3.781525    0.0     4.9     8.5   \n",
       "WindGustSpeed  132923.0    39.984292  13.588801    6.0    31.0    39.0   \n",
       "WindSpeed9am   140845.0    14.001988   8.893337    0.0     7.0    13.0   \n",
       "WindSpeed3pm   139563.0    18.637576   8.803345    0.0    13.0    19.0   \n",
       "Humidity9am    140419.0    68.843810  19.051293    0.0    57.0    70.0   \n",
       "Humidity3pm    138583.0    51.482606  20.797772    0.0    37.0    52.0   \n",
       "Pressure9am    128179.0  1017.653758   7.105476  980.5  1012.9  1017.6   \n",
       "Pressure3pm    128212.0  1015.258204   7.036677  977.1  1010.4  1015.2   \n",
       "Cloud9am        88536.0     4.437189   2.887016    0.0     1.0     5.0   \n",
       "Cloud3pm        85099.0     4.503167   2.720633    0.0     2.0     5.0   \n",
       "Temp9am        141289.0    16.987509   6.492838   -7.2    12.3    16.7   \n",
       "Temp3pm        139467.0    21.687235   6.937594   -5.4    16.6    21.1   \n",
       "\n",
       "                  75%     max  \n",
       "MinTemp          16.8    33.9  \n",
       "MaxTemp          28.2    48.1  \n",
       "Rainfall          0.8   371.0  \n",
       "Evaporation       7.4   145.0  \n",
       "Sunshine         10.6    14.5  \n",
       "WindGustSpeed    48.0   135.0  \n",
       "WindSpeed9am     19.0   130.0  \n",
       "WindSpeed3pm     24.0    87.0  \n",
       "Humidity9am      83.0   100.0  \n",
       "Humidity3pm      66.0   100.0  \n",
       "Pressure9am    1022.4  1041.0  \n",
       "Pressure3pm    1020.0  1039.6  \n",
       "Cloud9am          7.0     9.0  \n",
       "Cloud3pm          7.0     9.0  \n",
       "Temp9am          21.6    40.2  \n",
       "Temp3pm          26.4    46.7  "
      ]
     },
     "execution_count": 8,
     "metadata": {},
     "output_type": "execute_result"
    }
   ],
   "source": [
    "df.describe().drop([\"RainTomorrow\"],axis=1).T"
   ]
  },
  {
   "cell_type": "code",
   "execution_count": 9,
   "metadata": {
    "_kg_hide-input": true,
    "execution": {
     "iopub.execute_input": "2020-09-21T16:33:59.780653Z",
     "iopub.status.busy": "2020-09-21T16:33:59.771110Z",
     "iopub.status.idle": "2020-09-21T16:33:59.801454Z",
     "shell.execute_reply": "2020-09-21T16:33:59.800861Z"
    },
    "papermill": {
     "duration": 0.083732,
     "end_time": "2020-09-21T16:33:59.801573",
     "exception": false,
     "start_time": "2020-09-21T16:33:59.717841",
     "status": "completed"
    },
    "scrolled": true,
    "tags": []
   },
   "outputs": [
    {
     "name": "stdout",
     "output_type": "stream",
     "text": [
      "MinTemp : 637 missing values.\n",
      "MaxTemp : 322 missing values.\n",
      "Rainfall : 1406 missing values.\n",
      "Evaporation : 60843 missing values.\n",
      "Sunshine : 67816 missing values.\n",
      "WindGustSpeed : 9270 missing values.\n",
      "WindSpeed9am : 1348 missing values.\n",
      "WindSpeed3pm : 2630 missing values.\n",
      "Humidity9am : 1774 missing values.\n",
      "Humidity3pm : 3610 missing values.\n",
      "Pressure9am : 14014 missing values.\n",
      "Pressure3pm : 13981 missing values.\n",
      "Cloud9am : 53657 missing values.\n",
      "Cloud3pm : 57094 missing values.\n",
      "Temp9am : 904 missing values.\n",
      "Temp3pm : 2726 missing values.\n"
     ]
    }
   ],
   "source": [
    "for column in df.select_dtypes(exclude=\"object\").drop([\"RainTomorrow\"],axis=1).columns:\n",
    "    print(column,\":\",df[column].isnull().sum(),\"missing values.\")"
   ]
  },
  {
   "cell_type": "markdown",
   "metadata": {
    "papermill": {
     "duration": 0.040912,
     "end_time": "2020-09-21T16:33:59.883225",
     "exception": false,
     "start_time": "2020-09-21T16:33:59.842313",
     "status": "completed"
    },
    "tags": []
   },
   "source": [
    "Quite a number of missing values, which we will impute after we split the data.\n",
    "\n",
    "For numerical features, it is important to remove any outliers to improve model's performance."
   ]
  },
  {
   "cell_type": "code",
   "execution_count": 10,
   "metadata": {
    "execution": {
     "iopub.execute_input": "2020-09-21T16:33:59.978918Z",
     "iopub.status.busy": "2020-09-21T16:33:59.978245Z",
     "iopub.status.idle": "2020-09-21T16:34:00.484011Z",
     "shell.execute_reply": "2020-09-21T16:34:00.483553Z"
    },
    "papermill": {
     "duration": 0.559373,
     "end_time": "2020-09-21T16:34:00.484118",
     "exception": false,
     "start_time": "2020-09-21T16:33:59.924745",
     "status": "completed"
    },
    "tags": []
   },
   "outputs": [
    {
     "data": {
      "text/plain": [
       "<matplotlib.axes._subplots.AxesSubplot at 0x7fcc30560f50>"
      ]
     },
     "execution_count": 10,
     "metadata": {},
     "output_type": "execute_result"
    },
    {
     "data": {
      "image/png": "[encoded data removed]",
      "text/plain": [
       "<Figure size 864x360 with 2 Axes>"
      ]
     },
     "metadata": {
      "needs_background": "light"
     },
     "output_type": "display_data"
    }
   ],
   "source": [
    "fig,axes=plt.subplots(1,2,figsize=(12,5))\n",
    "\n",
    "df[df.select_dtypes(exclude=\"object\").columns.drop([\"Pressure9am\",\"Pressure3pm\",\"RainTomorrow\"])].plot(kind=\"box\",color=\"#AE9CCD\",ax=axes[0])\n",
    "axes[0].set_xticklabels(axes[0].get_xticklabels(),rotation=90)\n",
    "axes[0].set_ylabel(\"Measurement\")\n",
    "\n",
    "df[[\"Pressure9am\",\"Pressure3pm\"]].plot(kind=\"box\",color=\"#AE9CCD\",ax=axes[1])"
   ]
  },
  {
   "cell_type": "markdown",
   "metadata": {
    "papermill": {
     "duration": 0.040833,
     "end_time": "2020-09-21T16:34:00.566448",
     "exception": false,
     "start_time": "2020-09-21T16:34:00.525615",
     "status": "completed"
    },
    "tags": []
   },
   "source": [
    "From the above boxplots, we have quite a number of outliers outside 1.5 times the interquartile range. But because there are no real bounds for weather data, we will not be removing all of these outliers. If we do we will be creating a perfect dataset that won't properly reflect real world weather. Instead let's just further examine *Rainfall*, *Evaporation* and *WindSpeed9am*:"
   ]
  },
  {
   "cell_type": "code",
   "execution_count": 11,
   "metadata": {
    "execution": {
     "iopub.execute_input": "2020-09-21T16:34:00.661622Z",
     "iopub.status.busy": "2020-09-21T16:34:00.656727Z",
     "iopub.status.idle": "2020-09-21T16:34:01.181221Z",
     "shell.execute_reply": "2020-09-21T16:34:01.181722Z"
    },
    "papermill": {
     "duration": 0.572813,
     "end_time": "2020-09-21T16:34:01.181862",
     "exception": false,
     "start_time": "2020-09-21T16:34:00.609049",
     "status": "completed"
    },
    "tags": []
   },
   "outputs": [
    {
     "data": {
      "text/plain": [
       "<matplotlib.axes._subplots.AxesSubplot at 0x7fcc3023be10>"
      ]
     },
     "execution_count": 11,
     "metadata": {},
     "output_type": "execute_result"
    },
    {
     "data": {
      "image/png": "[encoded data removed]",
      "text/plain": [
       "<Figure size 1080x288 with 3 Axes>"
      ]
     },
     "metadata": {
      "needs_background": "light"
     },
     "output_type": "display_data"
    }
   ],
   "source": [
    "fig,axes=plt.subplots(1,3,figsize=(15,4))\n",
    "\n",
    "sns.distplot(df[\"Rainfall\"],bins=12,color=\"lightskyblue\",ax=axes[0])\n",
    "sns.distplot(df[\"Evaporation\"],bins=12,color=\"lightcoral\",ax=axes[1])\n",
    "sns.distplot(df[\"WindSpeed9am\"],bins=12,color=\"lightgreen\",ax=axes[2])"
   ]
  },
  {
   "cell_type": "markdown",
   "metadata": {
    "papermill": {
     "duration": 0.043427,
     "end_time": "2020-09-21T16:34:01.268765",
     "exception": false,
     "start_time": "2020-09-21T16:34:01.225338",
     "status": "completed"
    },
    "tags": []
   },
   "source": [
    "Although it is possible to achieve these amounts of rainfall, evaporation and wind speed - for example in a storm or heatwave event - we will be removing them from the dataset so the model doesn't think these extreme weather events are common."
   ]
  },
  {
   "cell_type": "code",
   "execution_count": 12,
   "metadata": {
    "execution": {
     "iopub.execute_input": "2020-09-21T16:34:01.360370Z",
     "iopub.status.busy": "2020-09-21T16:34:01.359745Z",
     "iopub.status.idle": "2020-09-21T16:34:01.398615Z",
     "shell.execute_reply": "2020-09-21T16:34:01.398095Z"
    },
    "papermill": {
     "duration": 0.087077,
     "end_time": "2020-09-21T16:34:01.398739",
     "exception": false,
     "start_time": "2020-09-21T16:34:01.311662",
     "status": "completed"
    },
    "tags": []
   },
   "outputs": [],
   "source": [
    "droppers=df.loc[(df[\"Rainfall\"]>300)|(df[\"Evaporation\"]>100)|(df[\"WindSpeed9am\"]>100)]\n",
    "df.drop(droppers.index,inplace=True)"
   ]
  },
  {
   "cell_type": "code",
   "execution_count": 13,
   "metadata": {
    "_kg_hide-input": true,
    "execution": {
     "iopub.execute_input": "2020-09-21T16:34:01.487282Z",
     "iopub.status.busy": "2020-09-21T16:34:01.486696Z",
     "iopub.status.idle": "2020-09-21T16:34:01.492832Z",
     "shell.execute_reply": "2020-09-21T16:34:01.492000Z"
    },
    "papermill": {
     "duration": 0.051348,
     "end_time": "2020-09-21T16:34:01.492979",
     "exception": false,
     "start_time": "2020-09-21T16:34:01.441631",
     "status": "completed"
    },
    "tags": []
   },
   "outputs": [
    {
     "name": "stdout",
     "output_type": "stream",
     "text": [
      "We have dropped 4 rows, so now instead of the initial 142193 readings, we have 142189.\n"
     ]
    }
   ],
   "source": [
    "print(\"We have dropped {num1} rows, so now instead of the initial 142193 readings, we have {num2}.\".format(num1=142193-df.shape[0],num2=df.shape[0]))"
   ]
  },
  {
   "cell_type": "markdown",
   "metadata": {
    "papermill": {
     "duration": 0.043645,
     "end_time": "2020-09-21T16:34:01.580238",
     "exception": false,
     "start_time": "2020-09-21T16:34:01.536593",
     "status": "completed"
    },
    "tags": []
   },
   "source": [
    "Let's continue with the categorical features:"
   ]
  },
  {
   "cell_type": "code",
   "execution_count": 14,
   "metadata": {
    "execution": {
     "iopub.execute_input": "2020-09-21T16:34:01.672529Z",
     "iopub.status.busy": "2020-09-21T16:34:01.671904Z",
     "iopub.status.idle": "2020-09-21T16:34:01.821727Z",
     "shell.execute_reply": "2020-09-21T16:34:01.821074Z"
    },
    "papermill": {
     "duration": 0.198486,
     "end_time": "2020-09-21T16:34:01.821858",
     "exception": false,
     "start_time": "2020-09-21T16:34:01.623372",
     "status": "completed"
    },
    "tags": []
   },
   "outputs": [
    {
     "data": {
      "text/html": [
       "<div>\n",
       "<style scoped>\n",
       "    .dataframe tbody tr th:only-of-type {\n",
       "        vertical-align: middle;\n",
       "    }\n",
       "\n",
       "    .dataframe tbody tr th {\n",
       "        vertical-align: top;\n",
       "    }\n",
       "\n",
       "    .dataframe thead th {\n",
       "        text-align: right;\n",
       "    }\n",
       "</style>\n",
       "<table border=\"1\" class=\"dataframe\">\n",
       "  <thead>\n",
       "    <tr style=\"text-align: right;\">\n",
       "      <th></th>\n",
       "      <th>Date</th>\n",
       "      <th>Location</th>\n",
       "      <th>WindGustDir</th>\n",
       "      <th>WindDir9am</th>\n",
       "      <th>WindDir3pm</th>\n",
       "      <th>RainToday</th>\n",
       "    </tr>\n",
       "  </thead>\n",
       "  <tbody>\n",
       "    <tr>\n",
       "      <th>count</th>\n",
       "      <td>142189</td>\n",
       "      <td>142189</td>\n",
       "      <td>132862</td>\n",
       "      <td>132177</td>\n",
       "      <td>138412</td>\n",
       "      <td>140783</td>\n",
       "    </tr>\n",
       "    <tr>\n",
       "      <th>unique</th>\n",
       "      <td>3436</td>\n",
       "      <td>49</td>\n",
       "      <td>16</td>\n",
       "      <td>16</td>\n",
       "      <td>16</td>\n",
       "      <td>2</td>\n",
       "    </tr>\n",
       "    <tr>\n",
       "      <th>top</th>\n",
       "      <td>2014-07-15</td>\n",
       "      <td>Canberra</td>\n",
       "      <td>W</td>\n",
       "      <td>N</td>\n",
       "      <td>SE</td>\n",
       "      <td>No</td>\n",
       "    </tr>\n",
       "    <tr>\n",
       "      <th>freq</th>\n",
       "      <td>49</td>\n",
       "      <td>3418</td>\n",
       "      <td>9780</td>\n",
       "      <td>11393</td>\n",
       "      <td>10663</td>\n",
       "      <td>109331</td>\n",
       "    </tr>\n",
       "  </tbody>\n",
       "</table>\n",
       "</div>"
      ],
      "text/plain": [
       "              Date  Location WindGustDir WindDir9am WindDir3pm RainToday\n",
       "count       142189    142189      132862     132177     138412    140783\n",
       "unique        3436        49          16         16         16         2\n",
       "top     2014-07-15  Canberra           W          N         SE        No\n",
       "freq            49      3418        9780      11393      10663    109331"
      ]
     },
     "execution_count": 14,
     "metadata": {},
     "output_type": "execute_result"
    }
   ],
   "source": [
    "df.select_dtypes(include=\"object\").describe()"
   ]
  },
  {
   "cell_type": "markdown",
   "metadata": {
    "papermill": {
     "duration": 0.053534,
     "end_time": "2020-09-21T16:34:01.928220",
     "exception": false,
     "start_time": "2020-09-21T16:34:01.874686",
     "status": "completed"
    },
    "tags": []
   },
   "source": [
    "For categorical features, it is important to check the actual categories and change the format into numbers. Remember we will only impute the missing data after we split the data."
   ]
  },
  {
   "cell_type": "markdown",
   "metadata": {
    "papermill": {
     "duration": 0.043878,
     "end_time": "2020-09-21T16:34:02.016611",
     "exception": false,
     "start_time": "2020-09-21T16:34:01.972733",
     "status": "completed"
    },
    "tags": []
   },
   "source": [
    "***Date***"
   ]
  },
  {
   "cell_type": "markdown",
   "metadata": {
    "papermill": {
     "duration": 0.04392,
     "end_time": "2020-09-21T16:34:02.104452",
     "exception": false,
     "start_time": "2020-09-21T16:34:02.060532",
     "status": "completed"
    },
    "tags": []
   },
   "source": [
    "- There are 3436 unique values in the format of YYYY-MM-DD. Instead of using the *categoricals* function, we will just split up the date format into year, month and day but we only use the month data as rain is seasonal and not yearly/daily."
   ]
  },
  {
   "cell_type": "code",
   "execution_count": 15,
   "metadata": {
    "_kg_hide-input": true,
    "execution": {
     "iopub.execute_input": "2020-09-21T16:34:02.204234Z",
     "iopub.status.busy": "2020-09-21T16:34:02.203397Z",
     "iopub.status.idle": "2020-09-21T16:34:02.207196Z",
     "shell.execute_reply": "2020-09-21T16:34:02.208128Z"
    },
    "papermill": {
     "duration": 0.059814,
     "end_time": "2020-09-21T16:34:02.208279",
     "exception": false,
     "start_time": "2020-09-21T16:34:02.148465",
     "status": "completed"
    },
    "tags": []
   },
   "outputs": [
    {
     "name": "stdout",
     "output_type": "stream",
     "text": [
      "0 missing values.\n"
     ]
    }
   ],
   "source": [
    "print(\"{num} missing values.\".format(num=df[\"Date\"].isnull().sum()))"
   ]
  },
  {
   "cell_type": "code",
   "execution_count": 16,
   "metadata": {
    "execution": {
     "iopub.execute_input": "2020-09-21T16:34:02.322862Z",
     "iopub.status.busy": "2020-09-21T16:34:02.321682Z",
     "iopub.status.idle": "2020-09-21T16:34:02.329384Z",
     "shell.execute_reply": "2020-09-21T16:34:02.328783Z"
    },
    "papermill": {
     "duration": 0.076346,
     "end_time": "2020-09-21T16:34:02.329517",
     "exception": false,
     "start_time": "2020-09-21T16:34:02.253171",
     "status": "completed"
    },
    "tags": []
   },
   "outputs": [],
   "source": [
    "df[\"Date\"]=pd.to_datetime(df[\"Date\"])"
   ]
  },
  {
   "cell_type": "code",
   "execution_count": 17,
   "metadata": {
    "execution": {
     "iopub.execute_input": "2020-09-21T16:34:02.424064Z",
     "iopub.status.busy": "2020-09-21T16:34:02.423500Z",
     "iopub.status.idle": "2020-09-21T16:34:02.440072Z",
     "shell.execute_reply": "2020-09-21T16:34:02.439552Z"
    },
    "papermill": {
     "duration": 0.065479,
     "end_time": "2020-09-21T16:34:02.440185",
     "exception": false,
     "start_time": "2020-09-21T16:34:02.374706",
     "status": "completed"
    },
    "tags": []
   },
   "outputs": [],
   "source": [
    "df[\"Month\"]=df[\"Date\"].dt.month"
   ]
  },
  {
   "cell_type": "markdown",
   "metadata": {
    "papermill": {
     "duration": 0.044708,
     "end_time": "2020-09-21T16:34:02.530489",
     "exception": false,
     "start_time": "2020-09-21T16:34:02.485781",
     "status": "completed"
    },
    "tags": []
   },
   "source": [
    "- Now we can drop the *Date* column:"
   ]
  },
  {
   "cell_type": "code",
   "execution_count": 18,
   "metadata": {
    "execution": {
     "iopub.execute_input": "2020-09-21T16:34:02.640823Z",
     "iopub.status.busy": "2020-09-21T16:34:02.640194Z",
     "iopub.status.idle": "2020-09-21T16:34:02.669828Z",
     "shell.execute_reply": "2020-09-21T16:34:02.669243Z"
    },
    "papermill": {
     "duration": 0.094452,
     "end_time": "2020-09-21T16:34:02.669958",
     "exception": false,
     "start_time": "2020-09-21T16:34:02.575506",
     "status": "completed"
    },
    "tags": []
   },
   "outputs": [
    {
     "data": {
      "text/html": [
       "<div>\n",
       "<style scoped>\n",
       "    .dataframe tbody tr th:only-of-type {\n",
       "        vertical-align: middle;\n",
       "    }\n",
       "\n",
       "    .dataframe tbody tr th {\n",
       "        vertical-align: top;\n",
       "    }\n",
       "\n",
       "    .dataframe thead th {\n",
       "        text-align: right;\n",
       "    }\n",
       "</style>\n",
       "<table border=\"1\" class=\"dataframe\">\n",
       "  <thead>\n",
       "    <tr style=\"text-align: right;\">\n",
       "      <th></th>\n",
       "      <th>Location</th>\n",
       "      <th>MinTemp</th>\n",
       "      <th>MaxTemp</th>\n",
       "      <th>Rainfall</th>\n",
       "      <th>Evaporation</th>\n",
       "      <th>Sunshine</th>\n",
       "      <th>WindGustDir</th>\n",
       "      <th>WindGustSpeed</th>\n",
       "      <th>WindDir9am</th>\n",
       "      <th>WindDir3pm</th>\n",
       "      <th>WindSpeed9am</th>\n",
       "      <th>WindSpeed3pm</th>\n",
       "      <th>Humidity9am</th>\n",
       "      <th>Humidity3pm</th>\n",
       "      <th>Pressure9am</th>\n",
       "      <th>Pressure3pm</th>\n",
       "      <th>Cloud9am</th>\n",
       "      <th>Cloud3pm</th>\n",
       "      <th>Temp9am</th>\n",
       "      <th>Temp3pm</th>\n",
       "      <th>RainToday</th>\n",
       "      <th>RainTomorrow</th>\n",
       "      <th>Month</th>\n",
       "    </tr>\n",
       "  </thead>\n",
       "  <tbody>\n",
       "    <tr>\n",
       "      <th>0</th>\n",
       "      <td>Albury</td>\n",
       "      <td>13.4</td>\n",
       "      <td>22.9</td>\n",
       "      <td>0.6</td>\n",
       "      <td>NaN</td>\n",
       "      <td>NaN</td>\n",
       "      <td>W</td>\n",
       "      <td>44.0</td>\n",
       "      <td>W</td>\n",
       "      <td>WNW</td>\n",
       "      <td>20.0</td>\n",
       "      <td>24.0</td>\n",
       "      <td>71.0</td>\n",
       "      <td>22.0</td>\n",
       "      <td>1007.7</td>\n",
       "      <td>1007.1</td>\n",
       "      <td>8.0</td>\n",
       "      <td>NaN</td>\n",
       "      <td>16.9</td>\n",
       "      <td>21.8</td>\n",
       "      <td>No</td>\n",
       "      <td>0</td>\n",
       "      <td>12</td>\n",
       "    </tr>\n",
       "    <tr>\n",
       "      <th>1</th>\n",
       "      <td>Albury</td>\n",
       "      <td>7.4</td>\n",
       "      <td>25.1</td>\n",
       "      <td>0.0</td>\n",
       "      <td>NaN</td>\n",
       "      <td>NaN</td>\n",
       "      <td>WNW</td>\n",
       "      <td>44.0</td>\n",
       "      <td>NNW</td>\n",
       "      <td>WSW</td>\n",
       "      <td>4.0</td>\n",
       "      <td>22.0</td>\n",
       "      <td>44.0</td>\n",
       "      <td>25.0</td>\n",
       "      <td>1010.6</td>\n",
       "      <td>1007.8</td>\n",
       "      <td>NaN</td>\n",
       "      <td>NaN</td>\n",
       "      <td>17.2</td>\n",
       "      <td>24.3</td>\n",
       "      <td>No</td>\n",
       "      <td>0</td>\n",
       "      <td>12</td>\n",
       "    </tr>\n",
       "  </tbody>\n",
       "</table>\n",
       "</div>"
      ],
      "text/plain": [
       "  Location  MinTemp  MaxTemp  Rainfall  Evaporation  Sunshine WindGustDir  \\\n",
       "0   Albury     13.4     22.9       0.6          NaN       NaN           W   \n",
       "1   Albury      7.4     25.1       0.0          NaN       NaN         WNW   \n",
       "\n",
       "   WindGustSpeed WindDir9am WindDir3pm  WindSpeed9am  WindSpeed3pm  \\\n",
       "0           44.0          W        WNW          20.0          24.0   \n",
       "1           44.0        NNW        WSW           4.0          22.0   \n",
       "\n",
       "   Humidity9am  Humidity3pm  Pressure9am  Pressure3pm  Cloud9am  Cloud3pm  \\\n",
       "0         71.0         22.0       1007.7       1007.1       8.0       NaN   \n",
       "1         44.0         25.0       1010.6       1007.8       NaN       NaN   \n",
       "\n",
       "   Temp9am  Temp3pm RainToday  RainTomorrow  Month  \n",
       "0     16.9     21.8        No             0     12  \n",
       "1     17.2     24.3        No             0     12  "
      ]
     },
     "execution_count": 18,
     "metadata": {},
     "output_type": "execute_result"
    }
   ],
   "source": [
    "df.drop([\"Date\"],axis=1,inplace=True)\n",
    "df.head(2)"
   ]
  },
  {
   "cell_type": "markdown",
   "metadata": {
    "papermill": {
     "duration": 0.045483,
     "end_time": "2020-09-21T16:34:02.761220",
     "exception": false,
     "start_time": "2020-09-21T16:34:02.715737",
     "status": "completed"
    },
    "tags": []
   },
   "source": [
    "***Location***"
   ]
  },
  {
   "cell_type": "markdown",
   "metadata": {
    "papermill": {
     "duration": 0.04545,
     "end_time": "2020-09-21T16:34:02.852047",
     "exception": false,
     "start_time": "2020-09-21T16:34:02.806597",
     "status": "completed"
    },
    "tags": []
   },
   "source": [
    "- We will not be dropping *Location* because rain is regional."
   ]
  },
  {
   "cell_type": "code",
   "execution_count": 19,
   "metadata": {
    "_kg_hide-input": true,
    "execution": {
     "iopub.execute_input": "2020-09-21T16:34:02.957372Z",
     "iopub.status.busy": "2020-09-21T16:34:02.955089Z",
     "iopub.status.idle": "2020-09-21T16:34:02.962625Z",
     "shell.execute_reply": "2020-09-21T16:34:02.962052Z"
    },
    "papermill": {
     "duration": 0.064529,
     "end_time": "2020-09-21T16:34:02.962731",
     "exception": false,
     "start_time": "2020-09-21T16:34:02.898202",
     "status": "completed"
    },
    "tags": []
   },
   "outputs": [
    {
     "name": "stdout",
     "output_type": "stream",
     "text": [
      "0 missing values.\n"
     ]
    }
   ],
   "source": [
    "print(\"{num} missing values.\".format(num=df[\"Location\"].isnull().sum()))"
   ]
  },
  {
   "cell_type": "code",
   "execution_count": 20,
   "metadata": {
    "execution": {
     "iopub.execute_input": "2020-09-21T16:34:03.070983Z",
     "iopub.status.busy": "2020-09-21T16:34:03.067942Z",
     "iopub.status.idle": "2020-09-21T16:34:03.075502Z",
     "shell.execute_reply": "2020-09-21T16:34:03.075027Z"
    },
    "papermill": {
     "duration": 0.068048,
     "end_time": "2020-09-21T16:34:03.075630",
     "exception": false,
     "start_time": "2020-09-21T16:34:03.007582",
     "status": "completed"
    },
    "scrolled": true,
    "tags": []
   },
   "outputs": [
    {
     "data": {
      "text/plain": [
       "Canberra            3418\n",
       "Sydney              3337\n",
       "Perth               3193\n",
       "Darwin              3191\n",
       "Hobart              3188\n",
       "Brisbane            3161\n",
       "Adelaide            3090\n",
       "Bendigo             3034\n",
       "Townsville          3033\n",
       "AliceSprings        3031\n",
       "MountGambier        3030\n",
       "Launceston          3028\n",
       "Ballarat            3028\n",
       "Albany              3016\n",
       "Albury              3011\n",
       "MelbourneAirport    3009\n",
       "PerthAirport        3009\n",
       "Mildura             3007\n",
       "SydneyAirport       3005\n",
       "Nuriootpa           3002\n",
       "Sale                3000\n",
       "Watsonia            2999\n",
       "Tuggeranong         2998\n",
       "Portland            2996\n",
       "Woomera             2990\n",
       "Cobar               2988\n",
       "Cairns              2988\n",
       "Wollongong          2983\n",
       "GoldCoast           2980\n",
       "WaggaWagga          2976\n",
       "Penrith             2964\n",
       "NorfolkIsland       2964\n",
       "SalmonGums          2955\n",
       "Newcastle           2954\n",
       "Witchcliffe         2952\n",
       "CoffsHarbour        2952\n",
       "Richmond            2951\n",
       "Dartmoor            2943\n",
       "NorahHead           2929\n",
       "BadgerysCreek       2928\n",
       "MountGinini         2907\n",
       "Moree               2854\n",
       "Walpole             2819\n",
       "PearceRAAF          2762\n",
       "Williamtown         2552\n",
       "Melbourne           2435\n",
       "Nhil                1569\n",
       "Katherine           1559\n",
       "Uluru               1521\n",
       "Name: Location, dtype: int64"
      ]
     },
     "execution_count": 20,
     "metadata": {},
     "output_type": "execute_result"
    }
   ],
   "source": [
    "df[\"Location\"].value_counts()"
   ]
  },
  {
   "cell_type": "markdown",
   "metadata": {
    "papermill": {
     "duration": 0.045558,
     "end_time": "2020-09-21T16:34:03.167531",
     "exception": false,
     "start_time": "2020-09-21T16:34:03.121973",
     "status": "completed"
    },
    "tags": []
   },
   "source": [
    "- We will convert these categories into numbers when we impute the missing values after we split the data."
   ]
  },
  {
   "cell_type": "markdown",
   "metadata": {
    "papermill": {
     "duration": 0.045954,
     "end_time": "2020-09-21T16:34:03.299085",
     "exception": false,
     "start_time": "2020-09-21T16:34:03.253131",
     "status": "completed"
    },
    "tags": []
   },
   "source": [
    "***WindGustDir***"
   ]
  },
  {
   "cell_type": "code",
   "execution_count": 21,
   "metadata": {
    "_kg_hide-input": true,
    "execution": {
     "iopub.execute_input": "2020-09-21T16:34:03.401047Z",
     "iopub.status.busy": "2020-09-21T16:34:03.400444Z",
     "iopub.status.idle": "2020-09-21T16:34:03.405442Z",
     "shell.execute_reply": "2020-09-21T16:34:03.404859Z"
    },
    "papermill": {
     "duration": 0.060912,
     "end_time": "2020-09-21T16:34:03.405549",
     "exception": false,
     "start_time": "2020-09-21T16:34:03.344637",
     "status": "completed"
    },
    "tags": []
   },
   "outputs": [
    {
     "name": "stdout",
     "output_type": "stream",
     "text": [
      "9327 missing values.\n"
     ]
    }
   ],
   "source": [
    "print(\"{num} missing values.\".format(num=df[\"WindGustDir\"].isnull().sum()))"
   ]
  },
  {
   "cell_type": "code",
   "execution_count": 22,
   "metadata": {
    "execution": {
     "iopub.execute_input": "2020-09-21T16:34:03.515985Z",
     "iopub.status.busy": "2020-09-21T16:34:03.510239Z",
     "iopub.status.idle": "2020-09-21T16:34:03.522753Z",
     "shell.execute_reply": "2020-09-21T16:34:03.522153Z"
    },
    "papermill": {
     "duration": 0.070403,
     "end_time": "2020-09-21T16:34:03.522861",
     "exception": false,
     "start_time": "2020-09-21T16:34:03.452458",
     "status": "completed"
    },
    "scrolled": false,
    "tags": []
   },
   "outputs": [
    {
     "data": {
      "text/plain": [
       "W      9780\n",
       "SE     9309\n",
       "E      9071\n",
       "N      9033\n",
       "SSE    8993\n",
       "S      8949\n",
       "WSW    8900\n",
       "SW     8797\n",
       "SSW    8610\n",
       "WNW    8066\n",
       "NW     8003\n",
       "ENE    7992\n",
       "ESE    7305\n",
       "NE     7060\n",
       "NNW    6561\n",
       "NNE    6433\n",
       "Name: WindGustDir, dtype: int64"
      ]
     },
     "execution_count": 22,
     "metadata": {},
     "output_type": "execute_result"
    }
   ],
   "source": [
    "df[\"WindGustDir\"].value_counts()"
   ]
  },
  {
   "cell_type": "markdown",
   "metadata": {
    "papermill": {
     "duration": 0.047156,
     "end_time": "2020-09-21T16:34:03.617007",
     "exception": false,
     "start_time": "2020-09-21T16:34:03.569851",
     "status": "completed"
    },
    "tags": []
   },
   "source": [
    "- We will convert these categories into numbers when we impute the missing values after we split the data."
   ]
  },
  {
   "cell_type": "markdown",
   "metadata": {
    "papermill": {
     "duration": 0.046589,
     "end_time": "2020-09-21T16:34:03.710580",
     "exception": false,
     "start_time": "2020-09-21T16:34:03.663991",
     "status": "completed"
    },
    "tags": []
   },
   "source": [
    "***WindDir9am***"
   ]
  },
  {
   "cell_type": "code",
   "execution_count": 23,
   "metadata": {
    "_kg_hide-input": true,
    "execution": {
     "iopub.execute_input": "2020-09-21T16:34:03.815249Z",
     "iopub.status.busy": "2020-09-21T16:34:03.814641Z",
     "iopub.status.idle": "2020-09-21T16:34:03.819747Z",
     "shell.execute_reply": "2020-09-21T16:34:03.820516Z"
    },
    "papermill": {
     "duration": 0.062488,
     "end_time": "2020-09-21T16:34:03.820719",
     "exception": false,
     "start_time": "2020-09-21T16:34:03.758231",
     "status": "completed"
    },
    "tags": []
   },
   "outputs": [
    {
     "name": "stdout",
     "output_type": "stream",
     "text": [
      "10012 missing values.\n"
     ]
    }
   ],
   "source": [
    "print(\"{num} missing values.\".format(num=df[\"WindDir9am\"].isnull().sum()))"
   ]
  },
  {
   "cell_type": "code",
   "execution_count": 24,
   "metadata": {
    "execution": {
     "iopub.execute_input": "2020-09-21T16:34:03.936131Z",
     "iopub.status.busy": "2020-09-21T16:34:03.933049Z",
     "iopub.status.idle": "2020-09-21T16:34:03.940327Z",
     "shell.execute_reply": "2020-09-21T16:34:03.939825Z"
    },
    "papermill": {
     "duration": 0.072212,
     "end_time": "2020-09-21T16:34:03.940441",
     "exception": false,
     "start_time": "2020-09-21T16:34:03.868229",
     "status": "completed"
    },
    "tags": []
   },
   "outputs": [
    {
     "data": {
      "text/plain": [
       "N      11393\n",
       "SE      9162\n",
       "E       9024\n",
       "SSE     8965\n",
       "NW      8551\n",
       "S       8493\n",
       "W       8260\n",
       "SW      8236\n",
       "NNE     7948\n",
       "NNW     7840\n",
       "ENE     7735\n",
       "ESE     7558\n",
       "NE      7527\n",
       "SSW     7448\n",
       "WNW     7194\n",
       "WSW     6843\n",
       "Name: WindDir9am, dtype: int64"
      ]
     },
     "execution_count": 24,
     "metadata": {},
     "output_type": "execute_result"
    }
   ],
   "source": [
    "df[\"WindDir9am\"].value_counts()"
   ]
  },
  {
   "cell_type": "markdown",
   "metadata": {
    "papermill": {
     "duration": 0.047875,
     "end_time": "2020-09-21T16:34:04.036649",
     "exception": false,
     "start_time": "2020-09-21T16:34:03.988774",
     "status": "completed"
    },
    "tags": []
   },
   "source": [
    "- We will convert these categories into numbers when we impute the missing values after we split the data."
   ]
  },
  {
   "cell_type": "markdown",
   "metadata": {
    "papermill": {
     "duration": 0.046308,
     "end_time": "2020-09-21T16:34:04.130165",
     "exception": false,
     "start_time": "2020-09-21T16:34:04.083857",
     "status": "completed"
    },
    "tags": []
   },
   "source": [
    "***WindDir3pm***"
   ]
  },
  {
   "cell_type": "code",
   "execution_count": 25,
   "metadata": {
    "_kg_hide-input": true,
    "execution": {
     "iopub.execute_input": "2020-09-21T16:34:04.235425Z",
     "iopub.status.busy": "2020-09-21T16:34:04.234773Z",
     "iopub.status.idle": "2020-09-21T16:34:04.239513Z",
     "shell.execute_reply": "2020-09-21T16:34:04.238793Z"
    },
    "papermill": {
     "duration": 0.062684,
     "end_time": "2020-09-21T16:34:04.239627",
     "exception": false,
     "start_time": "2020-09-21T16:34:04.176943",
     "status": "completed"
    },
    "tags": []
   },
   "outputs": [
    {
     "name": "stdout",
     "output_type": "stream",
     "text": [
      "3777 missing values.\n"
     ]
    }
   ],
   "source": [
    "print(\"{num} missing values.\".format(num=df[\"WindDir3pm\"].isnull().sum()))"
   ]
  },
  {
   "cell_type": "code",
   "execution_count": 26,
   "metadata": {
    "execution": {
     "iopub.execute_input": "2020-09-21T16:34:04.352418Z",
     "iopub.status.busy": "2020-09-21T16:34:04.346234Z",
     "iopub.status.idle": "2020-09-21T16:34:04.359206Z",
     "shell.execute_reply": "2020-09-21T16:34:04.358741Z"
    },
    "papermill": {
     "duration": 0.072249,
     "end_time": "2020-09-21T16:34:04.359329",
     "exception": false,
     "start_time": "2020-09-21T16:34:04.287080",
     "status": "completed"
    },
    "tags": []
   },
   "outputs": [
    {
     "data": {
      "text/plain": [
       "SE     10663\n",
       "W       9911\n",
       "S       9597\n",
       "WSW     9328\n",
       "SW      9182\n",
       "SSE     9142\n",
       "N       8667\n",
       "WNW     8656\n",
       "NW      8468\n",
       "ESE     8382\n",
       "E       8341\n",
       "NE      8164\n",
       "SSW     8010\n",
       "NNW     7733\n",
       "ENE     7724\n",
       "NNE     6444\n",
       "Name: WindDir3pm, dtype: int64"
      ]
     },
     "execution_count": 26,
     "metadata": {},
     "output_type": "execute_result"
    }
   ],
   "source": [
    "df[\"WindDir3pm\"].value_counts()"
   ]
  },
  {
   "cell_type": "markdown",
   "metadata": {
    "papermill": {
     "duration": 0.047601,
     "end_time": "2020-09-21T16:34:04.454330",
     "exception": false,
     "start_time": "2020-09-21T16:34:04.406729",
     "status": "completed"
    },
    "tags": []
   },
   "source": [
    "- We will convert these categories into numbers when we impute the missing values after we split the data."
   ]
  },
  {
   "cell_type": "markdown",
   "metadata": {
    "papermill": {
     "duration": 0.047557,
     "end_time": "2020-09-21T16:34:04.549349",
     "exception": false,
     "start_time": "2020-09-21T16:34:04.501792",
     "status": "completed"
    },
    "tags": []
   },
   "source": [
    "***RainToday***"
   ]
  },
  {
   "cell_type": "code",
   "execution_count": 27,
   "metadata": {
    "_kg_hide-input": true,
    "execution": {
     "iopub.execute_input": "2020-09-21T16:34:04.655313Z",
     "iopub.status.busy": "2020-09-21T16:34:04.654749Z",
     "iopub.status.idle": "2020-09-21T16:34:04.659150Z",
     "shell.execute_reply": "2020-09-21T16:34:04.659617Z"
    },
    "papermill": {
     "duration": 0.062785,
     "end_time": "2020-09-21T16:34:04.659746",
     "exception": false,
     "start_time": "2020-09-21T16:34:04.596961",
     "status": "completed"
    },
    "tags": []
   },
   "outputs": [
    {
     "name": "stdout",
     "output_type": "stream",
     "text": [
      "1406 missing values.\n"
     ]
    }
   ],
   "source": [
    "print(\"{num} missing values.\".format(num=df[\"RainToday\"].isnull().sum()))"
   ]
  },
  {
   "cell_type": "code",
   "execution_count": 28,
   "metadata": {
    "execution": {
     "iopub.execute_input": "2020-09-21T16:34:04.778586Z",
     "iopub.status.busy": "2020-09-21T16:34:04.775879Z",
     "iopub.status.idle": "2020-09-21T16:34:04.782361Z",
     "shell.execute_reply": "2020-09-21T16:34:04.781798Z"
    },
    "papermill": {
     "duration": 0.072939,
     "end_time": "2020-09-21T16:34:04.782481",
     "exception": false,
     "start_time": "2020-09-21T16:34:04.709542",
     "status": "completed"
    },
    "tags": []
   },
   "outputs": [
    {
     "data": {
      "text/plain": [
       "No     109331\n",
       "Yes     31452\n",
       "Name: RainToday, dtype: int64"
      ]
     },
     "execution_count": 28,
     "metadata": {},
     "output_type": "execute_result"
    }
   ],
   "source": [
    "df[\"RainToday\"].value_counts()"
   ]
  },
  {
   "cell_type": "markdown",
   "metadata": {
    "papermill": {
     "duration": 0.047764,
     "end_time": "2020-09-21T16:34:04.878643",
     "exception": false,
     "start_time": "2020-09-21T16:34:04.830879",
     "status": "completed"
    },
    "tags": []
   },
   "source": [
    "- We will also convert these text data into numbers but just using a simple if statement:"
   ]
  },
  {
   "cell_type": "code",
   "execution_count": 29,
   "metadata": {
    "execution": {
     "iopub.execute_input": "2020-09-21T16:34:04.979154Z",
     "iopub.status.busy": "2020-09-21T16:34:04.978552Z",
     "iopub.status.idle": "2020-09-21T16:34:05.043828Z",
     "shell.execute_reply": "2020-09-21T16:34:05.043332Z"
    },
    "papermill": {
     "duration": 0.117005,
     "end_time": "2020-09-21T16:34:05.043934",
     "exception": false,
     "start_time": "2020-09-21T16:34:04.926929",
     "status": "completed"
    },
    "tags": []
   },
   "outputs": [
    {
     "data": {
      "text/html": [
       "<div>\n",
       "<style scoped>\n",
       "    .dataframe tbody tr th:only-of-type {\n",
       "        vertical-align: middle;\n",
       "    }\n",
       "\n",
       "    .dataframe tbody tr th {\n",
       "        vertical-align: top;\n",
       "    }\n",
       "\n",
       "    .dataframe thead th {\n",
       "        text-align: right;\n",
       "    }\n",
       "</style>\n",
       "<table border=\"1\" class=\"dataframe\">\n",
       "  <thead>\n",
       "    <tr style=\"text-align: right;\">\n",
       "      <th></th>\n",
       "      <th>Location</th>\n",
       "      <th>MinTemp</th>\n",
       "      <th>MaxTemp</th>\n",
       "      <th>Rainfall</th>\n",
       "      <th>Evaporation</th>\n",
       "      <th>Sunshine</th>\n",
       "      <th>WindGustDir</th>\n",
       "      <th>WindGustSpeed</th>\n",
       "      <th>WindDir9am</th>\n",
       "      <th>WindDir3pm</th>\n",
       "      <th>WindSpeed9am</th>\n",
       "      <th>WindSpeed3pm</th>\n",
       "      <th>Humidity9am</th>\n",
       "      <th>Humidity3pm</th>\n",
       "      <th>Pressure9am</th>\n",
       "      <th>Pressure3pm</th>\n",
       "      <th>Cloud9am</th>\n",
       "      <th>Cloud3pm</th>\n",
       "      <th>Temp9am</th>\n",
       "      <th>Temp3pm</th>\n",
       "      <th>RainToday</th>\n",
       "      <th>RainTomorrow</th>\n",
       "      <th>Month</th>\n",
       "    </tr>\n",
       "  </thead>\n",
       "  <tbody>\n",
       "    <tr>\n",
       "      <th>0</th>\n",
       "      <td>Albury</td>\n",
       "      <td>13.4</td>\n",
       "      <td>22.9</td>\n",
       "      <td>0.6</td>\n",
       "      <td>NaN</td>\n",
       "      <td>NaN</td>\n",
       "      <td>W</td>\n",
       "      <td>44.0</td>\n",
       "      <td>W</td>\n",
       "      <td>WNW</td>\n",
       "      <td>20.0</td>\n",
       "      <td>24.0</td>\n",
       "      <td>71.0</td>\n",
       "      <td>22.0</td>\n",
       "      <td>1007.7</td>\n",
       "      <td>1007.1</td>\n",
       "      <td>8.0</td>\n",
       "      <td>NaN</td>\n",
       "      <td>16.9</td>\n",
       "      <td>21.8</td>\n",
       "      <td>0</td>\n",
       "      <td>0</td>\n",
       "      <td>12</td>\n",
       "    </tr>\n",
       "    <tr>\n",
       "      <th>1</th>\n",
       "      <td>Albury</td>\n",
       "      <td>7.4</td>\n",
       "      <td>25.1</td>\n",
       "      <td>0.0</td>\n",
       "      <td>NaN</td>\n",
       "      <td>NaN</td>\n",
       "      <td>WNW</td>\n",
       "      <td>44.0</td>\n",
       "      <td>NNW</td>\n",
       "      <td>WSW</td>\n",
       "      <td>4.0</td>\n",
       "      <td>22.0</td>\n",
       "      <td>44.0</td>\n",
       "      <td>25.0</td>\n",
       "      <td>1010.6</td>\n",
       "      <td>1007.8</td>\n",
       "      <td>NaN</td>\n",
       "      <td>NaN</td>\n",
       "      <td>17.2</td>\n",
       "      <td>24.3</td>\n",
       "      <td>0</td>\n",
       "      <td>0</td>\n",
       "      <td>12</td>\n",
       "    </tr>\n",
       "  </tbody>\n",
       "</table>\n",
       "</div>"
      ],
      "text/plain": [
       "  Location  MinTemp  MaxTemp  Rainfall  Evaporation  Sunshine WindGustDir  \\\n",
       "0   Albury     13.4     22.9       0.6          NaN       NaN           W   \n",
       "1   Albury      7.4     25.1       0.0          NaN       NaN         WNW   \n",
       "\n",
       "   WindGustSpeed WindDir9am WindDir3pm  WindSpeed9am  WindSpeed3pm  \\\n",
       "0           44.0          W        WNW          20.0          24.0   \n",
       "1           44.0        NNW        WSW           4.0          22.0   \n",
       "\n",
       "   Humidity9am  Humidity3pm  Pressure9am  Pressure3pm  Cloud9am  Cloud3pm  \\\n",
       "0         71.0         22.0       1007.7       1007.1       8.0       NaN   \n",
       "1         44.0         25.0       1010.6       1007.8       NaN       NaN   \n",
       "\n",
       "   Temp9am  Temp3pm  RainToday  RainTomorrow  Month  \n",
       "0     16.9     21.8          0             0     12  \n",
       "1     17.2     24.3          0             0     12  "
      ]
     },
     "execution_count": 29,
     "metadata": {},
     "output_type": "execute_result"
    }
   ],
   "source": [
    "df[\"RainToday\"]=df[\"RainToday\"].apply(lambda x:0 if x==\"No\" else 1)\n",
    "df.head(2)"
   ]
  },
  {
   "cell_type": "markdown",
   "metadata": {
    "papermill": {
     "duration": 0.048252,
     "end_time": "2020-09-21T16:34:05.140993",
     "exception": false,
     "start_time": "2020-09-21T16:34:05.092741",
     "status": "completed"
    },
    "tags": []
   },
   "source": [
    "So this is what our data looks like now:"
   ]
  },
  {
   "cell_type": "code",
   "execution_count": 30,
   "metadata": {
    "execution": {
     "iopub.execute_input": "2020-09-21T16:34:05.241602Z",
     "iopub.status.busy": "2020-09-21T16:34:05.240736Z",
     "iopub.status.idle": "2020-09-21T16:34:05.263756Z",
     "shell.execute_reply": "2020-09-21T16:34:05.263284Z"
    },
    "papermill": {
     "duration": 0.074406,
     "end_time": "2020-09-21T16:34:05.263864",
     "exception": false,
     "start_time": "2020-09-21T16:34:05.189458",
     "status": "completed"
    },
    "tags": []
   },
   "outputs": [
    {
     "data": {
      "text/html": [
       "<div>\n",
       "<style scoped>\n",
       "    .dataframe tbody tr th:only-of-type {\n",
       "        vertical-align: middle;\n",
       "    }\n",
       "\n",
       "    .dataframe tbody tr th {\n",
       "        vertical-align: top;\n",
       "    }\n",
       "\n",
       "    .dataframe thead th {\n",
       "        text-align: right;\n",
       "    }\n",
       "</style>\n",
       "<table border=\"1\" class=\"dataframe\">\n",
       "  <thead>\n",
       "    <tr style=\"text-align: right;\">\n",
       "      <th></th>\n",
       "      <th>Location</th>\n",
       "      <th>MinTemp</th>\n",
       "      <th>MaxTemp</th>\n",
       "      <th>Rainfall</th>\n",
       "      <th>Evaporation</th>\n",
       "      <th>Sunshine</th>\n",
       "      <th>WindGustDir</th>\n",
       "      <th>WindGustSpeed</th>\n",
       "      <th>WindDir9am</th>\n",
       "      <th>WindDir3pm</th>\n",
       "      <th>WindSpeed9am</th>\n",
       "      <th>WindSpeed3pm</th>\n",
       "      <th>Humidity9am</th>\n",
       "      <th>Humidity3pm</th>\n",
       "      <th>Pressure9am</th>\n",
       "      <th>Pressure3pm</th>\n",
       "      <th>Cloud9am</th>\n",
       "      <th>Cloud3pm</th>\n",
       "      <th>Temp9am</th>\n",
       "      <th>Temp3pm</th>\n",
       "      <th>RainToday</th>\n",
       "      <th>RainTomorrow</th>\n",
       "      <th>Month</th>\n",
       "    </tr>\n",
       "  </thead>\n",
       "  <tbody>\n",
       "    <tr>\n",
       "      <th>0</th>\n",
       "      <td>Albury</td>\n",
       "      <td>13.4</td>\n",
       "      <td>22.9</td>\n",
       "      <td>0.6</td>\n",
       "      <td>NaN</td>\n",
       "      <td>NaN</td>\n",
       "      <td>W</td>\n",
       "      <td>44.0</td>\n",
       "      <td>W</td>\n",
       "      <td>WNW</td>\n",
       "      <td>20.0</td>\n",
       "      <td>24.0</td>\n",
       "      <td>71.0</td>\n",
       "      <td>22.0</td>\n",
       "      <td>1007.7</td>\n",
       "      <td>1007.1</td>\n",
       "      <td>8.0</td>\n",
       "      <td>NaN</td>\n",
       "      <td>16.9</td>\n",
       "      <td>21.8</td>\n",
       "      <td>0</td>\n",
       "      <td>0</td>\n",
       "      <td>12</td>\n",
       "    </tr>\n",
       "    <tr>\n",
       "      <th>1</th>\n",
       "      <td>Albury</td>\n",
       "      <td>7.4</td>\n",
       "      <td>25.1</td>\n",
       "      <td>0.0</td>\n",
       "      <td>NaN</td>\n",
       "      <td>NaN</td>\n",
       "      <td>WNW</td>\n",
       "      <td>44.0</td>\n",
       "      <td>NNW</td>\n",
       "      <td>WSW</td>\n",
       "      <td>4.0</td>\n",
       "      <td>22.0</td>\n",
       "      <td>44.0</td>\n",
       "      <td>25.0</td>\n",
       "      <td>1010.6</td>\n",
       "      <td>1007.8</td>\n",
       "      <td>NaN</td>\n",
       "      <td>NaN</td>\n",
       "      <td>17.2</td>\n",
       "      <td>24.3</td>\n",
       "      <td>0</td>\n",
       "      <td>0</td>\n",
       "      <td>12</td>\n",
       "    </tr>\n",
       "    <tr>\n",
       "      <th>2</th>\n",
       "      <td>Albury</td>\n",
       "      <td>12.9</td>\n",
       "      <td>25.7</td>\n",
       "      <td>0.0</td>\n",
       "      <td>NaN</td>\n",
       "      <td>NaN</td>\n",
       "      <td>WSW</td>\n",
       "      <td>46.0</td>\n",
       "      <td>W</td>\n",
       "      <td>WSW</td>\n",
       "      <td>19.0</td>\n",
       "      <td>26.0</td>\n",
       "      <td>38.0</td>\n",
       "      <td>30.0</td>\n",
       "      <td>1007.6</td>\n",
       "      <td>1008.7</td>\n",
       "      <td>NaN</td>\n",
       "      <td>2.0</td>\n",
       "      <td>21.0</td>\n",
       "      <td>23.2</td>\n",
       "      <td>0</td>\n",
       "      <td>0</td>\n",
       "      <td>12</td>\n",
       "    </tr>\n",
       "    <tr>\n",
       "      <th>3</th>\n",
       "      <td>Albury</td>\n",
       "      <td>9.2</td>\n",
       "      <td>28.0</td>\n",
       "      <td>0.0</td>\n",
       "      <td>NaN</td>\n",
       "      <td>NaN</td>\n",
       "      <td>NE</td>\n",
       "      <td>24.0</td>\n",
       "      <td>SE</td>\n",
       "      <td>E</td>\n",
       "      <td>11.0</td>\n",
       "      <td>9.0</td>\n",
       "      <td>45.0</td>\n",
       "      <td>16.0</td>\n",
       "      <td>1017.6</td>\n",
       "      <td>1012.8</td>\n",
       "      <td>NaN</td>\n",
       "      <td>NaN</td>\n",
       "      <td>18.1</td>\n",
       "      <td>26.5</td>\n",
       "      <td>0</td>\n",
       "      <td>0</td>\n",
       "      <td>12</td>\n",
       "    </tr>\n",
       "    <tr>\n",
       "      <th>4</th>\n",
       "      <td>Albury</td>\n",
       "      <td>17.5</td>\n",
       "      <td>32.3</td>\n",
       "      <td>1.0</td>\n",
       "      <td>NaN</td>\n",
       "      <td>NaN</td>\n",
       "      <td>W</td>\n",
       "      <td>41.0</td>\n",
       "      <td>ENE</td>\n",
       "      <td>NW</td>\n",
       "      <td>7.0</td>\n",
       "      <td>20.0</td>\n",
       "      <td>82.0</td>\n",
       "      <td>33.0</td>\n",
       "      <td>1010.8</td>\n",
       "      <td>1006.0</td>\n",
       "      <td>7.0</td>\n",
       "      <td>8.0</td>\n",
       "      <td>17.8</td>\n",
       "      <td>29.7</td>\n",
       "      <td>0</td>\n",
       "      <td>0</td>\n",
       "      <td>12</td>\n",
       "    </tr>\n",
       "  </tbody>\n",
       "</table>\n",
       "</div>"
      ],
      "text/plain": [
       "  Location  MinTemp  MaxTemp  Rainfall  Evaporation  Sunshine WindGustDir  \\\n",
       "0   Albury     13.4     22.9       0.6          NaN       NaN           W   \n",
       "1   Albury      7.4     25.1       0.0          NaN       NaN         WNW   \n",
       "2   Albury     12.9     25.7       0.0          NaN       NaN         WSW   \n",
       "3   Albury      9.2     28.0       0.0          NaN       NaN          NE   \n",
       "4   Albury     17.5     32.3       1.0          NaN       NaN           W   \n",
       "\n",
       "   WindGustSpeed WindDir9am WindDir3pm  WindSpeed9am  WindSpeed3pm  \\\n",
       "0           44.0          W        WNW          20.0          24.0   \n",
       "1           44.0        NNW        WSW           4.0          22.0   \n",
       "2           46.0          W        WSW          19.0          26.0   \n",
       "3           24.0         SE          E          11.0           9.0   \n",
       "4           41.0        ENE         NW           7.0          20.0   \n",
       "\n",
       "   Humidity9am  Humidity3pm  Pressure9am  Pressure3pm  Cloud9am  Cloud3pm  \\\n",
       "0         71.0         22.0       1007.7       1007.1       8.0       NaN   \n",
       "1         44.0         25.0       1010.6       1007.8       NaN       NaN   \n",
       "2         38.0         30.0       1007.6       1008.7       NaN       2.0   \n",
       "3         45.0         16.0       1017.6       1012.8       NaN       NaN   \n",
       "4         82.0         33.0       1010.8       1006.0       7.0       8.0   \n",
       "\n",
       "   Temp9am  Temp3pm  RainToday  RainTomorrow  Month  \n",
       "0     16.9     21.8          0             0     12  \n",
       "1     17.2     24.3          0             0     12  \n",
       "2     21.0     23.2          0             0     12  \n",
       "3     18.1     26.5          0             0     12  \n",
       "4     17.8     29.7          0             0     12  "
      ]
     },
     "execution_count": 30,
     "metadata": {},
     "output_type": "execute_result"
    }
   ],
   "source": [
    "df.head()"
   ]
  },
  {
   "cell_type": "markdown",
   "metadata": {
    "papermill": {
     "duration": 0.048707,
     "end_time": "2020-09-21T16:34:05.368230",
     "exception": false,
     "start_time": "2020-09-21T16:34:05.319523",
     "status": "completed"
    },
    "tags": []
   },
   "source": [
    "Before we tackle the missing values or scale the data, we must first split the data into the training and testing sets to ensure we do not cause any data leakage."
   ]
  },
  {
   "cell_type": "code",
   "execution_count": 31,
   "metadata": {
    "execution": {
     "iopub.execute_input": "2020-09-21T16:34:05.476050Z",
     "iopub.status.busy": "2020-09-21T16:34:05.475494Z",
     "iopub.status.idle": "2020-09-21T16:34:05.585384Z",
     "shell.execute_reply": "2020-09-21T16:34:05.585856Z"
    },
    "papermill": {
     "duration": 0.163659,
     "end_time": "2020-09-21T16:34:05.586002",
     "exception": false,
     "start_time": "2020-09-21T16:34:05.422343",
     "status": "completed"
    },
    "tags": []
   },
   "outputs": [],
   "source": [
    "from sklearn.model_selection import train_test_split"
   ]
  },
  {
   "cell_type": "code",
   "execution_count": 32,
   "metadata": {
    "execution": {
     "iopub.execute_input": "2020-09-21T16:34:05.689383Z",
     "iopub.status.busy": "2020-09-21T16:34:05.688422Z",
     "iopub.status.idle": "2020-09-21T16:34:05.740944Z",
     "shell.execute_reply": "2020-09-21T16:34:05.740452Z"
    },
    "papermill": {
     "duration": 0.105459,
     "end_time": "2020-09-21T16:34:05.741065",
     "exception": false,
     "start_time": "2020-09-21T16:34:05.635606",
     "status": "completed"
    },
    "tags": []
   },
   "outputs": [],
   "source": [
    "x=df.drop([\"RainTomorrow\"],axis=1)\n",
    "y=df[\"RainTomorrow\"]\n",
    "\n",
    "x_train,x_test,y_train,y_test=train_test_split(x,y,test_size=0.33,random_state=7)"
   ]
  },
  {
   "cell_type": "code",
   "execution_count": 33,
   "metadata": {
    "_kg_hide-input": true,
    "execution": {
     "iopub.execute_input": "2020-09-21T16:34:05.845488Z",
     "iopub.status.busy": "2020-09-21T16:34:05.844753Z",
     "iopub.status.idle": "2020-09-21T16:34:05.848979Z",
     "shell.execute_reply": "2020-09-21T16:34:05.848297Z"
    },
    "papermill": {
     "duration": 0.057789,
     "end_time": "2020-09-21T16:34:05.849126",
     "exception": false,
     "start_time": "2020-09-21T16:34:05.791337",
     "status": "completed"
    },
    "tags": []
   },
   "outputs": [
    {
     "name": "stdout",
     "output_type": "stream",
     "text": [
      "Training set shape: (95266, 22)\n",
      "Testing set shape: (46923, 22)\n"
     ]
    }
   ],
   "source": [
    "print(\"Training set shape:\",x_train.shape)\n",
    "print(\"Testing set shape:\",x_test.shape)"
   ]
  },
  {
   "cell_type": "markdown",
   "metadata": {
    "papermill": {
     "duration": 0.049992,
     "end_time": "2020-09-21T16:34:05.949735",
     "exception": false,
     "start_time": "2020-09-21T16:34:05.899743",
     "status": "completed"
    },
    "tags": []
   },
   "source": [
    "To replace the missing values, we will compute a fill value for the numerical and categorical features based on the training set and then apply them to the testing set."
   ]
  },
  {
   "cell_type": "code",
   "execution_count": 34,
   "metadata": {
    "execution": {
     "iopub.execute_input": "2020-09-21T16:34:06.069323Z",
     "iopub.status.busy": "2020-09-21T16:34:06.068067Z",
     "iopub.status.idle": "2020-09-21T16:34:06.081593Z",
     "shell.execute_reply": "2020-09-21T16:34:06.082033Z"
    },
    "papermill": {
     "duration": 0.083097,
     "end_time": "2020-09-21T16:34:06.082172",
     "exception": false,
     "start_time": "2020-09-21T16:34:05.999075",
     "status": "completed"
    },
    "tags": []
   },
   "outputs": [
    {
     "data": {
      "text/plain": [
       "Location             0\n",
       "MinTemp            424\n",
       "MaxTemp            205\n",
       "Rainfall           975\n",
       "Evaporation      40810\n",
       "Sunshine         45397\n",
       "WindGustDir       6200\n",
       "WindGustSpeed     6161\n",
       "WindDir9am        6698\n",
       "WindDir3pm        2563\n",
       "WindSpeed9am       917\n",
       "WindSpeed3pm      1786\n",
       "Humidity9am       1192\n",
       "Humidity3pm       2428\n",
       "Pressure9am       9444\n",
       "Pressure3pm       9413\n",
       "Cloud9am         35884\n",
       "Cloud3pm         38151\n",
       "Temp9am            606\n",
       "Temp3pm           1833\n",
       "RainToday            0\n",
       "Month                0\n",
       "dtype: int64"
      ]
     },
     "execution_count": 34,
     "metadata": {},
     "output_type": "execute_result"
    }
   ],
   "source": [
    "x_train.isnull().sum()"
   ]
  },
  {
   "cell_type": "code",
   "execution_count": 35,
   "metadata": {
    "execution": {
     "iopub.execute_input": "2020-09-21T16:34:06.185322Z",
     "iopub.status.busy": "2020-09-21T16:34:06.184483Z",
     "iopub.status.idle": "2020-09-21T16:34:06.201065Z",
     "shell.execute_reply": "2020-09-21T16:34:06.201555Z"
    },
    "papermill": {
     "duration": 0.069498,
     "end_time": "2020-09-21T16:34:06.201688",
     "exception": false,
     "start_time": "2020-09-21T16:34:06.132190",
     "status": "completed"
    },
    "scrolled": false,
    "tags": []
   },
   "outputs": [
    {
     "data": {
      "text/plain": [
       "Location             0\n",
       "MinTemp            213\n",
       "MaxTemp            117\n",
       "Rainfall           431\n",
       "Evaporation      20030\n",
       "Sunshine         22417\n",
       "WindGustDir       3127\n",
       "WindGustSpeed     3106\n",
       "WindDir9am        3314\n",
       "WindDir3pm        1214\n",
       "WindSpeed9am       430\n",
       "WindSpeed3pm       843\n",
       "Humidity9am        582\n",
       "Humidity3pm       1181\n",
       "Pressure9am       4569\n",
       "Pressure3pm       4567\n",
       "Cloud9am         17773\n",
       "Cloud3pm         18942\n",
       "Temp9am            298\n",
       "Temp3pm            892\n",
       "RainToday            0\n",
       "Month                0\n",
       "dtype: int64"
      ]
     },
     "execution_count": 35,
     "metadata": {},
     "output_type": "execute_result"
    }
   ],
   "source": [
    "x_test.isnull().sum()"
   ]
  },
  {
   "cell_type": "markdown",
   "metadata": {
    "papermill": {
     "duration": 0.049848,
     "end_time": "2020-09-21T16:34:06.302647",
     "exception": false,
     "start_time": "2020-09-21T16:34:06.252799",
     "status": "completed"
    },
    "tags": []
   },
   "source": [
    "Missing values in numerical features will be filled with the median. We could in fact use the mean or a set constant instead, but because of the range and the number of outliers in the data we will use the median."
   ]
  },
  {
   "cell_type": "code",
   "execution_count": 36,
   "metadata": {
    "execution": {
     "iopub.execute_input": "2020-09-21T16:34:06.408143Z",
     "iopub.status.busy": "2020-09-21T16:34:06.407228Z",
     "iopub.status.idle": "2020-09-21T16:34:06.482390Z",
     "shell.execute_reply": "2020-09-21T16:34:06.482811Z"
    },
    "papermill": {
     "duration": 0.130448,
     "end_time": "2020-09-21T16:34:06.482961",
     "exception": false,
     "start_time": "2020-09-21T16:34:06.352513",
     "status": "completed"
    },
    "tags": []
   },
   "outputs": [],
   "source": [
    "for df in [x_train,x_test]:\n",
    "    for col in df.select_dtypes(exclude=\"object\").columns:\n",
    "        col_median=x_train[col].median()\n",
    "        df[col].fillna(col_median,inplace=True)"
   ]
  },
  {
   "cell_type": "code",
   "execution_count": 37,
   "metadata": {
    "execution": {
     "iopub.execute_input": "2020-09-21T16:34:06.587570Z",
     "iopub.status.busy": "2020-09-21T16:34:06.586693Z",
     "iopub.status.idle": "2020-09-21T16:34:06.613756Z",
     "shell.execute_reply": "2020-09-21T16:34:06.614131Z"
    },
    "papermill": {
     "duration": 0.080961,
     "end_time": "2020-09-21T16:34:06.614284",
     "exception": false,
     "start_time": "2020-09-21T16:34:06.533323",
     "status": "completed"
    },
    "tags": []
   },
   "outputs": [
    {
     "data": {
      "text/plain": [
       "Location            0\n",
       "MinTemp             0\n",
       "MaxTemp             0\n",
       "Rainfall            0\n",
       "Evaporation         0\n",
       "Sunshine            0\n",
       "WindGustDir      6200\n",
       "WindGustSpeed       0\n",
       "WindDir9am       6698\n",
       "WindDir3pm       2563\n",
       "WindSpeed9am        0\n",
       "WindSpeed3pm        0\n",
       "Humidity9am         0\n",
       "Humidity3pm         0\n",
       "Pressure9am         0\n",
       "Pressure3pm         0\n",
       "Cloud9am            0\n",
       "Cloud3pm            0\n",
       "Temp9am             0\n",
       "Temp3pm             0\n",
       "RainToday           0\n",
       "Month               0\n",
       "dtype: int64"
      ]
     },
     "execution_count": 37,
     "metadata": {},
     "output_type": "execute_result"
    }
   ],
   "source": [
    "x_train.isnull().sum()"
   ]
  },
  {
   "cell_type": "code",
   "execution_count": 38,
   "metadata": {
    "execution": {
     "iopub.execute_input": "2020-09-21T16:34:06.719511Z",
     "iopub.status.busy": "2020-09-21T16:34:06.718599Z",
     "iopub.status.idle": "2020-09-21T16:34:06.735747Z",
     "shell.execute_reply": "2020-09-21T16:34:06.736175Z"
    },
    "papermill": {
     "duration": 0.071436,
     "end_time": "2020-09-21T16:34:06.736323",
     "exception": false,
     "start_time": "2020-09-21T16:34:06.664887",
     "status": "completed"
    },
    "tags": []
   },
   "outputs": [
    {
     "data": {
      "text/plain": [
       "Location            0\n",
       "MinTemp             0\n",
       "MaxTemp             0\n",
       "Rainfall            0\n",
       "Evaporation         0\n",
       "Sunshine            0\n",
       "WindGustDir      3127\n",
       "WindGustSpeed       0\n",
       "WindDir9am       3314\n",
       "WindDir3pm       1214\n",
       "WindSpeed9am        0\n",
       "WindSpeed3pm        0\n",
       "Humidity9am         0\n",
       "Humidity3pm         0\n",
       "Pressure9am         0\n",
       "Pressure3pm         0\n",
       "Cloud9am            0\n",
       "Cloud3pm            0\n",
       "Temp9am             0\n",
       "Temp3pm             0\n",
       "RainToday           0\n",
       "Month               0\n",
       "dtype: int64"
      ]
     },
     "execution_count": 38,
     "metadata": {},
     "output_type": "execute_result"
    }
   ],
   "source": [
    "x_test.isnull().sum()"
   ]
  },
  {
   "cell_type": "markdown",
   "metadata": {
    "papermill": {
     "duration": 0.050816,
     "end_time": "2020-09-21T16:34:06.839816",
     "exception": false,
     "start_time": "2020-09-21T16:34:06.789000",
     "status": "completed"
    },
    "tags": []
   },
   "source": [
    "Missing values in categorical features will be filled with the mode."
   ]
  },
  {
   "cell_type": "code",
   "execution_count": 39,
   "metadata": {
    "execution": {
     "iopub.execute_input": "2020-09-21T16:34:06.946880Z",
     "iopub.status.busy": "2020-09-21T16:34:06.945982Z",
     "iopub.status.idle": "2020-09-21T16:34:07.027351Z",
     "shell.execute_reply": "2020-09-21T16:34:07.027766Z"
    },
    "papermill": {
     "duration": 0.136628,
     "end_time": "2020-09-21T16:34:07.027910",
     "exception": false,
     "start_time": "2020-09-21T16:34:06.891282",
     "status": "completed"
    },
    "tags": []
   },
   "outputs": [],
   "source": [
    "for df in [x_train,x_test]:\n",
    "    for col in df.select_dtypes(\"object\").columns:\n",
    "        col_mode=x_train[col].mode()[0]\n",
    "        df[col].fillna(col_mode,inplace=True)"
   ]
  },
  {
   "cell_type": "code",
   "execution_count": 40,
   "metadata": {
    "execution": {
     "iopub.execute_input": "2020-09-21T16:34:07.133154Z",
     "iopub.status.busy": "2020-09-21T16:34:07.132617Z",
     "iopub.status.idle": "2020-09-21T16:34:07.159770Z",
     "shell.execute_reply": "2020-09-21T16:34:07.160176Z"
    },
    "papermill": {
     "duration": 0.081426,
     "end_time": "2020-09-21T16:34:07.160362",
     "exception": false,
     "start_time": "2020-09-21T16:34:07.078936",
     "status": "completed"
    },
    "tags": []
   },
   "outputs": [
    {
     "data": {
      "text/plain": [
       "Location         0\n",
       "MinTemp          0\n",
       "MaxTemp          0\n",
       "Rainfall         0\n",
       "Evaporation      0\n",
       "Sunshine         0\n",
       "WindGustDir      0\n",
       "WindGustSpeed    0\n",
       "WindDir9am       0\n",
       "WindDir3pm       0\n",
       "WindSpeed9am     0\n",
       "WindSpeed3pm     0\n",
       "Humidity9am      0\n",
       "Humidity3pm      0\n",
       "Pressure9am      0\n",
       "Pressure3pm      0\n",
       "Cloud9am         0\n",
       "Cloud3pm         0\n",
       "Temp9am          0\n",
       "Temp3pm          0\n",
       "RainToday        0\n",
       "Month            0\n",
       "dtype: int64"
      ]
     },
     "execution_count": 40,
     "metadata": {},
     "output_type": "execute_result"
    }
   ],
   "source": [
    "x_train.isnull().sum()"
   ]
  },
  {
   "cell_type": "code",
   "execution_count": 41,
   "metadata": {
    "execution": {
     "iopub.execute_input": "2020-09-21T16:34:07.270689Z",
     "iopub.status.busy": "2020-09-21T16:34:07.269713Z",
     "iopub.status.idle": "2020-09-21T16:34:07.288510Z",
     "shell.execute_reply": "2020-09-21T16:34:07.287925Z"
    },
    "papermill": {
     "duration": 0.07518,
     "end_time": "2020-09-21T16:34:07.288615",
     "exception": false,
     "start_time": "2020-09-21T16:34:07.213435",
     "status": "completed"
    },
    "tags": []
   },
   "outputs": [
    {
     "data": {
      "text/plain": [
       "Location         0\n",
       "MinTemp          0\n",
       "MaxTemp          0\n",
       "Rainfall         0\n",
       "Evaporation      0\n",
       "Sunshine         0\n",
       "WindGustDir      0\n",
       "WindGustSpeed    0\n",
       "WindDir9am       0\n",
       "WindDir3pm       0\n",
       "WindSpeed9am     0\n",
       "WindSpeed3pm     0\n",
       "Humidity9am      0\n",
       "Humidity3pm      0\n",
       "Pressure9am      0\n",
       "Pressure3pm      0\n",
       "Cloud9am         0\n",
       "Cloud3pm         0\n",
       "Temp9am          0\n",
       "Temp3pm          0\n",
       "RainToday        0\n",
       "Month            0\n",
       "dtype: int64"
      ]
     },
     "execution_count": 41,
     "metadata": {},
     "output_type": "execute_result"
    }
   ],
   "source": [
    "x_test.isnull().sum()"
   ]
  },
  {
   "cell_type": "markdown",
   "metadata": {
    "papermill": {
     "duration": 0.052619,
     "end_time": "2020-09-21T16:34:07.393671",
     "exception": false,
     "start_time": "2020-09-21T16:34:07.341052",
     "status": "completed"
    },
    "tags": []
   },
   "source": [
    "Up until now the categorical features are still in text format. We will have to convert them into a format the model will be able to use it as input (i.e. numbers). We shall do so by converting the text into numbers using pd.get_dummies, concatenating the dummies to the dataframe, and then dropping the original column:"
   ]
  },
  {
   "cell_type": "code",
   "execution_count": 42,
   "metadata": {
    "execution": {
     "iopub.execute_input": "2020-09-21T16:34:07.505873Z",
     "iopub.status.busy": "2020-09-21T16:34:07.504987Z",
     "iopub.status.idle": "2020-09-21T16:34:07.675227Z",
     "shell.execute_reply": "2020-09-21T16:34:07.675708Z"
    },
    "papermill": {
     "duration": 0.229554,
     "end_time": "2020-09-21T16:34:07.675860",
     "exception": false,
     "start_time": "2020-09-21T16:34:07.446306",
     "status": "completed"
    },
    "tags": []
   },
   "outputs": [],
   "source": [
    "for col in x_train.select_dtypes(\"object\").columns:\n",
    "    x_train=pd.concat([x_train,pd.get_dummies(x_train[col],drop_first=True)],axis=1)\n",
    "    x_train.drop([col],axis=1,inplace=True)"
   ]
  },
  {
   "cell_type": "code",
   "execution_count": 43,
   "metadata": {
    "execution": {
     "iopub.execute_input": "2020-09-21T16:34:07.804063Z",
     "iopub.status.busy": "2020-09-21T16:34:07.799365Z",
     "iopub.status.idle": "2020-09-21T16:34:07.829580Z",
     "shell.execute_reply": "2020-09-21T16:34:07.829110Z"
    },
    "papermill": {
     "duration": 0.101535,
     "end_time": "2020-09-21T16:34:07.829693",
     "exception": false,
     "start_time": "2020-09-21T16:34:07.728158",
     "status": "completed"
    },
    "tags": []
   },
   "outputs": [
    {
     "data": {
      "text/html": [
       "<div>\n",
       "<style scoped>\n",
       "    .dataframe tbody tr th:only-of-type {\n",
       "        vertical-align: middle;\n",
       "    }\n",
       "\n",
       "    .dataframe tbody tr th {\n",
       "        vertical-align: top;\n",
       "    }\n",
       "\n",
       "    .dataframe thead th {\n",
       "        text-align: right;\n",
       "    }\n",
       "</style>\n",
       "<table border=\"1\" class=\"dataframe\">\n",
       "  <thead>\n",
       "    <tr style=\"text-align: right;\">\n",
       "      <th></th>\n",
       "      <th>MinTemp</th>\n",
       "      <th>MaxTemp</th>\n",
       "      <th>Rainfall</th>\n",
       "      <th>Evaporation</th>\n",
       "      <th>Sunshine</th>\n",
       "      <th>WindGustSpeed</th>\n",
       "      <th>WindSpeed9am</th>\n",
       "      <th>WindSpeed3pm</th>\n",
       "      <th>Humidity9am</th>\n",
       "      <th>Humidity3pm</th>\n",
       "      <th>Pressure9am</th>\n",
       "      <th>Pressure3pm</th>\n",
       "      <th>Cloud9am</th>\n",
       "      <th>Cloud3pm</th>\n",
       "      <th>Temp9am</th>\n",
       "      <th>Temp3pm</th>\n",
       "      <th>RainToday</th>\n",
       "      <th>Month</th>\n",
       "      <th>Albany</th>\n",
       "      <th>Albury</th>\n",
       "      <th>AliceSprings</th>\n",
       "      <th>BadgerysCreek</th>\n",
       "      <th>Ballarat</th>\n",
       "      <th>Bendigo</th>\n",
       "      <th>Brisbane</th>\n",
       "      <th>Cairns</th>\n",
       "      <th>Canberra</th>\n",
       "      <th>Cobar</th>\n",
       "      <th>CoffsHarbour</th>\n",
       "      <th>Dartmoor</th>\n",
       "      <th>Darwin</th>\n",
       "      <th>GoldCoast</th>\n",
       "      <th>Hobart</th>\n",
       "      <th>Katherine</th>\n",
       "      <th>Launceston</th>\n",
       "      <th>Melbourne</th>\n",
       "      <th>MelbourneAirport</th>\n",
       "      <th>Mildura</th>\n",
       "      <th>Moree</th>\n",
       "      <th>MountGambier</th>\n",
       "      <th>MountGinini</th>\n",
       "      <th>Newcastle</th>\n",
       "      <th>Nhil</th>\n",
       "      <th>NorahHead</th>\n",
       "      <th>NorfolkIsland</th>\n",
       "      <th>Nuriootpa</th>\n",
       "      <th>PearceRAAF</th>\n",
       "      <th>Penrith</th>\n",
       "      <th>Perth</th>\n",
       "      <th>PerthAirport</th>\n",
       "      <th>...</th>\n",
       "      <th>Watsonia</th>\n",
       "      <th>Williamtown</th>\n",
       "      <th>Witchcliffe</th>\n",
       "      <th>Wollongong</th>\n",
       "      <th>Woomera</th>\n",
       "      <th>ENE</th>\n",
       "      <th>ESE</th>\n",
       "      <th>N</th>\n",
       "      <th>NE</th>\n",
       "      <th>NNE</th>\n",
       "      <th>NNW</th>\n",
       "      <th>NW</th>\n",
       "      <th>S</th>\n",
       "      <th>SE</th>\n",
       "      <th>SSE</th>\n",
       "      <th>SSW</th>\n",
       "      <th>SW</th>\n",
       "      <th>W</th>\n",
       "      <th>WNW</th>\n",
       "      <th>WSW</th>\n",
       "      <th>ENE</th>\n",
       "      <th>ESE</th>\n",
       "      <th>N</th>\n",
       "      <th>NE</th>\n",
       "      <th>NNE</th>\n",
       "      <th>NNW</th>\n",
       "      <th>NW</th>\n",
       "      <th>S</th>\n",
       "      <th>SE</th>\n",
       "      <th>SSE</th>\n",
       "      <th>SSW</th>\n",
       "      <th>SW</th>\n",
       "      <th>W</th>\n",
       "      <th>WNW</th>\n",
       "      <th>WSW</th>\n",
       "      <th>ENE</th>\n",
       "      <th>ESE</th>\n",
       "      <th>N</th>\n",
       "      <th>NE</th>\n",
       "      <th>NNE</th>\n",
       "      <th>NNW</th>\n",
       "      <th>NW</th>\n",
       "      <th>S</th>\n",
       "      <th>SE</th>\n",
       "      <th>SSE</th>\n",
       "      <th>SSW</th>\n",
       "      <th>SW</th>\n",
       "      <th>W</th>\n",
       "      <th>WNW</th>\n",
       "      <th>WSW</th>\n",
       "    </tr>\n",
       "  </thead>\n",
       "  <tbody>\n",
       "    <tr>\n",
       "      <th>89516</th>\n",
       "      <td>17.8</td>\n",
       "      <td>27.0</td>\n",
       "      <td>1.2</td>\n",
       "      <td>4.8</td>\n",
       "      <td>8.5</td>\n",
       "      <td>33.0</td>\n",
       "      <td>17.0</td>\n",
       "      <td>19.0</td>\n",
       "      <td>66.0</td>\n",
       "      <td>61.0</td>\n",
       "      <td>1016.7</td>\n",
       "      <td>1012.8</td>\n",
       "      <td>5.0</td>\n",
       "      <td>5.0</td>\n",
       "      <td>21.9</td>\n",
       "      <td>25.3</td>\n",
       "      <td>1</td>\n",
       "      <td>10</td>\n",
       "      <td>0</td>\n",
       "      <td>0</td>\n",
       "      <td>0</td>\n",
       "      <td>0</td>\n",
       "      <td>0</td>\n",
       "      <td>0</td>\n",
       "      <td>0</td>\n",
       "      <td>0</td>\n",
       "      <td>0</td>\n",
       "      <td>0</td>\n",
       "      <td>0</td>\n",
       "      <td>0</td>\n",
       "      <td>0</td>\n",
       "      <td>1</td>\n",
       "      <td>0</td>\n",
       "      <td>0</td>\n",
       "      <td>0</td>\n",
       "      <td>0</td>\n",
       "      <td>0</td>\n",
       "      <td>0</td>\n",
       "      <td>0</td>\n",
       "      <td>0</td>\n",
       "      <td>0</td>\n",
       "      <td>0</td>\n",
       "      <td>0</td>\n",
       "      <td>0</td>\n",
       "      <td>0</td>\n",
       "      <td>0</td>\n",
       "      <td>0</td>\n",
       "      <td>0</td>\n",
       "      <td>0</td>\n",
       "      <td>0</td>\n",
       "      <td>...</td>\n",
       "      <td>0</td>\n",
       "      <td>0</td>\n",
       "      <td>0</td>\n",
       "      <td>0</td>\n",
       "      <td>0</td>\n",
       "      <td>0</td>\n",
       "      <td>0</td>\n",
       "      <td>0</td>\n",
       "      <td>0</td>\n",
       "      <td>0</td>\n",
       "      <td>0</td>\n",
       "      <td>0</td>\n",
       "      <td>0</td>\n",
       "      <td>0</td>\n",
       "      <td>0</td>\n",
       "      <td>0</td>\n",
       "      <td>0</td>\n",
       "      <td>1</td>\n",
       "      <td>0</td>\n",
       "      <td>0</td>\n",
       "      <td>0</td>\n",
       "      <td>0</td>\n",
       "      <td>0</td>\n",
       "      <td>0</td>\n",
       "      <td>0</td>\n",
       "      <td>1</td>\n",
       "      <td>0</td>\n",
       "      <td>0</td>\n",
       "      <td>0</td>\n",
       "      <td>0</td>\n",
       "      <td>0</td>\n",
       "      <td>0</td>\n",
       "      <td>0</td>\n",
       "      <td>0</td>\n",
       "      <td>0</td>\n",
       "      <td>0</td>\n",
       "      <td>0</td>\n",
       "      <td>0</td>\n",
       "      <td>0</td>\n",
       "      <td>1</td>\n",
       "      <td>0</td>\n",
       "      <td>0</td>\n",
       "      <td>0</td>\n",
       "      <td>0</td>\n",
       "      <td>0</td>\n",
       "      <td>0</td>\n",
       "      <td>0</td>\n",
       "      <td>0</td>\n",
       "      <td>0</td>\n",
       "      <td>0</td>\n",
       "    </tr>\n",
       "    <tr>\n",
       "      <th>94464</th>\n",
       "      <td>12.8</td>\n",
       "      <td>23.9</td>\n",
       "      <td>0.0</td>\n",
       "      <td>14.8</td>\n",
       "      <td>10.9</td>\n",
       "      <td>30.0</td>\n",
       "      <td>9.0</td>\n",
       "      <td>15.0</td>\n",
       "      <td>62.0</td>\n",
       "      <td>44.0</td>\n",
       "      <td>1025.0</td>\n",
       "      <td>1022.6</td>\n",
       "      <td>5.0</td>\n",
       "      <td>5.0</td>\n",
       "      <td>16.1</td>\n",
       "      <td>22.9</td>\n",
       "      <td>0</td>\n",
       "      <td>3</td>\n",
       "      <td>0</td>\n",
       "      <td>0</td>\n",
       "      <td>0</td>\n",
       "      <td>0</td>\n",
       "      <td>0</td>\n",
       "      <td>0</td>\n",
       "      <td>0</td>\n",
       "      <td>0</td>\n",
       "      <td>0</td>\n",
       "      <td>0</td>\n",
       "      <td>0</td>\n",
       "      <td>0</td>\n",
       "      <td>0</td>\n",
       "      <td>0</td>\n",
       "      <td>0</td>\n",
       "      <td>0</td>\n",
       "      <td>0</td>\n",
       "      <td>0</td>\n",
       "      <td>0</td>\n",
       "      <td>0</td>\n",
       "      <td>0</td>\n",
       "      <td>0</td>\n",
       "      <td>0</td>\n",
       "      <td>0</td>\n",
       "      <td>0</td>\n",
       "      <td>0</td>\n",
       "      <td>0</td>\n",
       "      <td>0</td>\n",
       "      <td>0</td>\n",
       "      <td>0</td>\n",
       "      <td>0</td>\n",
       "      <td>0</td>\n",
       "      <td>...</td>\n",
       "      <td>0</td>\n",
       "      <td>0</td>\n",
       "      <td>0</td>\n",
       "      <td>0</td>\n",
       "      <td>0</td>\n",
       "      <td>0</td>\n",
       "      <td>0</td>\n",
       "      <td>0</td>\n",
       "      <td>0</td>\n",
       "      <td>0</td>\n",
       "      <td>0</td>\n",
       "      <td>0</td>\n",
       "      <td>0</td>\n",
       "      <td>0</td>\n",
       "      <td>0</td>\n",
       "      <td>0</td>\n",
       "      <td>0</td>\n",
       "      <td>0</td>\n",
       "      <td>0</td>\n",
       "      <td>1</td>\n",
       "      <td>0</td>\n",
       "      <td>1</td>\n",
       "      <td>0</td>\n",
       "      <td>0</td>\n",
       "      <td>0</td>\n",
       "      <td>0</td>\n",
       "      <td>0</td>\n",
       "      <td>0</td>\n",
       "      <td>0</td>\n",
       "      <td>0</td>\n",
       "      <td>0</td>\n",
       "      <td>0</td>\n",
       "      <td>0</td>\n",
       "      <td>0</td>\n",
       "      <td>0</td>\n",
       "      <td>0</td>\n",
       "      <td>0</td>\n",
       "      <td>0</td>\n",
       "      <td>0</td>\n",
       "      <td>0</td>\n",
       "      <td>0</td>\n",
       "      <td>0</td>\n",
       "      <td>0</td>\n",
       "      <td>0</td>\n",
       "      <td>0</td>\n",
       "      <td>0</td>\n",
       "      <td>0</td>\n",
       "      <td>0</td>\n",
       "      <td>0</td>\n",
       "      <td>1</td>\n",
       "    </tr>\n",
       "  </tbody>\n",
       "</table>\n",
       "<p>2 rows × 111 columns</p>\n",
       "</div>"
      ],
      "text/plain": [
       "       MinTemp  MaxTemp  Rainfall  Evaporation  Sunshine  WindGustSpeed  \\\n",
       "89516     17.8     27.0       1.2          4.8       8.5           33.0   \n",
       "94464     12.8     23.9       0.0         14.8      10.9           30.0   \n",
       "\n",
       "       WindSpeed9am  WindSpeed3pm  Humidity9am  Humidity3pm  Pressure9am  \\\n",
       "89516          17.0          19.0         66.0         61.0       1016.7   \n",
       "94464           9.0          15.0         62.0         44.0       1025.0   \n",
       "\n",
       "       Pressure3pm  Cloud9am  Cloud3pm  Temp9am  Temp3pm  RainToday  Month  \\\n",
       "89516       1012.8       5.0       5.0     21.9     25.3          1     10   \n",
       "94464       1022.6       5.0       5.0     16.1     22.9          0      3   \n",
       "\n",
       "       Albany  Albury  AliceSprings  BadgerysCreek  Ballarat  Bendigo  \\\n",
       "89516       0       0             0              0         0        0   \n",
       "94464       0       0             0              0         0        0   \n",
       "\n",
       "       Brisbane  Cairns  Canberra  Cobar  CoffsHarbour  Dartmoor  Darwin  \\\n",
       "89516         0       0         0      0             0         0       0   \n",
       "94464         0       0         0      0             0         0       0   \n",
       "\n",
       "       GoldCoast  Hobart  Katherine  Launceston  Melbourne  MelbourneAirport  \\\n",
       "89516          1       0          0           0          0                 0   \n",
       "94464          0       0          0           0          0                 0   \n",
       "\n",
       "       Mildura  Moree  MountGambier  MountGinini  Newcastle  Nhil  NorahHead  \\\n",
       "89516        0      0             0            0          0     0          0   \n",
       "94464        0      0             0            0          0     0          0   \n",
       "\n",
       "       NorfolkIsland  Nuriootpa  PearceRAAF  Penrith  Perth  PerthAirport  \\\n",
       "89516              0          0           0        0      0             0   \n",
       "94464              0          0           0        0      0             0   \n",
       "\n",
       "       ...  Watsonia  Williamtown  Witchcliffe  Wollongong  Woomera  ENE  ESE  \\\n",
       "89516  ...         0            0            0           0        0    0    0   \n",
       "94464  ...         0            0            0           0        0    0    0   \n",
       "\n",
       "       N  NE  NNE  NNW  NW  S  SE  SSE  SSW  SW  W  WNW  WSW  ENE  ESE  N  NE  \\\n",
       "89516  0   0    0    0   0  0   0    0    0   0  1    0    0    0    0  0   0   \n",
       "94464  0   0    0    0   0  0   0    0    0   0  0    0    1    0    1  0   0   \n",
       "\n",
       "       NNE  NNW  NW  S  SE  SSE  SSW  SW  W  WNW  WSW  ENE  ESE  N  NE  NNE  \\\n",
       "89516    0    1   0  0   0    0    0   0  0    0    0    0    0  0   0    1   \n",
       "94464    0    0   0  0   0    0    0   0  0    0    0    0    0  0   0    0   \n",
       "\n",
       "       NNW  NW  S  SE  SSE  SSW  SW  W  WNW  WSW  \n",
       "89516    0   0  0   0    0    0   0  0    0    0  \n",
       "94464    0   0  0   0    0    0   0  0    0    1  \n",
       "\n",
       "[2 rows x 111 columns]"
      ]
     },
     "execution_count": 43,
     "metadata": {},
     "output_type": "execute_result"
    }
   ],
   "source": [
    "x_train.head(2)"
   ]
  },
  {
   "cell_type": "code",
   "execution_count": 44,
   "metadata": {
    "execution": {
     "iopub.execute_input": "2020-09-21T16:34:07.943369Z",
     "iopub.status.busy": "2020-09-21T16:34:07.941226Z",
     "iopub.status.idle": "2020-09-21T16:34:08.013540Z",
     "shell.execute_reply": "2020-09-21T16:34:08.012916Z"
    },
    "papermill": {
     "duration": 0.131009,
     "end_time": "2020-09-21T16:34:08.013644",
     "exception": false,
     "start_time": "2020-09-21T16:34:07.882635",
     "status": "completed"
    },
    "tags": []
   },
   "outputs": [],
   "source": [
    "for col in x_test.select_dtypes(\"object\").columns:\n",
    "    x_test=pd.concat([x_test,pd.get_dummies(x_test[col],drop_first=True)],axis=1)\n",
    "    x_test.drop([col],axis=1,inplace=True)"
   ]
  },
  {
   "cell_type": "code",
   "execution_count": 45,
   "metadata": {
    "execution": {
     "iopub.execute_input": "2020-09-21T16:34:08.136293Z",
     "iopub.status.busy": "2020-09-21T16:34:08.128909Z",
     "iopub.status.idle": "2020-09-21T16:34:08.169194Z",
     "shell.execute_reply": "2020-09-21T16:34:08.168634Z"
    },
    "papermill": {
     "duration": 0.102703,
     "end_time": "2020-09-21T16:34:08.169323",
     "exception": false,
     "start_time": "2020-09-21T16:34:08.066620",
     "status": "completed"
    },
    "tags": []
   },
   "outputs": [
    {
     "data": {
      "text/html": [
       "<div>\n",
       "<style scoped>\n",
       "    .dataframe tbody tr th:only-of-type {\n",
       "        vertical-align: middle;\n",
       "    }\n",
       "\n",
       "    .dataframe tbody tr th {\n",
       "        vertical-align: top;\n",
       "    }\n",
       "\n",
       "    .dataframe thead th {\n",
       "        text-align: right;\n",
       "    }\n",
       "</style>\n",
       "<table border=\"1\" class=\"dataframe\">\n",
       "  <thead>\n",
       "    <tr style=\"text-align: right;\">\n",
       "      <th></th>\n",
       "      <th>MinTemp</th>\n",
       "      <th>MaxTemp</th>\n",
       "      <th>Rainfall</th>\n",
       "      <th>Evaporation</th>\n",
       "      <th>Sunshine</th>\n",
       "      <th>WindGustSpeed</th>\n",
       "      <th>WindSpeed9am</th>\n",
       "      <th>WindSpeed3pm</th>\n",
       "      <th>Humidity9am</th>\n",
       "      <th>Humidity3pm</th>\n",
       "      <th>Pressure9am</th>\n",
       "      <th>Pressure3pm</th>\n",
       "      <th>Cloud9am</th>\n",
       "      <th>Cloud3pm</th>\n",
       "      <th>Temp9am</th>\n",
       "      <th>Temp3pm</th>\n",
       "      <th>RainToday</th>\n",
       "      <th>Month</th>\n",
       "      <th>Albany</th>\n",
       "      <th>Albury</th>\n",
       "      <th>AliceSprings</th>\n",
       "      <th>BadgerysCreek</th>\n",
       "      <th>Ballarat</th>\n",
       "      <th>Bendigo</th>\n",
       "      <th>Brisbane</th>\n",
       "      <th>Cairns</th>\n",
       "      <th>Canberra</th>\n",
       "      <th>Cobar</th>\n",
       "      <th>CoffsHarbour</th>\n",
       "      <th>Dartmoor</th>\n",
       "      <th>Darwin</th>\n",
       "      <th>GoldCoast</th>\n",
       "      <th>Hobart</th>\n",
       "      <th>Katherine</th>\n",
       "      <th>Launceston</th>\n",
       "      <th>Melbourne</th>\n",
       "      <th>MelbourneAirport</th>\n",
       "      <th>Mildura</th>\n",
       "      <th>Moree</th>\n",
       "      <th>MountGambier</th>\n",
       "      <th>MountGinini</th>\n",
       "      <th>Newcastle</th>\n",
       "      <th>Nhil</th>\n",
       "      <th>NorahHead</th>\n",
       "      <th>NorfolkIsland</th>\n",
       "      <th>Nuriootpa</th>\n",
       "      <th>PearceRAAF</th>\n",
       "      <th>Penrith</th>\n",
       "      <th>Perth</th>\n",
       "      <th>PerthAirport</th>\n",
       "      <th>...</th>\n",
       "      <th>Watsonia</th>\n",
       "      <th>Williamtown</th>\n",
       "      <th>Witchcliffe</th>\n",
       "      <th>Wollongong</th>\n",
       "      <th>Woomera</th>\n",
       "      <th>ENE</th>\n",
       "      <th>ESE</th>\n",
       "      <th>N</th>\n",
       "      <th>NE</th>\n",
       "      <th>NNE</th>\n",
       "      <th>NNW</th>\n",
       "      <th>NW</th>\n",
       "      <th>S</th>\n",
       "      <th>SE</th>\n",
       "      <th>SSE</th>\n",
       "      <th>SSW</th>\n",
       "      <th>SW</th>\n",
       "      <th>W</th>\n",
       "      <th>WNW</th>\n",
       "      <th>WSW</th>\n",
       "      <th>ENE</th>\n",
       "      <th>ESE</th>\n",
       "      <th>N</th>\n",
       "      <th>NE</th>\n",
       "      <th>NNE</th>\n",
       "      <th>NNW</th>\n",
       "      <th>NW</th>\n",
       "      <th>S</th>\n",
       "      <th>SE</th>\n",
       "      <th>SSE</th>\n",
       "      <th>SSW</th>\n",
       "      <th>SW</th>\n",
       "      <th>W</th>\n",
       "      <th>WNW</th>\n",
       "      <th>WSW</th>\n",
       "      <th>ENE</th>\n",
       "      <th>ESE</th>\n",
       "      <th>N</th>\n",
       "      <th>NE</th>\n",
       "      <th>NNE</th>\n",
       "      <th>NNW</th>\n",
       "      <th>NW</th>\n",
       "      <th>S</th>\n",
       "      <th>SE</th>\n",
       "      <th>SSE</th>\n",
       "      <th>SSW</th>\n",
       "      <th>SW</th>\n",
       "      <th>W</th>\n",
       "      <th>WNW</th>\n",
       "      <th>WSW</th>\n",
       "    </tr>\n",
       "  </thead>\n",
       "  <tbody>\n",
       "    <tr>\n",
       "      <th>91327</th>\n",
       "      <td>22.4</td>\n",
       "      <td>26.0</td>\n",
       "      <td>0.4</td>\n",
       "      <td>5.8</td>\n",
       "      <td>0.1</td>\n",
       "      <td>31.0</td>\n",
       "      <td>13.0</td>\n",
       "      <td>20.0</td>\n",
       "      <td>86.0</td>\n",
       "      <td>67.0</td>\n",
       "      <td>1014.9</td>\n",
       "      <td>1013.2</td>\n",
       "      <td>8.0</td>\n",
       "      <td>8.0</td>\n",
       "      <td>22.8</td>\n",
       "      <td>25.6</td>\n",
       "      <td>0</td>\n",
       "      <td>4</td>\n",
       "      <td>0</td>\n",
       "      <td>0</td>\n",
       "      <td>0</td>\n",
       "      <td>0</td>\n",
       "      <td>0</td>\n",
       "      <td>0</td>\n",
       "      <td>0</td>\n",
       "      <td>0</td>\n",
       "      <td>0</td>\n",
       "      <td>0</td>\n",
       "      <td>0</td>\n",
       "      <td>0</td>\n",
       "      <td>0</td>\n",
       "      <td>0</td>\n",
       "      <td>0</td>\n",
       "      <td>0</td>\n",
       "      <td>0</td>\n",
       "      <td>0</td>\n",
       "      <td>0</td>\n",
       "      <td>0</td>\n",
       "      <td>0</td>\n",
       "      <td>0</td>\n",
       "      <td>0</td>\n",
       "      <td>0</td>\n",
       "      <td>0</td>\n",
       "      <td>0</td>\n",
       "      <td>0</td>\n",
       "      <td>0</td>\n",
       "      <td>0</td>\n",
       "      <td>0</td>\n",
       "      <td>0</td>\n",
       "      <td>0</td>\n",
       "      <td>...</td>\n",
       "      <td>0</td>\n",
       "      <td>0</td>\n",
       "      <td>0</td>\n",
       "      <td>0</td>\n",
       "      <td>0</td>\n",
       "      <td>0</td>\n",
       "      <td>0</td>\n",
       "      <td>0</td>\n",
       "      <td>0</td>\n",
       "      <td>0</td>\n",
       "      <td>0</td>\n",
       "      <td>0</td>\n",
       "      <td>0</td>\n",
       "      <td>1</td>\n",
       "      <td>0</td>\n",
       "      <td>0</td>\n",
       "      <td>0</td>\n",
       "      <td>0</td>\n",
       "      <td>0</td>\n",
       "      <td>0</td>\n",
       "      <td>0</td>\n",
       "      <td>0</td>\n",
       "      <td>0</td>\n",
       "      <td>0</td>\n",
       "      <td>0</td>\n",
       "      <td>0</td>\n",
       "      <td>0</td>\n",
       "      <td>0</td>\n",
       "      <td>0</td>\n",
       "      <td>1</td>\n",
       "      <td>0</td>\n",
       "      <td>0</td>\n",
       "      <td>0</td>\n",
       "      <td>0</td>\n",
       "      <td>0</td>\n",
       "      <td>0</td>\n",
       "      <td>0</td>\n",
       "      <td>0</td>\n",
       "      <td>0</td>\n",
       "      <td>0</td>\n",
       "      <td>0</td>\n",
       "      <td>0</td>\n",
       "      <td>0</td>\n",
       "      <td>0</td>\n",
       "      <td>1</td>\n",
       "      <td>0</td>\n",
       "      <td>0</td>\n",
       "      <td>0</td>\n",
       "      <td>0</td>\n",
       "      <td>0</td>\n",
       "    </tr>\n",
       "    <tr>\n",
       "      <th>79727</th>\n",
       "      <td>8.7</td>\n",
       "      <td>26.4</td>\n",
       "      <td>0.0</td>\n",
       "      <td>8.0</td>\n",
       "      <td>13.6</td>\n",
       "      <td>31.0</td>\n",
       "      <td>13.0</td>\n",
       "      <td>11.0</td>\n",
       "      <td>74.0</td>\n",
       "      <td>36.0</td>\n",
       "      <td>1017.3</td>\n",
       "      <td>1013.9</td>\n",
       "      <td>5.0</td>\n",
       "      <td>5.0</td>\n",
       "      <td>14.5</td>\n",
       "      <td>25.4</td>\n",
       "      <td>0</td>\n",
       "      <td>12</td>\n",
       "      <td>0</td>\n",
       "      <td>0</td>\n",
       "      <td>0</td>\n",
       "      <td>0</td>\n",
       "      <td>0</td>\n",
       "      <td>0</td>\n",
       "      <td>0</td>\n",
       "      <td>0</td>\n",
       "      <td>0</td>\n",
       "      <td>0</td>\n",
       "      <td>0</td>\n",
       "      <td>1</td>\n",
       "      <td>0</td>\n",
       "      <td>0</td>\n",
       "      <td>0</td>\n",
       "      <td>0</td>\n",
       "      <td>0</td>\n",
       "      <td>0</td>\n",
       "      <td>0</td>\n",
       "      <td>0</td>\n",
       "      <td>0</td>\n",
       "      <td>0</td>\n",
       "      <td>0</td>\n",
       "      <td>0</td>\n",
       "      <td>0</td>\n",
       "      <td>0</td>\n",
       "      <td>0</td>\n",
       "      <td>0</td>\n",
       "      <td>0</td>\n",
       "      <td>0</td>\n",
       "      <td>0</td>\n",
       "      <td>0</td>\n",
       "      <td>...</td>\n",
       "      <td>0</td>\n",
       "      <td>0</td>\n",
       "      <td>0</td>\n",
       "      <td>0</td>\n",
       "      <td>0</td>\n",
       "      <td>0</td>\n",
       "      <td>0</td>\n",
       "      <td>0</td>\n",
       "      <td>0</td>\n",
       "      <td>0</td>\n",
       "      <td>0</td>\n",
       "      <td>0</td>\n",
       "      <td>0</td>\n",
       "      <td>0</td>\n",
       "      <td>0</td>\n",
       "      <td>0</td>\n",
       "      <td>1</td>\n",
       "      <td>0</td>\n",
       "      <td>0</td>\n",
       "      <td>0</td>\n",
       "      <td>1</td>\n",
       "      <td>0</td>\n",
       "      <td>0</td>\n",
       "      <td>0</td>\n",
       "      <td>0</td>\n",
       "      <td>0</td>\n",
       "      <td>0</td>\n",
       "      <td>0</td>\n",
       "      <td>0</td>\n",
       "      <td>0</td>\n",
       "      <td>0</td>\n",
       "      <td>0</td>\n",
       "      <td>0</td>\n",
       "      <td>0</td>\n",
       "      <td>0</td>\n",
       "      <td>0</td>\n",
       "      <td>0</td>\n",
       "      <td>0</td>\n",
       "      <td>0</td>\n",
       "      <td>0</td>\n",
       "      <td>0</td>\n",
       "      <td>0</td>\n",
       "      <td>0</td>\n",
       "      <td>0</td>\n",
       "      <td>0</td>\n",
       "      <td>0</td>\n",
       "      <td>1</td>\n",
       "      <td>0</td>\n",
       "      <td>0</td>\n",
       "      <td>0</td>\n",
       "    </tr>\n",
       "  </tbody>\n",
       "</table>\n",
       "<p>2 rows × 111 columns</p>\n",
       "</div>"
      ],
      "text/plain": [
       "       MinTemp  MaxTemp  Rainfall  Evaporation  Sunshine  WindGustSpeed  \\\n",
       "91327     22.4     26.0       0.4          5.8       0.1           31.0   \n",
       "79727      8.7     26.4       0.0          8.0      13.6           31.0   \n",
       "\n",
       "       WindSpeed9am  WindSpeed3pm  Humidity9am  Humidity3pm  Pressure9am  \\\n",
       "91327          13.0          20.0         86.0         67.0       1014.9   \n",
       "79727          13.0          11.0         74.0         36.0       1017.3   \n",
       "\n",
       "       Pressure3pm  Cloud9am  Cloud3pm  Temp9am  Temp3pm  RainToday  Month  \\\n",
       "91327       1013.2       8.0       8.0     22.8     25.6          0      4   \n",
       "79727       1013.9       5.0       5.0     14.5     25.4          0     12   \n",
       "\n",
       "       Albany  Albury  AliceSprings  BadgerysCreek  Ballarat  Bendigo  \\\n",
       "91327       0       0             0              0         0        0   \n",
       "79727       0       0             0              0         0        0   \n",
       "\n",
       "       Brisbane  Cairns  Canberra  Cobar  CoffsHarbour  Dartmoor  Darwin  \\\n",
       "91327         0       0         0      0             0         0       0   \n",
       "79727         0       0         0      0             0         1       0   \n",
       "\n",
       "       GoldCoast  Hobart  Katherine  Launceston  Melbourne  MelbourneAirport  \\\n",
       "91327          0       0          0           0          0                 0   \n",
       "79727          0       0          0           0          0                 0   \n",
       "\n",
       "       Mildura  Moree  MountGambier  MountGinini  Newcastle  Nhil  NorahHead  \\\n",
       "91327        0      0             0            0          0     0          0   \n",
       "79727        0      0             0            0          0     0          0   \n",
       "\n",
       "       NorfolkIsland  Nuriootpa  PearceRAAF  Penrith  Perth  PerthAirport  \\\n",
       "91327              0          0           0        0      0             0   \n",
       "79727              0          0           0        0      0             0   \n",
       "\n",
       "       ...  Watsonia  Williamtown  Witchcliffe  Wollongong  Woomera  ENE  ESE  \\\n",
       "91327  ...         0            0            0           0        0    0    0   \n",
       "79727  ...         0            0            0           0        0    0    0   \n",
       "\n",
       "       N  NE  NNE  NNW  NW  S  SE  SSE  SSW  SW  W  WNW  WSW  ENE  ESE  N  NE  \\\n",
       "91327  0   0    0    0   0  0   1    0    0   0  0    0    0    0    0  0   0   \n",
       "79727  0   0    0    0   0  0   0    0    0   1  0    0    0    1    0  0   0   \n",
       "\n",
       "       NNE  NNW  NW  S  SE  SSE  SSW  SW  W  WNW  WSW  ENE  ESE  N  NE  NNE  \\\n",
       "91327    0    0   0  0   0    1    0   0  0    0    0    0    0  0   0    0   \n",
       "79727    0    0   0  0   0    0    0   0  0    0    0    0    0  0   0    0   \n",
       "\n",
       "       NNW  NW  S  SE  SSE  SSW  SW  W  WNW  WSW  \n",
       "91327    0   0  0   0    1    0   0  0    0    0  \n",
       "79727    0   0  0   0    0    0   1  0    0    0  \n",
       "\n",
       "[2 rows x 111 columns]"
      ]
     },
     "execution_count": 45,
     "metadata": {},
     "output_type": "execute_result"
    }
   ],
   "source": [
    "x_test.head(2)"
   ]
  },
  {
   "cell_type": "markdown",
   "metadata": {
    "papermill": {
     "duration": 0.054489,
     "end_time": "2020-09-21T16:34:08.278243",
     "exception": false,
     "start_time": "2020-09-21T16:34:08.223754",
     "status": "completed"
    },
    "tags": []
   },
   "source": [
    "Since each feature has it's own range of values, we will scale the data (again, only based on the training set and then applied to the testing set):"
   ]
  },
  {
   "cell_type": "code",
   "execution_count": 46,
   "metadata": {
    "execution": {
     "iopub.execute_input": "2020-09-21T16:34:08.392883Z",
     "iopub.status.busy": "2020-09-21T16:34:08.392277Z",
     "iopub.status.idle": "2020-09-21T16:34:08.394733Z",
     "shell.execute_reply": "2020-09-21T16:34:08.395132Z"
    },
    "papermill": {
     "duration": 0.062738,
     "end_time": "2020-09-21T16:34:08.395303",
     "exception": false,
     "start_time": "2020-09-21T16:34:08.332565",
     "status": "completed"
    },
    "tags": []
   },
   "outputs": [],
   "source": [
    "from sklearn.preprocessing import StandardScaler"
   ]
  },
  {
   "cell_type": "code",
   "execution_count": 47,
   "metadata": {
    "execution": {
     "iopub.execute_input": "2020-09-21T16:34:08.507822Z",
     "iopub.status.busy": "2020-09-21T16:34:08.507191Z",
     "iopub.status.idle": "2020-09-21T16:34:08.818983Z",
     "shell.execute_reply": "2020-09-21T16:34:08.819486Z"
    },
    "papermill": {
     "duration": 0.369906,
     "end_time": "2020-09-21T16:34:08.819622",
     "exception": false,
     "start_time": "2020-09-21T16:34:08.449716",
     "status": "completed"
    },
    "tags": []
   },
   "outputs": [],
   "source": [
    "scaler=StandardScaler()\n",
    "\n",
    "x_train=pd.DataFrame(scaler.fit_transform(x_train),columns=x_train.columns)\n",
    "x_test=pd.DataFrame(scaler.transform(x_test),columns=x_test.columns)"
   ]
  },
  {
   "cell_type": "code",
   "execution_count": 48,
   "metadata": {
    "execution": {
     "iopub.execute_input": "2020-09-21T16:34:08.931582Z",
     "iopub.status.busy": "2020-09-21T16:34:08.930686Z",
     "iopub.status.idle": "2020-09-21T16:34:08.991359Z",
     "shell.execute_reply": "2020-09-21T16:34:08.991845Z"
    },
    "papermill": {
     "duration": 0.118773,
     "end_time": "2020-09-21T16:34:08.991982",
     "exception": false,
     "start_time": "2020-09-21T16:34:08.873209",
     "status": "completed"
    },
    "tags": []
   },
   "outputs": [
    {
     "data": {
      "text/html": [
       "<div>\n",
       "<style scoped>\n",
       "    .dataframe tbody tr th:only-of-type {\n",
       "        vertical-align: middle;\n",
       "    }\n",
       "\n",
       "    .dataframe tbody tr th {\n",
       "        vertical-align: top;\n",
       "    }\n",
       "\n",
       "    .dataframe thead th {\n",
       "        text-align: right;\n",
       "    }\n",
       "</style>\n",
       "<table border=\"1\" class=\"dataframe\">\n",
       "  <thead>\n",
       "    <tr style=\"text-align: right;\">\n",
       "      <th></th>\n",
       "      <th>MinTemp</th>\n",
       "      <th>MaxTemp</th>\n",
       "      <th>Rainfall</th>\n",
       "      <th>Evaporation</th>\n",
       "      <th>Sunshine</th>\n",
       "      <th>WindGustSpeed</th>\n",
       "      <th>WindSpeed9am</th>\n",
       "      <th>WindSpeed3pm</th>\n",
       "      <th>Humidity9am</th>\n",
       "      <th>Humidity3pm</th>\n",
       "      <th>Pressure9am</th>\n",
       "      <th>Pressure3pm</th>\n",
       "      <th>Cloud9am</th>\n",
       "      <th>Cloud3pm</th>\n",
       "      <th>Temp9am</th>\n",
       "      <th>Temp3pm</th>\n",
       "      <th>RainToday</th>\n",
       "      <th>Month</th>\n",
       "      <th>Albany</th>\n",
       "      <th>Albury</th>\n",
       "      <th>AliceSprings</th>\n",
       "      <th>BadgerysCreek</th>\n",
       "      <th>Ballarat</th>\n",
       "      <th>Bendigo</th>\n",
       "      <th>Brisbane</th>\n",
       "      <th>Cairns</th>\n",
       "      <th>Canberra</th>\n",
       "      <th>Cobar</th>\n",
       "      <th>CoffsHarbour</th>\n",
       "      <th>Dartmoor</th>\n",
       "      <th>Darwin</th>\n",
       "      <th>GoldCoast</th>\n",
       "      <th>Hobart</th>\n",
       "      <th>Katherine</th>\n",
       "      <th>Launceston</th>\n",
       "      <th>Melbourne</th>\n",
       "      <th>MelbourneAirport</th>\n",
       "      <th>Mildura</th>\n",
       "      <th>Moree</th>\n",
       "      <th>MountGambier</th>\n",
       "      <th>MountGinini</th>\n",
       "      <th>Newcastle</th>\n",
       "      <th>Nhil</th>\n",
       "      <th>NorahHead</th>\n",
       "      <th>NorfolkIsland</th>\n",
       "      <th>Nuriootpa</th>\n",
       "      <th>PearceRAAF</th>\n",
       "      <th>Penrith</th>\n",
       "      <th>Perth</th>\n",
       "      <th>PerthAirport</th>\n",
       "      <th>...</th>\n",
       "      <th>Watsonia</th>\n",
       "      <th>Williamtown</th>\n",
       "      <th>Witchcliffe</th>\n",
       "      <th>Wollongong</th>\n",
       "      <th>Woomera</th>\n",
       "      <th>ENE</th>\n",
       "      <th>ESE</th>\n",
       "      <th>N</th>\n",
       "      <th>NE</th>\n",
       "      <th>NNE</th>\n",
       "      <th>NNW</th>\n",
       "      <th>NW</th>\n",
       "      <th>S</th>\n",
       "      <th>SE</th>\n",
       "      <th>SSE</th>\n",
       "      <th>SSW</th>\n",
       "      <th>SW</th>\n",
       "      <th>W</th>\n",
       "      <th>WNW</th>\n",
       "      <th>WSW</th>\n",
       "      <th>ENE</th>\n",
       "      <th>ESE</th>\n",
       "      <th>N</th>\n",
       "      <th>NE</th>\n",
       "      <th>NNE</th>\n",
       "      <th>NNW</th>\n",
       "      <th>NW</th>\n",
       "      <th>S</th>\n",
       "      <th>SE</th>\n",
       "      <th>SSE</th>\n",
       "      <th>SSW</th>\n",
       "      <th>SW</th>\n",
       "      <th>W</th>\n",
       "      <th>WNW</th>\n",
       "      <th>WSW</th>\n",
       "      <th>ENE</th>\n",
       "      <th>ESE</th>\n",
       "      <th>N</th>\n",
       "      <th>NE</th>\n",
       "      <th>NNE</th>\n",
       "      <th>NNW</th>\n",
       "      <th>NW</th>\n",
       "      <th>S</th>\n",
       "      <th>SE</th>\n",
       "      <th>SSE</th>\n",
       "      <th>SSW</th>\n",
       "      <th>SW</th>\n",
       "      <th>W</th>\n",
       "      <th>WNW</th>\n",
       "      <th>WSW</th>\n",
       "    </tr>\n",
       "  </thead>\n",
       "  <tbody>\n",
       "    <tr>\n",
       "      <th>0</th>\n",
       "      <td>0.881124</td>\n",
       "      <td>0.534272</td>\n",
       "      <td>-0.135755</td>\n",
       "      <td>-0.119948</td>\n",
       "      <td>0.165556</td>\n",
       "      <td>-0.527486</td>\n",
       "      <td>0.341781</td>\n",
       "      <td>0.040256</td>\n",
       "      <td>-0.151261</td>\n",
       "      <td>0.461316</td>\n",
       "      <td>-0.139924</td>\n",
       "      <td>-0.367417</td>\n",
       "      <td>0.15219</td>\n",
       "      <td>0.138393</td>\n",
       "      <td>0.761805</td>\n",
       "      <td>0.531305</td>\n",
       "      <td>1.821996</td>\n",
       "      <td>1.052027</td>\n",
       "      <td>-0.146699</td>\n",
       "      <td>-0.148075</td>\n",
       "      <td>-0.14826</td>\n",
       "      <td>-0.144784</td>\n",
       "      <td>-0.147741</td>\n",
       "      <td>-0.148777</td>\n",
       "      <td>-0.150755</td>\n",
       "      <td>-0.146923</td>\n",
       "      <td>-0.157535</td>\n",
       "      <td>-0.145988</td>\n",
       "      <td>-0.145086</td>\n",
       "      <td>-0.144633</td>\n",
       "      <td>-0.152746</td>\n",
       "      <td>6.892468</td>\n",
       "      <td>-0.1513</td>\n",
       "      <td>-0.103774</td>\n",
       "      <td>-0.147667</td>\n",
       "      <td>-0.133332</td>\n",
       "      <td>-0.146998</td>\n",
       "      <td>-0.147667</td>\n",
       "      <td>-0.140493</td>\n",
       "      <td>-0.147964</td>\n",
       "      <td>-0.144935</td>\n",
       "      <td>-0.145086</td>\n",
       "      <td>-0.104905</td>\n",
       "      <td>-0.14655</td>\n",
       "      <td>-0.145199</td>\n",
       "      <td>-0.146363</td>\n",
       "      <td>-0.141152</td>\n",
       "      <td>-0.145988</td>\n",
       "      <td>-0.151155</td>\n",
       "      <td>-0.147147</td>\n",
       "      <td>...</td>\n",
       "      <td>-0.147741</td>\n",
       "      <td>-0.133536</td>\n",
       "      <td>-0.145387</td>\n",
       "      <td>-0.147593</td>\n",
       "      <td>-0.147964</td>\n",
       "      <td>-0.242983</td>\n",
       "      <td>-0.232309</td>\n",
       "      <td>-0.259627</td>\n",
       "      <td>-0.228647</td>\n",
       "      <td>-0.219764</td>\n",
       "      <td>-0.217603</td>\n",
       "      <td>-0.244288</td>\n",
       "      <td>-0.258497</td>\n",
       "      <td>-0.265565</td>\n",
       "      <td>-0.258751</td>\n",
       "      <td>-0.255176</td>\n",
       "      <td>-0.257339</td>\n",
       "      <td>2.539156</td>\n",
       "      <td>-0.24614</td>\n",
       "      <td>-0.257872</td>\n",
       "      <td>-0.240282</td>\n",
       "      <td>-0.238493</td>\n",
       "      <td>-0.420362</td>\n",
       "      <td>-0.236421</td>\n",
       "      <td>-0.242837</td>\n",
       "      <td>4.162200</td>\n",
       "      <td>-0.25161</td>\n",
       "      <td>-0.253515</td>\n",
       "      <td>-0.262471</td>\n",
       "      <td>-0.26034</td>\n",
       "      <td>-0.23291</td>\n",
       "      <td>-0.248387</td>\n",
       "      <td>-0.249718</td>\n",
       "      <td>-0.232108</td>\n",
       "      <td>-0.225683</td>\n",
       "      <td>-0.239107</td>\n",
       "      <td>-0.250074</td>\n",
       "      <td>-0.252882</td>\n",
       "      <td>-0.247839</td>\n",
       "      <td>4.581065</td>\n",
       "      <td>-0.239156</td>\n",
       "      <td>-0.251209</td>\n",
       "      <td>-0.269552</td>\n",
       "      <td>-0.336249</td>\n",
       "      <td>-0.262608</td>\n",
       "      <td>-0.244674</td>\n",
       "      <td>-0.263338</td>\n",
       "      <td>-0.274714</td>\n",
       "      <td>-0.254195</td>\n",
       "      <td>-0.265270</td>\n",
       "    </tr>\n",
       "    <tr>\n",
       "      <th>1</th>\n",
       "      <td>0.098308</td>\n",
       "      <td>0.098202</td>\n",
       "      <td>-0.281787</td>\n",
       "      <td>3.015136</td>\n",
       "      <td>1.031460</td>\n",
       "      <td>-0.755675</td>\n",
       "      <td>-0.564759</td>\n",
       "      <td>-0.418341</td>\n",
       "      <td>-0.362233</td>\n",
       "      <td>-0.366792</td>\n",
       "      <td>1.089010</td>\n",
       "      <td>1.098977</td>\n",
       "      <td>0.15219</td>\n",
       "      <td>0.138393</td>\n",
       "      <td>-0.133968</td>\n",
       "      <td>0.181787</td>\n",
       "      <td>-0.548849</td>\n",
       "      <td>-0.993269</td>\n",
       "      <td>-0.146699</td>\n",
       "      <td>-0.148075</td>\n",
       "      <td>-0.14826</td>\n",
       "      <td>-0.144784</td>\n",
       "      <td>-0.147741</td>\n",
       "      <td>-0.148777</td>\n",
       "      <td>-0.150755</td>\n",
       "      <td>-0.146923</td>\n",
       "      <td>-0.157535</td>\n",
       "      <td>-0.145988</td>\n",
       "      <td>-0.145086</td>\n",
       "      <td>-0.144633</td>\n",
       "      <td>-0.152746</td>\n",
       "      <td>-0.145086</td>\n",
       "      <td>-0.1513</td>\n",
       "      <td>-0.103774</td>\n",
       "      <td>-0.147667</td>\n",
       "      <td>-0.133332</td>\n",
       "      <td>-0.146998</td>\n",
       "      <td>-0.147667</td>\n",
       "      <td>-0.140493</td>\n",
       "      <td>-0.147964</td>\n",
       "      <td>-0.144935</td>\n",
       "      <td>-0.145086</td>\n",
       "      <td>-0.104905</td>\n",
       "      <td>-0.14655</td>\n",
       "      <td>-0.145199</td>\n",
       "      <td>-0.146363</td>\n",
       "      <td>-0.141152</td>\n",
       "      <td>-0.145988</td>\n",
       "      <td>-0.151155</td>\n",
       "      <td>-0.147147</td>\n",
       "      <td>...</td>\n",
       "      <td>-0.147741</td>\n",
       "      <td>-0.133536</td>\n",
       "      <td>-0.145387</td>\n",
       "      <td>-0.147593</td>\n",
       "      <td>-0.147964</td>\n",
       "      <td>-0.242983</td>\n",
       "      <td>-0.232309</td>\n",
       "      <td>-0.259627</td>\n",
       "      <td>-0.228647</td>\n",
       "      <td>-0.219764</td>\n",
       "      <td>-0.217603</td>\n",
       "      <td>-0.244288</td>\n",
       "      <td>-0.258497</td>\n",
       "      <td>-0.265565</td>\n",
       "      <td>-0.258751</td>\n",
       "      <td>-0.255176</td>\n",
       "      <td>-0.257339</td>\n",
       "      <td>-0.393832</td>\n",
       "      <td>-0.24614</td>\n",
       "      <td>3.877892</td>\n",
       "      <td>-0.240282</td>\n",
       "      <td>4.192999</td>\n",
       "      <td>-0.420362</td>\n",
       "      <td>-0.236421</td>\n",
       "      <td>-0.242837</td>\n",
       "      <td>-0.240258</td>\n",
       "      <td>-0.25161</td>\n",
       "      <td>-0.253515</td>\n",
       "      <td>-0.262471</td>\n",
       "      <td>-0.26034</td>\n",
       "      <td>-0.23291</td>\n",
       "      <td>-0.248387</td>\n",
       "      <td>-0.249718</td>\n",
       "      <td>-0.232108</td>\n",
       "      <td>-0.225683</td>\n",
       "      <td>-0.239107</td>\n",
       "      <td>-0.250074</td>\n",
       "      <td>-0.252882</td>\n",
       "      <td>-0.247839</td>\n",
       "      <td>-0.218290</td>\n",
       "      <td>-0.239156</td>\n",
       "      <td>-0.251209</td>\n",
       "      <td>-0.269552</td>\n",
       "      <td>-0.336249</td>\n",
       "      <td>-0.262608</td>\n",
       "      <td>-0.244674</td>\n",
       "      <td>-0.263338</td>\n",
       "      <td>-0.274714</td>\n",
       "      <td>-0.254195</td>\n",
       "      <td>3.769738</td>\n",
       "    </tr>\n",
       "  </tbody>\n",
       "</table>\n",
       "<p>2 rows × 111 columns</p>\n",
       "</div>"
      ],
      "text/plain": [
       "    MinTemp   MaxTemp  Rainfall  Evaporation  Sunshine  WindGustSpeed  \\\n",
       "0  0.881124  0.534272 -0.135755    -0.119948  0.165556      -0.527486   \n",
       "1  0.098308  0.098202 -0.281787     3.015136  1.031460      -0.755675   \n",
       "\n",
       "   WindSpeed9am  WindSpeed3pm  Humidity9am  Humidity3pm  Pressure9am  \\\n",
       "0      0.341781      0.040256    -0.151261     0.461316    -0.139924   \n",
       "1     -0.564759     -0.418341    -0.362233    -0.366792     1.089010   \n",
       "\n",
       "   Pressure3pm  Cloud9am  Cloud3pm   Temp9am   Temp3pm  RainToday     Month  \\\n",
       "0    -0.367417   0.15219  0.138393  0.761805  0.531305   1.821996  1.052027   \n",
       "1     1.098977   0.15219  0.138393 -0.133968  0.181787  -0.548849 -0.993269   \n",
       "\n",
       "     Albany    Albury  AliceSprings  BadgerysCreek  Ballarat   Bendigo  \\\n",
       "0 -0.146699 -0.148075      -0.14826      -0.144784 -0.147741 -0.148777   \n",
       "1 -0.146699 -0.148075      -0.14826      -0.144784 -0.147741 -0.148777   \n",
       "\n",
       "   Brisbane    Cairns  Canberra     Cobar  CoffsHarbour  Dartmoor    Darwin  \\\n",
       "0 -0.150755 -0.146923 -0.157535 -0.145988     -0.145086 -0.144633 -0.152746   \n",
       "1 -0.150755 -0.146923 -0.157535 -0.145988     -0.145086 -0.144633 -0.152746   \n",
       "\n",
       "   GoldCoast  Hobart  Katherine  Launceston  Melbourne  MelbourneAirport  \\\n",
       "0   6.892468 -0.1513  -0.103774   -0.147667  -0.133332         -0.146998   \n",
       "1  -0.145086 -0.1513  -0.103774   -0.147667  -0.133332         -0.146998   \n",
       "\n",
       "    Mildura     Moree  MountGambier  MountGinini  Newcastle      Nhil  \\\n",
       "0 -0.147667 -0.140493     -0.147964    -0.144935  -0.145086 -0.104905   \n",
       "1 -0.147667 -0.140493     -0.147964    -0.144935  -0.145086 -0.104905   \n",
       "\n",
       "   NorahHead  NorfolkIsland  Nuriootpa  PearceRAAF   Penrith     Perth  \\\n",
       "0   -0.14655      -0.145199  -0.146363   -0.141152 -0.145988 -0.151155   \n",
       "1   -0.14655      -0.145199  -0.146363   -0.141152 -0.145988 -0.151155   \n",
       "\n",
       "   PerthAirport  ...  Watsonia  Williamtown  Witchcliffe  Wollongong  \\\n",
       "0     -0.147147  ... -0.147741    -0.133536    -0.145387   -0.147593   \n",
       "1     -0.147147  ... -0.147741    -0.133536    -0.145387   -0.147593   \n",
       "\n",
       "    Woomera       ENE       ESE         N        NE       NNE       NNW  \\\n",
       "0 -0.147964 -0.242983 -0.232309 -0.259627 -0.228647 -0.219764 -0.217603   \n",
       "1 -0.147964 -0.242983 -0.232309 -0.259627 -0.228647 -0.219764 -0.217603   \n",
       "\n",
       "         NW         S        SE       SSE       SSW        SW         W  \\\n",
       "0 -0.244288 -0.258497 -0.265565 -0.258751 -0.255176 -0.257339  2.539156   \n",
       "1 -0.244288 -0.258497 -0.265565 -0.258751 -0.255176 -0.257339 -0.393832   \n",
       "\n",
       "       WNW       WSW       ENE       ESE         N        NE       NNE  \\\n",
       "0 -0.24614 -0.257872 -0.240282 -0.238493 -0.420362 -0.236421 -0.242837   \n",
       "1 -0.24614  3.877892 -0.240282  4.192999 -0.420362 -0.236421 -0.242837   \n",
       "\n",
       "        NNW       NW         S        SE      SSE      SSW        SW  \\\n",
       "0  4.162200 -0.25161 -0.253515 -0.262471 -0.26034 -0.23291 -0.248387   \n",
       "1 -0.240258 -0.25161 -0.253515 -0.262471 -0.26034 -0.23291 -0.248387   \n",
       "\n",
       "          W       WNW       WSW       ENE       ESE         N        NE  \\\n",
       "0 -0.249718 -0.232108 -0.225683 -0.239107 -0.250074 -0.252882 -0.247839   \n",
       "1 -0.249718 -0.232108 -0.225683 -0.239107 -0.250074 -0.252882 -0.247839   \n",
       "\n",
       "        NNE       NNW        NW         S        SE       SSE       SSW  \\\n",
       "0  4.581065 -0.239156 -0.251209 -0.269552 -0.336249 -0.262608 -0.244674   \n",
       "1 -0.218290 -0.239156 -0.251209 -0.269552 -0.336249 -0.262608 -0.244674   \n",
       "\n",
       "         SW         W       WNW       WSW  \n",
       "0 -0.263338 -0.274714 -0.254195 -0.265270  \n",
       "1 -0.263338 -0.274714 -0.254195  3.769738  \n",
       "\n",
       "[2 rows x 111 columns]"
      ]
     },
     "execution_count": 48,
     "metadata": {},
     "output_type": "execute_result"
    }
   ],
   "source": [
    "x_train.head(2)"
   ]
  },
  {
   "cell_type": "code",
   "execution_count": 49,
   "metadata": {
    "execution": {
     "iopub.execute_input": "2020-09-21T16:34:09.105705Z",
     "iopub.status.busy": "2020-09-21T16:34:09.104738Z",
     "iopub.status.idle": "2020-09-21T16:34:09.164543Z",
     "shell.execute_reply": "2020-09-21T16:34:09.165038Z"
    },
    "papermill": {
     "duration": 0.118599,
     "end_time": "2020-09-21T16:34:09.165170",
     "exception": false,
     "start_time": "2020-09-21T16:34:09.046571",
     "status": "completed"
    },
    "tags": []
   },
   "outputs": [
    {
     "data": {
      "text/html": [
       "<div>\n",
       "<style scoped>\n",
       "    .dataframe tbody tr th:only-of-type {\n",
       "        vertical-align: middle;\n",
       "    }\n",
       "\n",
       "    .dataframe tbody tr th {\n",
       "        vertical-align: top;\n",
       "    }\n",
       "\n",
       "    .dataframe thead th {\n",
       "        text-align: right;\n",
       "    }\n",
       "</style>\n",
       "<table border=\"1\" class=\"dataframe\">\n",
       "  <thead>\n",
       "    <tr style=\"text-align: right;\">\n",
       "      <th></th>\n",
       "      <th>MinTemp</th>\n",
       "      <th>MaxTemp</th>\n",
       "      <th>Rainfall</th>\n",
       "      <th>Evaporation</th>\n",
       "      <th>Sunshine</th>\n",
       "      <th>WindGustSpeed</th>\n",
       "      <th>WindSpeed9am</th>\n",
       "      <th>WindSpeed3pm</th>\n",
       "      <th>Humidity9am</th>\n",
       "      <th>Humidity3pm</th>\n",
       "      <th>Pressure9am</th>\n",
       "      <th>Pressure3pm</th>\n",
       "      <th>Cloud9am</th>\n",
       "      <th>Cloud3pm</th>\n",
       "      <th>Temp9am</th>\n",
       "      <th>Temp3pm</th>\n",
       "      <th>RainToday</th>\n",
       "      <th>Month</th>\n",
       "      <th>Albany</th>\n",
       "      <th>Albury</th>\n",
       "      <th>AliceSprings</th>\n",
       "      <th>BadgerysCreek</th>\n",
       "      <th>Ballarat</th>\n",
       "      <th>Bendigo</th>\n",
       "      <th>Brisbane</th>\n",
       "      <th>Cairns</th>\n",
       "      <th>Canberra</th>\n",
       "      <th>Cobar</th>\n",
       "      <th>CoffsHarbour</th>\n",
       "      <th>Dartmoor</th>\n",
       "      <th>Darwin</th>\n",
       "      <th>GoldCoast</th>\n",
       "      <th>Hobart</th>\n",
       "      <th>Katherine</th>\n",
       "      <th>Launceston</th>\n",
       "      <th>Melbourne</th>\n",
       "      <th>MelbourneAirport</th>\n",
       "      <th>Mildura</th>\n",
       "      <th>Moree</th>\n",
       "      <th>MountGambier</th>\n",
       "      <th>MountGinini</th>\n",
       "      <th>Newcastle</th>\n",
       "      <th>Nhil</th>\n",
       "      <th>NorahHead</th>\n",
       "      <th>NorfolkIsland</th>\n",
       "      <th>Nuriootpa</th>\n",
       "      <th>PearceRAAF</th>\n",
       "      <th>Penrith</th>\n",
       "      <th>Perth</th>\n",
       "      <th>PerthAirport</th>\n",
       "      <th>...</th>\n",
       "      <th>Watsonia</th>\n",
       "      <th>Williamtown</th>\n",
       "      <th>Witchcliffe</th>\n",
       "      <th>Wollongong</th>\n",
       "      <th>Woomera</th>\n",
       "      <th>ENE</th>\n",
       "      <th>ESE</th>\n",
       "      <th>N</th>\n",
       "      <th>NE</th>\n",
       "      <th>NNE</th>\n",
       "      <th>NNW</th>\n",
       "      <th>NW</th>\n",
       "      <th>S</th>\n",
       "      <th>SE</th>\n",
       "      <th>SSE</th>\n",
       "      <th>SSW</th>\n",
       "      <th>SW</th>\n",
       "      <th>W</th>\n",
       "      <th>WNW</th>\n",
       "      <th>WSW</th>\n",
       "      <th>ENE</th>\n",
       "      <th>ESE</th>\n",
       "      <th>N</th>\n",
       "      <th>NE</th>\n",
       "      <th>NNE</th>\n",
       "      <th>NNW</th>\n",
       "      <th>NW</th>\n",
       "      <th>S</th>\n",
       "      <th>SE</th>\n",
       "      <th>SSE</th>\n",
       "      <th>SSW</th>\n",
       "      <th>SW</th>\n",
       "      <th>W</th>\n",
       "      <th>WNW</th>\n",
       "      <th>WSW</th>\n",
       "      <th>ENE</th>\n",
       "      <th>ESE</th>\n",
       "      <th>N</th>\n",
       "      <th>NE</th>\n",
       "      <th>NNE</th>\n",
       "      <th>NNW</th>\n",
       "      <th>NW</th>\n",
       "      <th>S</th>\n",
       "      <th>SE</th>\n",
       "      <th>SSE</th>\n",
       "      <th>SSW</th>\n",
       "      <th>SW</th>\n",
       "      <th>W</th>\n",
       "      <th>WNW</th>\n",
       "      <th>WSW</th>\n",
       "    </tr>\n",
       "  </thead>\n",
       "  <tbody>\n",
       "    <tr>\n",
       "      <th>0</th>\n",
       "      <td>1.601314</td>\n",
       "      <td>0.393605</td>\n",
       "      <td>-0.233110</td>\n",
       "      <td>0.193561</td>\n",
       "      <td>-2.865107</td>\n",
       "      <td>-0.679612</td>\n",
       "      <td>-0.111489</td>\n",
       "      <td>0.154905</td>\n",
       "      <td>0.903597</td>\n",
       "      <td>0.75359</td>\n",
       "      <td>-0.406440</td>\n",
       "      <td>-0.307565</td>\n",
       "      <td>1.459972</td>\n",
       "      <td>1.553607</td>\n",
       "      <td>0.900804</td>\n",
       "      <td>0.574995</td>\n",
       "      <td>-0.548849</td>\n",
       "      <td>-0.701083</td>\n",
       "      <td>-0.146699</td>\n",
       "      <td>-0.148075</td>\n",
       "      <td>-0.14826</td>\n",
       "      <td>-0.144784</td>\n",
       "      <td>-0.147741</td>\n",
       "      <td>-0.148777</td>\n",
       "      <td>-0.150755</td>\n",
       "      <td>-0.146923</td>\n",
       "      <td>-0.157535</td>\n",
       "      <td>-0.145988</td>\n",
       "      <td>-0.145086</td>\n",
       "      <td>-0.144633</td>\n",
       "      <td>-0.152746</td>\n",
       "      <td>-0.145086</td>\n",
       "      <td>-0.1513</td>\n",
       "      <td>-0.103774</td>\n",
       "      <td>-0.147667</td>\n",
       "      <td>-0.133332</td>\n",
       "      <td>-0.146998</td>\n",
       "      <td>-0.147667</td>\n",
       "      <td>-0.140493</td>\n",
       "      <td>-0.147964</td>\n",
       "      <td>-0.144935</td>\n",
       "      <td>-0.145086</td>\n",
       "      <td>-0.104905</td>\n",
       "      <td>-0.14655</td>\n",
       "      <td>-0.145199</td>\n",
       "      <td>-0.146363</td>\n",
       "      <td>-0.141152</td>\n",
       "      <td>-0.145988</td>\n",
       "      <td>-0.151155</td>\n",
       "      <td>-0.147147</td>\n",
       "      <td>...</td>\n",
       "      <td>-0.147741</td>\n",
       "      <td>-0.133536</td>\n",
       "      <td>-0.145387</td>\n",
       "      <td>-0.147593</td>\n",
       "      <td>-0.147964</td>\n",
       "      <td>-0.242983</td>\n",
       "      <td>-0.232309</td>\n",
       "      <td>-0.259627</td>\n",
       "      <td>-0.228647</td>\n",
       "      <td>-0.219764</td>\n",
       "      <td>-0.217603</td>\n",
       "      <td>-0.244288</td>\n",
       "      <td>-0.258497</td>\n",
       "      <td>3.765556</td>\n",
       "      <td>-0.258751</td>\n",
       "      <td>-0.255176</td>\n",
       "      <td>-0.257339</td>\n",
       "      <td>-0.393832</td>\n",
       "      <td>-0.24614</td>\n",
       "      <td>-0.257872</td>\n",
       "      <td>-0.240282</td>\n",
       "      <td>-0.238493</td>\n",
       "      <td>-0.420362</td>\n",
       "      <td>-0.236421</td>\n",
       "      <td>-0.242837</td>\n",
       "      <td>-0.240258</td>\n",
       "      <td>-0.25161</td>\n",
       "      <td>-0.253515</td>\n",
       "      <td>-0.262471</td>\n",
       "      <td>3.841127</td>\n",
       "      <td>-0.23291</td>\n",
       "      <td>-0.248387</td>\n",
       "      <td>-0.249718</td>\n",
       "      <td>-0.232108</td>\n",
       "      <td>-0.225683</td>\n",
       "      <td>-0.239107</td>\n",
       "      <td>-0.250074</td>\n",
       "      <td>-0.252882</td>\n",
       "      <td>-0.247839</td>\n",
       "      <td>-0.21829</td>\n",
       "      <td>-0.239156</td>\n",
       "      <td>-0.251209</td>\n",
       "      <td>-0.269552</td>\n",
       "      <td>-0.336249</td>\n",
       "      <td>3.807951</td>\n",
       "      <td>-0.244674</td>\n",
       "      <td>-0.263338</td>\n",
       "      <td>-0.274714</td>\n",
       "      <td>-0.254195</td>\n",
       "      <td>-0.26527</td>\n",
       "    </tr>\n",
       "    <tr>\n",
       "      <th>1</th>\n",
       "      <td>-0.543601</td>\n",
       "      <td>0.449872</td>\n",
       "      <td>-0.281787</td>\n",
       "      <td>0.883279</td>\n",
       "      <td>2.005602</td>\n",
       "      <td>-0.679612</td>\n",
       "      <td>-0.111489</td>\n",
       "      <td>-0.876938</td>\n",
       "      <td>0.270682</td>\n",
       "      <td>-0.75649</td>\n",
       "      <td>-0.051085</td>\n",
       "      <td>-0.202822</td>\n",
       "      <td>0.152190</td>\n",
       "      <td>0.138393</td>\n",
       "      <td>-0.381078</td>\n",
       "      <td>0.545868</td>\n",
       "      <td>-0.548849</td>\n",
       "      <td>1.636397</td>\n",
       "      <td>-0.146699</td>\n",
       "      <td>-0.148075</td>\n",
       "      <td>-0.14826</td>\n",
       "      <td>-0.144784</td>\n",
       "      <td>-0.147741</td>\n",
       "      <td>-0.148777</td>\n",
       "      <td>-0.150755</td>\n",
       "      <td>-0.146923</td>\n",
       "      <td>-0.157535</td>\n",
       "      <td>-0.145988</td>\n",
       "      <td>-0.145086</td>\n",
       "      <td>6.914066</td>\n",
       "      <td>-0.152746</td>\n",
       "      <td>-0.145086</td>\n",
       "      <td>-0.1513</td>\n",
       "      <td>-0.103774</td>\n",
       "      <td>-0.147667</td>\n",
       "      <td>-0.133332</td>\n",
       "      <td>-0.146998</td>\n",
       "      <td>-0.147667</td>\n",
       "      <td>-0.140493</td>\n",
       "      <td>-0.147964</td>\n",
       "      <td>-0.144935</td>\n",
       "      <td>-0.145086</td>\n",
       "      <td>-0.104905</td>\n",
       "      <td>-0.14655</td>\n",
       "      <td>-0.145199</td>\n",
       "      <td>-0.146363</td>\n",
       "      <td>-0.141152</td>\n",
       "      <td>-0.145988</td>\n",
       "      <td>-0.151155</td>\n",
       "      <td>-0.147147</td>\n",
       "      <td>...</td>\n",
       "      <td>-0.147741</td>\n",
       "      <td>-0.133536</td>\n",
       "      <td>-0.145387</td>\n",
       "      <td>-0.147593</td>\n",
       "      <td>-0.147964</td>\n",
       "      <td>-0.242983</td>\n",
       "      <td>-0.232309</td>\n",
       "      <td>-0.259627</td>\n",
       "      <td>-0.228647</td>\n",
       "      <td>-0.219764</td>\n",
       "      <td>-0.217603</td>\n",
       "      <td>-0.244288</td>\n",
       "      <td>-0.258497</td>\n",
       "      <td>-0.265565</td>\n",
       "      <td>-0.258751</td>\n",
       "      <td>-0.255176</td>\n",
       "      <td>3.885922</td>\n",
       "      <td>-0.393832</td>\n",
       "      <td>-0.24614</td>\n",
       "      <td>-0.257872</td>\n",
       "      <td>4.161777</td>\n",
       "      <td>-0.238493</td>\n",
       "      <td>-0.420362</td>\n",
       "      <td>-0.236421</td>\n",
       "      <td>-0.242837</td>\n",
       "      <td>-0.240258</td>\n",
       "      <td>-0.25161</td>\n",
       "      <td>-0.253515</td>\n",
       "      <td>-0.262471</td>\n",
       "      <td>-0.260340</td>\n",
       "      <td>-0.23291</td>\n",
       "      <td>-0.248387</td>\n",
       "      <td>-0.249718</td>\n",
       "      <td>-0.232108</td>\n",
       "      <td>-0.225683</td>\n",
       "      <td>-0.239107</td>\n",
       "      <td>-0.250074</td>\n",
       "      <td>-0.252882</td>\n",
       "      <td>-0.247839</td>\n",
       "      <td>-0.21829</td>\n",
       "      <td>-0.239156</td>\n",
       "      <td>-0.251209</td>\n",
       "      <td>-0.269552</td>\n",
       "      <td>-0.336249</td>\n",
       "      <td>-0.262608</td>\n",
       "      <td>-0.244674</td>\n",
       "      <td>3.797394</td>\n",
       "      <td>-0.274714</td>\n",
       "      <td>-0.254195</td>\n",
       "      <td>-0.26527</td>\n",
       "    </tr>\n",
       "  </tbody>\n",
       "</table>\n",
       "<p>2 rows × 111 columns</p>\n",
       "</div>"
      ],
      "text/plain": [
       "    MinTemp   MaxTemp  Rainfall  Evaporation  Sunshine  WindGustSpeed  \\\n",
       "0  1.601314  0.393605 -0.233110     0.193561 -2.865107      -0.679612   \n",
       "1 -0.543601  0.449872 -0.281787     0.883279  2.005602      -0.679612   \n",
       "\n",
       "   WindSpeed9am  WindSpeed3pm  Humidity9am  Humidity3pm  Pressure9am  \\\n",
       "0     -0.111489      0.154905     0.903597      0.75359    -0.406440   \n",
       "1     -0.111489     -0.876938     0.270682     -0.75649    -0.051085   \n",
       "\n",
       "   Pressure3pm  Cloud9am  Cloud3pm   Temp9am   Temp3pm  RainToday     Month  \\\n",
       "0    -0.307565  1.459972  1.553607  0.900804  0.574995  -0.548849 -0.701083   \n",
       "1    -0.202822  0.152190  0.138393 -0.381078  0.545868  -0.548849  1.636397   \n",
       "\n",
       "     Albany    Albury  AliceSprings  BadgerysCreek  Ballarat   Bendigo  \\\n",
       "0 -0.146699 -0.148075      -0.14826      -0.144784 -0.147741 -0.148777   \n",
       "1 -0.146699 -0.148075      -0.14826      -0.144784 -0.147741 -0.148777   \n",
       "\n",
       "   Brisbane    Cairns  Canberra     Cobar  CoffsHarbour  Dartmoor    Darwin  \\\n",
       "0 -0.150755 -0.146923 -0.157535 -0.145988     -0.145086 -0.144633 -0.152746   \n",
       "1 -0.150755 -0.146923 -0.157535 -0.145988     -0.145086  6.914066 -0.152746   \n",
       "\n",
       "   GoldCoast  Hobart  Katherine  Launceston  Melbourne  MelbourneAirport  \\\n",
       "0  -0.145086 -0.1513  -0.103774   -0.147667  -0.133332         -0.146998   \n",
       "1  -0.145086 -0.1513  -0.103774   -0.147667  -0.133332         -0.146998   \n",
       "\n",
       "    Mildura     Moree  MountGambier  MountGinini  Newcastle      Nhil  \\\n",
       "0 -0.147667 -0.140493     -0.147964    -0.144935  -0.145086 -0.104905   \n",
       "1 -0.147667 -0.140493     -0.147964    -0.144935  -0.145086 -0.104905   \n",
       "\n",
       "   NorahHead  NorfolkIsland  Nuriootpa  PearceRAAF   Penrith     Perth  \\\n",
       "0   -0.14655      -0.145199  -0.146363   -0.141152 -0.145988 -0.151155   \n",
       "1   -0.14655      -0.145199  -0.146363   -0.141152 -0.145988 -0.151155   \n",
       "\n",
       "   PerthAirport  ...  Watsonia  Williamtown  Witchcliffe  Wollongong  \\\n",
       "0     -0.147147  ... -0.147741    -0.133536    -0.145387   -0.147593   \n",
       "1     -0.147147  ... -0.147741    -0.133536    -0.145387   -0.147593   \n",
       "\n",
       "    Woomera       ENE       ESE         N        NE       NNE       NNW  \\\n",
       "0 -0.147964 -0.242983 -0.232309 -0.259627 -0.228647 -0.219764 -0.217603   \n",
       "1 -0.147964 -0.242983 -0.232309 -0.259627 -0.228647 -0.219764 -0.217603   \n",
       "\n",
       "         NW         S        SE       SSE       SSW        SW         W  \\\n",
       "0 -0.244288 -0.258497  3.765556 -0.258751 -0.255176 -0.257339 -0.393832   \n",
       "1 -0.244288 -0.258497 -0.265565 -0.258751 -0.255176  3.885922 -0.393832   \n",
       "\n",
       "       WNW       WSW       ENE       ESE         N        NE       NNE  \\\n",
       "0 -0.24614 -0.257872 -0.240282 -0.238493 -0.420362 -0.236421 -0.242837   \n",
       "1 -0.24614 -0.257872  4.161777 -0.238493 -0.420362 -0.236421 -0.242837   \n",
       "\n",
       "        NNW       NW         S        SE       SSE      SSW        SW  \\\n",
       "0 -0.240258 -0.25161 -0.253515 -0.262471  3.841127 -0.23291 -0.248387   \n",
       "1 -0.240258 -0.25161 -0.253515 -0.262471 -0.260340 -0.23291 -0.248387   \n",
       "\n",
       "          W       WNW       WSW       ENE       ESE         N        NE  \\\n",
       "0 -0.249718 -0.232108 -0.225683 -0.239107 -0.250074 -0.252882 -0.247839   \n",
       "1 -0.249718 -0.232108 -0.225683 -0.239107 -0.250074 -0.252882 -0.247839   \n",
       "\n",
       "       NNE       NNW        NW         S        SE       SSE       SSW  \\\n",
       "0 -0.21829 -0.239156 -0.251209 -0.269552 -0.336249  3.807951 -0.244674   \n",
       "1 -0.21829 -0.239156 -0.251209 -0.269552 -0.336249 -0.262608 -0.244674   \n",
       "\n",
       "         SW         W       WNW      WSW  \n",
       "0 -0.263338 -0.274714 -0.254195 -0.26527  \n",
       "1  3.797394 -0.274714 -0.254195 -0.26527  \n",
       "\n",
       "[2 rows x 111 columns]"
      ]
     },
     "execution_count": 49,
     "metadata": {},
     "output_type": "execute_result"
    }
   ],
   "source": [
    "x_test.head(2)"
   ]
  },
  {
   "cell_type": "markdown",
   "metadata": {
    "papermill": {
     "duration": 0.055549,
     "end_time": "2020-09-21T16:34:09.276597",
     "exception": false,
     "start_time": "2020-09-21T16:34:09.221048",
     "status": "completed"
    },
    "tags": []
   },
   "source": [
    "Let's finally make our model:"
   ]
  },
  {
   "cell_type": "code",
   "execution_count": 50,
   "metadata": {
    "execution": {
     "iopub.execute_input": "2020-09-21T16:34:09.397103Z",
     "iopub.status.busy": "2020-09-21T16:34:09.396524Z",
     "iopub.status.idle": "2020-09-21T16:34:09.477428Z",
     "shell.execute_reply": "2020-09-21T16:34:09.476802Z"
    },
    "papermill": {
     "duration": 0.143788,
     "end_time": "2020-09-21T16:34:09.477537",
     "exception": false,
     "start_time": "2020-09-21T16:34:09.333749",
     "status": "completed"
    },
    "tags": []
   },
   "outputs": [],
   "source": [
    "from sklearn.linear_model import LogisticRegression"
   ]
  },
  {
   "cell_type": "code",
   "execution_count": 51,
   "metadata": {
    "execution": {
     "iopub.execute_input": "2020-09-21T16:34:09.597415Z",
     "iopub.status.busy": "2020-09-21T16:34:09.596779Z",
     "iopub.status.idle": "2020-09-21T16:34:09.599481Z",
     "shell.execute_reply": "2020-09-21T16:34:09.599859Z"
    },
    "papermill": {
     "duration": 0.066514,
     "end_time": "2020-09-21T16:34:09.600002",
     "exception": false,
     "start_time": "2020-09-21T16:34:09.533488",
     "status": "completed"
    },
    "tags": []
   },
   "outputs": [
    {
     "data": {
      "text/plain": [
       "{'C': 1.0,\n",
       " 'class_weight': None,\n",
       " 'dual': False,\n",
       " 'fit_intercept': True,\n",
       " 'intercept_scaling': 1,\n",
       " 'l1_ratio': None,\n",
       " 'max_iter': 100,\n",
       " 'multi_class': 'auto',\n",
       " 'n_jobs': None,\n",
       " 'penalty': 'l2',\n",
       " 'random_state': 7,\n",
       " 'solver': 'lbfgs',\n",
       " 'tol': 0.0001,\n",
       " 'verbose': 0,\n",
       " 'warm_start': False}"
      ]
     },
     "execution_count": 51,
     "metadata": {},
     "output_type": "execute_result"
    }
   ],
   "source": [
    "model=LogisticRegression(random_state=7)\n",
    "model.get_params()"
   ]
  },
  {
   "cell_type": "code",
   "execution_count": 52,
   "metadata": {
    "execution": {
     "iopub.execute_input": "2020-09-21T16:34:09.715488Z",
     "iopub.status.busy": "2020-09-21T16:34:09.714936Z",
     "iopub.status.idle": "2020-09-21T16:34:10.715918Z",
     "shell.execute_reply": "2020-09-21T16:34:10.714971Z"
    },
    "papermill": {
     "duration": 1.059649,
     "end_time": "2020-09-21T16:34:10.716124",
     "exception": false,
     "start_time": "2020-09-21T16:34:09.656475",
     "status": "completed"
    },
    "tags": []
   },
   "outputs": [],
   "source": [
    "model.fit(x_train,y_train)\n",
    "\n",
    "y_predict=model.predict(x_test)"
   ]
  },
  {
   "cell_type": "markdown",
   "metadata": {
    "papermill": {
     "duration": 0.057002,
     "end_time": "2020-09-21T16:34:10.834795",
     "exception": false,
     "start_time": "2020-09-21T16:34:10.777793",
     "status": "completed"
    },
    "tags": []
   },
   "source": [
    "Next we can evaluate our model using a classifcation report and a confusion matrix."
   ]
  },
  {
   "cell_type": "code",
   "execution_count": 53,
   "metadata": {
    "execution": {
     "iopub.execute_input": "2020-09-21T16:34:10.954058Z",
     "iopub.status.busy": "2020-09-21T16:34:10.952470Z",
     "iopub.status.idle": "2020-09-21T16:34:10.954818Z",
     "shell.execute_reply": "2020-09-21T16:34:10.955222Z"
    },
    "papermill": {
     "duration": 0.063863,
     "end_time": "2020-09-21T16:34:10.955368",
     "exception": false,
     "start_time": "2020-09-21T16:34:10.891505",
     "status": "completed"
    },
    "tags": []
   },
   "outputs": [],
   "source": [
    "from sklearn.metrics import classification_report,confusion_matrix"
   ]
  },
  {
   "cell_type": "code",
   "execution_count": 54,
   "metadata": {
    "execution": {
     "iopub.execute_input": "2020-09-21T16:34:11.074585Z",
     "iopub.status.busy": "2020-09-21T16:34:11.073977Z",
     "iopub.status.idle": "2020-09-21T16:34:11.148828Z",
     "shell.execute_reply": "2020-09-21T16:34:11.148226Z"
    },
    "papermill": {
     "duration": 0.135862,
     "end_time": "2020-09-21T16:34:11.148935",
     "exception": false,
     "start_time": "2020-09-21T16:34:11.013073",
     "status": "completed"
    },
    "tags": []
   },
   "outputs": [
    {
     "name": "stdout",
     "output_type": "stream",
     "text": [
      "              precision    recall  f1-score   support\n",
      "\n",
      "           0       0.87      0.94      0.91     36491\n",
      "           1       0.72      0.51      0.60     10432\n",
      "\n",
      "    accuracy                           0.85     46923\n",
      "   macro avg       0.79      0.73      0.75     46923\n",
      "weighted avg       0.84      0.85      0.84     46923\n",
      "\n"
     ]
    }
   ],
   "source": [
    "print(classification_report(y_test,y_predict))"
   ]
  },
  {
   "cell_type": "code",
   "execution_count": 55,
   "metadata": {
    "_kg_hide-input": true,
    "execution": {
     "iopub.execute_input": "2020-09-21T16:34:11.270949Z",
     "iopub.status.busy": "2020-09-21T16:34:11.270009Z",
     "iopub.status.idle": "2020-09-21T16:34:11.272802Z",
     "shell.execute_reply": "2020-09-21T16:34:11.272331Z"
    },
    "papermill": {
     "duration": 0.066389,
     "end_time": "2020-09-21T16:34:11.272920",
     "exception": false,
     "start_time": "2020-09-21T16:34:11.206531",
     "status": "completed"
    },
    "tags": []
   },
   "outputs": [],
   "source": [
    "def cm(predictions):\n",
    "    cm_matrix=pd.DataFrame(data=confusion_matrix(y_test,predictions),columns=[\"No Rain\",\"Rain\"],index=[\"No Rain\",\"Rain\"])\n",
    "    sns.heatmap(cm_matrix,annot=True,square=True,fmt=\"d\",cmap=\"Purples\",linecolor=\"w\",linewidth=2)\n",
    "    plt.xlabel(\"Predicted\")\n",
    "    plt.ylabel(\"Actual\")\n",
    "    plt.yticks(va=\"center\")"
   ]
  },
  {
   "cell_type": "code",
   "execution_count": 56,
   "metadata": {
    "execution": {
     "iopub.execute_input": "2020-09-21T16:34:11.391833Z",
     "iopub.status.busy": "2020-09-21T16:34:11.391199Z",
     "iopub.status.idle": "2020-09-21T16:34:11.576781Z",
     "shell.execute_reply": "2020-09-21T16:34:11.576118Z"
    },
    "papermill": {
     "duration": 0.246111,
     "end_time": "2020-09-21T16:34:11.576892",
     "exception": false,
     "start_time": "2020-09-21T16:34:11.330781",
     "status": "completed"
    },
    "scrolled": true,
    "tags": []
   },
   "outputs": [
    {
     "data": {
      "image/png": "[encoded data removed]",
      "text/plain": [
       "<Figure size 432x288 with 2 Axes>"
      ]
     },
     "metadata": {
      "needs_background": "light"
     },
     "output_type": "display_data"
    }
   ],
   "source": [
    "cm(y_predict)"
   ]
  },
  {
   "cell_type": "markdown",
   "metadata": {
    "papermill": {
     "duration": 0.057335,
     "end_time": "2020-09-21T16:34:11.691885",
     "exception": false,
     "start_time": "2020-09-21T16:34:11.634550",
     "status": "completed"
    },
    "tags": []
   },
   "source": [
    "Our model didn't do so bad with an accuracy score of 0.85! This means our model was able to correctly predict 85% of the instances. It was however better at predicting class 0 (i.e. no rain) than class 1 (i.e. rain) with the higher precision and recall, and the model also predicted a lot more false negatives (i.e. predicted that it would not rain when it actually will) than false positives (i.e. predicted that it would rain when it actually will not).\n",
    "\n",
    "\n",
    "But was our model over/underfittings??"
   ]
  },
  {
   "cell_type": "code",
   "execution_count": 57,
   "metadata": {
    "_kg_hide-input": true,
    "execution": {
     "iopub.execute_input": "2020-09-21T16:34:11.814703Z",
     "iopub.status.busy": "2020-09-21T16:34:11.814063Z",
     "iopub.status.idle": "2020-09-21T16:34:11.848679Z",
     "shell.execute_reply": "2020-09-21T16:34:11.848149Z"
    },
    "papermill": {
     "duration": 0.0999,
     "end_time": "2020-09-21T16:34:11.848804",
     "exception": false,
     "start_time": "2020-09-21T16:34:11.748904",
     "status": "completed"
    },
    "tags": []
   },
   "outputs": [
    {
     "name": "stdout",
     "output_type": "stream",
     "text": [
      "Training set score: 0.8490.\n",
      "Testing set score: 0.8467.\n"
     ]
    }
   ],
   "source": [
    "print(\"Training set score: {num:.4f}.\".format(num=model.score(x_train,y_train)))\n",
    "print(\"Testing set score: {num:.4f}.\".format(num=model.score(x_test,y_test)))"
   ]
  },
  {
   "cell_type": "markdown",
   "metadata": {
    "papermill": {
     "duration": 0.058385,
     "end_time": "2020-09-21T16:34:11.965701",
     "exception": false,
     "start_time": "2020-09-21T16:34:11.907316",
     "status": "completed"
    },
    "tags": []
   },
   "source": [
    "The accuracy scores of both the training and testing set are very similar, so there is clearly no indication of any over/underfitting.\n",
    "\n",
    "The model we created was based on the default parameters, so let's see if we can improve it by adjusting the parameters using grid search:"
   ]
  },
  {
   "cell_type": "code",
   "execution_count": 58,
   "metadata": {
    "execution": {
     "iopub.execute_input": "2020-09-21T16:34:12.130930Z",
     "iopub.status.busy": "2020-09-21T16:34:12.130380Z",
     "iopub.status.idle": "2020-09-21T16:34:12.133486Z",
     "shell.execute_reply": "2020-09-21T16:34:12.132959Z"
    },
    "papermill": {
     "duration": 0.072865,
     "end_time": "2020-09-21T16:34:12.133588",
     "exception": false,
     "start_time": "2020-09-21T16:34:12.060723",
     "status": "completed"
    },
    "tags": []
   },
   "outputs": [],
   "source": [
    "from sklearn.model_selection import GridSearchCV"
   ]
  },
  {
   "cell_type": "code",
   "execution_count": 59,
   "metadata": {
    "execution": {
     "iopub.execute_input": "2020-09-21T16:34:12.262110Z",
     "iopub.status.busy": "2020-09-21T16:34:12.261575Z",
     "iopub.status.idle": "2020-09-21T16:35:57.347333Z",
     "shell.execute_reply": "2020-09-21T16:35:57.347731Z"
    },
    "papermill": {
     "duration": 105.154512,
     "end_time": "2020-09-21T16:35:57.347887",
     "exception": false,
     "start_time": "2020-09-21T16:34:12.193375",
     "status": "completed"
    },
    "tags": []
   },
   "outputs": [
    {
     "name": "stdout",
     "output_type": "stream",
     "text": [
      "Fitting 5 folds for each of 17 candidates, totalling 85 fits\n"
     ]
    },
    {
     "name": "stderr",
     "output_type": "stream",
     "text": [
      "[Parallel(n_jobs=1)]: Using backend SequentialBackend with 1 concurrent workers.\n",
      "[Parallel(n_jobs=1)]: Done  85 out of  85 | elapsed:  1.7min finished\n"
     ]
    },
    {
     "data": {
      "text/plain": [
       "GridSearchCV(cv=5, estimator=LogisticRegression(random_state=7),\n",
       "             param_grid=[{'penalty': ['l1', 'l2', 'elasticnet']},\n",
       "                         {'C': [0.1, 1, 10, 100]},\n",
       "                         {'class_weight': ['balanced', None]},\n",
       "                         {'solver': ['newton-cg', 'lbfgs', 'liblinear', 'sag',\n",
       "                                     'saga']},\n",
       "                         {'multi_class': ['auto', 'ovr', 'multinomial']}],\n",
       "             verbose=1)"
      ]
     },
     "execution_count": 59,
     "metadata": {},
     "output_type": "execute_result"
    }
   ],
   "source": [
    "parameters=[{\"penalty\":[\"l1\",\"l2\",\"elasticnet\"]},{\"C\":[0.1,1,10,100]},{\"class_weight\":[\"balanced\",None]},\n",
    "            {\"solver\":[\"newton-cg\",\"lbfgs\",\"liblinear\",\"sag\",\"saga\"]},{\"multi_class\":[\"auto\",\"ovr\",\"multinomial\"]}]\n",
    "\n",
    "grid=GridSearchCV(estimator=model,param_grid=parameters,refit=True,cv=5,verbose=1)\n",
    "\n",
    "grid.fit(x_train,y_train)"
   ]
  },
  {
   "cell_type": "code",
   "execution_count": 60,
   "metadata": {
    "execution": {
     "iopub.execute_input": "2020-09-21T16:35:57.469689Z",
     "iopub.status.busy": "2020-09-21T16:35:57.469112Z",
     "iopub.status.idle": "2020-09-21T16:35:57.499915Z",
     "shell.execute_reply": "2020-09-21T16:35:57.499450Z"
    },
    "papermill": {
     "duration": 0.092392,
     "end_time": "2020-09-21T16:35:57.500026",
     "exception": false,
     "start_time": "2020-09-21T16:35:57.407634",
     "status": "completed"
    },
    "tags": []
   },
   "outputs": [
    {
     "data": {
      "text/html": [
       "<div>\n",
       "<style scoped>\n",
       "    .dataframe tbody tr th:only-of-type {\n",
       "        vertical-align: middle;\n",
       "    }\n",
       "\n",
       "    .dataframe tbody tr th {\n",
       "        vertical-align: top;\n",
       "    }\n",
       "\n",
       "    .dataframe thead th {\n",
       "        text-align: right;\n",
       "    }\n",
       "</style>\n",
       "<table border=\"1\" class=\"dataframe\">\n",
       "  <thead>\n",
       "    <tr style=\"text-align: right;\">\n",
       "      <th></th>\n",
       "      <th>mean_fit_time</th>\n",
       "      <th>std_fit_time</th>\n",
       "      <th>mean_score_time</th>\n",
       "      <th>std_score_time</th>\n",
       "      <th>param_penalty</th>\n",
       "      <th>param_C</th>\n",
       "      <th>param_class_weight</th>\n",
       "      <th>param_solver</th>\n",
       "      <th>param_multi_class</th>\n",
       "      <th>params</th>\n",
       "      <th>split0_test_score</th>\n",
       "      <th>split1_test_score</th>\n",
       "      <th>split2_test_score</th>\n",
       "      <th>split3_test_score</th>\n",
       "      <th>split4_test_score</th>\n",
       "      <th>mean_test_score</th>\n",
       "      <th>std_test_score</th>\n",
       "      <th>rank_test_score</th>\n",
       "    </tr>\n",
       "  </thead>\n",
       "  <tbody>\n",
       "    <tr>\n",
       "      <th>0</th>\n",
       "      <td>0.028848</td>\n",
       "      <td>0.000578</td>\n",
       "      <td>0.000000</td>\n",
       "      <td>0.000000</td>\n",
       "      <td>l1</td>\n",
       "      <td>NaN</td>\n",
       "      <td>NaN</td>\n",
       "      <td>NaN</td>\n",
       "      <td>NaN</td>\n",
       "      <td>{'penalty': 'l1'}</td>\n",
       "      <td>NaN</td>\n",
       "      <td>NaN</td>\n",
       "      <td>NaN</td>\n",
       "      <td>NaN</td>\n",
       "      <td>NaN</td>\n",
       "      <td>NaN</td>\n",
       "      <td>NaN</td>\n",
       "      <td>17</td>\n",
       "    </tr>\n",
       "    <tr>\n",
       "      <th>1</th>\n",
       "      <td>0.793635</td>\n",
       "      <td>0.030337</td>\n",
       "      <td>0.006234</td>\n",
       "      <td>0.000149</td>\n",
       "      <td>l2</td>\n",
       "      <td>NaN</td>\n",
       "      <td>NaN</td>\n",
       "      <td>NaN</td>\n",
       "      <td>NaN</td>\n",
       "      <td>{'penalty': 'l2'}</td>\n",
       "      <td>0.848273</td>\n",
       "      <td>0.851834</td>\n",
       "      <td>0.848528</td>\n",
       "      <td>0.844381</td>\n",
       "      <td>0.849997</td>\n",
       "      <td>0.848603</td>\n",
       "      <td>0.002463</td>\n",
       "      <td>5</td>\n",
       "    </tr>\n",
       "    <tr>\n",
       "      <th>2</th>\n",
       "      <td>0.030701</td>\n",
       "      <td>0.000309</td>\n",
       "      <td>0.000000</td>\n",
       "      <td>0.000000</td>\n",
       "      <td>elasticnet</td>\n",
       "      <td>NaN</td>\n",
       "      <td>NaN</td>\n",
       "      <td>NaN</td>\n",
       "      <td>NaN</td>\n",
       "      <td>{'penalty': 'elasticnet'}</td>\n",
       "      <td>NaN</td>\n",
       "      <td>NaN</td>\n",
       "      <td>NaN</td>\n",
       "      <td>NaN</td>\n",
       "      <td>NaN</td>\n",
       "      <td>NaN</td>\n",
       "      <td>NaN</td>\n",
       "      <td>16</td>\n",
       "    </tr>\n",
       "    <tr>\n",
       "      <th>3</th>\n",
       "      <td>0.789217</td>\n",
       "      <td>0.019866</td>\n",
       "      <td>0.006276</td>\n",
       "      <td>0.000090</td>\n",
       "      <td>NaN</td>\n",
       "      <td>0.1</td>\n",
       "      <td>NaN</td>\n",
       "      <td>NaN</td>\n",
       "      <td>NaN</td>\n",
       "      <td>{'C': 0.1}</td>\n",
       "      <td>0.848431</td>\n",
       "      <td>0.851834</td>\n",
       "      <td>0.848580</td>\n",
       "      <td>0.844434</td>\n",
       "      <td>0.849735</td>\n",
       "      <td>0.848603</td>\n",
       "      <td>0.002414</td>\n",
       "      <td>12</td>\n",
       "    </tr>\n",
       "    <tr>\n",
       "      <th>4</th>\n",
       "      <td>0.819102</td>\n",
       "      <td>0.026929</td>\n",
       "      <td>0.006770</td>\n",
       "      <td>0.000799</td>\n",
       "      <td>NaN</td>\n",
       "      <td>1</td>\n",
       "      <td>NaN</td>\n",
       "      <td>NaN</td>\n",
       "      <td>NaN</td>\n",
       "      <td>{'C': 1}</td>\n",
       "      <td>0.848273</td>\n",
       "      <td>0.851834</td>\n",
       "      <td>0.848528</td>\n",
       "      <td>0.844381</td>\n",
       "      <td>0.849997</td>\n",
       "      <td>0.848603</td>\n",
       "      <td>0.002463</td>\n",
       "      <td>5</td>\n",
       "    </tr>\n",
       "    <tr>\n",
       "      <th>5</th>\n",
       "      <td>0.821891</td>\n",
       "      <td>0.018685</td>\n",
       "      <td>0.006332</td>\n",
       "      <td>0.000056</td>\n",
       "      <td>NaN</td>\n",
       "      <td>10</td>\n",
       "      <td>NaN</td>\n",
       "      <td>NaN</td>\n",
       "      <td>NaN</td>\n",
       "      <td>{'C': 10}</td>\n",
       "      <td>0.848221</td>\n",
       "      <td>0.851782</td>\n",
       "      <td>0.848475</td>\n",
       "      <td>0.844329</td>\n",
       "      <td>0.850102</td>\n",
       "      <td>0.848582</td>\n",
       "      <td>0.002481</td>\n",
       "      <td>13</td>\n",
       "    </tr>\n",
       "    <tr>\n",
       "      <th>6</th>\n",
       "      <td>0.822103</td>\n",
       "      <td>0.033003</td>\n",
       "      <td>0.007454</td>\n",
       "      <td>0.001950</td>\n",
       "      <td>NaN</td>\n",
       "      <td>100</td>\n",
       "      <td>NaN</td>\n",
       "      <td>NaN</td>\n",
       "      <td>NaN</td>\n",
       "      <td>{'C': 100}</td>\n",
       "      <td>0.848221</td>\n",
       "      <td>0.851782</td>\n",
       "      <td>0.848475</td>\n",
       "      <td>0.844329</td>\n",
       "      <td>0.850102</td>\n",
       "      <td>0.848582</td>\n",
       "      <td>0.002481</td>\n",
       "      <td>13</td>\n",
       "    </tr>\n",
       "    <tr>\n",
       "      <th>7</th>\n",
       "      <td>0.896541</td>\n",
       "      <td>0.081704</td>\n",
       "      <td>0.006441</td>\n",
       "      <td>0.000181</td>\n",
       "      <td>NaN</td>\n",
       "      <td>NaN</td>\n",
       "      <td>balanced</td>\n",
       "      <td>NaN</td>\n",
       "      <td>NaN</td>\n",
       "      <td>{'class_weight': 'balanced'}</td>\n",
       "      <td>0.790700</td>\n",
       "      <td>0.796672</td>\n",
       "      <td>0.796043</td>\n",
       "      <td>0.794521</td>\n",
       "      <td>0.797617</td>\n",
       "      <td>0.795111</td>\n",
       "      <td>0.002425</td>\n",
       "      <td>15</td>\n",
       "    </tr>\n",
       "    <tr>\n",
       "      <th>8</th>\n",
       "      <td>0.825564</td>\n",
       "      <td>0.030016</td>\n",
       "      <td>0.006307</td>\n",
       "      <td>0.000088</td>\n",
       "      <td>NaN</td>\n",
       "      <td>NaN</td>\n",
       "      <td>None</td>\n",
       "      <td>NaN</td>\n",
       "      <td>NaN</td>\n",
       "      <td>{'class_weight': None}</td>\n",
       "      <td>0.848273</td>\n",
       "      <td>0.851834</td>\n",
       "      <td>0.848528</td>\n",
       "      <td>0.844381</td>\n",
       "      <td>0.849997</td>\n",
       "      <td>0.848603</td>\n",
       "      <td>0.002463</td>\n",
       "      <td>5</td>\n",
       "    </tr>\n",
       "    <tr>\n",
       "      <th>9</th>\n",
       "      <td>2.174512</td>\n",
       "      <td>0.111385</td>\n",
       "      <td>0.006434</td>\n",
       "      <td>0.000129</td>\n",
       "      <td>NaN</td>\n",
       "      <td>NaN</td>\n",
       "      <td>NaN</td>\n",
       "      <td>newton-cg</td>\n",
       "      <td>NaN</td>\n",
       "      <td>{'solver': 'newton-cg'}</td>\n",
       "      <td>0.848273</td>\n",
       "      <td>0.851887</td>\n",
       "      <td>0.848528</td>\n",
       "      <td>0.844329</td>\n",
       "      <td>0.850050</td>\n",
       "      <td>0.848613</td>\n",
       "      <td>0.002500</td>\n",
       "      <td>2</td>\n",
       "    </tr>\n",
       "    <tr>\n",
       "      <th>10</th>\n",
       "      <td>0.816215</td>\n",
       "      <td>0.031174</td>\n",
       "      <td>0.006476</td>\n",
       "      <td>0.000148</td>\n",
       "      <td>NaN</td>\n",
       "      <td>NaN</td>\n",
       "      <td>NaN</td>\n",
       "      <td>lbfgs</td>\n",
       "      <td>NaN</td>\n",
       "      <td>{'solver': 'lbfgs'}</td>\n",
       "      <td>0.848273</td>\n",
       "      <td>0.851834</td>\n",
       "      <td>0.848528</td>\n",
       "      <td>0.844381</td>\n",
       "      <td>0.849997</td>\n",
       "      <td>0.848603</td>\n",
       "      <td>0.002463</td>\n",
       "      <td>5</td>\n",
       "    </tr>\n",
       "    <tr>\n",
       "      <th>11</th>\n",
       "      <td>3.249064</td>\n",
       "      <td>0.049052</td>\n",
       "      <td>0.006829</td>\n",
       "      <td>0.000391</td>\n",
       "      <td>NaN</td>\n",
       "      <td>NaN</td>\n",
       "      <td>NaN</td>\n",
       "      <td>liblinear</td>\n",
       "      <td>NaN</td>\n",
       "      <td>{'solver': 'liblinear'}</td>\n",
       "      <td>0.848273</td>\n",
       "      <td>0.851939</td>\n",
       "      <td>0.848528</td>\n",
       "      <td>0.844329</td>\n",
       "      <td>0.850050</td>\n",
       "      <td>0.848624</td>\n",
       "      <td>0.002514</td>\n",
       "      <td>1</td>\n",
       "    </tr>\n",
       "    <tr>\n",
       "      <th>12</th>\n",
       "      <td>2.002507</td>\n",
       "      <td>0.046748</td>\n",
       "      <td>0.006482</td>\n",
       "      <td>0.000120</td>\n",
       "      <td>NaN</td>\n",
       "      <td>NaN</td>\n",
       "      <td>NaN</td>\n",
       "      <td>sag</td>\n",
       "      <td>NaN</td>\n",
       "      <td>{'solver': 'sag'}</td>\n",
       "      <td>0.848273</td>\n",
       "      <td>0.851834</td>\n",
       "      <td>0.848528</td>\n",
       "      <td>0.844329</td>\n",
       "      <td>0.850050</td>\n",
       "      <td>0.848603</td>\n",
       "      <td>0.002487</td>\n",
       "      <td>4</td>\n",
       "    </tr>\n",
       "    <tr>\n",
       "      <th>13</th>\n",
       "      <td>2.778458</td>\n",
       "      <td>0.222484</td>\n",
       "      <td>0.006540</td>\n",
       "      <td>0.000234</td>\n",
       "      <td>NaN</td>\n",
       "      <td>NaN</td>\n",
       "      <td>NaN</td>\n",
       "      <td>saga</td>\n",
       "      <td>NaN</td>\n",
       "      <td>{'solver': 'saga'}</td>\n",
       "      <td>0.848273</td>\n",
       "      <td>0.851887</td>\n",
       "      <td>0.848528</td>\n",
       "      <td>0.844329</td>\n",
       "      <td>0.850050</td>\n",
       "      <td>0.848613</td>\n",
       "      <td>0.002500</td>\n",
       "      <td>2</td>\n",
       "    </tr>\n",
       "    <tr>\n",
       "      <th>14</th>\n",
       "      <td>0.791169</td>\n",
       "      <td>0.016453</td>\n",
       "      <td>0.006778</td>\n",
       "      <td>0.001362</td>\n",
       "      <td>NaN</td>\n",
       "      <td>NaN</td>\n",
       "      <td>NaN</td>\n",
       "      <td>NaN</td>\n",
       "      <td>auto</td>\n",
       "      <td>{'multi_class': 'auto'}</td>\n",
       "      <td>0.848273</td>\n",
       "      <td>0.851834</td>\n",
       "      <td>0.848528</td>\n",
       "      <td>0.844381</td>\n",
       "      <td>0.849997</td>\n",
       "      <td>0.848603</td>\n",
       "      <td>0.002463</td>\n",
       "      <td>5</td>\n",
       "    </tr>\n",
       "    <tr>\n",
       "      <th>15</th>\n",
       "      <td>0.827755</td>\n",
       "      <td>0.054471</td>\n",
       "      <td>0.006281</td>\n",
       "      <td>0.000131</td>\n",
       "      <td>NaN</td>\n",
       "      <td>NaN</td>\n",
       "      <td>NaN</td>\n",
       "      <td>NaN</td>\n",
       "      <td>ovr</td>\n",
       "      <td>{'multi_class': 'ovr'}</td>\n",
       "      <td>0.848273</td>\n",
       "      <td>0.851834</td>\n",
       "      <td>0.848528</td>\n",
       "      <td>0.844381</td>\n",
       "      <td>0.849997</td>\n",
       "      <td>0.848603</td>\n",
       "      <td>0.002463</td>\n",
       "      <td>5</td>\n",
       "    </tr>\n",
       "    <tr>\n",
       "      <th>16</th>\n",
       "      <td>1.641037</td>\n",
       "      <td>0.091448</td>\n",
       "      <td>0.006275</td>\n",
       "      <td>0.000102</td>\n",
       "      <td>NaN</td>\n",
       "      <td>NaN</td>\n",
       "      <td>NaN</td>\n",
       "      <td>NaN</td>\n",
       "      <td>multinomial</td>\n",
       "      <td>{'multi_class': 'multinomial'}</td>\n",
       "      <td>0.848273</td>\n",
       "      <td>0.851834</td>\n",
       "      <td>0.848475</td>\n",
       "      <td>0.844329</td>\n",
       "      <td>0.850102</td>\n",
       "      <td>0.848603</td>\n",
       "      <td>0.002493</td>\n",
       "      <td>5</td>\n",
       "    </tr>\n",
       "  </tbody>\n",
       "</table>\n",
       "</div>"
      ],
      "text/plain": [
       "    mean_fit_time  std_fit_time  mean_score_time  std_score_time  \\\n",
       "0        0.028848      0.000578         0.000000        0.000000   \n",
       "1        0.793635      0.030337         0.006234        0.000149   \n",
       "2        0.030701      0.000309         0.000000        0.000000   \n",
       "3        0.789217      0.019866         0.006276        0.000090   \n",
       "4        0.819102      0.026929         0.006770        0.000799   \n",
       "5        0.821891      0.018685         0.006332        0.000056   \n",
       "6        0.822103      0.033003         0.007454        0.001950   \n",
       "7        0.896541      0.081704         0.006441        0.000181   \n",
       "8        0.825564      0.030016         0.006307        0.000088   \n",
       "9        2.174512      0.111385         0.006434        0.000129   \n",
       "10       0.816215      0.031174         0.006476        0.000148   \n",
       "11       3.249064      0.049052         0.006829        0.000391   \n",
       "12       2.002507      0.046748         0.006482        0.000120   \n",
       "13       2.778458      0.222484         0.006540        0.000234   \n",
       "14       0.791169      0.016453         0.006778        0.001362   \n",
       "15       0.827755      0.054471         0.006281        0.000131   \n",
       "16       1.641037      0.091448         0.006275        0.000102   \n",
       "\n",
       "   param_penalty param_C param_class_weight param_solver param_multi_class  \\\n",
       "0             l1     NaN                NaN          NaN               NaN   \n",
       "1             l2     NaN                NaN          NaN               NaN   \n",
       "2     elasticnet     NaN                NaN          NaN               NaN   \n",
       "3            NaN     0.1                NaN          NaN               NaN   \n",
       "4            NaN       1                NaN          NaN               NaN   \n",
       "5            NaN      10                NaN          NaN               NaN   \n",
       "6            NaN     100                NaN          NaN               NaN   \n",
       "7            NaN     NaN           balanced          NaN               NaN   \n",
       "8            NaN     NaN               None          NaN               NaN   \n",
       "9            NaN     NaN                NaN    newton-cg               NaN   \n",
       "10           NaN     NaN                NaN        lbfgs               NaN   \n",
       "11           NaN     NaN                NaN    liblinear               NaN   \n",
       "12           NaN     NaN                NaN          sag               NaN   \n",
       "13           NaN     NaN                NaN         saga               NaN   \n",
       "14           NaN     NaN                NaN          NaN              auto   \n",
       "15           NaN     NaN                NaN          NaN               ovr   \n",
       "16           NaN     NaN                NaN          NaN       multinomial   \n",
       "\n",
       "                            params  split0_test_score  split1_test_score  \\\n",
       "0                {'penalty': 'l1'}                NaN                NaN   \n",
       "1                {'penalty': 'l2'}           0.848273           0.851834   \n",
       "2        {'penalty': 'elasticnet'}                NaN                NaN   \n",
       "3                       {'C': 0.1}           0.848431           0.851834   \n",
       "4                         {'C': 1}           0.848273           0.851834   \n",
       "5                        {'C': 10}           0.848221           0.851782   \n",
       "6                       {'C': 100}           0.848221           0.851782   \n",
       "7     {'class_weight': 'balanced'}           0.790700           0.796672   \n",
       "8           {'class_weight': None}           0.848273           0.851834   \n",
       "9          {'solver': 'newton-cg'}           0.848273           0.851887   \n",
       "10             {'solver': 'lbfgs'}           0.848273           0.851834   \n",
       "11         {'solver': 'liblinear'}           0.848273           0.851939   \n",
       "12               {'solver': 'sag'}           0.848273           0.851834   \n",
       "13              {'solver': 'saga'}           0.848273           0.851887   \n",
       "14         {'multi_class': 'auto'}           0.848273           0.851834   \n",
       "15          {'multi_class': 'ovr'}           0.848273           0.851834   \n",
       "16  {'multi_class': 'multinomial'}           0.848273           0.851834   \n",
       "\n",
       "    split2_test_score  split3_test_score  split4_test_score  mean_test_score  \\\n",
       "0                 NaN                NaN                NaN              NaN   \n",
       "1            0.848528           0.844381           0.849997         0.848603   \n",
       "2                 NaN                NaN                NaN              NaN   \n",
       "3            0.848580           0.844434           0.849735         0.848603   \n",
       "4            0.848528           0.844381           0.849997         0.848603   \n",
       "5            0.848475           0.844329           0.850102         0.848582   \n",
       "6            0.848475           0.844329           0.850102         0.848582   \n",
       "7            0.796043           0.794521           0.797617         0.795111   \n",
       "8            0.848528           0.844381           0.849997         0.848603   \n",
       "9            0.848528           0.844329           0.850050         0.848613   \n",
       "10           0.848528           0.844381           0.849997         0.848603   \n",
       "11           0.848528           0.844329           0.850050         0.848624   \n",
       "12           0.848528           0.844329           0.850050         0.848603   \n",
       "13           0.848528           0.844329           0.850050         0.848613   \n",
       "14           0.848528           0.844381           0.849997         0.848603   \n",
       "15           0.848528           0.844381           0.849997         0.848603   \n",
       "16           0.848475           0.844329           0.850102         0.848603   \n",
       "\n",
       "    std_test_score  rank_test_score  \n",
       "0              NaN               17  \n",
       "1         0.002463                5  \n",
       "2              NaN               16  \n",
       "3         0.002414               12  \n",
       "4         0.002463                5  \n",
       "5         0.002481               13  \n",
       "6         0.002481               13  \n",
       "7         0.002425               15  \n",
       "8         0.002463                5  \n",
       "9         0.002500                2  \n",
       "10        0.002463                5  \n",
       "11        0.002514                1  \n",
       "12        0.002487                4  \n",
       "13        0.002500                2  \n",
       "14        0.002463                5  \n",
       "15        0.002463                5  \n",
       "16        0.002493                5  "
      ]
     },
     "execution_count": 60,
     "metadata": {},
     "output_type": "execute_result"
    }
   ],
   "source": [
    "grid_results=pd.DataFrame(grid.cv_results_)\n",
    "grid_results"
   ]
  },
  {
   "cell_type": "code",
   "execution_count": 61,
   "metadata": {
    "_kg_hide-input": true,
    "execution": {
     "iopub.execute_input": "2020-09-21T16:35:57.626736Z",
     "iopub.status.busy": "2020-09-21T16:35:57.626133Z",
     "iopub.status.idle": "2020-09-21T16:35:57.630790Z",
     "shell.execute_reply": "2020-09-21T16:35:57.631273Z"
    },
    "papermill": {
     "duration": 0.070481,
     "end_time": "2020-09-21T16:35:57.631414",
     "exception": false,
     "start_time": "2020-09-21T16:35:57.560933",
     "status": "completed"
    },
    "tags": []
   },
   "outputs": [
    {
     "name": "stdout",
     "output_type": "stream",
     "text": [
      "Using grid search, the best parameters of the model should be {'solver': 'liblinear'}\n"
     ]
    }
   ],
   "source": [
    "print(\"Using grid search, the best parameters of the model should be\",grid.best_params_)"
   ]
  },
  {
   "cell_type": "markdown",
   "metadata": {
    "papermill": {
     "duration": 0.060453,
     "end_time": "2020-09-21T16:35:57.752453",
     "exception": false,
     "start_time": "2020-09-21T16:35:57.692000",
     "status": "completed"
    },
    "tags": []
   },
   "source": [
    "Let's see how much grid search improved our model:"
   ]
  },
  {
   "cell_type": "code",
   "execution_count": 62,
   "metadata": {
    "execution": {
     "iopub.execute_input": "2020-09-21T16:35:57.880779Z",
     "iopub.status.busy": "2020-09-21T16:35:57.880113Z",
     "iopub.status.idle": "2020-09-21T16:35:57.889511Z",
     "shell.execute_reply": "2020-09-21T16:35:57.888825Z"
    },
    "papermill": {
     "duration": 0.077212,
     "end_time": "2020-09-21T16:35:57.889649",
     "exception": false,
     "start_time": "2020-09-21T16:35:57.812437",
     "status": "completed"
    },
    "tags": []
   },
   "outputs": [],
   "source": [
    "y_predict2=grid.predict(x_test)"
   ]
  },
  {
   "cell_type": "code",
   "execution_count": 63,
   "metadata": {
    "execution": {
     "iopub.execute_input": "2020-09-21T16:35:58.020559Z",
     "iopub.status.busy": "2020-09-21T16:35:58.019940Z",
     "iopub.status.idle": "2020-09-21T16:35:58.099918Z",
     "shell.execute_reply": "2020-09-21T16:35:58.099472Z"
    },
    "papermill": {
     "duration": 0.143693,
     "end_time": "2020-09-21T16:35:58.100026",
     "exception": false,
     "start_time": "2020-09-21T16:35:57.956333",
     "status": "completed"
    },
    "tags": []
   },
   "outputs": [
    {
     "name": "stdout",
     "output_type": "stream",
     "text": [
      "              precision    recall  f1-score   support\n",
      "\n",
      "           0       0.87      0.94      0.91     36491\n",
      "           1       0.72      0.51      0.60     10432\n",
      "\n",
      "    accuracy                           0.85     46923\n",
      "   macro avg       0.79      0.73      0.75     46923\n",
      "weighted avg       0.84      0.85      0.84     46923\n",
      "\n"
     ]
    }
   ],
   "source": [
    "print(classification_report(y_test,y_predict2))"
   ]
  },
  {
   "cell_type": "code",
   "execution_count": 64,
   "metadata": {
    "execution": {
     "iopub.execute_input": "2020-09-21T16:35:58.226601Z",
     "iopub.status.busy": "2020-09-21T16:35:58.225679Z",
     "iopub.status.idle": "2020-09-21T16:35:58.397761Z",
     "shell.execute_reply": "2020-09-21T16:35:58.397187Z"
    },
    "papermill": {
     "duration": 0.237194,
     "end_time": "2020-09-21T16:35:58.397881",
     "exception": false,
     "start_time": "2020-09-21T16:35:58.160687",
     "status": "completed"
    },
    "tags": []
   },
   "outputs": [
    {
     "data": {
      "image/png": "[encoded data removed]",
      "text/plain": [
       "<Figure size 432x288 with 2 Axes>"
      ]
     },
     "metadata": {
      "needs_background": "light"
     },
     "output_type": "display_data"
    }
   ],
   "source": [
    "cm(y_predict2)"
   ]
  },
  {
   "cell_type": "code",
   "execution_count": 65,
   "metadata": {
    "_kg_hide-input": true,
    "execution": {
     "iopub.execute_input": "2020-09-21T16:35:58.528464Z",
     "iopub.status.busy": "2020-09-21T16:35:58.527415Z",
     "iopub.status.idle": "2020-09-21T16:35:58.551654Z",
     "shell.execute_reply": "2020-09-21T16:35:58.552096Z"
    },
    "papermill": {
     "duration": 0.092853,
     "end_time": "2020-09-21T16:35:58.552224",
     "exception": false,
     "start_time": "2020-09-21T16:35:58.459371",
     "status": "completed"
    },
    "tags": []
   },
   "outputs": [
    {
     "name": "stdout",
     "output_type": "stream",
     "text": [
      "The grid seach only improved the model's accuracy from 0.846706 to 0.846728.\n"
     ]
    }
   ],
   "source": [
    "print(\"The grid seach only improved the model's accuracy from {num1:.6f} to {num2:.6f}.\".format(num1=model.score(x_test,y_test),num2=grid.score(x_test,y_test)))"
   ]
  },
  {
   "cell_type": "markdown",
   "metadata": {
    "papermill": {
     "duration": 0.060999,
     "end_time": "2020-09-21T16:35:58.675461",
     "exception": false,
     "start_time": "2020-09-21T16:35:58.614462",
     "status": "completed"
    },
    "tags": []
   },
   "source": [
    "So there's good news **or** bad news - depends on if you're a glass half full or a glass half empty type of person.\n",
    "\n",
    "Seems like the original model was already pretty good as conducting a grid search only improved the model ever so slightly by 0.000022 by only correctly predicting one more case of no rain.\n",
    "\n",
    "**Now should I bring my umbrella or sunglasses..**"
   ]
  }
 ],
 "metadata": {
  "kernelspec": {
   "display_name": "Python 3",
   "language": "python",
   "name": "python3"
  },
  "language_info": {
   "codemirror_mode": {
    "name": "ipython",
    "version": 3
   },
   "file_extension": ".py",
   "mimetype": "text/x-python",
   "name": "python",
   "nbconvert_exporter": "python",
   "pygments_lexer": "ipython3",
   "version": "3.7.6"
  },
  "papermill": {
   "duration": 127.109286,
   "end_time": "2020-09-21T16:35:59.839371",
   "environment_variables": {},
   "exception": null,
   "input_path": "__notebook__.ipynb",
   "output_path": "__notebook__.ipynb",
   "parameters": {},
   "start_time": "2020-09-21T16:33:52.730085",
   "version": "2.1.0"
  }
 },
 "nbformat": 4,
 "nbformat_minor": 4
}
