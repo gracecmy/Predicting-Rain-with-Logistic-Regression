{
 "cells": [
  {
   "cell_type": "markdown",
   "metadata": {
    "papermill": {
     "duration": 0.05016,
     "end_time": "2020-12-30T20:34:47.440870",
     "exception": false,
     "start_time": "2020-12-30T20:34:47.390710",
     "status": "completed"
    },
    "tags": []
   },
   "source": [
    "**Will it rain or won't it rain? I gotta know so I know how to dress!!**"
   ]
  },
  {
   "cell_type": "code",
   "execution_count": 1,
   "metadata": {
    "_cell_guid": "b1076dfc-b9ad-4769-8c92-a6c4dae69d19",
    "_uuid": "8f2839f25d086af736a60e9eeb907d3b93b6e0e5",
    "execution": {
     "iopub.execute_input": "2020-12-30T20:34:47.543041Z",
     "iopub.status.busy": "2020-12-30T20:34:47.542340Z",
     "iopub.status.idle": "2020-12-30T20:34:48.966887Z",
     "shell.execute_reply": "2020-12-30T20:34:48.967410Z"
    },
    "papermill": {
     "duration": 1.477257,
     "end_time": "2020-12-30T20:34:48.967606",
     "exception": false,
     "start_time": "2020-12-30T20:34:47.490349",
     "status": "completed"
    },
    "tags": []
   },
   "outputs": [],
   "source": [
    "import numpy as np\n",
    "import pandas as pd\n",
    "pd.set_option(\"display.max_columns\",100)\n",
    "pd.set_option(\"display.max_rows\",120)\n",
    "\n",
    "import matplotlib.pyplot as plt\n",
    "import seaborn as sns\n",
    "%matplotlib inline\n",
    "params={\"figure.facecolor\":(0.0,0.0,0.0,0),\n",
    "        \"axes.facecolor\":(1.0,1.0,1.0,1),\n",
    "        \"savefig.facecolor\":(0.0,0.0,0.0,0)}\n",
    "plt.rcParams.update(params)\n",
    "\n",
    "from sklearn.model_selection import train_test_split\n",
    "from sklearn.preprocessing import StandardScaler\n",
    "from sklearn.linear_model import LogisticRegression\n",
    "from sklearn.feature_selection import RFECV\n",
    "from sklearn.model_selection import GridSearchCV\n",
    "from sklearn.metrics import classification_report,roc_auc_score,roc_curve,confusion_matrix\n",
    "\n",
    "import warnings\n",
    "warnings.filterwarnings(\"ignore\")"
   ]
  },
  {
   "cell_type": "code",
   "execution_count": 2,
   "metadata": {
    "_cell_guid": "79c7e3d0-c299-4dcb-8224-4455121ee9b0",
    "_uuid": "d629ff2d2480ee46fbb7e2d37f6b5fab8052498a",
    "execution": {
     "iopub.execute_input": "2020-12-30T20:34:49.072674Z",
     "iopub.status.busy": "2020-12-30T20:34:49.071897Z",
     "iopub.status.idle": "2020-12-30T20:34:49.770283Z",
     "shell.execute_reply": "2020-12-30T20:34:49.770806Z"
    },
    "papermill": {
     "duration": 0.751228,
     "end_time": "2020-12-30T20:34:49.770962",
     "exception": false,
     "start_time": "2020-12-30T20:34:49.019734",
     "status": "completed"
    },
    "tags": []
   },
   "outputs": [
    {
     "data": {
      "text/html": [
       "<div>\n",
       "<style scoped>\n",
       "    .dataframe tbody tr th:only-of-type {\n",
       "        vertical-align: middle;\n",
       "    }\n",
       "\n",
       "    .dataframe tbody tr th {\n",
       "        vertical-align: top;\n",
       "    }\n",
       "\n",
       "    .dataframe thead th {\n",
       "        text-align: right;\n",
       "    }\n",
       "</style>\n",
       "<table border=\"1\" class=\"dataframe\">\n",
       "  <thead>\n",
       "    <tr style=\"text-align: right;\">\n",
       "      <th></th>\n",
       "      <th>Date</th>\n",
       "      <th>Location</th>\n",
       "      <th>MinTemp</th>\n",
       "      <th>MaxTemp</th>\n",
       "      <th>Rainfall</th>\n",
       "      <th>Evaporation</th>\n",
       "      <th>Sunshine</th>\n",
       "      <th>WindGustDir</th>\n",
       "      <th>WindGustSpeed</th>\n",
       "      <th>WindDir9am</th>\n",
       "      <th>WindDir3pm</th>\n",
       "      <th>WindSpeed9am</th>\n",
       "      <th>WindSpeed3pm</th>\n",
       "      <th>Humidity9am</th>\n",
       "      <th>Humidity3pm</th>\n",
       "      <th>Pressure9am</th>\n",
       "      <th>Pressure3pm</th>\n",
       "      <th>Cloud9am</th>\n",
       "      <th>Cloud3pm</th>\n",
       "      <th>Temp9am</th>\n",
       "      <th>Temp3pm</th>\n",
       "      <th>RainToday</th>\n",
       "      <th>RainTomorrow</th>\n",
       "    </tr>\n",
       "  </thead>\n",
       "  <tbody>\n",
       "    <tr>\n",
       "      <th>0</th>\n",
       "      <td>2008-12-01</td>\n",
       "      <td>Albury</td>\n",
       "      <td>13.4</td>\n",
       "      <td>22.9</td>\n",
       "      <td>0.6</td>\n",
       "      <td>NaN</td>\n",
       "      <td>NaN</td>\n",
       "      <td>W</td>\n",
       "      <td>44.0</td>\n",
       "      <td>W</td>\n",
       "      <td>WNW</td>\n",
       "      <td>20.0</td>\n",
       "      <td>24.0</td>\n",
       "      <td>71.0</td>\n",
       "      <td>22.0</td>\n",
       "      <td>1007.7</td>\n",
       "      <td>1007.1</td>\n",
       "      <td>8.0</td>\n",
       "      <td>NaN</td>\n",
       "      <td>16.9</td>\n",
       "      <td>21.8</td>\n",
       "      <td>No</td>\n",
       "      <td>No</td>\n",
       "    </tr>\n",
       "    <tr>\n",
       "      <th>1</th>\n",
       "      <td>2008-12-02</td>\n",
       "      <td>Albury</td>\n",
       "      <td>7.4</td>\n",
       "      <td>25.1</td>\n",
       "      <td>0.0</td>\n",
       "      <td>NaN</td>\n",
       "      <td>NaN</td>\n",
       "      <td>WNW</td>\n",
       "      <td>44.0</td>\n",
       "      <td>NNW</td>\n",
       "      <td>WSW</td>\n",
       "      <td>4.0</td>\n",
       "      <td>22.0</td>\n",
       "      <td>44.0</td>\n",
       "      <td>25.0</td>\n",
       "      <td>1010.6</td>\n",
       "      <td>1007.8</td>\n",
       "      <td>NaN</td>\n",
       "      <td>NaN</td>\n",
       "      <td>17.2</td>\n",
       "      <td>24.3</td>\n",
       "      <td>No</td>\n",
       "      <td>No</td>\n",
       "    </tr>\n",
       "    <tr>\n",
       "      <th>2</th>\n",
       "      <td>2008-12-03</td>\n",
       "      <td>Albury</td>\n",
       "      <td>12.9</td>\n",
       "      <td>25.7</td>\n",
       "      <td>0.0</td>\n",
       "      <td>NaN</td>\n",
       "      <td>NaN</td>\n",
       "      <td>WSW</td>\n",
       "      <td>46.0</td>\n",
       "      <td>W</td>\n",
       "      <td>WSW</td>\n",
       "      <td>19.0</td>\n",
       "      <td>26.0</td>\n",
       "      <td>38.0</td>\n",
       "      <td>30.0</td>\n",
       "      <td>1007.6</td>\n",
       "      <td>1008.7</td>\n",
       "      <td>NaN</td>\n",
       "      <td>2.0</td>\n",
       "      <td>21.0</td>\n",
       "      <td>23.2</td>\n",
       "      <td>No</td>\n",
       "      <td>No</td>\n",
       "    </tr>\n",
       "    <tr>\n",
       "      <th>3</th>\n",
       "      <td>2008-12-04</td>\n",
       "      <td>Albury</td>\n",
       "      <td>9.2</td>\n",
       "      <td>28.0</td>\n",
       "      <td>0.0</td>\n",
       "      <td>NaN</td>\n",
       "      <td>NaN</td>\n",
       "      <td>NE</td>\n",
       "      <td>24.0</td>\n",
       "      <td>SE</td>\n",
       "      <td>E</td>\n",
       "      <td>11.0</td>\n",
       "      <td>9.0</td>\n",
       "      <td>45.0</td>\n",
       "      <td>16.0</td>\n",
       "      <td>1017.6</td>\n",
       "      <td>1012.8</td>\n",
       "      <td>NaN</td>\n",
       "      <td>NaN</td>\n",
       "      <td>18.1</td>\n",
       "      <td>26.5</td>\n",
       "      <td>No</td>\n",
       "      <td>No</td>\n",
       "    </tr>\n",
       "    <tr>\n",
       "      <th>4</th>\n",
       "      <td>2008-12-05</td>\n",
       "      <td>Albury</td>\n",
       "      <td>17.5</td>\n",
       "      <td>32.3</td>\n",
       "      <td>1.0</td>\n",
       "      <td>NaN</td>\n",
       "      <td>NaN</td>\n",
       "      <td>W</td>\n",
       "      <td>41.0</td>\n",
       "      <td>ENE</td>\n",
       "      <td>NW</td>\n",
       "      <td>7.0</td>\n",
       "      <td>20.0</td>\n",
       "      <td>82.0</td>\n",
       "      <td>33.0</td>\n",
       "      <td>1010.8</td>\n",
       "      <td>1006.0</td>\n",
       "      <td>7.0</td>\n",
       "      <td>8.0</td>\n",
       "      <td>17.8</td>\n",
       "      <td>29.7</td>\n",
       "      <td>No</td>\n",
       "      <td>No</td>\n",
       "    </tr>\n",
       "  </tbody>\n",
       "</table>\n",
       "</div>"
      ],
      "text/plain": [
       "         Date Location  MinTemp  MaxTemp  Rainfall  Evaporation  Sunshine  \\\n",
       "0  2008-12-01   Albury     13.4     22.9       0.6          NaN       NaN   \n",
       "1  2008-12-02   Albury      7.4     25.1       0.0          NaN       NaN   \n",
       "2  2008-12-03   Albury     12.9     25.7       0.0          NaN       NaN   \n",
       "3  2008-12-04   Albury      9.2     28.0       0.0          NaN       NaN   \n",
       "4  2008-12-05   Albury     17.5     32.3       1.0          NaN       NaN   \n",
       "\n",
       "  WindGustDir  WindGustSpeed WindDir9am WindDir3pm  WindSpeed9am  \\\n",
       "0           W           44.0          W        WNW          20.0   \n",
       "1         WNW           44.0        NNW        WSW           4.0   \n",
       "2         WSW           46.0          W        WSW          19.0   \n",
       "3          NE           24.0         SE          E          11.0   \n",
       "4           W           41.0        ENE         NW           7.0   \n",
       "\n",
       "   WindSpeed3pm  Humidity9am  Humidity3pm  Pressure9am  Pressure3pm  Cloud9am  \\\n",
       "0          24.0         71.0         22.0       1007.7       1007.1       8.0   \n",
       "1          22.0         44.0         25.0       1010.6       1007.8       NaN   \n",
       "2          26.0         38.0         30.0       1007.6       1008.7       NaN   \n",
       "3           9.0         45.0         16.0       1017.6       1012.8       NaN   \n",
       "4          20.0         82.0         33.0       1010.8       1006.0       7.0   \n",
       "\n",
       "   Cloud3pm  Temp9am  Temp3pm RainToday RainTomorrow  \n",
       "0       NaN     16.9     21.8        No           No  \n",
       "1       NaN     17.2     24.3        No           No  \n",
       "2       2.0     21.0     23.2        No           No  \n",
       "3       NaN     18.1     26.5        No           No  \n",
       "4       8.0     17.8     29.7        No           No  "
      ]
     },
     "execution_count": 2,
     "metadata": {},
     "output_type": "execute_result"
    }
   ],
   "source": [
    "df=pd.read_csv(\"../input/weather-dataset-rattle-package/weatherAUS.csv\")\n",
    "df.head()"
   ]
  },
  {
   "cell_type": "markdown",
   "metadata": {
    "papermill": {
     "duration": 0.051177,
     "end_time": "2020-12-30T20:34:49.876103",
     "exception": false,
     "start_time": "2020-12-30T20:34:49.824926",
     "status": "completed"
    },
    "tags": []
   },
   "source": [
    "Let's check our data:"
   ]
  },
  {
   "cell_type": "code",
   "execution_count": 3,
   "metadata": {
    "execution": {
     "iopub.execute_input": "2020-12-30T20:34:49.983014Z",
     "iopub.status.busy": "2020-12-30T20:34:49.982321Z",
     "iopub.status.idle": "2020-12-30T20:34:50.114555Z",
     "shell.execute_reply": "2020-12-30T20:34:50.115647Z"
    },
    "papermill": {
     "duration": 0.18773,
     "end_time": "2020-12-30T20:34:50.116083",
     "exception": false,
     "start_time": "2020-12-30T20:34:49.928353",
     "status": "completed"
    },
    "tags": []
   },
   "outputs": [
    {
     "name": "stdout",
     "output_type": "stream",
     "text": [
      "<class 'pandas.core.frame.DataFrame'>\n",
      "RangeIndex: 145460 entries, 0 to 145459\n",
      "Data columns (total 23 columns):\n",
      " #   Column         Non-Null Count   Dtype  \n",
      "---  ------         --------------   -----  \n",
      " 0   Date           145460 non-null  object \n",
      " 1   Location       145460 non-null  object \n",
      " 2   MinTemp        143975 non-null  float64\n",
      " 3   MaxTemp        144199 non-null  float64\n",
      " 4   Rainfall       142199 non-null  float64\n",
      " 5   Evaporation    82670 non-null   float64\n",
      " 6   Sunshine       75625 non-null   float64\n",
      " 7   WindGustDir    135134 non-null  object \n",
      " 8   WindGustSpeed  135197 non-null  float64\n",
      " 9   WindDir9am     134894 non-null  object \n",
      " 10  WindDir3pm     141232 non-null  object \n",
      " 11  WindSpeed9am   143693 non-null  float64\n",
      " 12  WindSpeed3pm   142398 non-null  float64\n",
      " 13  Humidity9am    142806 non-null  float64\n",
      " 14  Humidity3pm    140953 non-null  float64\n",
      " 15  Pressure9am    130395 non-null  float64\n",
      " 16  Pressure3pm    130432 non-null  float64\n",
      " 17  Cloud9am       89572 non-null   float64\n",
      " 18  Cloud3pm       86102 non-null   float64\n",
      " 19  Temp9am        143693 non-null  float64\n",
      " 20  Temp3pm        141851 non-null  float64\n",
      " 21  RainToday      142199 non-null  object \n",
      " 22  RainTomorrow   142193 non-null  object \n",
      "dtypes: float64(16), object(7)\n",
      "memory usage: 25.5+ MB\n"
     ]
    }
   ],
   "source": [
    "df.info()"
   ]
  },
  {
   "cell_type": "markdown",
   "metadata": {
    "papermill": {
     "duration": 0.058792,
     "end_time": "2020-12-30T20:34:50.226898",
     "exception": false,
     "start_time": "2020-12-30T20:34:50.168106",
     "status": "completed"
    },
    "tags": []
   },
   "source": [
    "There are 142193 readings and 23 columns, of which *RainTomorrow* is our target variable. We also have a mixture of numerical and categorical variables, and some missing values (which we shall tackle when we split the data into the training and testing sets).\n",
    "\n",
    "First let's see view our target variable ***RainTomorrow***:"
   ]
  },
  {
   "cell_type": "code",
   "execution_count": 4,
   "metadata": {
    "execution": {
     "iopub.execute_input": "2020-12-30T20:34:50.333426Z",
     "iopub.status.busy": "2020-12-30T20:34:50.332756Z",
     "iopub.status.idle": "2020-12-30T20:34:50.376746Z",
     "shell.execute_reply": "2020-12-30T20:34:50.376197Z"
    },
    "papermill": {
     "duration": 0.098152,
     "end_time": "2020-12-30T20:34:50.376866",
     "exception": false,
     "start_time": "2020-12-30T20:34:50.278714",
     "status": "completed"
    },
    "tags": []
   },
   "outputs": [
    {
     "data": {
      "text/plain": [
       "No     110316\n",
       "Yes     31877\n",
       "Name: RainTomorrow, dtype: int64"
      ]
     },
     "execution_count": 4,
     "metadata": {},
     "output_type": "execute_result"
    }
   ],
   "source": [
    "df[\"RainTomorrow\"].value_counts()"
   ]
  },
  {
   "cell_type": "code",
   "execution_count": 5,
   "metadata": {
    "execution": {
     "iopub.execute_input": "2020-12-30T20:34:50.520392Z",
     "iopub.status.busy": "2020-12-30T20:34:50.500062Z",
     "iopub.status.idle": "2020-12-30T20:34:50.706478Z",
     "shell.execute_reply": "2020-12-30T20:34:50.705868Z"
    },
    "papermill": {
     "duration": 0.277217,
     "end_time": "2020-12-30T20:34:50.706609",
     "exception": false,
     "start_time": "2020-12-30T20:34:50.429392",
     "status": "completed"
    },
    "tags": []
   },
   "outputs": [
    {
     "data": {
      "text/plain": [
       "Text(0, 0.5, 'Count')"
      ]
     },
     "execution_count": 5,
     "metadata": {},
     "output_type": "execute_result"
    },
    {
     "data": {
      "image/png": "[encoded data removed]",
      "text/plain": [
       "<Figure size 432x288 with 1 Axes>"
      ]
     },
     "metadata": {
      "needs_background": "light"
     },
     "output_type": "display_data"
    }
   ],
   "source": [
    "sns.countplot(df[\"RainTomorrow\"],palette=[\"lightcoral\",\"skyblue\"])\n",
    "plt.ylabel(\"Count\")"
   ]
  },
  {
   "cell_type": "code",
   "execution_count": 6,
   "metadata": {
    "execution": {
     "iopub.execute_input": "2020-12-30T20:34:50.821180Z",
     "iopub.status.busy": "2020-12-30T20:34:50.820476Z",
     "iopub.status.idle": "2020-12-30T20:34:50.929312Z",
     "shell.execute_reply": "2020-12-30T20:34:50.929838Z"
    },
    "papermill": {
     "duration": 0.170884,
     "end_time": "2020-12-30T20:34:50.930019",
     "exception": false,
     "start_time": "2020-12-30T20:34:50.759135",
     "status": "completed"
    },
    "tags": []
   },
   "outputs": [],
   "source": [
    "df[\"RainTomorrow\"]=df[\"RainTomorrow\"].apply(lambda x:0 if x==\"No\" else 1)"
   ]
  },
  {
   "cell_type": "markdown",
   "metadata": {
    "papermill": {
     "duration": 0.05457,
     "end_time": "2020-12-30T20:34:51.038337",
     "exception": false,
     "start_time": "2020-12-30T20:34:50.983767",
     "status": "completed"
    },
    "tags": []
   },
   "source": [
    "Now let's go through and check the values for each feature. We will start with the numerical features:"
   ]
  },
  {
   "cell_type": "code",
   "execution_count": 7,
   "metadata": {
    "execution": {
     "iopub.execute_input": "2020-12-30T20:34:51.147828Z",
     "iopub.status.busy": "2020-12-30T20:34:51.147205Z",
     "iopub.status.idle": "2020-12-30T20:34:51.295164Z",
     "shell.execute_reply": "2020-12-30T20:34:51.295649Z"
    },
    "papermill": {
     "duration": 0.204386,
     "end_time": "2020-12-30T20:34:51.295797",
     "exception": false,
     "start_time": "2020-12-30T20:34:51.091411",
     "status": "completed"
    },
    "tags": []
   },
   "outputs": [
    {
     "data": {
      "text/html": [
       "<div>\n",
       "<style scoped>\n",
       "    .dataframe tbody tr th:only-of-type {\n",
       "        vertical-align: middle;\n",
       "    }\n",
       "\n",
       "    .dataframe tbody tr th {\n",
       "        vertical-align: top;\n",
       "    }\n",
       "\n",
       "    .dataframe thead th {\n",
       "        text-align: right;\n",
       "    }\n",
       "</style>\n",
       "<table border=\"1\" class=\"dataframe\">\n",
       "  <thead>\n",
       "    <tr style=\"text-align: right;\">\n",
       "      <th></th>\n",
       "      <th>count</th>\n",
       "      <th>mean</th>\n",
       "      <th>std</th>\n",
       "      <th>min</th>\n",
       "      <th>25%</th>\n",
       "      <th>50%</th>\n",
       "      <th>75%</th>\n",
       "      <th>max</th>\n",
       "    </tr>\n",
       "  </thead>\n",
       "  <tbody>\n",
       "    <tr>\n",
       "      <th>MinTemp</th>\n",
       "      <td>143975.0</td>\n",
       "      <td>12.194034</td>\n",
       "      <td>6.398495</td>\n",
       "      <td>-8.5</td>\n",
       "      <td>7.6</td>\n",
       "      <td>12.0</td>\n",
       "      <td>16.9</td>\n",
       "      <td>33.9</td>\n",
       "    </tr>\n",
       "    <tr>\n",
       "      <th>MaxTemp</th>\n",
       "      <td>144199.0</td>\n",
       "      <td>23.221348</td>\n",
       "      <td>7.119049</td>\n",
       "      <td>-4.8</td>\n",
       "      <td>17.9</td>\n",
       "      <td>22.6</td>\n",
       "      <td>28.2</td>\n",
       "      <td>48.1</td>\n",
       "    </tr>\n",
       "    <tr>\n",
       "      <th>Rainfall</th>\n",
       "      <td>142199.0</td>\n",
       "      <td>2.360918</td>\n",
       "      <td>8.478060</td>\n",
       "      <td>0.0</td>\n",
       "      <td>0.0</td>\n",
       "      <td>0.0</td>\n",
       "      <td>0.8</td>\n",
       "      <td>371.0</td>\n",
       "    </tr>\n",
       "    <tr>\n",
       "      <th>Evaporation</th>\n",
       "      <td>82670.0</td>\n",
       "      <td>5.468232</td>\n",
       "      <td>4.193704</td>\n",
       "      <td>0.0</td>\n",
       "      <td>2.6</td>\n",
       "      <td>4.8</td>\n",
       "      <td>7.4</td>\n",
       "      <td>145.0</td>\n",
       "    </tr>\n",
       "    <tr>\n",
       "      <th>Sunshine</th>\n",
       "      <td>75625.0</td>\n",
       "      <td>7.611178</td>\n",
       "      <td>3.785483</td>\n",
       "      <td>0.0</td>\n",
       "      <td>4.8</td>\n",
       "      <td>8.4</td>\n",
       "      <td>10.6</td>\n",
       "      <td>14.5</td>\n",
       "    </tr>\n",
       "    <tr>\n",
       "      <th>WindGustSpeed</th>\n",
       "      <td>135197.0</td>\n",
       "      <td>40.035230</td>\n",
       "      <td>13.607062</td>\n",
       "      <td>6.0</td>\n",
       "      <td>31.0</td>\n",
       "      <td>39.0</td>\n",
       "      <td>48.0</td>\n",
       "      <td>135.0</td>\n",
       "    </tr>\n",
       "    <tr>\n",
       "      <th>WindSpeed9am</th>\n",
       "      <td>143693.0</td>\n",
       "      <td>14.043426</td>\n",
       "      <td>8.915375</td>\n",
       "      <td>0.0</td>\n",
       "      <td>7.0</td>\n",
       "      <td>13.0</td>\n",
       "      <td>19.0</td>\n",
       "      <td>130.0</td>\n",
       "    </tr>\n",
       "    <tr>\n",
       "      <th>WindSpeed3pm</th>\n",
       "      <td>142398.0</td>\n",
       "      <td>18.662657</td>\n",
       "      <td>8.809800</td>\n",
       "      <td>0.0</td>\n",
       "      <td>13.0</td>\n",
       "      <td>19.0</td>\n",
       "      <td>24.0</td>\n",
       "      <td>87.0</td>\n",
       "    </tr>\n",
       "    <tr>\n",
       "      <th>Humidity9am</th>\n",
       "      <td>142806.0</td>\n",
       "      <td>68.880831</td>\n",
       "      <td>19.029164</td>\n",
       "      <td>0.0</td>\n",
       "      <td>57.0</td>\n",
       "      <td>70.0</td>\n",
       "      <td>83.0</td>\n",
       "      <td>100.0</td>\n",
       "    </tr>\n",
       "    <tr>\n",
       "      <th>Humidity3pm</th>\n",
       "      <td>140953.0</td>\n",
       "      <td>51.539116</td>\n",
       "      <td>20.795902</td>\n",
       "      <td>0.0</td>\n",
       "      <td>37.0</td>\n",
       "      <td>52.0</td>\n",
       "      <td>66.0</td>\n",
       "      <td>100.0</td>\n",
       "    </tr>\n",
       "    <tr>\n",
       "      <th>Pressure9am</th>\n",
       "      <td>130395.0</td>\n",
       "      <td>1017.649940</td>\n",
       "      <td>7.106530</td>\n",
       "      <td>980.5</td>\n",
       "      <td>1012.9</td>\n",
       "      <td>1017.6</td>\n",
       "      <td>1022.4</td>\n",
       "      <td>1041.0</td>\n",
       "    </tr>\n",
       "    <tr>\n",
       "      <th>Pressure3pm</th>\n",
       "      <td>130432.0</td>\n",
       "      <td>1015.255889</td>\n",
       "      <td>7.037414</td>\n",
       "      <td>977.1</td>\n",
       "      <td>1010.4</td>\n",
       "      <td>1015.2</td>\n",
       "      <td>1020.0</td>\n",
       "      <td>1039.6</td>\n",
       "    </tr>\n",
       "    <tr>\n",
       "      <th>Cloud9am</th>\n",
       "      <td>89572.0</td>\n",
       "      <td>4.447461</td>\n",
       "      <td>2.887159</td>\n",
       "      <td>0.0</td>\n",
       "      <td>1.0</td>\n",
       "      <td>5.0</td>\n",
       "      <td>7.0</td>\n",
       "      <td>9.0</td>\n",
       "    </tr>\n",
       "    <tr>\n",
       "      <th>Cloud3pm</th>\n",
       "      <td>86102.0</td>\n",
       "      <td>4.509930</td>\n",
       "      <td>2.720357</td>\n",
       "      <td>0.0</td>\n",
       "      <td>2.0</td>\n",
       "      <td>5.0</td>\n",
       "      <td>7.0</td>\n",
       "      <td>9.0</td>\n",
       "    </tr>\n",
       "    <tr>\n",
       "      <th>Temp9am</th>\n",
       "      <td>143693.0</td>\n",
       "      <td>16.990631</td>\n",
       "      <td>6.488753</td>\n",
       "      <td>-7.2</td>\n",
       "      <td>12.3</td>\n",
       "      <td>16.7</td>\n",
       "      <td>21.6</td>\n",
       "      <td>40.2</td>\n",
       "    </tr>\n",
       "    <tr>\n",
       "      <th>Temp3pm</th>\n",
       "      <td>141851.0</td>\n",
       "      <td>21.683390</td>\n",
       "      <td>6.936650</td>\n",
       "      <td>-5.4</td>\n",
       "      <td>16.6</td>\n",
       "      <td>21.1</td>\n",
       "      <td>26.4</td>\n",
       "      <td>46.7</td>\n",
       "    </tr>\n",
       "  </tbody>\n",
       "</table>\n",
       "</div>"
      ],
      "text/plain": [
       "                  count         mean        std    min     25%     50%  \\\n",
       "MinTemp        143975.0    12.194034   6.398495   -8.5     7.6    12.0   \n",
       "MaxTemp        144199.0    23.221348   7.119049   -4.8    17.9    22.6   \n",
       "Rainfall       142199.0     2.360918   8.478060    0.0     0.0     0.0   \n",
       "Evaporation     82670.0     5.468232   4.193704    0.0     2.6     4.8   \n",
       "Sunshine        75625.0     7.611178   3.785483    0.0     4.8     8.4   \n",
       "WindGustSpeed  135197.0    40.035230  13.607062    6.0    31.0    39.0   \n",
       "WindSpeed9am   143693.0    14.043426   8.915375    0.0     7.0    13.0   \n",
       "WindSpeed3pm   142398.0    18.662657   8.809800    0.0    13.0    19.0   \n",
       "Humidity9am    142806.0    68.880831  19.029164    0.0    57.0    70.0   \n",
       "Humidity3pm    140953.0    51.539116  20.795902    0.0    37.0    52.0   \n",
       "Pressure9am    130395.0  1017.649940   7.106530  980.5  1012.9  1017.6   \n",
       "Pressure3pm    130432.0  1015.255889   7.037414  977.1  1010.4  1015.2   \n",
       "Cloud9am        89572.0     4.447461   2.887159    0.0     1.0     5.0   \n",
       "Cloud3pm        86102.0     4.509930   2.720357    0.0     2.0     5.0   \n",
       "Temp9am        143693.0    16.990631   6.488753   -7.2    12.3    16.7   \n",
       "Temp3pm        141851.0    21.683390   6.936650   -5.4    16.6    21.1   \n",
       "\n",
       "                  75%     max  \n",
       "MinTemp          16.9    33.9  \n",
       "MaxTemp          28.2    48.1  \n",
       "Rainfall          0.8   371.0  \n",
       "Evaporation       7.4   145.0  \n",
       "Sunshine         10.6    14.5  \n",
       "WindGustSpeed    48.0   135.0  \n",
       "WindSpeed9am     19.0   130.0  \n",
       "WindSpeed3pm     24.0    87.0  \n",
       "Humidity9am      83.0   100.0  \n",
       "Humidity3pm      66.0   100.0  \n",
       "Pressure9am    1022.4  1041.0  \n",
       "Pressure3pm    1020.0  1039.6  \n",
       "Cloud9am          7.0     9.0  \n",
       "Cloud3pm          7.0     9.0  \n",
       "Temp9am          21.6    40.2  \n",
       "Temp3pm          26.4    46.7  "
      ]
     },
     "execution_count": 7,
     "metadata": {},
     "output_type": "execute_result"
    }
   ],
   "source": [
    "df.describe().drop([\"RainTomorrow\"],axis=1).T"
   ]
  },
  {
   "cell_type": "code",
   "execution_count": 8,
   "metadata": {
    "_kg_hide-input": true,
    "execution": {
     "iopub.execute_input": "2020-12-30T20:34:51.421359Z",
     "iopub.status.busy": "2020-12-30T20:34:51.420220Z",
     "iopub.status.idle": "2020-12-30T20:34:51.452051Z",
     "shell.execute_reply": "2020-12-30T20:34:51.451281Z"
    },
    "papermill": {
     "duration": 0.102088,
     "end_time": "2020-12-30T20:34:51.452193",
     "exception": false,
     "start_time": "2020-12-30T20:34:51.350105",
     "status": "completed"
    },
    "scrolled": true,
    "tags": []
   },
   "outputs": [
    {
     "name": "stdout",
     "output_type": "stream",
     "text": [
      "MinTemp : 1485 missing values.\n",
      "MaxTemp : 1261 missing values.\n",
      "Rainfall : 3261 missing values.\n",
      "Evaporation : 62790 missing values.\n",
      "Sunshine : 69835 missing values.\n",
      "WindGustSpeed : 10263 missing values.\n",
      "WindSpeed9am : 1767 missing values.\n",
      "WindSpeed3pm : 3062 missing values.\n",
      "Humidity9am : 2654 missing values.\n",
      "Humidity3pm : 4507 missing values.\n",
      "Pressure9am : 15065 missing values.\n",
      "Pressure3pm : 15028 missing values.\n",
      "Cloud9am : 55888 missing values.\n",
      "Cloud3pm : 59358 missing values.\n",
      "Temp9am : 1767 missing values.\n",
      "Temp3pm : 3609 missing values.\n"
     ]
    }
   ],
   "source": [
    "for column in df.select_dtypes(exclude=\"object\").drop([\"RainTomorrow\"],axis=1).columns:\n",
    "    print(column,\":\",df[column].isnull().sum(),\"missing values.\")"
   ]
  },
  {
   "cell_type": "markdown",
   "metadata": {
    "papermill": {
     "duration": 0.053393,
     "end_time": "2020-12-30T20:34:51.559137",
     "exception": false,
     "start_time": "2020-12-30T20:34:51.505744",
     "status": "completed"
    },
    "tags": []
   },
   "source": [
    "Quite a number of missing values, which we will impute after we split the data.\n",
    "\n",
    "For numerical features, it is important to remove any outliers to improve model's performance."
   ]
  },
  {
   "cell_type": "code",
   "execution_count": 9,
   "metadata": {
    "execution": {
     "iopub.execute_input": "2020-12-30T20:34:51.680831Z",
     "iopub.status.busy": "2020-12-30T20:34:51.679748Z",
     "iopub.status.idle": "2020-12-30T20:34:52.404286Z",
     "shell.execute_reply": "2020-12-30T20:34:52.403596Z"
    },
    "papermill": {
     "duration": 0.791292,
     "end_time": "2020-12-30T20:34:52.404400",
     "exception": false,
     "start_time": "2020-12-30T20:34:51.613108",
     "status": "completed"
    },
    "tags": []
   },
   "outputs": [
    {
     "data": {
      "text/plain": [
       "<matplotlib.axes._subplots.AxesSubplot at 0x7f64a714f1d0>"
      ]
     },
     "execution_count": 9,
     "metadata": {},
     "output_type": "execute_result"
    },
    {
     "data": {
      "image/png": "[encoded data removed]",
      "text/plain": [
       "<Figure size 864x360 with 2 Axes>"
      ]
     },
     "metadata": {
      "needs_background": "light"
     },
     "output_type": "display_data"
    }
   ],
   "source": [
    "fig,axes=plt.subplots(1,2,figsize=(12,5))\n",
    "\n",
    "df[df.select_dtypes(exclude=\"object\").columns.drop([\"Pressure9am\",\"Pressure3pm\",\"RainTomorrow\"])].plot(kind=\"box\",color=\"#AE9CCD\",ax=axes[0])\n",
    "axes[0].set_xticklabels(axes[0].get_xticklabels(),rotation=90)\n",
    "axes[0].set_ylabel(\"Measurement\")\n",
    "\n",
    "df[[\"Pressure9am\",\"Pressure3pm\"]].plot(kind=\"box\",color=\"#AE9CCD\",ax=axes[1])"
   ]
  },
  {
   "cell_type": "markdown",
   "metadata": {
    "papermill": {
     "duration": 0.054857,
     "end_time": "2020-12-30T20:34:52.526884",
     "exception": false,
     "start_time": "2020-12-30T20:34:52.472027",
     "status": "completed"
    },
    "tags": []
   },
   "source": [
    "From the above boxplots, we have quite a number of outliers outside 1.5 times the interquartile range. But because there are no real bounds for weather data, i.e. due to extreme weather events, we will not be removing all of these outliers. If we do we will be creating a perfect dataset that won't properly reflect real world weather. Instead let's just further examine the outliers of the outliers in *Rainfall*, *Evaporation* and *WindSpeed9am*:"
   ]
  },
  {
   "cell_type": "code",
   "execution_count": 10,
   "metadata": {
    "execution": {
     "iopub.execute_input": "2020-12-30T20:34:52.653531Z",
     "iopub.status.busy": "2020-12-30T20:34:52.645511Z",
     "iopub.status.idle": "2020-12-30T20:34:53.167876Z",
     "shell.execute_reply": "2020-12-30T20:34:53.167336Z"
    },
    "papermill": {
     "duration": 0.585494,
     "end_time": "2020-12-30T20:34:53.168003",
     "exception": false,
     "start_time": "2020-12-30T20:34:52.582509",
     "status": "completed"
    },
    "tags": []
   },
   "outputs": [
    {
     "data": {
      "text/plain": [
       "<matplotlib.axes._subplots.AxesSubplot at 0x7f64a8021850>"
      ]
     },
     "execution_count": 10,
     "metadata": {},
     "output_type": "execute_result"
    },
    {
     "data": {
      "image/png": "[encoded data removed]",
      "text/plain": [
       "<Figure size 1080x288 with 3 Axes>"
      ]
     },
     "metadata": {
      "needs_background": "light"
     },
     "output_type": "display_data"
    }
   ],
   "source": [
    "fig,axes=plt.subplots(1,3,figsize=(15,4))\n",
    "\n",
    "sns.distplot(df[\"Rainfall\"],bins=12,color=\"lightskyblue\",ax=axes[0])\n",
    "sns.distplot(df[\"Evaporation\"],bins=12,color=\"lightcoral\",ax=axes[1])\n",
    "sns.distplot(df[\"WindSpeed9am\"],bins=12,color=\"lightgreen\",ax=axes[2])"
   ]
  },
  {
   "cell_type": "markdown",
   "metadata": {
    "papermill": {
     "duration": 0.055911,
     "end_time": "2020-12-30T20:34:53.280496",
     "exception": false,
     "start_time": "2020-12-30T20:34:53.224585",
     "status": "completed"
    },
    "tags": []
   },
   "source": [
    "Although it is possible to achieve these amounts of rainfall, evaporation and wind speed - for example in a storm or heatwave event - we remove them from the dataset so the model doesn't think these extreme weather events are common."
   ]
  },
  {
   "cell_type": "code",
   "execution_count": 11,
   "metadata": {
    "execution": {
     "iopub.execute_input": "2020-12-30T20:34:53.399726Z",
     "iopub.status.busy": "2020-12-30T20:34:53.398865Z",
     "iopub.status.idle": "2020-12-30T20:34:53.442364Z",
     "shell.execute_reply": "2020-12-30T20:34:53.441733Z"
    },
    "papermill": {
     "duration": 0.105742,
     "end_time": "2020-12-30T20:34:53.442488",
     "exception": false,
     "start_time": "2020-12-30T20:34:53.336746",
     "status": "completed"
    },
    "tags": []
   },
   "outputs": [],
   "source": [
    "droppers=df.loc[(df[\"Rainfall\"]>300)|(df[\"Evaporation\"]>100)|(df[\"WindSpeed9am\"]>100)]\n",
    "df.drop(droppers.index,inplace=True)"
   ]
  },
  {
   "cell_type": "code",
   "execution_count": 12,
   "metadata": {
    "_kg_hide-input": true,
    "execution": {
     "iopub.execute_input": "2020-12-30T20:34:53.562818Z",
     "iopub.status.busy": "2020-12-30T20:34:53.561879Z",
     "iopub.status.idle": "2020-12-30T20:34:53.565828Z",
     "shell.execute_reply": "2020-12-30T20:34:53.566604Z"
    },
    "papermill": {
     "duration": 0.067032,
     "end_time": "2020-12-30T20:34:53.566791",
     "exception": false,
     "start_time": "2020-12-30T20:34:53.499759",
     "status": "completed"
    },
    "tags": []
   },
   "outputs": [
    {
     "name": "stdout",
     "output_type": "stream",
     "text": [
      "We have dropped -3263 rows, so now instead of the initial 142193 readings, we have 145456.\n"
     ]
    }
   ],
   "source": [
    "print(\"We have dropped {num1} rows, so now instead of the initial 142193 readings, we have {num2}.\".format(num1=142193-df.shape[0],num2=df.shape[0]))"
   ]
  },
  {
   "cell_type": "markdown",
   "metadata": {
    "papermill": {
     "duration": 0.057128,
     "end_time": "2020-12-30T20:34:53.682724",
     "exception": false,
     "start_time": "2020-12-30T20:34:53.625596",
     "status": "completed"
    },
    "tags": []
   },
   "source": [
    "Let's continue with the categorical features:"
   ]
  },
  {
   "cell_type": "code",
   "execution_count": 13,
   "metadata": {
    "execution": {
     "iopub.execute_input": "2020-12-30T20:34:53.801792Z",
     "iopub.status.busy": "2020-12-30T20:34:53.801140Z",
     "iopub.status.idle": "2020-12-30T20:34:54.139261Z",
     "shell.execute_reply": "2020-12-30T20:34:54.138687Z"
    },
    "papermill": {
     "duration": 0.398353,
     "end_time": "2020-12-30T20:34:54.139380",
     "exception": false,
     "start_time": "2020-12-30T20:34:53.741027",
     "status": "completed"
    },
    "tags": []
   },
   "outputs": [
    {
     "data": {
      "text/html": [
       "<div>\n",
       "<style scoped>\n",
       "    .dataframe tbody tr th:only-of-type {\n",
       "        vertical-align: middle;\n",
       "    }\n",
       "\n",
       "    .dataframe tbody tr th {\n",
       "        vertical-align: top;\n",
       "    }\n",
       "\n",
       "    .dataframe thead th {\n",
       "        text-align: right;\n",
       "    }\n",
       "</style>\n",
       "<table border=\"1\" class=\"dataframe\">\n",
       "  <thead>\n",
       "    <tr style=\"text-align: right;\">\n",
       "      <th></th>\n",
       "      <th>Date</th>\n",
       "      <th>Location</th>\n",
       "      <th>WindGustDir</th>\n",
       "      <th>WindDir9am</th>\n",
       "      <th>WindDir3pm</th>\n",
       "      <th>RainToday</th>\n",
       "    </tr>\n",
       "  </thead>\n",
       "  <tbody>\n",
       "    <tr>\n",
       "      <th>count</th>\n",
       "      <td>145456</td>\n",
       "      <td>145456</td>\n",
       "      <td>135133</td>\n",
       "      <td>134891</td>\n",
       "      <td>141229</td>\n",
       "      <td>142195</td>\n",
       "    </tr>\n",
       "    <tr>\n",
       "      <th>unique</th>\n",
       "      <td>3436</td>\n",
       "      <td>49</td>\n",
       "      <td>16</td>\n",
       "      <td>16</td>\n",
       "      <td>16</td>\n",
       "      <td>2</td>\n",
       "    </tr>\n",
       "    <tr>\n",
       "      <th>top</th>\n",
       "      <td>2016-12-02</td>\n",
       "      <td>Canberra</td>\n",
       "      <td>W</td>\n",
       "      <td>N</td>\n",
       "      <td>SE</td>\n",
       "      <td>No</td>\n",
       "    </tr>\n",
       "    <tr>\n",
       "      <th>freq</th>\n",
       "      <td>49</td>\n",
       "      <td>3436</td>\n",
       "      <td>9915</td>\n",
       "      <td>11758</td>\n",
       "      <td>10838</td>\n",
       "      <td>110318</td>\n",
       "    </tr>\n",
       "  </tbody>\n",
       "</table>\n",
       "</div>"
      ],
      "text/plain": [
       "              Date  Location WindGustDir WindDir9am WindDir3pm RainToday\n",
       "count       145456    145456      135133     134891     141229    142195\n",
       "unique        3436        49          16         16         16         2\n",
       "top     2016-12-02  Canberra           W          N         SE        No\n",
       "freq            49      3436        9915      11758      10838    110318"
      ]
     },
     "execution_count": 13,
     "metadata": {},
     "output_type": "execute_result"
    }
   ],
   "source": [
    "df.select_dtypes(include=\"object\").describe()"
   ]
  },
  {
   "cell_type": "markdown",
   "metadata": {
    "papermill": {
     "duration": 0.058483,
     "end_time": "2020-12-30T20:34:54.256294",
     "exception": false,
     "start_time": "2020-12-30T20:34:54.197811",
     "status": "completed"
    },
    "tags": []
   },
   "source": [
    "For categorical features, it is important to check the actual categories and change the format into numbers. Remember we will only impute the missing data after we split the data."
   ]
  },
  {
   "cell_type": "markdown",
   "metadata": {
    "papermill": {
     "duration": 0.057457,
     "end_time": "2020-12-30T20:34:54.371521",
     "exception": false,
     "start_time": "2020-12-30T20:34:54.314064",
     "status": "completed"
    },
    "tags": []
   },
   "source": [
    "***Date***"
   ]
  },
  {
   "cell_type": "markdown",
   "metadata": {
    "papermill": {
     "duration": 0.057525,
     "end_time": "2020-12-30T20:34:54.487283",
     "exception": false,
     "start_time": "2020-12-30T20:34:54.429758",
     "status": "completed"
    },
    "tags": []
   },
   "source": [
    "- There are 3436 unique values in the format of YYYY-MM-DD. Instead of using the *categoricals* function, we will just split up the date format into year, month and day but we only use the month data as rain is seasonal and not yearly/daily."
   ]
  },
  {
   "cell_type": "code",
   "execution_count": 14,
   "metadata": {
    "_kg_hide-input": true,
    "execution": {
     "iopub.execute_input": "2020-12-30T20:34:54.624508Z",
     "iopub.status.busy": "2020-12-30T20:34:54.623795Z",
     "iopub.status.idle": "2020-12-30T20:34:54.628336Z",
     "shell.execute_reply": "2020-12-30T20:34:54.628833Z"
    },
    "papermill": {
     "duration": 0.084003,
     "end_time": "2020-12-30T20:34:54.629000",
     "exception": false,
     "start_time": "2020-12-30T20:34:54.544997",
     "status": "completed"
    },
    "tags": []
   },
   "outputs": [
    {
     "name": "stdout",
     "output_type": "stream",
     "text": [
      "0 missing values.\n"
     ]
    }
   ],
   "source": [
    "print(\"{num} missing values.\".format(num=df[\"Date\"].isnull().sum()))"
   ]
  },
  {
   "cell_type": "code",
   "execution_count": 15,
   "metadata": {
    "execution": {
     "iopub.execute_input": "2020-12-30T20:34:54.796239Z",
     "iopub.status.busy": "2020-12-30T20:34:54.795541Z",
     "iopub.status.idle": "2020-12-30T20:34:54.804911Z",
     "shell.execute_reply": "2020-12-30T20:34:54.803701Z"
    },
    "papermill": {
     "duration": 0.117907,
     "end_time": "2020-12-30T20:34:54.805132",
     "exception": false,
     "start_time": "2020-12-30T20:34:54.687225",
     "status": "completed"
    },
    "tags": []
   },
   "outputs": [],
   "source": [
    "df[\"Date\"]=pd.to_datetime(df[\"Date\"])"
   ]
  },
  {
   "cell_type": "code",
   "execution_count": 16,
   "metadata": {
    "execution": {
     "iopub.execute_input": "2020-12-30T20:34:54.977529Z",
     "iopub.status.busy": "2020-12-30T20:34:54.976638Z",
     "iopub.status.idle": "2020-12-30T20:34:54.994903Z",
     "shell.execute_reply": "2020-12-30T20:34:54.994231Z"
    },
    "papermill": {
     "duration": 0.085549,
     "end_time": "2020-12-30T20:34:54.995033",
     "exception": false,
     "start_time": "2020-12-30T20:34:54.909484",
     "status": "completed"
    },
    "tags": []
   },
   "outputs": [],
   "source": [
    "df[\"Month\"]=df[\"Date\"].dt.month"
   ]
  },
  {
   "cell_type": "markdown",
   "metadata": {
    "papermill": {
     "duration": 0.05955,
     "end_time": "2020-12-30T20:34:55.117084",
     "exception": false,
     "start_time": "2020-12-30T20:34:55.057534",
     "status": "completed"
    },
    "tags": []
   },
   "source": [
    "- Now we can drop the *Date* column:"
   ]
  },
  {
   "cell_type": "code",
   "execution_count": 17,
   "metadata": {
    "execution": {
     "iopub.execute_input": "2020-12-30T20:34:55.243834Z",
     "iopub.status.busy": "2020-12-30T20:34:55.242435Z",
     "iopub.status.idle": "2020-12-30T20:34:55.280105Z",
     "shell.execute_reply": "2020-12-30T20:34:55.279493Z"
    },
    "papermill": {
     "duration": 0.104357,
     "end_time": "2020-12-30T20:34:55.280215",
     "exception": false,
     "start_time": "2020-12-30T20:34:55.175858",
     "status": "completed"
    },
    "tags": []
   },
   "outputs": [
    {
     "data": {
      "text/html": [
       "<div>\n",
       "<style scoped>\n",
       "    .dataframe tbody tr th:only-of-type {\n",
       "        vertical-align: middle;\n",
       "    }\n",
       "\n",
       "    .dataframe tbody tr th {\n",
       "        vertical-align: top;\n",
       "    }\n",
       "\n",
       "    .dataframe thead th {\n",
       "        text-align: right;\n",
       "    }\n",
       "</style>\n",
       "<table border=\"1\" class=\"dataframe\">\n",
       "  <thead>\n",
       "    <tr style=\"text-align: right;\">\n",
       "      <th></th>\n",
       "      <th>Location</th>\n",
       "      <th>MinTemp</th>\n",
       "      <th>MaxTemp</th>\n",
       "      <th>Rainfall</th>\n",
       "      <th>Evaporation</th>\n",
       "      <th>Sunshine</th>\n",
       "      <th>WindGustDir</th>\n",
       "      <th>WindGustSpeed</th>\n",
       "      <th>WindDir9am</th>\n",
       "      <th>WindDir3pm</th>\n",
       "      <th>WindSpeed9am</th>\n",
       "      <th>WindSpeed3pm</th>\n",
       "      <th>Humidity9am</th>\n",
       "      <th>Humidity3pm</th>\n",
       "      <th>Pressure9am</th>\n",
       "      <th>Pressure3pm</th>\n",
       "      <th>Cloud9am</th>\n",
       "      <th>Cloud3pm</th>\n",
       "      <th>Temp9am</th>\n",
       "      <th>Temp3pm</th>\n",
       "      <th>RainToday</th>\n",
       "      <th>RainTomorrow</th>\n",
       "      <th>Month</th>\n",
       "    </tr>\n",
       "  </thead>\n",
       "  <tbody>\n",
       "    <tr>\n",
       "      <th>0</th>\n",
       "      <td>Albury</td>\n",
       "      <td>13.4</td>\n",
       "      <td>22.9</td>\n",
       "      <td>0.6</td>\n",
       "      <td>NaN</td>\n",
       "      <td>NaN</td>\n",
       "      <td>W</td>\n",
       "      <td>44.0</td>\n",
       "      <td>W</td>\n",
       "      <td>WNW</td>\n",
       "      <td>20.0</td>\n",
       "      <td>24.0</td>\n",
       "      <td>71.0</td>\n",
       "      <td>22.0</td>\n",
       "      <td>1007.7</td>\n",
       "      <td>1007.1</td>\n",
       "      <td>8.0</td>\n",
       "      <td>NaN</td>\n",
       "      <td>16.9</td>\n",
       "      <td>21.8</td>\n",
       "      <td>No</td>\n",
       "      <td>0</td>\n",
       "      <td>12</td>\n",
       "    </tr>\n",
       "    <tr>\n",
       "      <th>1</th>\n",
       "      <td>Albury</td>\n",
       "      <td>7.4</td>\n",
       "      <td>25.1</td>\n",
       "      <td>0.0</td>\n",
       "      <td>NaN</td>\n",
       "      <td>NaN</td>\n",
       "      <td>WNW</td>\n",
       "      <td>44.0</td>\n",
       "      <td>NNW</td>\n",
       "      <td>WSW</td>\n",
       "      <td>4.0</td>\n",
       "      <td>22.0</td>\n",
       "      <td>44.0</td>\n",
       "      <td>25.0</td>\n",
       "      <td>1010.6</td>\n",
       "      <td>1007.8</td>\n",
       "      <td>NaN</td>\n",
       "      <td>NaN</td>\n",
       "      <td>17.2</td>\n",
       "      <td>24.3</td>\n",
       "      <td>No</td>\n",
       "      <td>0</td>\n",
       "      <td>12</td>\n",
       "    </tr>\n",
       "  </tbody>\n",
       "</table>\n",
       "</div>"
      ],
      "text/plain": [
       "  Location  MinTemp  MaxTemp  Rainfall  Evaporation  Sunshine WindGustDir  \\\n",
       "0   Albury     13.4     22.9       0.6          NaN       NaN           W   \n",
       "1   Albury      7.4     25.1       0.0          NaN       NaN         WNW   \n",
       "\n",
       "   WindGustSpeed WindDir9am WindDir3pm  WindSpeed9am  WindSpeed3pm  \\\n",
       "0           44.0          W        WNW          20.0          24.0   \n",
       "1           44.0        NNW        WSW           4.0          22.0   \n",
       "\n",
       "   Humidity9am  Humidity3pm  Pressure9am  Pressure3pm  Cloud9am  Cloud3pm  \\\n",
       "0         71.0         22.0       1007.7       1007.1       8.0       NaN   \n",
       "1         44.0         25.0       1010.6       1007.8       NaN       NaN   \n",
       "\n",
       "   Temp9am  Temp3pm RainToday  RainTomorrow  Month  \n",
       "0     16.9     21.8        No             0     12  \n",
       "1     17.2     24.3        No             0     12  "
      ]
     },
     "execution_count": 17,
     "metadata": {},
     "output_type": "execute_result"
    }
   ],
   "source": [
    "df.drop([\"Date\"],axis=1,inplace=True)\n",
    "df.head(2)"
   ]
  },
  {
   "cell_type": "markdown",
   "metadata": {
    "papermill": {
     "duration": 0.059684,
     "end_time": "2020-12-30T20:34:55.400345",
     "exception": false,
     "start_time": "2020-12-30T20:34:55.340661",
     "status": "completed"
    },
    "tags": []
   },
   "source": [
    "***Location***"
   ]
  },
  {
   "cell_type": "markdown",
   "metadata": {
    "papermill": {
     "duration": 0.059807,
     "end_time": "2020-12-30T20:34:55.521140",
     "exception": false,
     "start_time": "2020-12-30T20:34:55.461333",
     "status": "completed"
    },
    "tags": []
   },
   "source": [
    "- We will not be dropping *Location* because rain is regional."
   ]
  },
  {
   "cell_type": "code",
   "execution_count": 18,
   "metadata": {
    "_kg_hide-input": true,
    "execution": {
     "iopub.execute_input": "2020-12-30T20:34:55.661249Z",
     "iopub.status.busy": "2020-12-30T20:34:55.660214Z",
     "iopub.status.idle": "2020-12-30T20:34:55.665740Z",
     "shell.execute_reply": "2020-12-30T20:34:55.666222Z"
    },
    "papermill": {
     "duration": 0.085758,
     "end_time": "2020-12-30T20:34:55.666378",
     "exception": false,
     "start_time": "2020-12-30T20:34:55.580620",
     "status": "completed"
    },
    "tags": []
   },
   "outputs": [
    {
     "name": "stdout",
     "output_type": "stream",
     "text": [
      "0 missing values.\n"
     ]
    }
   ],
   "source": [
    "print(\"{num} missing values.\".format(num=df[\"Location\"].isnull().sum()))"
   ]
  },
  {
   "cell_type": "code",
   "execution_count": 19,
   "metadata": {
    "execution": {
     "iopub.execute_input": "2020-12-30T20:34:55.834790Z",
     "iopub.status.busy": "2020-12-30T20:34:55.830418Z",
     "iopub.status.idle": "2020-12-30T20:34:55.842726Z",
     "shell.execute_reply": "2020-12-30T20:34:55.843373Z"
    },
    "papermill": {
     "duration": 0.117521,
     "end_time": "2020-12-30T20:34:55.843547",
     "exception": false,
     "start_time": "2020-12-30T20:34:55.726026",
     "status": "completed"
    },
    "scrolled": true,
    "tags": []
   },
   "outputs": [
    {
     "data": {
      "text/plain": [
       "Canberra            3436\n",
       "Sydney              3344\n",
       "Hobart              3193\n",
       "Brisbane            3193\n",
       "Perth               3193\n",
       "Melbourne           3193\n",
       "Adelaide            3193\n",
       "Darwin              3192\n",
       "Townsville          3040\n",
       "Wollongong          3040\n",
       "Albury              3040\n",
       "Albany              3040\n",
       "Ballarat            3040\n",
       "AliceSprings        3040\n",
       "MountGambier        3040\n",
       "Cairns              3040\n",
       "GoldCoast           3040\n",
       "MountGinini         3040\n",
       "Launceston          3040\n",
       "Bendigo             3040\n",
       "Penrith             3039\n",
       "Tuggeranong         3039\n",
       "Newcastle           3038\n",
       "NorfolkIsland       3009\n",
       "Dartmoor            3009\n",
       "Portland            3009\n",
       "Moree               3009\n",
       "Nuriootpa           3009\n",
       "SydneyAirport       3009\n",
       "Witchcliffe         3009\n",
       "WaggaWagga          3009\n",
       "Woomera             3009\n",
       "MelbourneAirport    3009\n",
       "BadgerysCreek       3009\n",
       "Richmond            3009\n",
       "Sale                3009\n",
       "Cobar               3009\n",
       "Watsonia            3009\n",
       "PerthAirport        3009\n",
       "Mildura             3009\n",
       "PearceRAAF          3009\n",
       "Williamtown         3008\n",
       "CoffsHarbour        3008\n",
       "Walpole             3006\n",
       "NorahHead           3004\n",
       "SalmonGums          3001\n",
       "Nhil                1578\n",
       "Uluru               1578\n",
       "Katherine           1578\n",
       "Name: Location, dtype: int64"
      ]
     },
     "execution_count": 19,
     "metadata": {},
     "output_type": "execute_result"
    }
   ],
   "source": [
    "df[\"Location\"].value_counts()"
   ]
  },
  {
   "cell_type": "markdown",
   "metadata": {
    "papermill": {
     "duration": 0.063812,
     "end_time": "2020-12-30T20:34:55.973729",
     "exception": false,
     "start_time": "2020-12-30T20:34:55.909917",
     "status": "completed"
    },
    "tags": []
   },
   "source": [
    "- We will convert these categories into numbers when we impute the missing values after we split the data."
   ]
  },
  {
   "cell_type": "markdown",
   "metadata": {
    "papermill": {
     "duration": 0.060299,
     "end_time": "2020-12-30T20:34:56.102863",
     "exception": false,
     "start_time": "2020-12-30T20:34:56.042564",
     "status": "completed"
    },
    "tags": []
   },
   "source": [
    "***WindGustDir***"
   ]
  },
  {
   "cell_type": "code",
   "execution_count": 20,
   "metadata": {
    "_kg_hide-input": true,
    "execution": {
     "iopub.execute_input": "2020-12-30T20:34:56.232127Z",
     "iopub.status.busy": "2020-12-30T20:34:56.231151Z",
     "iopub.status.idle": "2020-12-30T20:34:56.254055Z",
     "shell.execute_reply": "2020-12-30T20:34:56.253481Z"
    },
    "papermill": {
     "duration": 0.087014,
     "end_time": "2020-12-30T20:34:56.254163",
     "exception": false,
     "start_time": "2020-12-30T20:34:56.167149",
     "status": "completed"
    },
    "tags": []
   },
   "outputs": [
    {
     "name": "stdout",
     "output_type": "stream",
     "text": [
      "10323 missing values.\n"
     ]
    }
   ],
   "source": [
    "print(\"{num} missing values.\".format(num=df[\"WindGustDir\"].isnull().sum()))"
   ]
  },
  {
   "cell_type": "code",
   "execution_count": 21,
   "metadata": {
    "execution": {
     "iopub.execute_input": "2020-12-30T20:34:56.467493Z",
     "iopub.status.busy": "2020-12-30T20:34:56.464644Z",
     "iopub.status.idle": "2020-12-30T20:34:56.471686Z",
     "shell.execute_reply": "2020-12-30T20:34:56.471134Z"
    },
    "papermill": {
     "duration": 0.108267,
     "end_time": "2020-12-30T20:34:56.471803",
     "exception": false,
     "start_time": "2020-12-30T20:34:56.363536",
     "status": "completed"
    },
    "scrolled": false,
    "tags": []
   },
   "outputs": [
    {
     "data": {
      "text/plain": [
       "W      9915\n",
       "SE     9418\n",
       "N      9313\n",
       "SSE    9216\n",
       "E      9181\n",
       "S      9168\n",
       "WSW    9068\n",
       "SW     8967\n",
       "SSW    8736\n",
       "WNW    8252\n",
       "NW     8122\n",
       "ENE    8104\n",
       "ESE    7372\n",
       "NE     7133\n",
       "NNW    6620\n",
       "NNE    6548\n",
       "Name: WindGustDir, dtype: int64"
      ]
     },
     "execution_count": 21,
     "metadata": {},
     "output_type": "execute_result"
    }
   ],
   "source": [
    "df[\"WindGustDir\"].value_counts()"
   ]
  },
  {
   "cell_type": "markdown",
   "metadata": {
    "papermill": {
     "duration": 0.064206,
     "end_time": "2020-12-30T20:34:56.598901",
     "exception": false,
     "start_time": "2020-12-30T20:34:56.534695",
     "status": "completed"
    },
    "tags": []
   },
   "source": [
    "- We will convert these categories into numbers when we impute the missing values after we split the data."
   ]
  },
  {
   "cell_type": "markdown",
   "metadata": {
    "papermill": {
     "duration": 0.062327,
     "end_time": "2020-12-30T20:34:56.724592",
     "exception": false,
     "start_time": "2020-12-30T20:34:56.662265",
     "status": "completed"
    },
    "tags": []
   },
   "source": [
    "***WindDir9am***"
   ]
  },
  {
   "cell_type": "code",
   "execution_count": 22,
   "metadata": {
    "_kg_hide-input": true,
    "execution": {
     "iopub.execute_input": "2020-12-30T20:34:56.872883Z",
     "iopub.status.busy": "2020-12-30T20:34:56.871785Z",
     "iopub.status.idle": "2020-12-30T20:34:56.876589Z",
     "shell.execute_reply": "2020-12-30T20:34:56.875687Z"
    },
    "papermill": {
     "duration": 0.088889,
     "end_time": "2020-12-30T20:34:56.876740",
     "exception": false,
     "start_time": "2020-12-30T20:34:56.787851",
     "status": "completed"
    },
    "tags": []
   },
   "outputs": [
    {
     "name": "stdout",
     "output_type": "stream",
     "text": [
      "10565 missing values.\n"
     ]
    }
   ],
   "source": [
    "print(\"{num} missing values.\".format(num=df[\"WindDir9am\"].isnull().sum()))"
   ]
  },
  {
   "cell_type": "code",
   "execution_count": 23,
   "metadata": {
    "execution": {
     "iopub.execute_input": "2020-12-30T20:34:57.046737Z",
     "iopub.status.busy": "2020-12-30T20:34:57.043696Z",
     "iopub.status.idle": "2020-12-30T20:34:57.053212Z",
     "shell.execute_reply": "2020-12-30T20:34:57.052538Z"
    },
    "papermill": {
     "duration": 0.111711,
     "end_time": "2020-12-30T20:34:57.053330",
     "exception": false,
     "start_time": "2020-12-30T20:34:56.941619",
     "status": "completed"
    },
    "tags": []
   },
   "outputs": [
    {
     "data": {
      "text/plain": [
       "N      11758\n",
       "SE      9287\n",
       "E       9176\n",
       "SSE     9111\n",
       "NW      8748\n",
       "S       8659\n",
       "W       8459\n",
       "SW      8422\n",
       "NNE     8129\n",
       "NNW     7980\n",
       "ENE     7836\n",
       "NE      7671\n",
       "ESE     7630\n",
       "SSW     7587\n",
       "WNW     7414\n",
       "WSW     7024\n",
       "Name: WindDir9am, dtype: int64"
      ]
     },
     "execution_count": 23,
     "metadata": {},
     "output_type": "execute_result"
    }
   ],
   "source": [
    "df[\"WindDir9am\"].value_counts()"
   ]
  },
  {
   "cell_type": "markdown",
   "metadata": {
    "papermill": {
     "duration": 0.062743,
     "end_time": "2020-12-30T20:34:57.179414",
     "exception": false,
     "start_time": "2020-12-30T20:34:57.116671",
     "status": "completed"
    },
    "tags": []
   },
   "source": [
    "- We will convert these categories into numbers when we impute the missing values after we split the data."
   ]
  },
  {
   "cell_type": "markdown",
   "metadata": {
    "papermill": {
     "duration": 0.062366,
     "end_time": "2020-12-30T20:34:57.305110",
     "exception": false,
     "start_time": "2020-12-30T20:34:57.242744",
     "status": "completed"
    },
    "tags": []
   },
   "source": [
    "***WindDir3pm***"
   ]
  },
  {
   "cell_type": "code",
   "execution_count": 24,
   "metadata": {
    "_kg_hide-input": true,
    "execution": {
     "iopub.execute_input": "2020-12-30T20:34:57.452209Z",
     "iopub.status.busy": "2020-12-30T20:34:57.451392Z",
     "iopub.status.idle": "2020-12-30T20:34:57.456508Z",
     "shell.execute_reply": "2020-12-30T20:34:57.455780Z"
    },
    "papermill": {
     "duration": 0.088955,
     "end_time": "2020-12-30T20:34:57.456623",
     "exception": false,
     "start_time": "2020-12-30T20:34:57.367668",
     "status": "completed"
    },
    "tags": []
   },
   "outputs": [
    {
     "name": "stdout",
     "output_type": "stream",
     "text": [
      "4227 missing values.\n"
     ]
    }
   ],
   "source": [
    "print(\"{num} missing values.\".format(num=df[\"WindDir3pm\"].isnull().sum()))"
   ]
  },
  {
   "cell_type": "code",
   "execution_count": 25,
   "metadata": {
    "execution": {
     "iopub.execute_input": "2020-12-30T20:34:57.626691Z",
     "iopub.status.busy": "2020-12-30T20:34:57.623835Z",
     "iopub.status.idle": "2020-12-30T20:34:57.630889Z",
     "shell.execute_reply": "2020-12-30T20:34:57.631417Z"
    },
    "papermill": {
     "duration": 0.11073,
     "end_time": "2020-12-30T20:34:57.631566",
     "exception": false,
     "start_time": "2020-12-30T20:34:57.520836",
     "status": "completed"
    },
    "tags": []
   },
   "outputs": [
    {
     "data": {
      "text/plain": [
       "SE     10838\n",
       "W      10110\n",
       "S       9925\n",
       "WSW     9517\n",
       "SSE     9399\n",
       "SW      9354\n",
       "N       8890\n",
       "WNW     8874\n",
       "NW      8610\n",
       "ESE     8505\n",
       "E       8471\n",
       "NE      8263\n",
       "SSW     8156\n",
       "NNW     7870\n",
       "ENE     7857\n",
       "NNE     6590\n",
       "Name: WindDir3pm, dtype: int64"
      ]
     },
     "execution_count": 25,
     "metadata": {},
     "output_type": "execute_result"
    }
   ],
   "source": [
    "df[\"WindDir3pm\"].value_counts()"
   ]
  },
  {
   "cell_type": "markdown",
   "metadata": {
    "papermill": {
     "duration": 0.06345,
     "end_time": "2020-12-30T20:34:57.758792",
     "exception": false,
     "start_time": "2020-12-30T20:34:57.695342",
     "status": "completed"
    },
    "tags": []
   },
   "source": [
    "- We will convert these categories into numbers when we impute the missing values after we split the data."
   ]
  },
  {
   "cell_type": "markdown",
   "metadata": {
    "papermill": {
     "duration": 0.07088,
     "end_time": "2020-12-30T20:34:57.893843",
     "exception": false,
     "start_time": "2020-12-30T20:34:57.822963",
     "status": "completed"
    },
    "tags": []
   },
   "source": [
    "***RainToday***"
   ]
  },
  {
   "cell_type": "code",
   "execution_count": 26,
   "metadata": {
    "_kg_hide-input": true,
    "execution": {
     "iopub.execute_input": "2020-12-30T20:34:58.044544Z",
     "iopub.status.busy": "2020-12-30T20:34:58.043449Z",
     "iopub.status.idle": "2020-12-30T20:34:58.047974Z",
     "shell.execute_reply": "2020-12-30T20:34:58.048659Z"
    },
    "papermill": {
     "duration": 0.090761,
     "end_time": "2020-12-30T20:34:58.048803",
     "exception": false,
     "start_time": "2020-12-30T20:34:57.958042",
     "status": "completed"
    },
    "tags": []
   },
   "outputs": [
    {
     "name": "stdout",
     "output_type": "stream",
     "text": [
      "3261 missing values.\n"
     ]
    }
   ],
   "source": [
    "print(\"{num} missing values.\".format(num=df[\"RainToday\"].isnull().sum()))"
   ]
  },
  {
   "cell_type": "code",
   "execution_count": 27,
   "metadata": {
    "execution": {
     "iopub.execute_input": "2020-12-30T20:34:58.219980Z",
     "iopub.status.busy": "2020-12-30T20:34:58.217242Z",
     "iopub.status.idle": "2020-12-30T20:34:58.224555Z",
     "shell.execute_reply": "2020-12-30T20:34:58.223878Z"
    },
    "papermill": {
     "duration": 0.111362,
     "end_time": "2020-12-30T20:34:58.224666",
     "exception": false,
     "start_time": "2020-12-30T20:34:58.113304",
     "status": "completed"
    },
    "tags": []
   },
   "outputs": [
    {
     "data": {
      "text/plain": [
       "No     110318\n",
       "Yes     31877\n",
       "Name: RainToday, dtype: int64"
      ]
     },
     "execution_count": 27,
     "metadata": {},
     "output_type": "execute_result"
    }
   ],
   "source": [
    "df[\"RainToday\"].value_counts()"
   ]
  },
  {
   "cell_type": "markdown",
   "metadata": {
    "papermill": {
     "duration": 0.064783,
     "end_time": "2020-12-30T20:34:58.354442",
     "exception": false,
     "start_time": "2020-12-30T20:34:58.289659",
     "status": "completed"
    },
    "tags": []
   },
   "source": [
    "- We will also convert these text data into numbers but just using a simple if statement:"
   ]
  },
  {
   "cell_type": "code",
   "execution_count": 28,
   "metadata": {
    "execution": {
     "iopub.execute_input": "2020-12-30T20:34:58.490660Z",
     "iopub.status.busy": "2020-12-30T20:34:58.489979Z",
     "iopub.status.idle": "2020-12-30T20:34:58.631105Z",
     "shell.execute_reply": "2020-12-30T20:34:58.630196Z"
    },
    "papermill": {
     "duration": 0.21097,
     "end_time": "2020-12-30T20:34:58.631254",
     "exception": false,
     "start_time": "2020-12-30T20:34:58.420284",
     "status": "completed"
    },
    "tags": []
   },
   "outputs": [
    {
     "data": {
      "text/html": [
       "<div>\n",
       "<style scoped>\n",
       "    .dataframe tbody tr th:only-of-type {\n",
       "        vertical-align: middle;\n",
       "    }\n",
       "\n",
       "    .dataframe tbody tr th {\n",
       "        vertical-align: top;\n",
       "    }\n",
       "\n",
       "    .dataframe thead th {\n",
       "        text-align: right;\n",
       "    }\n",
       "</style>\n",
       "<table border=\"1\" class=\"dataframe\">\n",
       "  <thead>\n",
       "    <tr style=\"text-align: right;\">\n",
       "      <th></th>\n",
       "      <th>Location</th>\n",
       "      <th>MinTemp</th>\n",
       "      <th>MaxTemp</th>\n",
       "      <th>Rainfall</th>\n",
       "      <th>Evaporation</th>\n",
       "      <th>Sunshine</th>\n",
       "      <th>WindGustDir</th>\n",
       "      <th>WindGustSpeed</th>\n",
       "      <th>WindDir9am</th>\n",
       "      <th>WindDir3pm</th>\n",
       "      <th>WindSpeed9am</th>\n",
       "      <th>WindSpeed3pm</th>\n",
       "      <th>Humidity9am</th>\n",
       "      <th>Humidity3pm</th>\n",
       "      <th>Pressure9am</th>\n",
       "      <th>Pressure3pm</th>\n",
       "      <th>Cloud9am</th>\n",
       "      <th>Cloud3pm</th>\n",
       "      <th>Temp9am</th>\n",
       "      <th>Temp3pm</th>\n",
       "      <th>RainToday</th>\n",
       "      <th>RainTomorrow</th>\n",
       "      <th>Month</th>\n",
       "    </tr>\n",
       "  </thead>\n",
       "  <tbody>\n",
       "    <tr>\n",
       "      <th>0</th>\n",
       "      <td>Albury</td>\n",
       "      <td>13.4</td>\n",
       "      <td>22.9</td>\n",
       "      <td>0.6</td>\n",
       "      <td>NaN</td>\n",
       "      <td>NaN</td>\n",
       "      <td>W</td>\n",
       "      <td>44.0</td>\n",
       "      <td>W</td>\n",
       "      <td>WNW</td>\n",
       "      <td>20.0</td>\n",
       "      <td>24.0</td>\n",
       "      <td>71.0</td>\n",
       "      <td>22.0</td>\n",
       "      <td>1007.7</td>\n",
       "      <td>1007.1</td>\n",
       "      <td>8.0</td>\n",
       "      <td>NaN</td>\n",
       "      <td>16.9</td>\n",
       "      <td>21.8</td>\n",
       "      <td>0</td>\n",
       "      <td>0</td>\n",
       "      <td>12</td>\n",
       "    </tr>\n",
       "    <tr>\n",
       "      <th>1</th>\n",
       "      <td>Albury</td>\n",
       "      <td>7.4</td>\n",
       "      <td>25.1</td>\n",
       "      <td>0.0</td>\n",
       "      <td>NaN</td>\n",
       "      <td>NaN</td>\n",
       "      <td>WNW</td>\n",
       "      <td>44.0</td>\n",
       "      <td>NNW</td>\n",
       "      <td>WSW</td>\n",
       "      <td>4.0</td>\n",
       "      <td>22.0</td>\n",
       "      <td>44.0</td>\n",
       "      <td>25.0</td>\n",
       "      <td>1010.6</td>\n",
       "      <td>1007.8</td>\n",
       "      <td>NaN</td>\n",
       "      <td>NaN</td>\n",
       "      <td>17.2</td>\n",
       "      <td>24.3</td>\n",
       "      <td>0</td>\n",
       "      <td>0</td>\n",
       "      <td>12</td>\n",
       "    </tr>\n",
       "  </tbody>\n",
       "</table>\n",
       "</div>"
      ],
      "text/plain": [
       "  Location  MinTemp  MaxTemp  Rainfall  Evaporation  Sunshine WindGustDir  \\\n",
       "0   Albury     13.4     22.9       0.6          NaN       NaN           W   \n",
       "1   Albury      7.4     25.1       0.0          NaN       NaN         WNW   \n",
       "\n",
       "   WindGustSpeed WindDir9am WindDir3pm  WindSpeed9am  WindSpeed3pm  \\\n",
       "0           44.0          W        WNW          20.0          24.0   \n",
       "1           44.0        NNW        WSW           4.0          22.0   \n",
       "\n",
       "   Humidity9am  Humidity3pm  Pressure9am  Pressure3pm  Cloud9am  Cloud3pm  \\\n",
       "0         71.0         22.0       1007.7       1007.1       8.0       NaN   \n",
       "1         44.0         25.0       1010.6       1007.8       NaN       NaN   \n",
       "\n",
       "   Temp9am  Temp3pm  RainToday  RainTomorrow  Month  \n",
       "0     16.9     21.8          0             0     12  \n",
       "1     17.2     24.3          0             0     12  "
      ]
     },
     "execution_count": 28,
     "metadata": {},
     "output_type": "execute_result"
    }
   ],
   "source": [
    "df[\"RainToday\"]=df[\"RainToday\"].apply(lambda x:0 if x==\"No\" else 1)\n",
    "df.head(2)"
   ]
  },
  {
   "cell_type": "markdown",
   "metadata": {
    "papermill": {
     "duration": 0.071625,
     "end_time": "2020-12-30T20:34:58.771742",
     "exception": false,
     "start_time": "2020-12-30T20:34:58.700117",
     "status": "completed"
    },
    "tags": []
   },
   "source": [
    "So this is what our data looks like now:"
   ]
  },
  {
   "cell_type": "code",
   "execution_count": 29,
   "metadata": {
    "execution": {
     "iopub.execute_input": "2020-12-30T20:34:58.949161Z",
     "iopub.status.busy": "2020-12-30T20:34:58.948173Z",
     "iopub.status.idle": "2020-12-30T20:34:58.952061Z",
     "shell.execute_reply": "2020-12-30T20:34:58.952600Z"
    },
    "papermill": {
     "duration": 0.100123,
     "end_time": "2020-12-30T20:34:58.952738",
     "exception": false,
     "start_time": "2020-12-30T20:34:58.852615",
     "status": "completed"
    },
    "tags": []
   },
   "outputs": [
    {
     "data": {
      "text/html": [
       "<div>\n",
       "<style scoped>\n",
       "    .dataframe tbody tr th:only-of-type {\n",
       "        vertical-align: middle;\n",
       "    }\n",
       "\n",
       "    .dataframe tbody tr th {\n",
       "        vertical-align: top;\n",
       "    }\n",
       "\n",
       "    .dataframe thead th {\n",
       "        text-align: right;\n",
       "    }\n",
       "</style>\n",
       "<table border=\"1\" class=\"dataframe\">\n",
       "  <thead>\n",
       "    <tr style=\"text-align: right;\">\n",
       "      <th></th>\n",
       "      <th>Location</th>\n",
       "      <th>MinTemp</th>\n",
       "      <th>MaxTemp</th>\n",
       "      <th>Rainfall</th>\n",
       "      <th>Evaporation</th>\n",
       "      <th>Sunshine</th>\n",
       "      <th>WindGustDir</th>\n",
       "      <th>WindGustSpeed</th>\n",
       "      <th>WindDir9am</th>\n",
       "      <th>WindDir3pm</th>\n",
       "      <th>WindSpeed9am</th>\n",
       "      <th>WindSpeed3pm</th>\n",
       "      <th>Humidity9am</th>\n",
       "      <th>Humidity3pm</th>\n",
       "      <th>Pressure9am</th>\n",
       "      <th>Pressure3pm</th>\n",
       "      <th>Cloud9am</th>\n",
       "      <th>Cloud3pm</th>\n",
       "      <th>Temp9am</th>\n",
       "      <th>Temp3pm</th>\n",
       "      <th>RainToday</th>\n",
       "      <th>RainTomorrow</th>\n",
       "      <th>Month</th>\n",
       "    </tr>\n",
       "  </thead>\n",
       "  <tbody>\n",
       "    <tr>\n",
       "      <th>0</th>\n",
       "      <td>Albury</td>\n",
       "      <td>13.4</td>\n",
       "      <td>22.9</td>\n",
       "      <td>0.6</td>\n",
       "      <td>NaN</td>\n",
       "      <td>NaN</td>\n",
       "      <td>W</td>\n",
       "      <td>44.0</td>\n",
       "      <td>W</td>\n",
       "      <td>WNW</td>\n",
       "      <td>20.0</td>\n",
       "      <td>24.0</td>\n",
       "      <td>71.0</td>\n",
       "      <td>22.0</td>\n",
       "      <td>1007.7</td>\n",
       "      <td>1007.1</td>\n",
       "      <td>8.0</td>\n",
       "      <td>NaN</td>\n",
       "      <td>16.9</td>\n",
       "      <td>21.8</td>\n",
       "      <td>0</td>\n",
       "      <td>0</td>\n",
       "      <td>12</td>\n",
       "    </tr>\n",
       "    <tr>\n",
       "      <th>1</th>\n",
       "      <td>Albury</td>\n",
       "      <td>7.4</td>\n",
       "      <td>25.1</td>\n",
       "      <td>0.0</td>\n",
       "      <td>NaN</td>\n",
       "      <td>NaN</td>\n",
       "      <td>WNW</td>\n",
       "      <td>44.0</td>\n",
       "      <td>NNW</td>\n",
       "      <td>WSW</td>\n",
       "      <td>4.0</td>\n",
       "      <td>22.0</td>\n",
       "      <td>44.0</td>\n",
       "      <td>25.0</td>\n",
       "      <td>1010.6</td>\n",
       "      <td>1007.8</td>\n",
       "      <td>NaN</td>\n",
       "      <td>NaN</td>\n",
       "      <td>17.2</td>\n",
       "      <td>24.3</td>\n",
       "      <td>0</td>\n",
       "      <td>0</td>\n",
       "      <td>12</td>\n",
       "    </tr>\n",
       "    <tr>\n",
       "      <th>2</th>\n",
       "      <td>Albury</td>\n",
       "      <td>12.9</td>\n",
       "      <td>25.7</td>\n",
       "      <td>0.0</td>\n",
       "      <td>NaN</td>\n",
       "      <td>NaN</td>\n",
       "      <td>WSW</td>\n",
       "      <td>46.0</td>\n",
       "      <td>W</td>\n",
       "      <td>WSW</td>\n",
       "      <td>19.0</td>\n",
       "      <td>26.0</td>\n",
       "      <td>38.0</td>\n",
       "      <td>30.0</td>\n",
       "      <td>1007.6</td>\n",
       "      <td>1008.7</td>\n",
       "      <td>NaN</td>\n",
       "      <td>2.0</td>\n",
       "      <td>21.0</td>\n",
       "      <td>23.2</td>\n",
       "      <td>0</td>\n",
       "      <td>0</td>\n",
       "      <td>12</td>\n",
       "    </tr>\n",
       "    <tr>\n",
       "      <th>3</th>\n",
       "      <td>Albury</td>\n",
       "      <td>9.2</td>\n",
       "      <td>28.0</td>\n",
       "      <td>0.0</td>\n",
       "      <td>NaN</td>\n",
       "      <td>NaN</td>\n",
       "      <td>NE</td>\n",
       "      <td>24.0</td>\n",
       "      <td>SE</td>\n",
       "      <td>E</td>\n",
       "      <td>11.0</td>\n",
       "      <td>9.0</td>\n",
       "      <td>45.0</td>\n",
       "      <td>16.0</td>\n",
       "      <td>1017.6</td>\n",
       "      <td>1012.8</td>\n",
       "      <td>NaN</td>\n",
       "      <td>NaN</td>\n",
       "      <td>18.1</td>\n",
       "      <td>26.5</td>\n",
       "      <td>0</td>\n",
       "      <td>0</td>\n",
       "      <td>12</td>\n",
       "    </tr>\n",
       "    <tr>\n",
       "      <th>4</th>\n",
       "      <td>Albury</td>\n",
       "      <td>17.5</td>\n",
       "      <td>32.3</td>\n",
       "      <td>1.0</td>\n",
       "      <td>NaN</td>\n",
       "      <td>NaN</td>\n",
       "      <td>W</td>\n",
       "      <td>41.0</td>\n",
       "      <td>ENE</td>\n",
       "      <td>NW</td>\n",
       "      <td>7.0</td>\n",
       "      <td>20.0</td>\n",
       "      <td>82.0</td>\n",
       "      <td>33.0</td>\n",
       "      <td>1010.8</td>\n",
       "      <td>1006.0</td>\n",
       "      <td>7.0</td>\n",
       "      <td>8.0</td>\n",
       "      <td>17.8</td>\n",
       "      <td>29.7</td>\n",
       "      <td>0</td>\n",
       "      <td>0</td>\n",
       "      <td>12</td>\n",
       "    </tr>\n",
       "  </tbody>\n",
       "</table>\n",
       "</div>"
      ],
      "text/plain": [
       "  Location  MinTemp  MaxTemp  Rainfall  Evaporation  Sunshine WindGustDir  \\\n",
       "0   Albury     13.4     22.9       0.6          NaN       NaN           W   \n",
       "1   Albury      7.4     25.1       0.0          NaN       NaN         WNW   \n",
       "2   Albury     12.9     25.7       0.0          NaN       NaN         WSW   \n",
       "3   Albury      9.2     28.0       0.0          NaN       NaN          NE   \n",
       "4   Albury     17.5     32.3       1.0          NaN       NaN           W   \n",
       "\n",
       "   WindGustSpeed WindDir9am WindDir3pm  WindSpeed9am  WindSpeed3pm  \\\n",
       "0           44.0          W        WNW          20.0          24.0   \n",
       "1           44.0        NNW        WSW           4.0          22.0   \n",
       "2           46.0          W        WSW          19.0          26.0   \n",
       "3           24.0         SE          E          11.0           9.0   \n",
       "4           41.0        ENE         NW           7.0          20.0   \n",
       "\n",
       "   Humidity9am  Humidity3pm  Pressure9am  Pressure3pm  Cloud9am  Cloud3pm  \\\n",
       "0         71.0         22.0       1007.7       1007.1       8.0       NaN   \n",
       "1         44.0         25.0       1010.6       1007.8       NaN       NaN   \n",
       "2         38.0         30.0       1007.6       1008.7       NaN       2.0   \n",
       "3         45.0         16.0       1017.6       1012.8       NaN       NaN   \n",
       "4         82.0         33.0       1010.8       1006.0       7.0       8.0   \n",
       "\n",
       "   Temp9am  Temp3pm  RainToday  RainTomorrow  Month  \n",
       "0     16.9     21.8          0             0     12  \n",
       "1     17.2     24.3          0             0     12  \n",
       "2     21.0     23.2          0             0     12  \n",
       "3     18.1     26.5          0             0     12  \n",
       "4     17.8     29.7          0             0     12  "
      ]
     },
     "execution_count": 29,
     "metadata": {},
     "output_type": "execute_result"
    }
   ],
   "source": [
    "df.head()"
   ]
  },
  {
   "cell_type": "markdown",
   "metadata": {
    "papermill": {
     "duration": 0.066206,
     "end_time": "2020-12-30T20:34:59.086890",
     "exception": false,
     "start_time": "2020-12-30T20:34:59.020684",
     "status": "completed"
    },
    "tags": []
   },
   "source": [
    "Before we tackle the missing values or scale the data, we must first split the data into the training and testing sets to ensure we do not cause any data leakage."
   ]
  },
  {
   "cell_type": "code",
   "execution_count": 30,
   "metadata": {
    "execution": {
     "iopub.execute_input": "2020-12-30T20:34:59.226729Z",
     "iopub.status.busy": "2020-12-30T20:34:59.225748Z",
     "iopub.status.idle": "2020-12-30T20:34:59.290022Z",
     "shell.execute_reply": "2020-12-30T20:34:59.289176Z"
    },
    "papermill": {
     "duration": 0.134131,
     "end_time": "2020-12-30T20:34:59.290183",
     "exception": false,
     "start_time": "2020-12-30T20:34:59.156052",
     "status": "completed"
    },
    "tags": []
   },
   "outputs": [],
   "source": [
    "x=df.drop([\"RainTomorrow\"],axis=1)\n",
    "y=df[\"RainTomorrow\"]\n",
    "\n",
    "x_train,x_test,y_train,y_test=train_test_split(x,y,test_size=0.33,random_state=7)"
   ]
  },
  {
   "cell_type": "code",
   "execution_count": 31,
   "metadata": {
    "_kg_hide-input": true,
    "execution": {
     "iopub.execute_input": "2020-12-30T20:34:59.436623Z",
     "iopub.status.busy": "2020-12-30T20:34:59.435862Z",
     "iopub.status.idle": "2020-12-30T20:34:59.438639Z",
     "shell.execute_reply": "2020-12-30T20:34:59.439755Z"
    },
    "papermill": {
     "duration": 0.0806,
     "end_time": "2020-12-30T20:34:59.439893",
     "exception": false,
     "start_time": "2020-12-30T20:34:59.359293",
     "status": "completed"
    },
    "tags": []
   },
   "outputs": [
    {
     "name": "stdout",
     "output_type": "stream",
     "text": [
      "Training set shape: (97455, 22)\n",
      "Testing set shape: (48001, 22)\n"
     ]
    }
   ],
   "source": [
    "print(\"Training set shape:\",x_train.shape)\n",
    "print(\"Testing set shape:\",x_test.shape)"
   ]
  },
  {
   "cell_type": "markdown",
   "metadata": {
    "papermill": {
     "duration": 0.067563,
     "end_time": "2020-12-30T20:34:59.574318",
     "exception": false,
     "start_time": "2020-12-30T20:34:59.506755",
     "status": "completed"
    },
    "tags": []
   },
   "source": [
    "To replace the missing values, we will compute a fill value for the numerical and categorical features based on the training set and then apply them to the testing set."
   ]
  },
  {
   "cell_type": "code",
   "execution_count": 32,
   "metadata": {
    "execution": {
     "iopub.execute_input": "2020-12-30T20:34:59.755131Z",
     "iopub.status.busy": "2020-12-30T20:34:59.753785Z",
     "iopub.status.idle": "2020-12-30T20:34:59.769296Z",
     "shell.execute_reply": "2020-12-30T20:34:59.768698Z"
    },
    "papermill": {
     "duration": 0.12664,
     "end_time": "2020-12-30T20:34:59.769408",
     "exception": false,
     "start_time": "2020-12-30T20:34:59.642768",
     "status": "completed"
    },
    "tags": []
   },
   "outputs": [
    {
     "data": {
      "text/plain": [
       "Location             0\n",
       "MinTemp           1021\n",
       "MaxTemp            858\n",
       "Rainfall          2240\n",
       "Evaporation      42152\n",
       "Sunshine         46859\n",
       "WindGustDir       6886\n",
       "WindGustSpeed     6840\n",
       "WindDir9am        7125\n",
       "WindDir3pm        2853\n",
       "WindSpeed9am      1205\n",
       "WindSpeed3pm      2078\n",
       "Humidity9am       1807\n",
       "Humidity3pm       3068\n",
       "Pressure9am      10159\n",
       "Pressure3pm      10114\n",
       "Cloud9am         37423\n",
       "Cloud3pm         39753\n",
       "Temp9am           1209\n",
       "Temp3pm           2462\n",
       "RainToday            0\n",
       "Month                0\n",
       "dtype: int64"
      ]
     },
     "execution_count": 32,
     "metadata": {},
     "output_type": "execute_result"
    }
   ],
   "source": [
    "x_train.isnull().sum()"
   ]
  },
  {
   "cell_type": "code",
   "execution_count": 33,
   "metadata": {
    "execution": {
     "iopub.execute_input": "2020-12-30T20:34:59.945774Z",
     "iopub.status.busy": "2020-12-30T20:34:59.944221Z",
     "iopub.status.idle": "2020-12-30T20:34:59.954178Z",
     "shell.execute_reply": "2020-12-30T20:34:59.953517Z"
    },
    "papermill": {
     "duration": 0.116635,
     "end_time": "2020-12-30T20:34:59.954310",
     "exception": false,
     "start_time": "2020-12-30T20:34:59.837675",
     "status": "completed"
    },
    "scrolled": false,
    "tags": []
   },
   "outputs": [
    {
     "data": {
      "text/plain": [
       "Location             0\n",
       "MinTemp            464\n",
       "MaxTemp            403\n",
       "Rainfall          1021\n",
       "Evaporation      20635\n",
       "Sunshine         22974\n",
       "WindGustDir       3437\n",
       "WindGustSpeed     3420\n",
       "WindDir9am        3440\n",
       "WindDir3pm        1374\n",
       "WindSpeed9am       561\n",
       "WindSpeed3pm       983\n",
       "Humidity9am        847\n",
       "Humidity3pm       1438\n",
       "Pressure9am       4905\n",
       "Pressure3pm       4913\n",
       "Cloud9am         18465\n",
       "Cloud3pm         19604\n",
       "Temp9am            558\n",
       "Temp3pm           1146\n",
       "RainToday            0\n",
       "Month                0\n",
       "dtype: int64"
      ]
     },
     "execution_count": 33,
     "metadata": {},
     "output_type": "execute_result"
    }
   ],
   "source": [
    "x_test.isnull().sum()"
   ]
  },
  {
   "cell_type": "markdown",
   "metadata": {
    "papermill": {
     "duration": 0.067079,
     "end_time": "2020-12-30T20:35:00.090781",
     "exception": false,
     "start_time": "2020-12-30T20:35:00.023702",
     "status": "completed"
    },
    "tags": []
   },
   "source": [
    "Missing values in numerical features will be filled with the median. We could in fact use the mean or a set constant instead, but because of the range and the number of outliers in the data we will use the median."
   ]
  },
  {
   "cell_type": "code",
   "execution_count": 34,
   "metadata": {
    "execution": {
     "iopub.execute_input": "2020-12-30T20:35:00.244710Z",
     "iopub.status.busy": "2020-12-30T20:35:00.243574Z",
     "iopub.status.idle": "2020-12-30T20:35:00.314657Z",
     "shell.execute_reply": "2020-12-30T20:35:00.313956Z"
    },
    "papermill": {
     "duration": 0.1564,
     "end_time": "2020-12-30T20:35:00.314770",
     "exception": false,
     "start_time": "2020-12-30T20:35:00.158370",
     "status": "completed"
    },
    "tags": []
   },
   "outputs": [],
   "source": [
    "for df in [x_train,x_test]:\n",
    "    for col in df.select_dtypes(exclude=\"object\").columns:\n",
    "        col_median=x_train[col].median()\n",
    "        df[col].fillna(col_median,inplace=True)"
   ]
  },
  {
   "cell_type": "code",
   "execution_count": 35,
   "metadata": {
    "execution": {
     "iopub.execute_input": "2020-12-30T20:35:00.501338Z",
     "iopub.status.busy": "2020-12-30T20:35:00.499994Z",
     "iopub.status.idle": "2020-12-30T20:35:00.512674Z",
     "shell.execute_reply": "2020-12-30T20:35:00.513202Z"
    },
    "papermill": {
     "duration": 0.129388,
     "end_time": "2020-12-30T20:35:00.513354",
     "exception": false,
     "start_time": "2020-12-30T20:35:00.383966",
     "status": "completed"
    },
    "tags": []
   },
   "outputs": [
    {
     "data": {
      "text/plain": [
       "Location            0\n",
       "MinTemp             0\n",
       "MaxTemp             0\n",
       "Rainfall            0\n",
       "Evaporation         0\n",
       "Sunshine            0\n",
       "WindGustDir      6886\n",
       "WindGustSpeed       0\n",
       "WindDir9am       7125\n",
       "WindDir3pm       2853\n",
       "WindSpeed9am        0\n",
       "WindSpeed3pm        0\n",
       "Humidity9am         0\n",
       "Humidity3pm         0\n",
       "Pressure9am         0\n",
       "Pressure3pm         0\n",
       "Cloud9am            0\n",
       "Cloud3pm            0\n",
       "Temp9am             0\n",
       "Temp3pm             0\n",
       "RainToday           0\n",
       "Month               0\n",
       "dtype: int64"
      ]
     },
     "execution_count": 35,
     "metadata": {},
     "output_type": "execute_result"
    }
   ],
   "source": [
    "x_train.isnull().sum()"
   ]
  },
  {
   "cell_type": "code",
   "execution_count": 36,
   "metadata": {
    "execution": {
     "iopub.execute_input": "2020-12-30T20:35:00.677425Z",
     "iopub.status.busy": "2020-12-30T20:35:00.676197Z",
     "iopub.status.idle": "2020-12-30T20:35:00.687275Z",
     "shell.execute_reply": "2020-12-30T20:35:00.686686Z"
    },
    "papermill": {
     "duration": 0.10483,
     "end_time": "2020-12-30T20:35:00.687386",
     "exception": false,
     "start_time": "2020-12-30T20:35:00.582556",
     "status": "completed"
    },
    "tags": []
   },
   "outputs": [
    {
     "data": {
      "text/plain": [
       "Location            0\n",
       "MinTemp             0\n",
       "MaxTemp             0\n",
       "Rainfall            0\n",
       "Evaporation         0\n",
       "Sunshine            0\n",
       "WindGustDir      3437\n",
       "WindGustSpeed       0\n",
       "WindDir9am       3440\n",
       "WindDir3pm       1374\n",
       "WindSpeed9am        0\n",
       "WindSpeed3pm        0\n",
       "Humidity9am         0\n",
       "Humidity3pm         0\n",
       "Pressure9am         0\n",
       "Pressure3pm         0\n",
       "Cloud9am            0\n",
       "Cloud3pm            0\n",
       "Temp9am             0\n",
       "Temp3pm             0\n",
       "RainToday           0\n",
       "Month               0\n",
       "dtype: int64"
      ]
     },
     "execution_count": 36,
     "metadata": {},
     "output_type": "execute_result"
    }
   ],
   "source": [
    "x_test.isnull().sum()"
   ]
  },
  {
   "cell_type": "markdown",
   "metadata": {
    "papermill": {
     "duration": 0.069407,
     "end_time": "2020-12-30T20:35:00.826082",
     "exception": false,
     "start_time": "2020-12-30T20:35:00.756675",
     "status": "completed"
    },
    "tags": []
   },
   "source": [
    "Missing values in categorical features will be filled with the mode."
   ]
  },
  {
   "cell_type": "code",
   "execution_count": 37,
   "metadata": {
    "execution": {
     "iopub.execute_input": "2020-12-30T20:35:00.973140Z",
     "iopub.status.busy": "2020-12-30T20:35:00.972103Z",
     "iopub.status.idle": "2020-12-30T20:35:01.155788Z",
     "shell.execute_reply": "2020-12-30T20:35:01.156291Z"
    },
    "papermill": {
     "duration": 0.261086,
     "end_time": "2020-12-30T20:35:01.156443",
     "exception": false,
     "start_time": "2020-12-30T20:35:00.895357",
     "status": "completed"
    },
    "tags": []
   },
   "outputs": [],
   "source": [
    "for df in [x_train,x_test]:\n",
    "    for col in df.select_dtypes(\"object\").columns:\n",
    "        col_mode=x_train[col].mode()[0]\n",
    "        df[col].fillna(col_mode,inplace=True)"
   ]
  },
  {
   "cell_type": "code",
   "execution_count": 38,
   "metadata": {
    "execution": {
     "iopub.execute_input": "2020-12-30T20:35:01.340143Z",
     "iopub.status.busy": "2020-12-30T20:35:01.339437Z",
     "iopub.status.idle": "2020-12-30T20:35:01.351260Z",
     "shell.execute_reply": "2020-12-30T20:35:01.350623Z"
    },
    "papermill": {
     "duration": 0.125581,
     "end_time": "2020-12-30T20:35:01.351372",
     "exception": false,
     "start_time": "2020-12-30T20:35:01.225791",
     "status": "completed"
    },
    "tags": []
   },
   "outputs": [
    {
     "data": {
      "text/plain": [
       "Location         0\n",
       "MinTemp          0\n",
       "MaxTemp          0\n",
       "Rainfall         0\n",
       "Evaporation      0\n",
       "Sunshine         0\n",
       "WindGustDir      0\n",
       "WindGustSpeed    0\n",
       "WindDir9am       0\n",
       "WindDir3pm       0\n",
       "WindSpeed9am     0\n",
       "WindSpeed3pm     0\n",
       "Humidity9am      0\n",
       "Humidity3pm      0\n",
       "Pressure9am      0\n",
       "Pressure3pm      0\n",
       "Cloud9am         0\n",
       "Cloud3pm         0\n",
       "Temp9am          0\n",
       "Temp3pm          0\n",
       "RainToday        0\n",
       "Month            0\n",
       "dtype: int64"
      ]
     },
     "execution_count": 38,
     "metadata": {},
     "output_type": "execute_result"
    }
   ],
   "source": [
    "x_train.isnull().sum()"
   ]
  },
  {
   "cell_type": "code",
   "execution_count": 39,
   "metadata": {
    "execution": {
     "iopub.execute_input": "2020-12-30T20:35:01.516714Z",
     "iopub.status.busy": "2020-12-30T20:35:01.515621Z",
     "iopub.status.idle": "2020-12-30T20:35:01.526198Z",
     "shell.execute_reply": "2020-12-30T20:35:01.525461Z"
    },
    "papermill": {
     "duration": 0.104605,
     "end_time": "2020-12-30T20:35:01.526314",
     "exception": false,
     "start_time": "2020-12-30T20:35:01.421709",
     "status": "completed"
    },
    "tags": []
   },
   "outputs": [
    {
     "data": {
      "text/plain": [
       "Location         0\n",
       "MinTemp          0\n",
       "MaxTemp          0\n",
       "Rainfall         0\n",
       "Evaporation      0\n",
       "Sunshine         0\n",
       "WindGustDir      0\n",
       "WindGustSpeed    0\n",
       "WindDir9am       0\n",
       "WindDir3pm       0\n",
       "WindSpeed9am     0\n",
       "WindSpeed3pm     0\n",
       "Humidity9am      0\n",
       "Humidity3pm      0\n",
       "Pressure9am      0\n",
       "Pressure3pm      0\n",
       "Cloud9am         0\n",
       "Cloud3pm         0\n",
       "Temp9am          0\n",
       "Temp3pm          0\n",
       "RainToday        0\n",
       "Month            0\n",
       "dtype: int64"
      ]
     },
     "execution_count": 39,
     "metadata": {},
     "output_type": "execute_result"
    }
   ],
   "source": [
    "x_test.isnull().sum()"
   ]
  },
  {
   "cell_type": "markdown",
   "metadata": {
    "papermill": {
     "duration": 0.070167,
     "end_time": "2020-12-30T20:35:01.666373",
     "exception": false,
     "start_time": "2020-12-30T20:35:01.596206",
     "status": "completed"
    },
    "tags": []
   },
   "source": [
    "Up until now the categorical features are still in text format. We will have to convert them into a format the model will be able to use as input (i.e. numbers). We shall do so by converting the text into numbers using pd.get_dummies, concatenating the dummies to the dataframe, and then dropping the original text column:"
   ]
  },
  {
   "cell_type": "code",
   "execution_count": 40,
   "metadata": {
    "execution": {
     "iopub.execute_input": "2020-12-30T20:35:01.820043Z",
     "iopub.status.busy": "2020-12-30T20:35:01.819343Z",
     "iopub.status.idle": "2020-12-30T20:35:02.011693Z",
     "shell.execute_reply": "2020-12-30T20:35:02.012249Z"
    },
    "papermill": {
     "duration": 0.274165,
     "end_time": "2020-12-30T20:35:02.012397",
     "exception": false,
     "start_time": "2020-12-30T20:35:01.738232",
     "status": "completed"
    },
    "tags": []
   },
   "outputs": [],
   "source": [
    "for col in x_train.select_dtypes(\"object\").columns:\n",
    "    x_train=pd.concat([x_train,pd.get_dummies(x_train[col],drop_first=True)],axis=1)\n",
    "    x_train.drop([col],axis=1,inplace=True)"
   ]
  },
  {
   "cell_type": "code",
   "execution_count": 41,
   "metadata": {
    "execution": {
     "iopub.execute_input": "2020-12-30T20:35:02.156576Z",
     "iopub.status.busy": "2020-12-30T20:35:02.155563Z",
     "iopub.status.idle": "2020-12-30T20:35:02.206205Z",
     "shell.execute_reply": "2020-12-30T20:35:02.205682Z"
    },
    "papermill": {
     "duration": 0.123513,
     "end_time": "2020-12-30T20:35:02.206316",
     "exception": false,
     "start_time": "2020-12-30T20:35:02.082803",
     "status": "completed"
    },
    "tags": []
   },
   "outputs": [
    {
     "data": {
      "text/html": [
       "<div>\n",
       "<style scoped>\n",
       "    .dataframe tbody tr th:only-of-type {\n",
       "        vertical-align: middle;\n",
       "    }\n",
       "\n",
       "    .dataframe tbody tr th {\n",
       "        vertical-align: top;\n",
       "    }\n",
       "\n",
       "    .dataframe thead th {\n",
       "        text-align: right;\n",
       "    }\n",
       "</style>\n",
       "<table border=\"1\" class=\"dataframe\">\n",
       "  <thead>\n",
       "    <tr style=\"text-align: right;\">\n",
       "      <th></th>\n",
       "      <th>MinTemp</th>\n",
       "      <th>MaxTemp</th>\n",
       "      <th>Rainfall</th>\n",
       "      <th>Evaporation</th>\n",
       "      <th>Sunshine</th>\n",
       "      <th>WindGustSpeed</th>\n",
       "      <th>WindSpeed9am</th>\n",
       "      <th>WindSpeed3pm</th>\n",
       "      <th>Humidity9am</th>\n",
       "      <th>Humidity3pm</th>\n",
       "      <th>Pressure9am</th>\n",
       "      <th>Pressure3pm</th>\n",
       "      <th>Cloud9am</th>\n",
       "      <th>Cloud3pm</th>\n",
       "      <th>Temp9am</th>\n",
       "      <th>Temp3pm</th>\n",
       "      <th>RainToday</th>\n",
       "      <th>Month</th>\n",
       "      <th>Albany</th>\n",
       "      <th>Albury</th>\n",
       "      <th>AliceSprings</th>\n",
       "      <th>BadgerysCreek</th>\n",
       "      <th>Ballarat</th>\n",
       "      <th>Bendigo</th>\n",
       "      <th>Brisbane</th>\n",
       "      <th>Cairns</th>\n",
       "      <th>Canberra</th>\n",
       "      <th>Cobar</th>\n",
       "      <th>CoffsHarbour</th>\n",
       "      <th>Dartmoor</th>\n",
       "      <th>Darwin</th>\n",
       "      <th>GoldCoast</th>\n",
       "      <th>Hobart</th>\n",
       "      <th>Katherine</th>\n",
       "      <th>Launceston</th>\n",
       "      <th>Melbourne</th>\n",
       "      <th>MelbourneAirport</th>\n",
       "      <th>Mildura</th>\n",
       "      <th>Moree</th>\n",
       "      <th>MountGambier</th>\n",
       "      <th>MountGinini</th>\n",
       "      <th>Newcastle</th>\n",
       "      <th>Nhil</th>\n",
       "      <th>NorahHead</th>\n",
       "      <th>NorfolkIsland</th>\n",
       "      <th>Nuriootpa</th>\n",
       "      <th>PearceRAAF</th>\n",
       "      <th>Penrith</th>\n",
       "      <th>Perth</th>\n",
       "      <th>PerthAirport</th>\n",
       "      <th>...</th>\n",
       "      <th>Watsonia</th>\n",
       "      <th>Williamtown</th>\n",
       "      <th>Witchcliffe</th>\n",
       "      <th>Wollongong</th>\n",
       "      <th>Woomera</th>\n",
       "      <th>ENE</th>\n",
       "      <th>ESE</th>\n",
       "      <th>N</th>\n",
       "      <th>NE</th>\n",
       "      <th>NNE</th>\n",
       "      <th>NNW</th>\n",
       "      <th>NW</th>\n",
       "      <th>S</th>\n",
       "      <th>SE</th>\n",
       "      <th>SSE</th>\n",
       "      <th>SSW</th>\n",
       "      <th>SW</th>\n",
       "      <th>W</th>\n",
       "      <th>WNW</th>\n",
       "      <th>WSW</th>\n",
       "      <th>ENE</th>\n",
       "      <th>ESE</th>\n",
       "      <th>N</th>\n",
       "      <th>NE</th>\n",
       "      <th>NNE</th>\n",
       "      <th>NNW</th>\n",
       "      <th>NW</th>\n",
       "      <th>S</th>\n",
       "      <th>SE</th>\n",
       "      <th>SSE</th>\n",
       "      <th>SSW</th>\n",
       "      <th>SW</th>\n",
       "      <th>W</th>\n",
       "      <th>WNW</th>\n",
       "      <th>WSW</th>\n",
       "      <th>ENE</th>\n",
       "      <th>ESE</th>\n",
       "      <th>N</th>\n",
       "      <th>NE</th>\n",
       "      <th>NNE</th>\n",
       "      <th>NNW</th>\n",
       "      <th>NW</th>\n",
       "      <th>S</th>\n",
       "      <th>SE</th>\n",
       "      <th>SSE</th>\n",
       "      <th>SSW</th>\n",
       "      <th>SW</th>\n",
       "      <th>W</th>\n",
       "      <th>WNW</th>\n",
       "      <th>WSW</th>\n",
       "    </tr>\n",
       "  </thead>\n",
       "  <tbody>\n",
       "    <tr>\n",
       "      <th>117374</th>\n",
       "      <td>13.2</td>\n",
       "      <td>21.1</td>\n",
       "      <td>0.2</td>\n",
       "      <td>4.8</td>\n",
       "      <td>8.6</td>\n",
       "      <td>61.0</td>\n",
       "      <td>31.0</td>\n",
       "      <td>31.0</td>\n",
       "      <td>72.0</td>\n",
       "      <td>52.0</td>\n",
       "      <td>1012.3</td>\n",
       "      <td>1010.9</td>\n",
       "      <td>6.0</td>\n",
       "      <td>1.0</td>\n",
       "      <td>19.1</td>\n",
       "      <td>19.8</td>\n",
       "      <td>0</td>\n",
       "      <td>10</td>\n",
       "      <td>0</td>\n",
       "      <td>0</td>\n",
       "      <td>0</td>\n",
       "      <td>0</td>\n",
       "      <td>0</td>\n",
       "      <td>0</td>\n",
       "      <td>0</td>\n",
       "      <td>0</td>\n",
       "      <td>0</td>\n",
       "      <td>0</td>\n",
       "      <td>0</td>\n",
       "      <td>0</td>\n",
       "      <td>0</td>\n",
       "      <td>0</td>\n",
       "      <td>0</td>\n",
       "      <td>0</td>\n",
       "      <td>0</td>\n",
       "      <td>0</td>\n",
       "      <td>0</td>\n",
       "      <td>0</td>\n",
       "      <td>0</td>\n",
       "      <td>0</td>\n",
       "      <td>0</td>\n",
       "      <td>0</td>\n",
       "      <td>0</td>\n",
       "      <td>0</td>\n",
       "      <td>0</td>\n",
       "      <td>0</td>\n",
       "      <td>1</td>\n",
       "      <td>0</td>\n",
       "      <td>0</td>\n",
       "      <td>0</td>\n",
       "      <td>...</td>\n",
       "      <td>0</td>\n",
       "      <td>0</td>\n",
       "      <td>0</td>\n",
       "      <td>0</td>\n",
       "      <td>0</td>\n",
       "      <td>0</td>\n",
       "      <td>0</td>\n",
       "      <td>0</td>\n",
       "      <td>0</td>\n",
       "      <td>0</td>\n",
       "      <td>0</td>\n",
       "      <td>0</td>\n",
       "      <td>0</td>\n",
       "      <td>0</td>\n",
       "      <td>0</td>\n",
       "      <td>0</td>\n",
       "      <td>0</td>\n",
       "      <td>1</td>\n",
       "      <td>0</td>\n",
       "      <td>0</td>\n",
       "      <td>0</td>\n",
       "      <td>0</td>\n",
       "      <td>0</td>\n",
       "      <td>0</td>\n",
       "      <td>0</td>\n",
       "      <td>0</td>\n",
       "      <td>0</td>\n",
       "      <td>0</td>\n",
       "      <td>0</td>\n",
       "      <td>0</td>\n",
       "      <td>0</td>\n",
       "      <td>0</td>\n",
       "      <td>1</td>\n",
       "      <td>0</td>\n",
       "      <td>0</td>\n",
       "      <td>0</td>\n",
       "      <td>0</td>\n",
       "      <td>0</td>\n",
       "      <td>0</td>\n",
       "      <td>0</td>\n",
       "      <td>0</td>\n",
       "      <td>0</td>\n",
       "      <td>0</td>\n",
       "      <td>0</td>\n",
       "      <td>0</td>\n",
       "      <td>0</td>\n",
       "      <td>0</td>\n",
       "      <td>0</td>\n",
       "      <td>1</td>\n",
       "      <td>0</td>\n",
       "    </tr>\n",
       "    <tr>\n",
       "      <th>137386</th>\n",
       "      <td>2.1</td>\n",
       "      <td>26.8</td>\n",
       "      <td>0.0</td>\n",
       "      <td>6.6</td>\n",
       "      <td>10.6</td>\n",
       "      <td>26.0</td>\n",
       "      <td>0.0</td>\n",
       "      <td>9.0</td>\n",
       "      <td>34.0</td>\n",
       "      <td>10.0</td>\n",
       "      <td>1024.6</td>\n",
       "      <td>1019.7</td>\n",
       "      <td>0.0</td>\n",
       "      <td>5.0</td>\n",
       "      <td>13.9</td>\n",
       "      <td>25.9</td>\n",
       "      <td>0</td>\n",
       "      <td>8</td>\n",
       "      <td>0</td>\n",
       "      <td>0</td>\n",
       "      <td>1</td>\n",
       "      <td>0</td>\n",
       "      <td>0</td>\n",
       "      <td>0</td>\n",
       "      <td>0</td>\n",
       "      <td>0</td>\n",
       "      <td>0</td>\n",
       "      <td>0</td>\n",
       "      <td>0</td>\n",
       "      <td>0</td>\n",
       "      <td>0</td>\n",
       "      <td>0</td>\n",
       "      <td>0</td>\n",
       "      <td>0</td>\n",
       "      <td>0</td>\n",
       "      <td>0</td>\n",
       "      <td>0</td>\n",
       "      <td>0</td>\n",
       "      <td>0</td>\n",
       "      <td>0</td>\n",
       "      <td>0</td>\n",
       "      <td>0</td>\n",
       "      <td>0</td>\n",
       "      <td>0</td>\n",
       "      <td>0</td>\n",
       "      <td>0</td>\n",
       "      <td>0</td>\n",
       "      <td>0</td>\n",
       "      <td>0</td>\n",
       "      <td>0</td>\n",
       "      <td>...</td>\n",
       "      <td>0</td>\n",
       "      <td>0</td>\n",
       "      <td>0</td>\n",
       "      <td>0</td>\n",
       "      <td>0</td>\n",
       "      <td>0</td>\n",
       "      <td>0</td>\n",
       "      <td>1</td>\n",
       "      <td>0</td>\n",
       "      <td>0</td>\n",
       "      <td>0</td>\n",
       "      <td>0</td>\n",
       "      <td>0</td>\n",
       "      <td>0</td>\n",
       "      <td>0</td>\n",
       "      <td>0</td>\n",
       "      <td>0</td>\n",
       "      <td>0</td>\n",
       "      <td>0</td>\n",
       "      <td>0</td>\n",
       "      <td>0</td>\n",
       "      <td>0</td>\n",
       "      <td>1</td>\n",
       "      <td>0</td>\n",
       "      <td>0</td>\n",
       "      <td>0</td>\n",
       "      <td>0</td>\n",
       "      <td>0</td>\n",
       "      <td>0</td>\n",
       "      <td>0</td>\n",
       "      <td>0</td>\n",
       "      <td>0</td>\n",
       "      <td>0</td>\n",
       "      <td>0</td>\n",
       "      <td>0</td>\n",
       "      <td>0</td>\n",
       "      <td>0</td>\n",
       "      <td>0</td>\n",
       "      <td>0</td>\n",
       "      <td>0</td>\n",
       "      <td>0</td>\n",
       "      <td>0</td>\n",
       "      <td>0</td>\n",
       "      <td>0</td>\n",
       "      <td>0</td>\n",
       "      <td>0</td>\n",
       "      <td>0</td>\n",
       "      <td>0</td>\n",
       "      <td>0</td>\n",
       "      <td>1</td>\n",
       "    </tr>\n",
       "  </tbody>\n",
       "</table>\n",
       "<p>2 rows × 111 columns</p>\n",
       "</div>"
      ],
      "text/plain": [
       "        MinTemp  MaxTemp  Rainfall  Evaporation  Sunshine  WindGustSpeed  \\\n",
       "117374     13.2     21.1       0.2          4.8       8.6           61.0   \n",
       "137386      2.1     26.8       0.0          6.6      10.6           26.0   \n",
       "\n",
       "        WindSpeed9am  WindSpeed3pm  Humidity9am  Humidity3pm  Pressure9am  \\\n",
       "117374          31.0          31.0         72.0         52.0       1012.3   \n",
       "137386           0.0           9.0         34.0         10.0       1024.6   \n",
       "\n",
       "        Pressure3pm  Cloud9am  Cloud3pm  Temp9am  Temp3pm  RainToday  Month  \\\n",
       "117374       1010.9       6.0       1.0     19.1     19.8          0     10   \n",
       "137386       1019.7       0.0       5.0     13.9     25.9          0      8   \n",
       "\n",
       "        Albany  Albury  AliceSprings  BadgerysCreek  Ballarat  Bendigo  \\\n",
       "117374       0       0             0              0         0        0   \n",
       "137386       0       0             1              0         0        0   \n",
       "\n",
       "        Brisbane  Cairns  Canberra  Cobar  CoffsHarbour  Dartmoor  Darwin  \\\n",
       "117374         0       0         0      0             0         0       0   \n",
       "137386         0       0         0      0             0         0       0   \n",
       "\n",
       "        GoldCoast  Hobart  Katherine  Launceston  Melbourne  MelbourneAirport  \\\n",
       "117374          0       0          0           0          0                 0   \n",
       "137386          0       0          0           0          0                 0   \n",
       "\n",
       "        Mildura  Moree  MountGambier  MountGinini  Newcastle  Nhil  NorahHead  \\\n",
       "117374        0      0             0            0          0     0          0   \n",
       "137386        0      0             0            0          0     0          0   \n",
       "\n",
       "        NorfolkIsland  Nuriootpa  PearceRAAF  Penrith  Perth  PerthAirport  \\\n",
       "117374              0          0           1        0      0             0   \n",
       "137386              0          0           0        0      0             0   \n",
       "\n",
       "        ...  Watsonia  Williamtown  Witchcliffe  Wollongong  Woomera  ENE  \\\n",
       "117374  ...         0            0            0           0        0    0   \n",
       "137386  ...         0            0            0           0        0    0   \n",
       "\n",
       "        ESE  N  NE  NNE  NNW  NW  S  SE  SSE  SSW  SW  W  WNW  WSW  ENE  ESE  \\\n",
       "117374    0  0   0    0    0   0  0   0    0    0   0  1    0    0    0    0   \n",
       "137386    0  1   0    0    0   0  0   0    0    0   0  0    0    0    0    0   \n",
       "\n",
       "        N  NE  NNE  NNW  NW  S  SE  SSE  SSW  SW  W  WNW  WSW  ENE  ESE  N  \\\n",
       "117374  0   0    0    0   0  0   0    0    0   0  1    0    0    0    0  0   \n",
       "137386  1   0    0    0   0  0   0    0    0   0  0    0    0    0    0  0   \n",
       "\n",
       "        NE  NNE  NNW  NW  S  SE  SSE  SSW  SW  W  WNW  WSW  \n",
       "117374   0    0    0   0  0   0    0    0   0  0    1    0  \n",
       "137386   0    0    0   0  0   0    0    0   0  0    0    1  \n",
       "\n",
       "[2 rows x 111 columns]"
      ]
     },
     "execution_count": 41,
     "metadata": {},
     "output_type": "execute_result"
    }
   ],
   "source": [
    "x_train.head(2)"
   ]
  },
  {
   "cell_type": "code",
   "execution_count": 42,
   "metadata": {
    "execution": {
     "iopub.execute_input": "2020-12-30T20:35:02.357186Z",
     "iopub.status.busy": "2020-12-30T20:35:02.356123Z",
     "iopub.status.idle": "2020-12-30T20:35:02.442920Z",
     "shell.execute_reply": "2020-12-30T20:35:02.443434Z"
    },
    "papermill": {
     "duration": 0.165988,
     "end_time": "2020-12-30T20:35:02.443636",
     "exception": false,
     "start_time": "2020-12-30T20:35:02.277648",
     "status": "completed"
    },
    "tags": []
   },
   "outputs": [],
   "source": [
    "for col in x_test.select_dtypes(\"object\").columns:\n",
    "    x_test=pd.concat([x_test,pd.get_dummies(x_test[col],drop_first=True)],axis=1)\n",
    "    x_test.drop([col],axis=1,inplace=True)"
   ]
  },
  {
   "cell_type": "code",
   "execution_count": 43,
   "metadata": {
    "execution": {
     "iopub.execute_input": "2020-12-30T20:35:02.605387Z",
     "iopub.status.busy": "2020-12-30T20:35:02.600180Z",
     "iopub.status.idle": "2020-12-30T20:35:02.642538Z",
     "shell.execute_reply": "2020-12-30T20:35:02.643046Z"
    },
    "papermill": {
     "duration": 0.127777,
     "end_time": "2020-12-30T20:35:02.643192",
     "exception": false,
     "start_time": "2020-12-30T20:35:02.515415",
     "status": "completed"
    },
    "tags": []
   },
   "outputs": [
    {
     "data": {
      "text/html": [
       "<div>\n",
       "<style scoped>\n",
       "    .dataframe tbody tr th:only-of-type {\n",
       "        vertical-align: middle;\n",
       "    }\n",
       "\n",
       "    .dataframe tbody tr th {\n",
       "        vertical-align: top;\n",
       "    }\n",
       "\n",
       "    .dataframe thead th {\n",
       "        text-align: right;\n",
       "    }\n",
       "</style>\n",
       "<table border=\"1\" class=\"dataframe\">\n",
       "  <thead>\n",
       "    <tr style=\"text-align: right;\">\n",
       "      <th></th>\n",
       "      <th>MinTemp</th>\n",
       "      <th>MaxTemp</th>\n",
       "      <th>Rainfall</th>\n",
       "      <th>Evaporation</th>\n",
       "      <th>Sunshine</th>\n",
       "      <th>WindGustSpeed</th>\n",
       "      <th>WindSpeed9am</th>\n",
       "      <th>WindSpeed3pm</th>\n",
       "      <th>Humidity9am</th>\n",
       "      <th>Humidity3pm</th>\n",
       "      <th>Pressure9am</th>\n",
       "      <th>Pressure3pm</th>\n",
       "      <th>Cloud9am</th>\n",
       "      <th>Cloud3pm</th>\n",
       "      <th>Temp9am</th>\n",
       "      <th>Temp3pm</th>\n",
       "      <th>RainToday</th>\n",
       "      <th>Month</th>\n",
       "      <th>Albany</th>\n",
       "      <th>Albury</th>\n",
       "      <th>AliceSprings</th>\n",
       "      <th>BadgerysCreek</th>\n",
       "      <th>Ballarat</th>\n",
       "      <th>Bendigo</th>\n",
       "      <th>Brisbane</th>\n",
       "      <th>Cairns</th>\n",
       "      <th>Canberra</th>\n",
       "      <th>Cobar</th>\n",
       "      <th>CoffsHarbour</th>\n",
       "      <th>Dartmoor</th>\n",
       "      <th>Darwin</th>\n",
       "      <th>GoldCoast</th>\n",
       "      <th>Hobart</th>\n",
       "      <th>Katherine</th>\n",
       "      <th>Launceston</th>\n",
       "      <th>Melbourne</th>\n",
       "      <th>MelbourneAirport</th>\n",
       "      <th>Mildura</th>\n",
       "      <th>Moree</th>\n",
       "      <th>MountGambier</th>\n",
       "      <th>MountGinini</th>\n",
       "      <th>Newcastle</th>\n",
       "      <th>Nhil</th>\n",
       "      <th>NorahHead</th>\n",
       "      <th>NorfolkIsland</th>\n",
       "      <th>Nuriootpa</th>\n",
       "      <th>PearceRAAF</th>\n",
       "      <th>Penrith</th>\n",
       "      <th>Perth</th>\n",
       "      <th>PerthAirport</th>\n",
       "      <th>...</th>\n",
       "      <th>Watsonia</th>\n",
       "      <th>Williamtown</th>\n",
       "      <th>Witchcliffe</th>\n",
       "      <th>Wollongong</th>\n",
       "      <th>Woomera</th>\n",
       "      <th>ENE</th>\n",
       "      <th>ESE</th>\n",
       "      <th>N</th>\n",
       "      <th>NE</th>\n",
       "      <th>NNE</th>\n",
       "      <th>NNW</th>\n",
       "      <th>NW</th>\n",
       "      <th>S</th>\n",
       "      <th>SE</th>\n",
       "      <th>SSE</th>\n",
       "      <th>SSW</th>\n",
       "      <th>SW</th>\n",
       "      <th>W</th>\n",
       "      <th>WNW</th>\n",
       "      <th>WSW</th>\n",
       "      <th>ENE</th>\n",
       "      <th>ESE</th>\n",
       "      <th>N</th>\n",
       "      <th>NE</th>\n",
       "      <th>NNE</th>\n",
       "      <th>NNW</th>\n",
       "      <th>NW</th>\n",
       "      <th>S</th>\n",
       "      <th>SE</th>\n",
       "      <th>SSE</th>\n",
       "      <th>SSW</th>\n",
       "      <th>SW</th>\n",
       "      <th>W</th>\n",
       "      <th>WNW</th>\n",
       "      <th>WSW</th>\n",
       "      <th>ENE</th>\n",
       "      <th>ESE</th>\n",
       "      <th>N</th>\n",
       "      <th>NE</th>\n",
       "      <th>NNE</th>\n",
       "      <th>NNW</th>\n",
       "      <th>NW</th>\n",
       "      <th>S</th>\n",
       "      <th>SE</th>\n",
       "      <th>SSE</th>\n",
       "      <th>SSW</th>\n",
       "      <th>SW</th>\n",
       "      <th>W</th>\n",
       "      <th>WNW</th>\n",
       "      <th>WSW</th>\n",
       "    </tr>\n",
       "  </thead>\n",
       "  <tbody>\n",
       "    <tr>\n",
       "      <th>141966</th>\n",
       "      <td>21.5</td>\n",
       "      <td>31.9</td>\n",
       "      <td>0.0</td>\n",
       "      <td>6.6</td>\n",
       "      <td>10.9</td>\n",
       "      <td>31.0</td>\n",
       "      <td>7.0</td>\n",
       "      <td>19.0</td>\n",
       "      <td>71.0</td>\n",
       "      <td>50.0</td>\n",
       "      <td>1013.4</td>\n",
       "      <td>1009.4</td>\n",
       "      <td>1.0</td>\n",
       "      <td>2.0</td>\n",
       "      <td>26.3</td>\n",
       "      <td>30.9</td>\n",
       "      <td>0</td>\n",
       "      <td>7</td>\n",
       "      <td>0</td>\n",
       "      <td>0</td>\n",
       "      <td>0</td>\n",
       "      <td>0</td>\n",
       "      <td>0</td>\n",
       "      <td>0</td>\n",
       "      <td>0</td>\n",
       "      <td>0</td>\n",
       "      <td>0</td>\n",
       "      <td>0</td>\n",
       "      <td>0</td>\n",
       "      <td>0</td>\n",
       "      <td>1</td>\n",
       "      <td>0</td>\n",
       "      <td>0</td>\n",
       "      <td>0</td>\n",
       "      <td>0</td>\n",
       "      <td>0</td>\n",
       "      <td>0</td>\n",
       "      <td>0</td>\n",
       "      <td>0</td>\n",
       "      <td>0</td>\n",
       "      <td>0</td>\n",
       "      <td>0</td>\n",
       "      <td>0</td>\n",
       "      <td>0</td>\n",
       "      <td>0</td>\n",
       "      <td>0</td>\n",
       "      <td>0</td>\n",
       "      <td>0</td>\n",
       "      <td>0</td>\n",
       "      <td>0</td>\n",
       "      <td>...</td>\n",
       "      <td>0</td>\n",
       "      <td>0</td>\n",
       "      <td>0</td>\n",
       "      <td>0</td>\n",
       "      <td>0</td>\n",
       "      <td>0</td>\n",
       "      <td>0</td>\n",
       "      <td>0</td>\n",
       "      <td>0</td>\n",
       "      <td>0</td>\n",
       "      <td>0</td>\n",
       "      <td>0</td>\n",
       "      <td>0</td>\n",
       "      <td>0</td>\n",
       "      <td>0</td>\n",
       "      <td>0</td>\n",
       "      <td>0</td>\n",
       "      <td>1</td>\n",
       "      <td>0</td>\n",
       "      <td>0</td>\n",
       "      <td>0</td>\n",
       "      <td>0</td>\n",
       "      <td>0</td>\n",
       "      <td>0</td>\n",
       "      <td>0</td>\n",
       "      <td>0</td>\n",
       "      <td>0</td>\n",
       "      <td>0</td>\n",
       "      <td>0</td>\n",
       "      <td>0</td>\n",
       "      <td>0</td>\n",
       "      <td>0</td>\n",
       "      <td>1</td>\n",
       "      <td>0</td>\n",
       "      <td>0</td>\n",
       "      <td>0</td>\n",
       "      <td>0</td>\n",
       "      <td>0</td>\n",
       "      <td>0</td>\n",
       "      <td>0</td>\n",
       "      <td>0</td>\n",
       "      <td>1</td>\n",
       "      <td>0</td>\n",
       "      <td>0</td>\n",
       "      <td>0</td>\n",
       "      <td>0</td>\n",
       "      <td>0</td>\n",
       "      <td>0</td>\n",
       "      <td>0</td>\n",
       "      <td>0</td>\n",
       "    </tr>\n",
       "    <tr>\n",
       "      <th>45581</th>\n",
       "      <td>12.7</td>\n",
       "      <td>18.0</td>\n",
       "      <td>0.0</td>\n",
       "      <td>4.8</td>\n",
       "      <td>8.5</td>\n",
       "      <td>30.0</td>\n",
       "      <td>11.0</td>\n",
       "      <td>7.0</td>\n",
       "      <td>72.0</td>\n",
       "      <td>66.0</td>\n",
       "      <td>1028.8</td>\n",
       "      <td>1024.9</td>\n",
       "      <td>7.0</td>\n",
       "      <td>5.0</td>\n",
       "      <td>15.1</td>\n",
       "      <td>16.6</td>\n",
       "      <td>0</td>\n",
       "      <td>6</td>\n",
       "      <td>0</td>\n",
       "      <td>0</td>\n",
       "      <td>0</td>\n",
       "      <td>0</td>\n",
       "      <td>0</td>\n",
       "      <td>0</td>\n",
       "      <td>0</td>\n",
       "      <td>0</td>\n",
       "      <td>0</td>\n",
       "      <td>0</td>\n",
       "      <td>0</td>\n",
       "      <td>0</td>\n",
       "      <td>0</td>\n",
       "      <td>0</td>\n",
       "      <td>0</td>\n",
       "      <td>0</td>\n",
       "      <td>0</td>\n",
       "      <td>0</td>\n",
       "      <td>0</td>\n",
       "      <td>0</td>\n",
       "      <td>0</td>\n",
       "      <td>0</td>\n",
       "      <td>0</td>\n",
       "      <td>0</td>\n",
       "      <td>0</td>\n",
       "      <td>0</td>\n",
       "      <td>0</td>\n",
       "      <td>0</td>\n",
       "      <td>0</td>\n",
       "      <td>0</td>\n",
       "      <td>0</td>\n",
       "      <td>0</td>\n",
       "      <td>...</td>\n",
       "      <td>0</td>\n",
       "      <td>0</td>\n",
       "      <td>0</td>\n",
       "      <td>1</td>\n",
       "      <td>0</td>\n",
       "      <td>0</td>\n",
       "      <td>0</td>\n",
       "      <td>0</td>\n",
       "      <td>0</td>\n",
       "      <td>0</td>\n",
       "      <td>0</td>\n",
       "      <td>1</td>\n",
       "      <td>0</td>\n",
       "      <td>0</td>\n",
       "      <td>0</td>\n",
       "      <td>0</td>\n",
       "      <td>0</td>\n",
       "      <td>0</td>\n",
       "      <td>0</td>\n",
       "      <td>0</td>\n",
       "      <td>0</td>\n",
       "      <td>0</td>\n",
       "      <td>0</td>\n",
       "      <td>0</td>\n",
       "      <td>0</td>\n",
       "      <td>0</td>\n",
       "      <td>0</td>\n",
       "      <td>0</td>\n",
       "      <td>0</td>\n",
       "      <td>0</td>\n",
       "      <td>0</td>\n",
       "      <td>1</td>\n",
       "      <td>0</td>\n",
       "      <td>0</td>\n",
       "      <td>0</td>\n",
       "      <td>0</td>\n",
       "      <td>0</td>\n",
       "      <td>0</td>\n",
       "      <td>1</td>\n",
       "      <td>0</td>\n",
       "      <td>0</td>\n",
       "      <td>0</td>\n",
       "      <td>0</td>\n",
       "      <td>0</td>\n",
       "      <td>0</td>\n",
       "      <td>0</td>\n",
       "      <td>0</td>\n",
       "      <td>0</td>\n",
       "      <td>0</td>\n",
       "      <td>0</td>\n",
       "    </tr>\n",
       "  </tbody>\n",
       "</table>\n",
       "<p>2 rows × 111 columns</p>\n",
       "</div>"
      ],
      "text/plain": [
       "        MinTemp  MaxTemp  Rainfall  Evaporation  Sunshine  WindGustSpeed  \\\n",
       "141966     21.5     31.9       0.0          6.6      10.9           31.0   \n",
       "45581      12.7     18.0       0.0          4.8       8.5           30.0   \n",
       "\n",
       "        WindSpeed9am  WindSpeed3pm  Humidity9am  Humidity3pm  Pressure9am  \\\n",
       "141966           7.0          19.0         71.0         50.0       1013.4   \n",
       "45581           11.0           7.0         72.0         66.0       1028.8   \n",
       "\n",
       "        Pressure3pm  Cloud9am  Cloud3pm  Temp9am  Temp3pm  RainToday  Month  \\\n",
       "141966       1009.4       1.0       2.0     26.3     30.9          0      7   \n",
       "45581        1024.9       7.0       5.0     15.1     16.6          0      6   \n",
       "\n",
       "        Albany  Albury  AliceSprings  BadgerysCreek  Ballarat  Bendigo  \\\n",
       "141966       0       0             0              0         0        0   \n",
       "45581        0       0             0              0         0        0   \n",
       "\n",
       "        Brisbane  Cairns  Canberra  Cobar  CoffsHarbour  Dartmoor  Darwin  \\\n",
       "141966         0       0         0      0             0         0       1   \n",
       "45581          0       0         0      0             0         0       0   \n",
       "\n",
       "        GoldCoast  Hobart  Katherine  Launceston  Melbourne  MelbourneAirport  \\\n",
       "141966          0       0          0           0          0                 0   \n",
       "45581           0       0          0           0          0                 0   \n",
       "\n",
       "        Mildura  Moree  MountGambier  MountGinini  Newcastle  Nhil  NorahHead  \\\n",
       "141966        0      0             0            0          0     0          0   \n",
       "45581         0      0             0            0          0     0          0   \n",
       "\n",
       "        NorfolkIsland  Nuriootpa  PearceRAAF  Penrith  Perth  PerthAirport  \\\n",
       "141966              0          0           0        0      0             0   \n",
       "45581               0          0           0        0      0             0   \n",
       "\n",
       "        ...  Watsonia  Williamtown  Witchcliffe  Wollongong  Woomera  ENE  \\\n",
       "141966  ...         0            0            0           0        0    0   \n",
       "45581   ...         0            0            0           1        0    0   \n",
       "\n",
       "        ESE  N  NE  NNE  NNW  NW  S  SE  SSE  SSW  SW  W  WNW  WSW  ENE  ESE  \\\n",
       "141966    0  0   0    0    0   0  0   0    0    0   0  1    0    0    0    0   \n",
       "45581     0  0   0    0    0   1  0   0    0    0   0  0    0    0    0    0   \n",
       "\n",
       "        N  NE  NNE  NNW  NW  S  SE  SSE  SSW  SW  W  WNW  WSW  ENE  ESE  N  \\\n",
       "141966  0   0    0    0   0  0   0    0    0   0  1    0    0    0    0  0   \n",
       "45581   0   0    0    0   0  0   0    0    0   1  0    0    0    0    0  0   \n",
       "\n",
       "        NE  NNE  NNW  NW  S  SE  SSE  SSW  SW  W  WNW  WSW  \n",
       "141966   0    0    0   1  0   0    0    0   0  0    0    0  \n",
       "45581    1    0    0   0  0   0    0    0   0  0    0    0  \n",
       "\n",
       "[2 rows x 111 columns]"
      ]
     },
     "execution_count": 43,
     "metadata": {},
     "output_type": "execute_result"
    }
   ],
   "source": [
    "x_test.head(2)"
   ]
  },
  {
   "cell_type": "markdown",
   "metadata": {
    "papermill": {
     "duration": 0.071854,
     "end_time": "2020-12-30T20:35:02.787396",
     "exception": false,
     "start_time": "2020-12-30T20:35:02.715542",
     "status": "completed"
    },
    "tags": []
   },
   "source": [
    "Since each feature has it's own range of values, we will scale the data (again, only based on the training set and then applied to the testing set):"
   ]
  },
  {
   "cell_type": "code",
   "execution_count": 44,
   "metadata": {
    "execution": {
     "iopub.execute_input": "2020-12-30T20:35:02.939367Z",
     "iopub.status.busy": "2020-12-30T20:35:02.938681Z",
     "iopub.status.idle": "2020-12-30T20:35:03.271445Z",
     "shell.execute_reply": "2020-12-30T20:35:03.270767Z"
    },
    "papermill": {
     "duration": 0.409024,
     "end_time": "2020-12-30T20:35:03.271555",
     "exception": false,
     "start_time": "2020-12-30T20:35:02.862531",
     "status": "completed"
    },
    "tags": []
   },
   "outputs": [],
   "source": [
    "scaler=StandardScaler()\n",
    "\n",
    "x_train=pd.DataFrame(scaler.fit_transform(x_train),columns=x_train.columns)\n",
    "x_test=pd.DataFrame(scaler.transform(x_test),columns=x_test.columns)"
   ]
  },
  {
   "cell_type": "code",
   "execution_count": 45,
   "metadata": {
    "execution": {
     "iopub.execute_input": "2020-12-30T20:35:03.451228Z",
     "iopub.status.busy": "2020-12-30T20:35:03.435816Z",
     "iopub.status.idle": "2020-12-30T20:35:03.495790Z",
     "shell.execute_reply": "2020-12-30T20:35:03.495239Z"
    },
    "papermill": {
     "duration": 0.151786,
     "end_time": "2020-12-30T20:35:03.495898",
     "exception": false,
     "start_time": "2020-12-30T20:35:03.344112",
     "status": "completed"
    },
    "tags": []
   },
   "outputs": [
    {
     "data": {
      "text/html": [
       "<div>\n",
       "<style scoped>\n",
       "    .dataframe tbody tr th:only-of-type {\n",
       "        vertical-align: middle;\n",
       "    }\n",
       "\n",
       "    .dataframe tbody tr th {\n",
       "        vertical-align: top;\n",
       "    }\n",
       "\n",
       "    .dataframe thead th {\n",
       "        text-align: right;\n",
       "    }\n",
       "</style>\n",
       "<table border=\"1\" class=\"dataframe\">\n",
       "  <thead>\n",
       "    <tr style=\"text-align: right;\">\n",
       "      <th></th>\n",
       "      <th>MinTemp</th>\n",
       "      <th>MaxTemp</th>\n",
       "      <th>Rainfall</th>\n",
       "      <th>Evaporation</th>\n",
       "      <th>Sunshine</th>\n",
       "      <th>WindGustSpeed</th>\n",
       "      <th>WindSpeed9am</th>\n",
       "      <th>WindSpeed3pm</th>\n",
       "      <th>Humidity9am</th>\n",
       "      <th>Humidity3pm</th>\n",
       "      <th>Pressure9am</th>\n",
       "      <th>Pressure3pm</th>\n",
       "      <th>Cloud9am</th>\n",
       "      <th>Cloud3pm</th>\n",
       "      <th>Temp9am</th>\n",
       "      <th>Temp3pm</th>\n",
       "      <th>RainToday</th>\n",
       "      <th>Month</th>\n",
       "      <th>Albany</th>\n",
       "      <th>Albury</th>\n",
       "      <th>AliceSprings</th>\n",
       "      <th>BadgerysCreek</th>\n",
       "      <th>Ballarat</th>\n",
       "      <th>Bendigo</th>\n",
       "      <th>Brisbane</th>\n",
       "      <th>Cairns</th>\n",
       "      <th>Canberra</th>\n",
       "      <th>Cobar</th>\n",
       "      <th>CoffsHarbour</th>\n",
       "      <th>Dartmoor</th>\n",
       "      <th>Darwin</th>\n",
       "      <th>GoldCoast</th>\n",
       "      <th>Hobart</th>\n",
       "      <th>Katherine</th>\n",
       "      <th>Launceston</th>\n",
       "      <th>Melbourne</th>\n",
       "      <th>MelbourneAirport</th>\n",
       "      <th>Mildura</th>\n",
       "      <th>Moree</th>\n",
       "      <th>MountGambier</th>\n",
       "      <th>MountGinini</th>\n",
       "      <th>Newcastle</th>\n",
       "      <th>Nhil</th>\n",
       "      <th>NorahHead</th>\n",
       "      <th>NorfolkIsland</th>\n",
       "      <th>Nuriootpa</th>\n",
       "      <th>PearceRAAF</th>\n",
       "      <th>Penrith</th>\n",
       "      <th>Perth</th>\n",
       "      <th>PerthAirport</th>\n",
       "      <th>...</th>\n",
       "      <th>Watsonia</th>\n",
       "      <th>Williamtown</th>\n",
       "      <th>Witchcliffe</th>\n",
       "      <th>Wollongong</th>\n",
       "      <th>Woomera</th>\n",
       "      <th>ENE</th>\n",
       "      <th>ESE</th>\n",
       "      <th>N</th>\n",
       "      <th>NE</th>\n",
       "      <th>NNE</th>\n",
       "      <th>NNW</th>\n",
       "      <th>NW</th>\n",
       "      <th>S</th>\n",
       "      <th>SE</th>\n",
       "      <th>SSE</th>\n",
       "      <th>SSW</th>\n",
       "      <th>SW</th>\n",
       "      <th>W</th>\n",
       "      <th>WNW</th>\n",
       "      <th>WSW</th>\n",
       "      <th>ENE</th>\n",
       "      <th>ESE</th>\n",
       "      <th>N</th>\n",
       "      <th>NE</th>\n",
       "      <th>NNE</th>\n",
       "      <th>NNW</th>\n",
       "      <th>NW</th>\n",
       "      <th>S</th>\n",
       "      <th>SE</th>\n",
       "      <th>SSE</th>\n",
       "      <th>SSW</th>\n",
       "      <th>SW</th>\n",
       "      <th>W</th>\n",
       "      <th>WNW</th>\n",
       "      <th>WSW</th>\n",
       "      <th>ENE</th>\n",
       "      <th>ESE</th>\n",
       "      <th>N</th>\n",
       "      <th>NE</th>\n",
       "      <th>NNE</th>\n",
       "      <th>NNW</th>\n",
       "      <th>NW</th>\n",
       "      <th>S</th>\n",
       "      <th>SE</th>\n",
       "      <th>SSE</th>\n",
       "      <th>SSW</th>\n",
       "      <th>SW</th>\n",
       "      <th>W</th>\n",
       "      <th>WNW</th>\n",
       "      <th>WSW</th>\n",
       "    </tr>\n",
       "  </thead>\n",
       "  <tbody>\n",
       "    <tr>\n",
       "      <th>0</th>\n",
       "      <td>0.159913</td>\n",
       "      <td>-0.297879</td>\n",
       "      <td>-0.252120</td>\n",
       "      <td>-0.122719</td>\n",
       "      <td>0.200969</td>\n",
       "      <td>1.595745</td>\n",
       "      <td>1.917315</td>\n",
       "      <td>1.411101</td>\n",
       "      <td>0.163618</td>\n",
       "      <td>0.022137</td>\n",
       "      <td>-0.791268</td>\n",
       "      <td>-0.650879</td>\n",
       "      <td>0.587090</td>\n",
       "      <td>-1.757720</td>\n",
       "      <td>0.329094</td>\n",
       "      <td>-0.272418</td>\n",
       "      <td>-0.564493</td>\n",
       "      <td>1.050839</td>\n",
       "      <td>-0.14695</td>\n",
       "      <td>-0.147314</td>\n",
       "      <td>-0.146622</td>\n",
       "      <td>-0.144675</td>\n",
       "      <td>-0.145229</td>\n",
       "      <td>-0.148546</td>\n",
       "      <td>-0.14905</td>\n",
       "      <td>-0.146366</td>\n",
       "      <td>-0.155678</td>\n",
       "      <td>-0.145044</td>\n",
       "      <td>-0.144379</td>\n",
       "      <td>-0.14556</td>\n",
       "      <td>-0.150268</td>\n",
       "      <td>-0.144157</td>\n",
       "      <td>-0.148293</td>\n",
       "      <td>-0.103201</td>\n",
       "      <td>-0.147641</td>\n",
       "      <td>-0.149266</td>\n",
       "      <td>-0.145743</td>\n",
       "      <td>-0.146403</td>\n",
       "      <td>-0.143376</td>\n",
       "      <td>-0.146403</td>\n",
       "      <td>-0.146257</td>\n",
       "      <td>-0.145817</td>\n",
       "      <td>-0.104363</td>\n",
       "      <td>-0.14486</td>\n",
       "      <td>-0.145155</td>\n",
       "      <td>-0.144083</td>\n",
       "      <td>6.847586</td>\n",
       "      <td>-0.147967</td>\n",
       "      <td>-0.149696</td>\n",
       "      <td>-0.144527</td>\n",
       "      <td>...</td>\n",
       "      <td>-0.14578</td>\n",
       "      <td>-0.144416</td>\n",
       "      <td>-0.143897</td>\n",
       "      <td>-0.147641</td>\n",
       "      <td>-0.147895</td>\n",
       "      <td>-0.243786</td>\n",
       "      <td>-0.230461</td>\n",
       "      <td>-0.262246</td>\n",
       "      <td>-0.225102</td>\n",
       "      <td>-0.215161</td>\n",
       "      <td>-0.218327</td>\n",
       "      <td>-0.242437</td>\n",
       "      <td>-0.258675</td>\n",
       "      <td>-0.262648</td>\n",
       "      <td>-0.260948</td>\n",
       "      <td>-0.251948</td>\n",
       "      <td>-0.258404</td>\n",
       "      <td>2.485654</td>\n",
       "      <td>-0.246491</td>\n",
       "      <td>-0.258471</td>\n",
       "      <td>-0.238209</td>\n",
       "      <td>-0.235382</td>\n",
       "      <td>-0.425072</td>\n",
       "      <td>-0.235163</td>\n",
       "      <td>-0.242484</td>\n",
       "      <td>-0.242579</td>\n",
       "      <td>-0.25181</td>\n",
       "      <td>-0.252248</td>\n",
       "      <td>-0.261351</td>\n",
       "      <td>-0.25768</td>\n",
       "      <td>-0.234531</td>\n",
       "      <td>-0.24745</td>\n",
       "      <td>4.014772</td>\n",
       "      <td>-0.233311</td>\n",
       "      <td>-0.224826</td>\n",
       "      <td>-0.236907</td>\n",
       "      <td>-0.248662</td>\n",
       "      <td>-0.256659</td>\n",
       "      <td>-0.245764</td>\n",
       "      <td>-0.215891</td>\n",
       "      <td>-0.239984</td>\n",
       "      <td>-0.250587</td>\n",
       "      <td>-0.269721</td>\n",
       "      <td>-0.339316</td>\n",
       "      <td>-0.264052</td>\n",
       "      <td>-0.244635</td>\n",
       "      <td>-0.26325</td>\n",
       "      <td>-0.272795</td>\n",
       "      <td>3.913556</td>\n",
       "      <td>-0.264274</td>\n",
       "    </tr>\n",
       "    <tr>\n",
       "      <th>1</th>\n",
       "      <td>-1.581882</td>\n",
       "      <td>0.505470</td>\n",
       "      <td>-0.276108</td>\n",
       "      <td>0.444070</td>\n",
       "      <td>0.924900</td>\n",
       "      <td>-1.060613</td>\n",
       "      <td>-1.581648</td>\n",
       "      <td>-1.111200</td>\n",
       "      <td>-1.849658</td>\n",
       "      <td>-2.030122</td>\n",
       "      <td>1.033411</td>\n",
       "      <td>0.668475</td>\n",
       "      <td>-2.039633</td>\n",
       "      <td>0.138671</td>\n",
       "      <td>-0.476571</td>\n",
       "      <td>0.617660</td>\n",
       "      <td>-0.564493</td>\n",
       "      <td>0.467525</td>\n",
       "      <td>-0.14695</td>\n",
       "      <td>-0.147314</td>\n",
       "      <td>6.820253</td>\n",
       "      <td>-0.144675</td>\n",
       "      <td>-0.145229</td>\n",
       "      <td>-0.148546</td>\n",
       "      <td>-0.14905</td>\n",
       "      <td>-0.146366</td>\n",
       "      <td>-0.155678</td>\n",
       "      <td>-0.145044</td>\n",
       "      <td>-0.144379</td>\n",
       "      <td>-0.14556</td>\n",
       "      <td>-0.150268</td>\n",
       "      <td>-0.144157</td>\n",
       "      <td>-0.148293</td>\n",
       "      <td>-0.103201</td>\n",
       "      <td>-0.147641</td>\n",
       "      <td>-0.149266</td>\n",
       "      <td>-0.145743</td>\n",
       "      <td>-0.146403</td>\n",
       "      <td>-0.143376</td>\n",
       "      <td>-0.146403</td>\n",
       "      <td>-0.146257</td>\n",
       "      <td>-0.145817</td>\n",
       "      <td>-0.104363</td>\n",
       "      <td>-0.14486</td>\n",
       "      <td>-0.145155</td>\n",
       "      <td>-0.144083</td>\n",
       "      <td>-0.146037</td>\n",
       "      <td>-0.147967</td>\n",
       "      <td>-0.149696</td>\n",
       "      <td>-0.144527</td>\n",
       "      <td>...</td>\n",
       "      <td>-0.14578</td>\n",
       "      <td>-0.144416</td>\n",
       "      <td>-0.143897</td>\n",
       "      <td>-0.147641</td>\n",
       "      <td>-0.147895</td>\n",
       "      <td>-0.243786</td>\n",
       "      <td>-0.230461</td>\n",
       "      <td>3.813212</td>\n",
       "      <td>-0.225102</td>\n",
       "      <td>-0.215161</td>\n",
       "      <td>-0.218327</td>\n",
       "      <td>-0.242437</td>\n",
       "      <td>-0.258675</td>\n",
       "      <td>-0.262648</td>\n",
       "      <td>-0.260948</td>\n",
       "      <td>-0.251948</td>\n",
       "      <td>-0.258404</td>\n",
       "      <td>-0.402309</td>\n",
       "      <td>-0.246491</td>\n",
       "      <td>-0.258471</td>\n",
       "      <td>-0.238209</td>\n",
       "      <td>-0.235382</td>\n",
       "      <td>2.352544</td>\n",
       "      <td>-0.235163</td>\n",
       "      <td>-0.242484</td>\n",
       "      <td>-0.242579</td>\n",
       "      <td>-0.25181</td>\n",
       "      <td>-0.252248</td>\n",
       "      <td>-0.261351</td>\n",
       "      <td>-0.25768</td>\n",
       "      <td>-0.234531</td>\n",
       "      <td>-0.24745</td>\n",
       "      <td>-0.249080</td>\n",
       "      <td>-0.233311</td>\n",
       "      <td>-0.224826</td>\n",
       "      <td>-0.236907</td>\n",
       "      <td>-0.248662</td>\n",
       "      <td>-0.256659</td>\n",
       "      <td>-0.245764</td>\n",
       "      <td>-0.215891</td>\n",
       "      <td>-0.239984</td>\n",
       "      <td>-0.250587</td>\n",
       "      <td>-0.269721</td>\n",
       "      <td>-0.339316</td>\n",
       "      <td>-0.264052</td>\n",
       "      <td>-0.244635</td>\n",
       "      <td>-0.26325</td>\n",
       "      <td>-0.272795</td>\n",
       "      <td>-0.255522</td>\n",
       "      <td>3.783952</td>\n",
       "    </tr>\n",
       "  </tbody>\n",
       "</table>\n",
       "<p>2 rows × 111 columns</p>\n",
       "</div>"
      ],
      "text/plain": [
       "    MinTemp   MaxTemp  Rainfall  Evaporation  Sunshine  WindGustSpeed  \\\n",
       "0  0.159913 -0.297879 -0.252120    -0.122719  0.200969       1.595745   \n",
       "1 -1.581882  0.505470 -0.276108     0.444070  0.924900      -1.060613   \n",
       "\n",
       "   WindSpeed9am  WindSpeed3pm  Humidity9am  Humidity3pm  Pressure9am  \\\n",
       "0      1.917315      1.411101     0.163618     0.022137    -0.791268   \n",
       "1     -1.581648     -1.111200    -1.849658    -2.030122     1.033411   \n",
       "\n",
       "   Pressure3pm  Cloud9am  Cloud3pm   Temp9am   Temp3pm  RainToday     Month  \\\n",
       "0    -0.650879  0.587090 -1.757720  0.329094 -0.272418  -0.564493  1.050839   \n",
       "1     0.668475 -2.039633  0.138671 -0.476571  0.617660  -0.564493  0.467525   \n",
       "\n",
       "    Albany    Albury  AliceSprings  BadgerysCreek  Ballarat   Bendigo  \\\n",
       "0 -0.14695 -0.147314     -0.146622      -0.144675 -0.145229 -0.148546   \n",
       "1 -0.14695 -0.147314      6.820253      -0.144675 -0.145229 -0.148546   \n",
       "\n",
       "   Brisbane    Cairns  Canberra     Cobar  CoffsHarbour  Dartmoor    Darwin  \\\n",
       "0  -0.14905 -0.146366 -0.155678 -0.145044     -0.144379  -0.14556 -0.150268   \n",
       "1  -0.14905 -0.146366 -0.155678 -0.145044     -0.144379  -0.14556 -0.150268   \n",
       "\n",
       "   GoldCoast    Hobart  Katherine  Launceston  Melbourne  MelbourneAirport  \\\n",
       "0  -0.144157 -0.148293  -0.103201   -0.147641  -0.149266         -0.145743   \n",
       "1  -0.144157 -0.148293  -0.103201   -0.147641  -0.149266         -0.145743   \n",
       "\n",
       "    Mildura     Moree  MountGambier  MountGinini  Newcastle      Nhil  \\\n",
       "0 -0.146403 -0.143376     -0.146403    -0.146257  -0.145817 -0.104363   \n",
       "1 -0.146403 -0.143376     -0.146403    -0.146257  -0.145817 -0.104363   \n",
       "\n",
       "   NorahHead  NorfolkIsland  Nuriootpa  PearceRAAF   Penrith     Perth  \\\n",
       "0   -0.14486      -0.145155  -0.144083    6.847586 -0.147967 -0.149696   \n",
       "1   -0.14486      -0.145155  -0.144083   -0.146037 -0.147967 -0.149696   \n",
       "\n",
       "   PerthAirport  ...  Watsonia  Williamtown  Witchcliffe  Wollongong  \\\n",
       "0     -0.144527  ...  -0.14578    -0.144416    -0.143897   -0.147641   \n",
       "1     -0.144527  ...  -0.14578    -0.144416    -0.143897   -0.147641   \n",
       "\n",
       "    Woomera       ENE       ESE         N        NE       NNE       NNW  \\\n",
       "0 -0.147895 -0.243786 -0.230461 -0.262246 -0.225102 -0.215161 -0.218327   \n",
       "1 -0.147895 -0.243786 -0.230461  3.813212 -0.225102 -0.215161 -0.218327   \n",
       "\n",
       "         NW         S        SE       SSE       SSW        SW         W  \\\n",
       "0 -0.242437 -0.258675 -0.262648 -0.260948 -0.251948 -0.258404  2.485654   \n",
       "1 -0.242437 -0.258675 -0.262648 -0.260948 -0.251948 -0.258404 -0.402309   \n",
       "\n",
       "        WNW       WSW       ENE       ESE         N        NE       NNE  \\\n",
       "0 -0.246491 -0.258471 -0.238209 -0.235382 -0.425072 -0.235163 -0.242484   \n",
       "1 -0.246491 -0.258471 -0.238209 -0.235382  2.352544 -0.235163 -0.242484   \n",
       "\n",
       "        NNW       NW         S        SE      SSE       SSW       SW  \\\n",
       "0 -0.242579 -0.25181 -0.252248 -0.261351 -0.25768 -0.234531 -0.24745   \n",
       "1 -0.242579 -0.25181 -0.252248 -0.261351 -0.25768 -0.234531 -0.24745   \n",
       "\n",
       "          W       WNW       WSW       ENE       ESE         N        NE  \\\n",
       "0  4.014772 -0.233311 -0.224826 -0.236907 -0.248662 -0.256659 -0.245764   \n",
       "1 -0.249080 -0.233311 -0.224826 -0.236907 -0.248662 -0.256659 -0.245764   \n",
       "\n",
       "        NNE       NNW        NW         S        SE       SSE       SSW  \\\n",
       "0 -0.215891 -0.239984 -0.250587 -0.269721 -0.339316 -0.264052 -0.244635   \n",
       "1 -0.215891 -0.239984 -0.250587 -0.269721 -0.339316 -0.264052 -0.244635   \n",
       "\n",
       "        SW         W       WNW       WSW  \n",
       "0 -0.26325 -0.272795  3.913556 -0.264274  \n",
       "1 -0.26325 -0.272795 -0.255522  3.783952  \n",
       "\n",
       "[2 rows x 111 columns]"
      ]
     },
     "execution_count": 45,
     "metadata": {},
     "output_type": "execute_result"
    }
   ],
   "source": [
    "x_train.head(2)"
   ]
  },
  {
   "cell_type": "code",
   "execution_count": 46,
   "metadata": {
    "execution": {
     "iopub.execute_input": "2020-12-30T20:35:03.681463Z",
     "iopub.status.busy": "2020-12-30T20:35:03.680463Z",
     "iopub.status.idle": "2020-12-30T20:35:03.722731Z",
     "shell.execute_reply": "2020-12-30T20:35:03.722054Z"
    },
    "papermill": {
     "duration": 0.153257,
     "end_time": "2020-12-30T20:35:03.722844",
     "exception": false,
     "start_time": "2020-12-30T20:35:03.569587",
     "status": "completed"
    },
    "tags": []
   },
   "outputs": [
    {
     "data": {
      "text/html": [
       "<div>\n",
       "<style scoped>\n",
       "    .dataframe tbody tr th:only-of-type {\n",
       "        vertical-align: middle;\n",
       "    }\n",
       "\n",
       "    .dataframe tbody tr th {\n",
       "        vertical-align: top;\n",
       "    }\n",
       "\n",
       "    .dataframe thead th {\n",
       "        text-align: right;\n",
       "    }\n",
       "</style>\n",
       "<table border=\"1\" class=\"dataframe\">\n",
       "  <thead>\n",
       "    <tr style=\"text-align: right;\">\n",
       "      <th></th>\n",
       "      <th>MinTemp</th>\n",
       "      <th>MaxTemp</th>\n",
       "      <th>Rainfall</th>\n",
       "      <th>Evaporation</th>\n",
       "      <th>Sunshine</th>\n",
       "      <th>WindGustSpeed</th>\n",
       "      <th>WindSpeed9am</th>\n",
       "      <th>WindSpeed3pm</th>\n",
       "      <th>Humidity9am</th>\n",
       "      <th>Humidity3pm</th>\n",
       "      <th>Pressure9am</th>\n",
       "      <th>Pressure3pm</th>\n",
       "      <th>Cloud9am</th>\n",
       "      <th>Cloud3pm</th>\n",
       "      <th>Temp9am</th>\n",
       "      <th>Temp3pm</th>\n",
       "      <th>RainToday</th>\n",
       "      <th>Month</th>\n",
       "      <th>Albany</th>\n",
       "      <th>Albury</th>\n",
       "      <th>AliceSprings</th>\n",
       "      <th>BadgerysCreek</th>\n",
       "      <th>Ballarat</th>\n",
       "      <th>Bendigo</th>\n",
       "      <th>Brisbane</th>\n",
       "      <th>Cairns</th>\n",
       "      <th>Canberra</th>\n",
       "      <th>Cobar</th>\n",
       "      <th>CoffsHarbour</th>\n",
       "      <th>Dartmoor</th>\n",
       "      <th>Darwin</th>\n",
       "      <th>GoldCoast</th>\n",
       "      <th>Hobart</th>\n",
       "      <th>Katherine</th>\n",
       "      <th>Launceston</th>\n",
       "      <th>Melbourne</th>\n",
       "      <th>MelbourneAirport</th>\n",
       "      <th>Mildura</th>\n",
       "      <th>Moree</th>\n",
       "      <th>MountGambier</th>\n",
       "      <th>MountGinini</th>\n",
       "      <th>Newcastle</th>\n",
       "      <th>Nhil</th>\n",
       "      <th>NorahHead</th>\n",
       "      <th>NorfolkIsland</th>\n",
       "      <th>Nuriootpa</th>\n",
       "      <th>PearceRAAF</th>\n",
       "      <th>Penrith</th>\n",
       "      <th>Perth</th>\n",
       "      <th>PerthAirport</th>\n",
       "      <th>...</th>\n",
       "      <th>Watsonia</th>\n",
       "      <th>Williamtown</th>\n",
       "      <th>Witchcliffe</th>\n",
       "      <th>Wollongong</th>\n",
       "      <th>Woomera</th>\n",
       "      <th>ENE</th>\n",
       "      <th>ESE</th>\n",
       "      <th>N</th>\n",
       "      <th>NE</th>\n",
       "      <th>NNE</th>\n",
       "      <th>NNW</th>\n",
       "      <th>NW</th>\n",
       "      <th>S</th>\n",
       "      <th>SE</th>\n",
       "      <th>SSE</th>\n",
       "      <th>SSW</th>\n",
       "      <th>SW</th>\n",
       "      <th>W</th>\n",
       "      <th>WNW</th>\n",
       "      <th>WSW</th>\n",
       "      <th>ENE</th>\n",
       "      <th>ESE</th>\n",
       "      <th>N</th>\n",
       "      <th>NE</th>\n",
       "      <th>NNE</th>\n",
       "      <th>NNW</th>\n",
       "      <th>NW</th>\n",
       "      <th>S</th>\n",
       "      <th>SE</th>\n",
       "      <th>SSE</th>\n",
       "      <th>SSW</th>\n",
       "      <th>SW</th>\n",
       "      <th>W</th>\n",
       "      <th>WNW</th>\n",
       "      <th>WSW</th>\n",
       "      <th>ENE</th>\n",
       "      <th>ESE</th>\n",
       "      <th>N</th>\n",
       "      <th>NE</th>\n",
       "      <th>NNE</th>\n",
       "      <th>NNW</th>\n",
       "      <th>NW</th>\n",
       "      <th>S</th>\n",
       "      <th>SE</th>\n",
       "      <th>SSE</th>\n",
       "      <th>SSW</th>\n",
       "      <th>SW</th>\n",
       "      <th>W</th>\n",
       "      <th>WNW</th>\n",
       "      <th>WSW</th>\n",
       "    </tr>\n",
       "  </thead>\n",
       "  <tbody>\n",
       "    <tr>\n",
       "      <th>0</th>\n",
       "      <td>1.462336</td>\n",
       "      <td>1.224256</td>\n",
       "      <td>-0.276108</td>\n",
       "      <td>0.444070</td>\n",
       "      <td>1.033490</td>\n",
       "      <td>-0.681134</td>\n",
       "      <td>-0.791559</td>\n",
       "      <td>0.0353</td>\n",
       "      <td>0.110637</td>\n",
       "      <td>-0.075590</td>\n",
       "      <td>-0.628085</td>\n",
       "      <td>-0.875769</td>\n",
       "      <td>-1.601846</td>\n",
       "      <td>-1.283622</td>\n",
       "      <td>1.444629</td>\n",
       "      <td>1.347232</td>\n",
       "      <td>-0.564493</td>\n",
       "      <td>0.175868</td>\n",
       "      <td>-0.14695</td>\n",
       "      <td>-0.147314</td>\n",
       "      <td>-0.146622</td>\n",
       "      <td>-0.144675</td>\n",
       "      <td>-0.145229</td>\n",
       "      <td>-0.148546</td>\n",
       "      <td>-0.14905</td>\n",
       "      <td>-0.146366</td>\n",
       "      <td>-0.155678</td>\n",
       "      <td>-0.145044</td>\n",
       "      <td>-0.144379</td>\n",
       "      <td>-0.14556</td>\n",
       "      <td>6.654756</td>\n",
       "      <td>-0.144157</td>\n",
       "      <td>-0.148293</td>\n",
       "      <td>-0.103201</td>\n",
       "      <td>-0.147641</td>\n",
       "      <td>-0.149266</td>\n",
       "      <td>-0.145743</td>\n",
       "      <td>-0.146403</td>\n",
       "      <td>-0.143376</td>\n",
       "      <td>-0.146403</td>\n",
       "      <td>-0.146257</td>\n",
       "      <td>-0.145817</td>\n",
       "      <td>-0.104363</td>\n",
       "      <td>-0.14486</td>\n",
       "      <td>-0.145155</td>\n",
       "      <td>-0.144083</td>\n",
       "      <td>-0.146037</td>\n",
       "      <td>-0.147967</td>\n",
       "      <td>-0.149696</td>\n",
       "      <td>-0.144527</td>\n",
       "      <td>...</td>\n",
       "      <td>-0.14578</td>\n",
       "      <td>-0.144416</td>\n",
       "      <td>-0.143897</td>\n",
       "      <td>-0.147641</td>\n",
       "      <td>-0.147895</td>\n",
       "      <td>-0.243786</td>\n",
       "      <td>-0.230461</td>\n",
       "      <td>-0.262246</td>\n",
       "      <td>-0.225102</td>\n",
       "      <td>-0.215161</td>\n",
       "      <td>-0.218327</td>\n",
       "      <td>-0.242437</td>\n",
       "      <td>-0.258675</td>\n",
       "      <td>-0.262648</td>\n",
       "      <td>-0.260948</td>\n",
       "      <td>-0.251948</td>\n",
       "      <td>-0.258404</td>\n",
       "      <td>2.485654</td>\n",
       "      <td>-0.246491</td>\n",
       "      <td>-0.258471</td>\n",
       "      <td>-0.238209</td>\n",
       "      <td>-0.235382</td>\n",
       "      <td>-0.425072</td>\n",
       "      <td>-0.235163</td>\n",
       "      <td>-0.242484</td>\n",
       "      <td>-0.242579</td>\n",
       "      <td>-0.25181</td>\n",
       "      <td>-0.252248</td>\n",
       "      <td>-0.261351</td>\n",
       "      <td>-0.25768</td>\n",
       "      <td>-0.234531</td>\n",
       "      <td>-0.247450</td>\n",
       "      <td>4.014772</td>\n",
       "      <td>-0.233311</td>\n",
       "      <td>-0.224826</td>\n",
       "      <td>-0.236907</td>\n",
       "      <td>-0.248662</td>\n",
       "      <td>-0.256659</td>\n",
       "      <td>-0.245764</td>\n",
       "      <td>-0.215891</td>\n",
       "      <td>-0.239984</td>\n",
       "      <td>3.990632</td>\n",
       "      <td>-0.269721</td>\n",
       "      <td>-0.339316</td>\n",
       "      <td>-0.264052</td>\n",
       "      <td>-0.244635</td>\n",
       "      <td>-0.26325</td>\n",
       "      <td>-0.272795</td>\n",
       "      <td>-0.255522</td>\n",
       "      <td>-0.264274</td>\n",
       "    </tr>\n",
       "    <tr>\n",
       "      <th>1</th>\n",
       "      <td>0.081454</td>\n",
       "      <td>-0.734788</td>\n",
       "      <td>-0.276108</td>\n",
       "      <td>-0.122719</td>\n",
       "      <td>0.164772</td>\n",
       "      <td>-0.757030</td>\n",
       "      <td>-0.340080</td>\n",
       "      <td>-1.3405</td>\n",
       "      <td>0.163618</td>\n",
       "      <td>0.706223</td>\n",
       "      <td>1.656472</td>\n",
       "      <td>1.448093</td>\n",
       "      <td>1.024877</td>\n",
       "      <td>0.138671</td>\n",
       "      <td>-0.290648</td>\n",
       "      <td>-0.739345</td>\n",
       "      <td>-0.564493</td>\n",
       "      <td>-0.115789</td>\n",
       "      <td>-0.14695</td>\n",
       "      <td>-0.147314</td>\n",
       "      <td>-0.146622</td>\n",
       "      <td>-0.144675</td>\n",
       "      <td>-0.145229</td>\n",
       "      <td>-0.148546</td>\n",
       "      <td>-0.14905</td>\n",
       "      <td>-0.146366</td>\n",
       "      <td>-0.155678</td>\n",
       "      <td>-0.145044</td>\n",
       "      <td>-0.144379</td>\n",
       "      <td>-0.14556</td>\n",
       "      <td>-0.150268</td>\n",
       "      <td>-0.144157</td>\n",
       "      <td>-0.148293</td>\n",
       "      <td>-0.103201</td>\n",
       "      <td>-0.147641</td>\n",
       "      <td>-0.149266</td>\n",
       "      <td>-0.145743</td>\n",
       "      <td>-0.146403</td>\n",
       "      <td>-0.143376</td>\n",
       "      <td>-0.146403</td>\n",
       "      <td>-0.146257</td>\n",
       "      <td>-0.145817</td>\n",
       "      <td>-0.104363</td>\n",
       "      <td>-0.14486</td>\n",
       "      <td>-0.145155</td>\n",
       "      <td>-0.144083</td>\n",
       "      <td>-0.146037</td>\n",
       "      <td>-0.147967</td>\n",
       "      <td>-0.149696</td>\n",
       "      <td>-0.144527</td>\n",
       "      <td>...</td>\n",
       "      <td>-0.14578</td>\n",
       "      <td>-0.144416</td>\n",
       "      <td>-0.143897</td>\n",
       "      <td>6.773175</td>\n",
       "      <td>-0.147895</td>\n",
       "      <td>-0.243786</td>\n",
       "      <td>-0.230461</td>\n",
       "      <td>-0.262246</td>\n",
       "      <td>-0.225102</td>\n",
       "      <td>-0.215161</td>\n",
       "      <td>-0.218327</td>\n",
       "      <td>4.124786</td>\n",
       "      <td>-0.258675</td>\n",
       "      <td>-0.262648</td>\n",
       "      <td>-0.260948</td>\n",
       "      <td>-0.251948</td>\n",
       "      <td>-0.258404</td>\n",
       "      <td>-0.402309</td>\n",
       "      <td>-0.246491</td>\n",
       "      <td>-0.258471</td>\n",
       "      <td>-0.238209</td>\n",
       "      <td>-0.235382</td>\n",
       "      <td>-0.425072</td>\n",
       "      <td>-0.235163</td>\n",
       "      <td>-0.242484</td>\n",
       "      <td>-0.242579</td>\n",
       "      <td>-0.25181</td>\n",
       "      <td>-0.252248</td>\n",
       "      <td>-0.261351</td>\n",
       "      <td>-0.25768</td>\n",
       "      <td>-0.234531</td>\n",
       "      <td>4.041225</td>\n",
       "      <td>-0.249080</td>\n",
       "      <td>-0.233311</td>\n",
       "      <td>-0.224826</td>\n",
       "      <td>-0.236907</td>\n",
       "      <td>-0.248662</td>\n",
       "      <td>-0.256659</td>\n",
       "      <td>4.068943</td>\n",
       "      <td>-0.215891</td>\n",
       "      <td>-0.239984</td>\n",
       "      <td>-0.250587</td>\n",
       "      <td>-0.269721</td>\n",
       "      <td>-0.339316</td>\n",
       "      <td>-0.264052</td>\n",
       "      <td>-0.244635</td>\n",
       "      <td>-0.26325</td>\n",
       "      <td>-0.272795</td>\n",
       "      <td>-0.255522</td>\n",
       "      <td>-0.264274</td>\n",
       "    </tr>\n",
       "  </tbody>\n",
       "</table>\n",
       "<p>2 rows × 111 columns</p>\n",
       "</div>"
      ],
      "text/plain": [
       "    MinTemp   MaxTemp  Rainfall  Evaporation  Sunshine  WindGustSpeed  \\\n",
       "0  1.462336  1.224256 -0.276108     0.444070  1.033490      -0.681134   \n",
       "1  0.081454 -0.734788 -0.276108    -0.122719  0.164772      -0.757030   \n",
       "\n",
       "   WindSpeed9am  WindSpeed3pm  Humidity9am  Humidity3pm  Pressure9am  \\\n",
       "0     -0.791559        0.0353     0.110637    -0.075590    -0.628085   \n",
       "1     -0.340080       -1.3405     0.163618     0.706223     1.656472   \n",
       "\n",
       "   Pressure3pm  Cloud9am  Cloud3pm   Temp9am   Temp3pm  RainToday     Month  \\\n",
       "0    -0.875769 -1.601846 -1.283622  1.444629  1.347232  -0.564493  0.175868   \n",
       "1     1.448093  1.024877  0.138671 -0.290648 -0.739345  -0.564493 -0.115789   \n",
       "\n",
       "    Albany    Albury  AliceSprings  BadgerysCreek  Ballarat   Bendigo  \\\n",
       "0 -0.14695 -0.147314     -0.146622      -0.144675 -0.145229 -0.148546   \n",
       "1 -0.14695 -0.147314     -0.146622      -0.144675 -0.145229 -0.148546   \n",
       "\n",
       "   Brisbane    Cairns  Canberra     Cobar  CoffsHarbour  Dartmoor    Darwin  \\\n",
       "0  -0.14905 -0.146366 -0.155678 -0.145044     -0.144379  -0.14556  6.654756   \n",
       "1  -0.14905 -0.146366 -0.155678 -0.145044     -0.144379  -0.14556 -0.150268   \n",
       "\n",
       "   GoldCoast    Hobart  Katherine  Launceston  Melbourne  MelbourneAirport  \\\n",
       "0  -0.144157 -0.148293  -0.103201   -0.147641  -0.149266         -0.145743   \n",
       "1  -0.144157 -0.148293  -0.103201   -0.147641  -0.149266         -0.145743   \n",
       "\n",
       "    Mildura     Moree  MountGambier  MountGinini  Newcastle      Nhil  \\\n",
       "0 -0.146403 -0.143376     -0.146403    -0.146257  -0.145817 -0.104363   \n",
       "1 -0.146403 -0.143376     -0.146403    -0.146257  -0.145817 -0.104363   \n",
       "\n",
       "   NorahHead  NorfolkIsland  Nuriootpa  PearceRAAF   Penrith     Perth  \\\n",
       "0   -0.14486      -0.145155  -0.144083   -0.146037 -0.147967 -0.149696   \n",
       "1   -0.14486      -0.145155  -0.144083   -0.146037 -0.147967 -0.149696   \n",
       "\n",
       "   PerthAirport  ...  Watsonia  Williamtown  Witchcliffe  Wollongong  \\\n",
       "0     -0.144527  ...  -0.14578    -0.144416    -0.143897   -0.147641   \n",
       "1     -0.144527  ...  -0.14578    -0.144416    -0.143897    6.773175   \n",
       "\n",
       "    Woomera       ENE       ESE         N        NE       NNE       NNW  \\\n",
       "0 -0.147895 -0.243786 -0.230461 -0.262246 -0.225102 -0.215161 -0.218327   \n",
       "1 -0.147895 -0.243786 -0.230461 -0.262246 -0.225102 -0.215161 -0.218327   \n",
       "\n",
       "         NW         S        SE       SSE       SSW        SW         W  \\\n",
       "0 -0.242437 -0.258675 -0.262648 -0.260948 -0.251948 -0.258404  2.485654   \n",
       "1  4.124786 -0.258675 -0.262648 -0.260948 -0.251948 -0.258404 -0.402309   \n",
       "\n",
       "        WNW       WSW       ENE       ESE         N        NE       NNE  \\\n",
       "0 -0.246491 -0.258471 -0.238209 -0.235382 -0.425072 -0.235163 -0.242484   \n",
       "1 -0.246491 -0.258471 -0.238209 -0.235382 -0.425072 -0.235163 -0.242484   \n",
       "\n",
       "        NNW       NW         S        SE      SSE       SSW        SW  \\\n",
       "0 -0.242579 -0.25181 -0.252248 -0.261351 -0.25768 -0.234531 -0.247450   \n",
       "1 -0.242579 -0.25181 -0.252248 -0.261351 -0.25768 -0.234531  4.041225   \n",
       "\n",
       "          W       WNW       WSW       ENE       ESE         N        NE  \\\n",
       "0  4.014772 -0.233311 -0.224826 -0.236907 -0.248662 -0.256659 -0.245764   \n",
       "1 -0.249080 -0.233311 -0.224826 -0.236907 -0.248662 -0.256659  4.068943   \n",
       "\n",
       "        NNE       NNW        NW         S        SE       SSE       SSW  \\\n",
       "0 -0.215891 -0.239984  3.990632 -0.269721 -0.339316 -0.264052 -0.244635   \n",
       "1 -0.215891 -0.239984 -0.250587 -0.269721 -0.339316 -0.264052 -0.244635   \n",
       "\n",
       "        SW         W       WNW       WSW  \n",
       "0 -0.26325 -0.272795 -0.255522 -0.264274  \n",
       "1 -0.26325 -0.272795 -0.255522 -0.264274  \n",
       "\n",
       "[2 rows x 111 columns]"
      ]
     },
     "execution_count": 46,
     "metadata": {},
     "output_type": "execute_result"
    }
   ],
   "source": [
    "x_test.head(2)"
   ]
  },
  {
   "cell_type": "markdown",
   "metadata": {
    "papermill": {
     "duration": 0.079237,
     "end_time": "2020-12-30T20:35:03.876999",
     "exception": false,
     "start_time": "2020-12-30T20:35:03.797762",
     "status": "completed"
    },
    "tags": []
   },
   "source": [
    "But before we fit our model, perhaps we should reduce the number of features selected:"
   ]
  },
  {
   "cell_type": "code",
   "execution_count": 47,
   "metadata": {
    "execution": {
     "iopub.execute_input": "2020-12-30T20:35:04.078169Z",
     "iopub.status.busy": "2020-12-30T20:35:04.076889Z",
     "iopub.status.idle": "2020-12-30T20:40:00.936676Z",
     "shell.execute_reply": "2020-12-30T20:40:00.935525Z"
    },
    "papermill": {
     "duration": 296.970211,
     "end_time": "2020-12-30T20:40:00.936893",
     "exception": false,
     "start_time": "2020-12-30T20:35:03.966682",
     "status": "completed"
    },
    "tags": []
   },
   "outputs": [
    {
     "name": "stdout",
     "output_type": "stream",
     "text": [
      "Optimal number of features : 101\n"
     ]
    },
    {
     "data": {
      "image/png": "[encoded data removed]",
      "text/plain": [
       "<Figure size 432x288 with 1 Axes>"
      ]
     },
     "metadata": {
      "needs_background": "light"
     },
     "output_type": "display_data"
    }
   ],
   "source": [
    "model=LogisticRegression(random_state=7)\n",
    "\n",
    "min_features_to_select=1\n",
    "rfecv=RFECV(estimator=model,step=1,cv=5,scoring=\"accuracy\",min_features_to_select=min_features_to_select)\n",
    "rfecv.fit(x_train,y_train)\n",
    "\n",
    "print(\"Optimal number of features : %d\" % rfecv.n_features_)\n",
    "\n",
    "plt.figure()\n",
    "plt.xlabel(\"Number of features selected\")\n",
    "plt.ylabel(\"Cross validation score (nb of correct classifications)\")\n",
    "plt.plot(range(min_features_to_select,\n",
    "               len(rfecv.grid_scores_)+min_features_to_select),\n",
    "         rfecv.grid_scores_)\n",
    "plt.show()"
   ]
  },
  {
   "cell_type": "code",
   "execution_count": 48,
   "metadata": {
    "execution": {
     "iopub.execute_input": "2020-12-30T20:40:01.149496Z",
     "iopub.status.busy": "2020-12-30T20:40:01.148676Z",
     "iopub.status.idle": "2020-12-30T20:40:01.152825Z",
     "shell.execute_reply": "2020-12-30T20:40:01.153408Z"
    },
    "papermill": {
     "duration": 0.110474,
     "end_time": "2020-12-30T20:40:01.153556",
     "exception": false,
     "start_time": "2020-12-30T20:40:01.043082",
     "status": "completed"
    },
    "tags": []
   },
   "outputs": [
    {
     "data": {
      "text/html": [
       "<div>\n",
       "<style scoped>\n",
       "    .dataframe tbody tr th:only-of-type {\n",
       "        vertical-align: middle;\n",
       "    }\n",
       "\n",
       "    .dataframe tbody tr th {\n",
       "        vertical-align: top;\n",
       "    }\n",
       "\n",
       "    .dataframe thead th {\n",
       "        text-align: right;\n",
       "    }\n",
       "</style>\n",
       "<table border=\"1\" class=\"dataframe\">\n",
       "  <thead>\n",
       "    <tr style=\"text-align: right;\">\n",
       "      <th></th>\n",
       "      <th>Feature</th>\n",
       "      <th>Support</th>\n",
       "      <th>Ranking</th>\n",
       "    </tr>\n",
       "  </thead>\n",
       "  <tbody>\n",
       "    <tr>\n",
       "      <th>2</th>\n",
       "      <td>Rainfall</td>\n",
       "      <td>False</td>\n",
       "      <td>11</td>\n",
       "    </tr>\n",
       "    <tr>\n",
       "      <th>105</th>\n",
       "      <td>SSE</td>\n",
       "      <td>False</td>\n",
       "      <td>10</td>\n",
       "    </tr>\n",
       "    <tr>\n",
       "      <th>91</th>\n",
       "      <td>SSW</td>\n",
       "      <td>False</td>\n",
       "      <td>9</td>\n",
       "    </tr>\n",
       "    <tr>\n",
       "      <th>70</th>\n",
       "      <td>NNE</td>\n",
       "      <td>False</td>\n",
       "      <td>8</td>\n",
       "    </tr>\n",
       "    <tr>\n",
       "      <th>97</th>\n",
       "      <td>ESE</td>\n",
       "      <td>False</td>\n",
       "      <td>7</td>\n",
       "    </tr>\n",
       "    <tr>\n",
       "      <th>93</th>\n",
       "      <td>W</td>\n",
       "      <td>False</td>\n",
       "      <td>6</td>\n",
       "    </tr>\n",
       "    <tr>\n",
       "      <th>62</th>\n",
       "      <td>Williamtown</td>\n",
       "      <td>False</td>\n",
       "      <td>5</td>\n",
       "    </tr>\n",
       "    <tr>\n",
       "      <th>46</th>\n",
       "      <td>PearceRAAF</td>\n",
       "      <td>False</td>\n",
       "      <td>4</td>\n",
       "    </tr>\n",
       "    <tr>\n",
       "      <th>66</th>\n",
       "      <td>ENE</td>\n",
       "      <td>False</td>\n",
       "      <td>3</td>\n",
       "    </tr>\n",
       "    <tr>\n",
       "      <th>74</th>\n",
       "      <td>SE</td>\n",
       "      <td>False</td>\n",
       "      <td>2</td>\n",
       "    </tr>\n",
       "    <tr>\n",
       "      <th>77</th>\n",
       "      <td>SW</td>\n",
       "      <td>True</td>\n",
       "      <td>1</td>\n",
       "    </tr>\n",
       "    <tr>\n",
       "      <th>78</th>\n",
       "      <td>W</td>\n",
       "      <td>True</td>\n",
       "      <td>1</td>\n",
       "    </tr>\n",
       "    <tr>\n",
       "      <th>76</th>\n",
       "      <td>SSW</td>\n",
       "      <td>True</td>\n",
       "      <td>1</td>\n",
       "    </tr>\n",
       "    <tr>\n",
       "      <th>71</th>\n",
       "      <td>NNW</td>\n",
       "      <td>True</td>\n",
       "      <td>1</td>\n",
       "    </tr>\n",
       "    <tr>\n",
       "      <th>73</th>\n",
       "      <td>S</td>\n",
       "      <td>True</td>\n",
       "      <td>1</td>\n",
       "    </tr>\n",
       "    <tr>\n",
       "      <th>79</th>\n",
       "      <td>WNW</td>\n",
       "      <td>True</td>\n",
       "      <td>1</td>\n",
       "    </tr>\n",
       "    <tr>\n",
       "      <th>72</th>\n",
       "      <td>NW</td>\n",
       "      <td>True</td>\n",
       "      <td>1</td>\n",
       "    </tr>\n",
       "    <tr>\n",
       "      <th>75</th>\n",
       "      <td>SSE</td>\n",
       "      <td>True</td>\n",
       "      <td>1</td>\n",
       "    </tr>\n",
       "    <tr>\n",
       "      <th>0</th>\n",
       "      <td>MinTemp</td>\n",
       "      <td>True</td>\n",
       "      <td>1</td>\n",
       "    </tr>\n",
       "    <tr>\n",
       "      <th>69</th>\n",
       "      <td>NE</td>\n",
       "      <td>True</td>\n",
       "      <td>1</td>\n",
       "    </tr>\n",
       "    <tr>\n",
       "      <th>81</th>\n",
       "      <td>ENE</td>\n",
       "      <td>True</td>\n",
       "      <td>1</td>\n",
       "    </tr>\n",
       "    <tr>\n",
       "      <th>68</th>\n",
       "      <td>N</td>\n",
       "      <td>True</td>\n",
       "      <td>1</td>\n",
       "    </tr>\n",
       "    <tr>\n",
       "      <th>67</th>\n",
       "      <td>ESE</td>\n",
       "      <td>True</td>\n",
       "      <td>1</td>\n",
       "    </tr>\n",
       "    <tr>\n",
       "      <th>65</th>\n",
       "      <td>Woomera</td>\n",
       "      <td>True</td>\n",
       "      <td>1</td>\n",
       "    </tr>\n",
       "    <tr>\n",
       "      <th>64</th>\n",
       "      <td>Wollongong</td>\n",
       "      <td>True</td>\n",
       "      <td>1</td>\n",
       "    </tr>\n",
       "    <tr>\n",
       "      <th>63</th>\n",
       "      <td>Witchcliffe</td>\n",
       "      <td>True</td>\n",
       "      <td>1</td>\n",
       "    </tr>\n",
       "    <tr>\n",
       "      <th>61</th>\n",
       "      <td>Watsonia</td>\n",
       "      <td>True</td>\n",
       "      <td>1</td>\n",
       "    </tr>\n",
       "    <tr>\n",
       "      <th>60</th>\n",
       "      <td>Walpole</td>\n",
       "      <td>True</td>\n",
       "      <td>1</td>\n",
       "    </tr>\n",
       "    <tr>\n",
       "      <th>59</th>\n",
       "      <td>WaggaWagga</td>\n",
       "      <td>True</td>\n",
       "      <td>1</td>\n",
       "    </tr>\n",
       "    <tr>\n",
       "      <th>80</th>\n",
       "      <td>WSW</td>\n",
       "      <td>True</td>\n",
       "      <td>1</td>\n",
       "    </tr>\n",
       "    <tr>\n",
       "      <th>84</th>\n",
       "      <td>NE</td>\n",
       "      <td>True</td>\n",
       "      <td>1</td>\n",
       "    </tr>\n",
       "    <tr>\n",
       "      <th>82</th>\n",
       "      <td>ESE</td>\n",
       "      <td>True</td>\n",
       "      <td>1</td>\n",
       "    </tr>\n",
       "    <tr>\n",
       "      <th>98</th>\n",
       "      <td>N</td>\n",
       "      <td>True</td>\n",
       "      <td>1</td>\n",
       "    </tr>\n",
       "    <tr>\n",
       "      <th>109</th>\n",
       "      <td>WNW</td>\n",
       "      <td>True</td>\n",
       "      <td>1</td>\n",
       "    </tr>\n",
       "    <tr>\n",
       "      <th>108</th>\n",
       "      <td>W</td>\n",
       "      <td>True</td>\n",
       "      <td>1</td>\n",
       "    </tr>\n",
       "    <tr>\n",
       "      <th>107</th>\n",
       "      <td>SW</td>\n",
       "      <td>True</td>\n",
       "      <td>1</td>\n",
       "    </tr>\n",
       "    <tr>\n",
       "      <th>106</th>\n",
       "      <td>SSW</td>\n",
       "      <td>True</td>\n",
       "      <td>1</td>\n",
       "    </tr>\n",
       "    <tr>\n",
       "      <th>104</th>\n",
       "      <td>SE</td>\n",
       "      <td>True</td>\n",
       "      <td>1</td>\n",
       "    </tr>\n",
       "    <tr>\n",
       "      <th>103</th>\n",
       "      <td>S</td>\n",
       "      <td>True</td>\n",
       "      <td>1</td>\n",
       "    </tr>\n",
       "    <tr>\n",
       "      <th>102</th>\n",
       "      <td>NW</td>\n",
       "      <td>True</td>\n",
       "      <td>1</td>\n",
       "    </tr>\n",
       "    <tr>\n",
       "      <th>101</th>\n",
       "      <td>NNW</td>\n",
       "      <td>True</td>\n",
       "      <td>1</td>\n",
       "    </tr>\n",
       "    <tr>\n",
       "      <th>100</th>\n",
       "      <td>NNE</td>\n",
       "      <td>True</td>\n",
       "      <td>1</td>\n",
       "    </tr>\n",
       "    <tr>\n",
       "      <th>99</th>\n",
       "      <td>NE</td>\n",
       "      <td>True</td>\n",
       "      <td>1</td>\n",
       "    </tr>\n",
       "    <tr>\n",
       "      <th>96</th>\n",
       "      <td>ENE</td>\n",
       "      <td>True</td>\n",
       "      <td>1</td>\n",
       "    </tr>\n",
       "    <tr>\n",
       "      <th>83</th>\n",
       "      <td>N</td>\n",
       "      <td>True</td>\n",
       "      <td>1</td>\n",
       "    </tr>\n",
       "    <tr>\n",
       "      <th>95</th>\n",
       "      <td>WSW</td>\n",
       "      <td>True</td>\n",
       "      <td>1</td>\n",
       "    </tr>\n",
       "    <tr>\n",
       "      <th>94</th>\n",
       "      <td>WNW</td>\n",
       "      <td>True</td>\n",
       "      <td>1</td>\n",
       "    </tr>\n",
       "    <tr>\n",
       "      <th>92</th>\n",
       "      <td>SW</td>\n",
       "      <td>True</td>\n",
       "      <td>1</td>\n",
       "    </tr>\n",
       "    <tr>\n",
       "      <th>90</th>\n",
       "      <td>SSE</td>\n",
       "      <td>True</td>\n",
       "      <td>1</td>\n",
       "    </tr>\n",
       "    <tr>\n",
       "      <th>89</th>\n",
       "      <td>SE</td>\n",
       "      <td>True</td>\n",
       "      <td>1</td>\n",
       "    </tr>\n",
       "    <tr>\n",
       "      <th>88</th>\n",
       "      <td>S</td>\n",
       "      <td>True</td>\n",
       "      <td>1</td>\n",
       "    </tr>\n",
       "    <tr>\n",
       "      <th>87</th>\n",
       "      <td>NW</td>\n",
       "      <td>True</td>\n",
       "      <td>1</td>\n",
       "    </tr>\n",
       "    <tr>\n",
       "      <th>86</th>\n",
       "      <td>NNW</td>\n",
       "      <td>True</td>\n",
       "      <td>1</td>\n",
       "    </tr>\n",
       "    <tr>\n",
       "      <th>85</th>\n",
       "      <td>NNE</td>\n",
       "      <td>True</td>\n",
       "      <td>1</td>\n",
       "    </tr>\n",
       "    <tr>\n",
       "      <th>57</th>\n",
       "      <td>Tuggeranong</td>\n",
       "      <td>True</td>\n",
       "      <td>1</td>\n",
       "    </tr>\n",
       "    <tr>\n",
       "      <th>58</th>\n",
       "      <td>Uluru</td>\n",
       "      <td>True</td>\n",
       "      <td>1</td>\n",
       "    </tr>\n",
       "    <tr>\n",
       "      <th>55</th>\n",
       "      <td>SydneyAirport</td>\n",
       "      <td>True</td>\n",
       "      <td>1</td>\n",
       "    </tr>\n",
       "    <tr>\n",
       "      <th>56</th>\n",
       "      <td>Townsville</td>\n",
       "      <td>True</td>\n",
       "      <td>1</td>\n",
       "    </tr>\n",
       "    <tr>\n",
       "      <th>15</th>\n",
       "      <td>Temp3pm</td>\n",
       "      <td>True</td>\n",
       "      <td>1</td>\n",
       "    </tr>\n",
       "    <tr>\n",
       "      <th>26</th>\n",
       "      <td>Canberra</td>\n",
       "      <td>True</td>\n",
       "      <td>1</td>\n",
       "    </tr>\n",
       "    <tr>\n",
       "      <th>25</th>\n",
       "      <td>Cairns</td>\n",
       "      <td>True</td>\n",
       "      <td>1</td>\n",
       "    </tr>\n",
       "    <tr>\n",
       "      <th>24</th>\n",
       "      <td>Brisbane</td>\n",
       "      <td>True</td>\n",
       "      <td>1</td>\n",
       "    </tr>\n",
       "    <tr>\n",
       "      <th>23</th>\n",
       "      <td>Bendigo</td>\n",
       "      <td>True</td>\n",
       "      <td>1</td>\n",
       "    </tr>\n",
       "    <tr>\n",
       "      <th>22</th>\n",
       "      <td>Ballarat</td>\n",
       "      <td>True</td>\n",
       "      <td>1</td>\n",
       "    </tr>\n",
       "    <tr>\n",
       "      <th>21</th>\n",
       "      <td>BadgerysCreek</td>\n",
       "      <td>True</td>\n",
       "      <td>1</td>\n",
       "    </tr>\n",
       "    <tr>\n",
       "      <th>20</th>\n",
       "      <td>AliceSprings</td>\n",
       "      <td>True</td>\n",
       "      <td>1</td>\n",
       "    </tr>\n",
       "    <tr>\n",
       "      <th>19</th>\n",
       "      <td>Albury</td>\n",
       "      <td>True</td>\n",
       "      <td>1</td>\n",
       "    </tr>\n",
       "    <tr>\n",
       "      <th>18</th>\n",
       "      <td>Albany</td>\n",
       "      <td>True</td>\n",
       "      <td>1</td>\n",
       "    </tr>\n",
       "    <tr>\n",
       "      <th>17</th>\n",
       "      <td>Month</td>\n",
       "      <td>True</td>\n",
       "      <td>1</td>\n",
       "    </tr>\n",
       "    <tr>\n",
       "      <th>16</th>\n",
       "      <td>RainToday</td>\n",
       "      <td>True</td>\n",
       "      <td>1</td>\n",
       "    </tr>\n",
       "    <tr>\n",
       "      <th>14</th>\n",
       "      <td>Temp9am</td>\n",
       "      <td>True</td>\n",
       "      <td>1</td>\n",
       "    </tr>\n",
       "    <tr>\n",
       "      <th>1</th>\n",
       "      <td>MaxTemp</td>\n",
       "      <td>True</td>\n",
       "      <td>1</td>\n",
       "    </tr>\n",
       "    <tr>\n",
       "      <th>13</th>\n",
       "      <td>Cloud3pm</td>\n",
       "      <td>True</td>\n",
       "      <td>1</td>\n",
       "    </tr>\n",
       "    <tr>\n",
       "      <th>12</th>\n",
       "      <td>Cloud9am</td>\n",
       "      <td>True</td>\n",
       "      <td>1</td>\n",
       "    </tr>\n",
       "    <tr>\n",
       "      <th>11</th>\n",
       "      <td>Pressure3pm</td>\n",
       "      <td>True</td>\n",
       "      <td>1</td>\n",
       "    </tr>\n",
       "    <tr>\n",
       "      <th>10</th>\n",
       "      <td>Pressure9am</td>\n",
       "      <td>True</td>\n",
       "      <td>1</td>\n",
       "    </tr>\n",
       "    <tr>\n",
       "      <th>9</th>\n",
       "      <td>Humidity3pm</td>\n",
       "      <td>True</td>\n",
       "      <td>1</td>\n",
       "    </tr>\n",
       "    <tr>\n",
       "      <th>8</th>\n",
       "      <td>Humidity9am</td>\n",
       "      <td>True</td>\n",
       "      <td>1</td>\n",
       "    </tr>\n",
       "    <tr>\n",
       "      <th>7</th>\n",
       "      <td>WindSpeed3pm</td>\n",
       "      <td>True</td>\n",
       "      <td>1</td>\n",
       "    </tr>\n",
       "    <tr>\n",
       "      <th>6</th>\n",
       "      <td>WindSpeed9am</td>\n",
       "      <td>True</td>\n",
       "      <td>1</td>\n",
       "    </tr>\n",
       "    <tr>\n",
       "      <th>5</th>\n",
       "      <td>WindGustSpeed</td>\n",
       "      <td>True</td>\n",
       "      <td>1</td>\n",
       "    </tr>\n",
       "    <tr>\n",
       "      <th>4</th>\n",
       "      <td>Sunshine</td>\n",
       "      <td>True</td>\n",
       "      <td>1</td>\n",
       "    </tr>\n",
       "    <tr>\n",
       "      <th>3</th>\n",
       "      <td>Evaporation</td>\n",
       "      <td>True</td>\n",
       "      <td>1</td>\n",
       "    </tr>\n",
       "    <tr>\n",
       "      <th>27</th>\n",
       "      <td>Cobar</td>\n",
       "      <td>True</td>\n",
       "      <td>1</td>\n",
       "    </tr>\n",
       "    <tr>\n",
       "      <th>28</th>\n",
       "      <td>CoffsHarbour</td>\n",
       "      <td>True</td>\n",
       "      <td>1</td>\n",
       "    </tr>\n",
       "    <tr>\n",
       "      <th>29</th>\n",
       "      <td>Dartmoor</td>\n",
       "      <td>True</td>\n",
       "      <td>1</td>\n",
       "    </tr>\n",
       "    <tr>\n",
       "      <th>30</th>\n",
       "      <td>Darwin</td>\n",
       "      <td>True</td>\n",
       "      <td>1</td>\n",
       "    </tr>\n",
       "    <tr>\n",
       "      <th>54</th>\n",
       "      <td>Sydney</td>\n",
       "      <td>True</td>\n",
       "      <td>1</td>\n",
       "    </tr>\n",
       "    <tr>\n",
       "      <th>53</th>\n",
       "      <td>SalmonGums</td>\n",
       "      <td>True</td>\n",
       "      <td>1</td>\n",
       "    </tr>\n",
       "    <tr>\n",
       "      <th>52</th>\n",
       "      <td>Sale</td>\n",
       "      <td>True</td>\n",
       "      <td>1</td>\n",
       "    </tr>\n",
       "    <tr>\n",
       "      <th>51</th>\n",
       "      <td>Richmond</td>\n",
       "      <td>True</td>\n",
       "      <td>1</td>\n",
       "    </tr>\n",
       "    <tr>\n",
       "      <th>50</th>\n",
       "      <td>Portland</td>\n",
       "      <td>True</td>\n",
       "      <td>1</td>\n",
       "    </tr>\n",
       "    <tr>\n",
       "      <th>49</th>\n",
       "      <td>PerthAirport</td>\n",
       "      <td>True</td>\n",
       "      <td>1</td>\n",
       "    </tr>\n",
       "    <tr>\n",
       "      <th>48</th>\n",
       "      <td>Perth</td>\n",
       "      <td>True</td>\n",
       "      <td>1</td>\n",
       "    </tr>\n",
       "    <tr>\n",
       "      <th>47</th>\n",
       "      <td>Penrith</td>\n",
       "      <td>True</td>\n",
       "      <td>1</td>\n",
       "    </tr>\n",
       "    <tr>\n",
       "      <th>45</th>\n",
       "      <td>Nuriootpa</td>\n",
       "      <td>True</td>\n",
       "      <td>1</td>\n",
       "    </tr>\n",
       "    <tr>\n",
       "      <th>44</th>\n",
       "      <td>NorfolkIsland</td>\n",
       "      <td>True</td>\n",
       "      <td>1</td>\n",
       "    </tr>\n",
       "    <tr>\n",
       "      <th>43</th>\n",
       "      <td>NorahHead</td>\n",
       "      <td>True</td>\n",
       "      <td>1</td>\n",
       "    </tr>\n",
       "    <tr>\n",
       "      <th>42</th>\n",
       "      <td>Nhil</td>\n",
       "      <td>True</td>\n",
       "      <td>1</td>\n",
       "    </tr>\n",
       "    <tr>\n",
       "      <th>41</th>\n",
       "      <td>Newcastle</td>\n",
       "      <td>True</td>\n",
       "      <td>1</td>\n",
       "    </tr>\n",
       "    <tr>\n",
       "      <th>40</th>\n",
       "      <td>MountGinini</td>\n",
       "      <td>True</td>\n",
       "      <td>1</td>\n",
       "    </tr>\n",
       "    <tr>\n",
       "      <th>39</th>\n",
       "      <td>MountGambier</td>\n",
       "      <td>True</td>\n",
       "      <td>1</td>\n",
       "    </tr>\n",
       "    <tr>\n",
       "      <th>38</th>\n",
       "      <td>Moree</td>\n",
       "      <td>True</td>\n",
       "      <td>1</td>\n",
       "    </tr>\n",
       "    <tr>\n",
       "      <th>37</th>\n",
       "      <td>Mildura</td>\n",
       "      <td>True</td>\n",
       "      <td>1</td>\n",
       "    </tr>\n",
       "    <tr>\n",
       "      <th>36</th>\n",
       "      <td>MelbourneAirport</td>\n",
       "      <td>True</td>\n",
       "      <td>1</td>\n",
       "    </tr>\n",
       "    <tr>\n",
       "      <th>35</th>\n",
       "      <td>Melbourne</td>\n",
       "      <td>True</td>\n",
       "      <td>1</td>\n",
       "    </tr>\n",
       "    <tr>\n",
       "      <th>34</th>\n",
       "      <td>Launceston</td>\n",
       "      <td>True</td>\n",
       "      <td>1</td>\n",
       "    </tr>\n",
       "    <tr>\n",
       "      <th>33</th>\n",
       "      <td>Katherine</td>\n",
       "      <td>True</td>\n",
       "      <td>1</td>\n",
       "    </tr>\n",
       "    <tr>\n",
       "      <th>32</th>\n",
       "      <td>Hobart</td>\n",
       "      <td>True</td>\n",
       "      <td>1</td>\n",
       "    </tr>\n",
       "    <tr>\n",
       "      <th>31</th>\n",
       "      <td>GoldCoast</td>\n",
       "      <td>True</td>\n",
       "      <td>1</td>\n",
       "    </tr>\n",
       "    <tr>\n",
       "      <th>110</th>\n",
       "      <td>WSW</td>\n",
       "      <td>True</td>\n",
       "      <td>1</td>\n",
       "    </tr>\n",
       "  </tbody>\n",
       "</table>\n",
       "</div>"
      ],
      "text/plain": [
       "              Feature  Support  Ranking\n",
       "2            Rainfall    False       11\n",
       "105               SSE    False       10\n",
       "91                SSW    False        9\n",
       "70                NNE    False        8\n",
       "97                ESE    False        7\n",
       "93                  W    False        6\n",
       "62        Williamtown    False        5\n",
       "46         PearceRAAF    False        4\n",
       "66                ENE    False        3\n",
       "74                 SE    False        2\n",
       "77                 SW     True        1\n",
       "78                  W     True        1\n",
       "76                SSW     True        1\n",
       "71                NNW     True        1\n",
       "73                  S     True        1\n",
       "79                WNW     True        1\n",
       "72                 NW     True        1\n",
       "75                SSE     True        1\n",
       "0             MinTemp     True        1\n",
       "69                 NE     True        1\n",
       "81                ENE     True        1\n",
       "68                  N     True        1\n",
       "67                ESE     True        1\n",
       "65            Woomera     True        1\n",
       "64         Wollongong     True        1\n",
       "63        Witchcliffe     True        1\n",
       "61           Watsonia     True        1\n",
       "60            Walpole     True        1\n",
       "59         WaggaWagga     True        1\n",
       "80                WSW     True        1\n",
       "84                 NE     True        1\n",
       "82                ESE     True        1\n",
       "98                  N     True        1\n",
       "109               WNW     True        1\n",
       "108                 W     True        1\n",
       "107                SW     True        1\n",
       "106               SSW     True        1\n",
       "104                SE     True        1\n",
       "103                 S     True        1\n",
       "102                NW     True        1\n",
       "101               NNW     True        1\n",
       "100               NNE     True        1\n",
       "99                 NE     True        1\n",
       "96                ENE     True        1\n",
       "83                  N     True        1\n",
       "95                WSW     True        1\n",
       "94                WNW     True        1\n",
       "92                 SW     True        1\n",
       "90                SSE     True        1\n",
       "89                 SE     True        1\n",
       "88                  S     True        1\n",
       "87                 NW     True        1\n",
       "86                NNW     True        1\n",
       "85                NNE     True        1\n",
       "57        Tuggeranong     True        1\n",
       "58              Uluru     True        1\n",
       "55      SydneyAirport     True        1\n",
       "56         Townsville     True        1\n",
       "15            Temp3pm     True        1\n",
       "26           Canberra     True        1\n",
       "25             Cairns     True        1\n",
       "24           Brisbane     True        1\n",
       "23            Bendigo     True        1\n",
       "22           Ballarat     True        1\n",
       "21      BadgerysCreek     True        1\n",
       "20       AliceSprings     True        1\n",
       "19             Albury     True        1\n",
       "18             Albany     True        1\n",
       "17              Month     True        1\n",
       "16          RainToday     True        1\n",
       "14            Temp9am     True        1\n",
       "1             MaxTemp     True        1\n",
       "13           Cloud3pm     True        1\n",
       "12           Cloud9am     True        1\n",
       "11        Pressure3pm     True        1\n",
       "10        Pressure9am     True        1\n",
       "9         Humidity3pm     True        1\n",
       "8         Humidity9am     True        1\n",
       "7        WindSpeed3pm     True        1\n",
       "6        WindSpeed9am     True        1\n",
       "5       WindGustSpeed     True        1\n",
       "4            Sunshine     True        1\n",
       "3         Evaporation     True        1\n",
       "27              Cobar     True        1\n",
       "28       CoffsHarbour     True        1\n",
       "29           Dartmoor     True        1\n",
       "30             Darwin     True        1\n",
       "54             Sydney     True        1\n",
       "53         SalmonGums     True        1\n",
       "52               Sale     True        1\n",
       "51           Richmond     True        1\n",
       "50           Portland     True        1\n",
       "49       PerthAirport     True        1\n",
       "48              Perth     True        1\n",
       "47            Penrith     True        1\n",
       "45          Nuriootpa     True        1\n",
       "44      NorfolkIsland     True        1\n",
       "43          NorahHead     True        1\n",
       "42               Nhil     True        1\n",
       "41          Newcastle     True        1\n",
       "40        MountGinini     True        1\n",
       "39       MountGambier     True        1\n",
       "38              Moree     True        1\n",
       "37            Mildura     True        1\n",
       "36   MelbourneAirport     True        1\n",
       "35          Melbourne     True        1\n",
       "34         Launceston     True        1\n",
       "33          Katherine     True        1\n",
       "32             Hobart     True        1\n",
       "31          GoldCoast     True        1\n",
       "110               WSW     True        1"
      ]
     },
     "execution_count": 48,
     "metadata": {},
     "output_type": "execute_result"
    }
   ],
   "source": [
    "rfetable=pd.DataFrame({\"Feature\":x_train.columns,\"Support\":rfecv.support_,\"Ranking\":rfecv.ranking_,}).sort_values(by=\"Ranking\",ascending=False)\n",
    "rfetable"
   ]
  },
  {
   "cell_type": "markdown",
   "metadata": {
    "papermill": {
     "duration": 0.077436,
     "end_time": "2020-12-30T20:40:01.309068",
     "exception": false,
     "start_time": "2020-12-30T20:40:01.231632",
     "status": "completed"
    },
    "tags": []
   },
   "source": [
    "Recurssive feature elimination suggests we can remove some columns to the optimal amount of 101."
   ]
  },
  {
   "cell_type": "code",
   "execution_count": 49,
   "metadata": {
    "execution": {
     "iopub.execute_input": "2020-12-30T20:40:01.468759Z",
     "iopub.status.busy": "2020-12-30T20:40:01.468113Z",
     "iopub.status.idle": "2020-12-30T20:40:01.506192Z",
     "shell.execute_reply": "2020-12-30T20:40:01.505590Z"
    },
    "papermill": {
     "duration": 0.120103,
     "end_time": "2020-12-30T20:40:01.506306",
     "exception": false,
     "start_time": "2020-12-30T20:40:01.386203",
     "status": "completed"
    },
    "tags": []
   },
   "outputs": [],
   "source": [
    "x_train=x_train.drop([\"Rainfall\",\"SSE\",\"SSW\",\"NNE\",\"ESE\",\"W\",\"Williamtown\",\"PearceRAAF\",\"ENE\",\"SE\"],axis=1)\n",
    "x_test=x_test.drop([\"Rainfall\",\"SSE\",\"SSW\",\"NNE\",\"ESE\",\"W\",\"Williamtown\",\"PearceRAAF\",\"ENE\",\"SE\"],axis=1)"
   ]
  },
  {
   "cell_type": "markdown",
   "metadata": {
    "papermill": {
     "duration": 0.077539,
     "end_time": "2020-12-30T20:40:01.661678",
     "exception": false,
     "start_time": "2020-12-30T20:40:01.584139",
     "status": "completed"
    },
    "tags": []
   },
   "source": [
    "Now that we have removed some features, we can finally fit our model:"
   ]
  },
  {
   "cell_type": "code",
   "execution_count": 50,
   "metadata": {
    "execution": {
     "iopub.execute_input": "2020-12-30T20:40:01.824665Z",
     "iopub.status.busy": "2020-12-30T20:40:01.823821Z",
     "iopub.status.idle": "2020-12-30T20:40:02.657664Z",
     "shell.execute_reply": "2020-12-30T20:40:02.658248Z"
    },
    "papermill": {
     "duration": 0.91873,
     "end_time": "2020-12-30T20:40:02.658427",
     "exception": false,
     "start_time": "2020-12-30T20:40:01.739697",
     "status": "completed"
    },
    "tags": []
   },
   "outputs": [
    {
     "data": {
      "text/plain": [
       "LogisticRegression(random_state=7)"
      ]
     },
     "execution_count": 50,
     "metadata": {},
     "output_type": "execute_result"
    }
   ],
   "source": [
    "model.fit(x_train,y_train)"
   ]
  },
  {
   "cell_type": "code",
   "execution_count": 51,
   "metadata": {
    "execution": {
     "iopub.execute_input": "2020-12-30T20:40:02.830035Z",
     "iopub.status.busy": "2020-12-30T20:40:02.828846Z",
     "iopub.status.idle": "2020-12-30T20:41:30.951175Z",
     "shell.execute_reply": "2020-12-30T20:41:30.950265Z"
    },
    "papermill": {
     "duration": 88.209975,
     "end_time": "2020-12-30T20:41:30.951338",
     "exception": false,
     "start_time": "2020-12-30T20:40:02.741363",
     "status": "completed"
    },
    "tags": []
   },
   "outputs": [
    {
     "name": "stdout",
     "output_type": "stream",
     "text": [
      "Fitting 5 folds for each of 17 candidates, totalling 85 fits\n"
     ]
    },
    {
     "name": "stderr",
     "output_type": "stream",
     "text": [
      "[Parallel(n_jobs=1)]: Using backend SequentialBackend with 1 concurrent workers.\n",
      "[Parallel(n_jobs=1)]: Done  85 out of  85 | elapsed:  1.5min finished\n"
     ]
    }
   ],
   "source": [
    "parameters=[{\"penalty\":[\"l1\",\"l2\",\"elasticnet\"]},\n",
    "            {\"C\":[0.1,1,10,100]},\n",
    "            {\"class_weight\":[\"balanced\",None]},\n",
    "            {\"solver\":[\"newton-cg\",\"lbfgs\",\"liblinear\",\"sag\",\"saga\"]},\n",
    "            {\"multi_class\":[\"auto\",\"ovr\",\"multinomial\"]}]\n",
    "\n",
    "grid=GridSearchCV(estimator=model,param_grid=parameters,refit=True,cv=5,verbose=1)\n",
    "\n",
    "grid.fit(x_train,y_train)\n",
    "\n",
    "y_predict=grid.predict(x_test)"
   ]
  },
  {
   "cell_type": "markdown",
   "metadata": {
    "papermill": {
     "duration": 0.08366,
     "end_time": "2020-12-30T20:41:31.125249",
     "exception": false,
     "start_time": "2020-12-30T20:41:31.041589",
     "status": "completed"
    },
    "tags": []
   },
   "source": [
    "Next we can evaluate our model using a classifcation report, ROC AUC score, ROC curve  and a confusion matrix:"
   ]
  },
  {
   "cell_type": "code",
   "execution_count": 52,
   "metadata": {
    "_kg_hide-input": true,
    "execution": {
     "iopub.execute_input": "2020-12-30T20:41:31.303381Z",
     "iopub.status.busy": "2020-12-30T20:41:31.302313Z",
     "iopub.status.idle": "2020-12-30T20:41:31.305854Z",
     "shell.execute_reply": "2020-12-30T20:41:31.305189Z"
    },
    "papermill": {
     "duration": 0.096766,
     "end_time": "2020-12-30T20:41:31.305994",
     "exception": false,
     "start_time": "2020-12-30T20:41:31.209228",
     "status": "completed"
    },
    "tags": []
   },
   "outputs": [],
   "source": [
    "def cm(predictions):\n",
    "    cm_matrix=pd.DataFrame(data=confusion_matrix(y_test,predictions),columns=[\"No Rain\",\"Rain\"],index=[\"No Rain\",\"Rain\"])\n",
    "    sns.heatmap(cm_matrix,annot=True,square=True,fmt=\"d\",cmap=\"Purples\",linecolor=\"w\",linewidth=2)\n",
    "    plt.xlabel(\"Predicted\")\n",
    "    plt.ylabel(\"Actual\")\n",
    "    plt.yticks(va=\"center\")"
   ]
  },
  {
   "cell_type": "code",
   "execution_count": 53,
   "metadata": {
    "execution": {
     "iopub.execute_input": "2020-12-30T20:41:31.480264Z",
     "iopub.status.busy": "2020-12-30T20:41:31.478981Z",
     "iopub.status.idle": "2020-12-30T20:41:31.567712Z",
     "shell.execute_reply": "2020-12-30T20:41:31.568219Z"
    },
    "papermill": {
     "duration": 0.179713,
     "end_time": "2020-12-30T20:41:31.568390",
     "exception": false,
     "start_time": "2020-12-30T20:41:31.388677",
     "status": "completed"
    },
    "tags": []
   },
   "outputs": [
    {
     "name": "stdout",
     "output_type": "stream",
     "text": [
      "              precision    recall  f1-score   support\n",
      "\n",
      "           0       0.86      0.94      0.90     36476\n",
      "           1       0.72      0.51      0.60     11525\n",
      "\n",
      "    accuracy                           0.84     48001\n",
      "   macro avg       0.79      0.73      0.75     48001\n",
      "weighted avg       0.83      0.84      0.83     48001\n",
      "\n"
     ]
    }
   ],
   "source": [
    "print(classification_report(y_test,y_predict))"
   ]
  },
  {
   "cell_type": "code",
   "execution_count": 54,
   "metadata": {
    "execution": {
     "iopub.execute_input": "2020-12-30T20:41:31.739133Z",
     "iopub.status.busy": "2020-12-30T20:41:31.738101Z",
     "iopub.status.idle": "2020-12-30T20:41:31.956844Z",
     "shell.execute_reply": "2020-12-30T20:41:31.957442Z"
    },
    "papermill": {
     "duration": 0.307088,
     "end_time": "2020-12-30T20:41:31.957618",
     "exception": false,
     "start_time": "2020-12-30T20:41:31.650530",
     "status": "completed"
    },
    "tags": []
   },
   "outputs": [
    {
     "name": "stdout",
     "output_type": "stream",
     "text": [
      "roc_auc_score:  0.8622138539851122\n"
     ]
    },
    {
     "data": {
      "image/png": "[encoded data removed]",
      "text/plain": [
       "<Figure size 432x288 with 1 Axes>"
      ]
     },
     "metadata": {
      "needs_background": "light"
     },
     "output_type": "display_data"
    }
   ],
   "source": [
    "y_score=model.predict_proba(x_test)[:,1]\n",
    "\n",
    "print(\"roc_auc_score: \",roc_auc_score(y_test,y_score))\n",
    "\n",
    "false_positive_rate,true_positive_rate,threshold=roc_curve(y_test,y_score)\n",
    "plt.plot(false_positive_rate,true_positive_rate)\n",
    "plt.plot([0,1],ls=\"--\")\n",
    "plt.plot([0,0],[1,0],c=\".7\")\n",
    "plt.plot([1,1],c=\".7\")\n",
    "plt.title(\"Receiver Operating Characteristic\")\n",
    "plt.ylabel(\"True Positive Rate\")\n",
    "plt.xlabel(\"False Positive Rate\")\n",
    "plt.show()"
   ]
  },
  {
   "cell_type": "code",
   "execution_count": 55,
   "metadata": {
    "execution": {
     "iopub.execute_input": "2020-12-30T20:41:32.131558Z",
     "iopub.status.busy": "2020-12-30T20:41:32.130416Z",
     "iopub.status.idle": "2020-12-30T20:41:32.383674Z",
     "shell.execute_reply": "2020-12-30T20:41:32.383138Z"
    },
    "papermill": {
     "duration": 0.341922,
     "end_time": "2020-12-30T20:41:32.383796",
     "exception": false,
     "start_time": "2020-12-30T20:41:32.041874",
     "status": "completed"
    },
    "tags": []
   },
   "outputs": [
    {
     "data": {
      "image/png": "[encoded data removed]",
      "text/plain": [
       "<Figure size 432x288 with 2 Axes>"
      ]
     },
     "metadata": {
      "needs_background": "light"
     },
     "output_type": "display_data"
    }
   ],
   "source": [
    "cm(y_predict)"
   ]
  },
  {
   "cell_type": "code",
   "execution_count": 56,
   "metadata": {
    "_kg_hide-input": true,
    "execution": {
     "iopub.execute_input": "2020-12-30T20:41:32.563761Z",
     "iopub.status.busy": "2020-12-30T20:41:32.563018Z",
     "iopub.status.idle": "2020-12-30T20:41:32.603667Z",
     "shell.execute_reply": "2020-12-30T20:41:32.604278Z"
    },
    "papermill": {
     "duration": 0.135024,
     "end_time": "2020-12-30T20:41:32.604492",
     "exception": false,
     "start_time": "2020-12-30T20:41:32.469468",
     "status": "completed"
    },
    "tags": []
   },
   "outputs": [
    {
     "name": "stdout",
     "output_type": "stream",
     "text": [
      "Training set score: 0.8332.\n",
      "Testing set score: 0.8363.\n"
     ]
    }
   ],
   "source": [
    "print(\"Training set score: {num:.4f}.\".format(num=model.score(x_train,y_train)))\n",
    "print(\"Testing set score: {num:.4f}.\".format(num=model.score(x_test,y_test)))"
   ]
  },
  {
   "cell_type": "markdown",
   "metadata": {
    "papermill": {
     "duration": 0.088133,
     "end_time": "2020-12-30T20:41:32.785593",
     "exception": false,
     "start_time": "2020-12-30T20:41:32.697460",
     "status": "completed"
    },
    "tags": []
   },
   "source": [
    "Our model didn't do so bad with an accuracy score of 0.83 and a ROC AUC score of 0.86! This means our model was able to correctly predict 83% of the instances. It was however better at predicting class 0 (i.e. no rain) than class 1 (i.e. rain) with the higher precision and recall, and the model also predicted a lot more false negatives (i.e. predicted that it would not rain when it actually will) than false positives (i.e. predicted that it would rain when it actually will not). Thankfully after all that work the training and testing scores are very similar so there is no obvious indication of any over/underfitting hence our model will fair well with new data."
   ]
  },
  {
   "cell_type": "markdown",
   "metadata": {
    "papermill": {
     "duration": 0.084302,
     "end_time": "2020-12-30T20:41:32.955347",
     "exception": false,
     "start_time": "2020-12-30T20:41:32.871045",
     "status": "completed"
    },
    "tags": []
   },
   "source": [
    "**Now should I bring my umbrella or sunglasses..**"
   ]
  }
 ],
 "metadata": {
  "kernelspec": {
   "display_name": "Python 3",
   "language": "python",
   "name": "python3"
  },
  "language_info": {
   "codemirror_mode": {
    "name": "ipython",
    "version": 3
   },
   "file_extension": ".py",
   "mimetype": "text/x-python",
   "name": "python",
   "nbconvert_exporter": "python",
   "pygments_lexer": "ipython3",
   "version": "3.7.6"
  },
  "papermill": {
   "duration": 410.553273,
   "end_time": "2020-12-30T20:41:33.151193",
   "environment_variables": {},
   "exception": null,
   "input_path": "__notebook__.ipynb",
   "output_path": "__notebook__.ipynb",
   "parameters": {},
   "start_time": "2020-12-30T20:34:42.597920",
   "version": "2.1.0"
  }
 },
 "nbformat": 4,
 "nbformat_minor": 4
}
